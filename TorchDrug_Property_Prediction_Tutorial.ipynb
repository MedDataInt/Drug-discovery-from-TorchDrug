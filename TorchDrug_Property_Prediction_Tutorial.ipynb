{
  "cells": [
    {
      "cell_type": "markdown",
      "metadata": {
        "id": "view-in-github",
        "colab_type": "text"
      },
      "source": [
        "<a href=\"https://colab.research.google.com/github/MedDataInt/Drug-discovery-from-TorchDrug/blob/main/TorchDrug_Property_Prediction_Tutorial.ipynb\" target=\"_parent\"><img src=\"https://colab.research.google.com/assets/colab-badge.svg\" alt=\"Open In Colab\"/></a>"
      ]
    },
    {
      "cell_type": "markdown",
      "metadata": {
        "id": "GQPnwWiVdZ1p"
      },
      "source": [
        "### Introduction\n",
        "\n",
        "In this tutorial, we will learn how to use TorchDrug to train a graph neural network for **molecule property prediction**. Property prediction is aimed at predicting the chemical properties of a molecule based on its graph structure and features.\n",
        "\n",
        "### Manual Steps\n",
        "\n",
        "1.   Get your own copy of this file via \"File > Save a copy in Drive...\",\n",
        "2.   Set the runtime to **GPU** via \"Runtime > Change runtime type...\"\n",
        "\n",
        "### Colab Tutorials\n",
        "\n",
        "#### Quick Start\n",
        "1. [Basic Usage and Pipeline](https://colab.research.google.com/drive/1Tbnr1Fog_YjkqU1MOhcVLuxqZ4DC-c8-#forceEdit=true&sandboxMode=true)\n",
        "\n",
        "#### Drug Discovery Tasks\n",
        "1. [Property Prediction](https://colab.research.google.com/drive/1sb2w3evdEWm-GYo28RksvzJ74p63xHMn?usp=sharing#forceEdit=true&sandboxMode=true)\n",
        "2. [Pretrained Molecular Representations](https://colab.research.google.com/drive/10faCIVIfln20f2h1oQk2UrXiAMqZKLoW?usp=sharing#forceEdit=true&sandboxMode=true)\n",
        "3. [De Novo Molecule Design](https://colab.research.google.com/drive/1JEMiMvSBuqCuzzREYpviNZZRVOYsgivA?usp=sharing#forceEdit=true&sandboxMode=true)\n",
        "4. [Retrosynthesis](https://colab.research.google.com/drive/1IH1hk7K3MaxAEe5m6CFY7Eyej3RuiEL1?usp=sharing#forceEdit=true&sandboxMode=true)\n",
        "5. [Knowledge Graph Reasoning](https://colab.research.google.com/drive/1-sjqQZhYrGM0HiMuaqXOiqhDNlJi7g_I?usp=sharing#forceEdit=true&sandboxMode=true)\n"
      ]
    },
    {
      "cell_type": "code",
      "execution_count": 1,
      "metadata": {
        "colab": {
          "base_uri": "https://localhost:8080/"
        },
        "id": "CpM2xMHNyPlr",
        "outputId": "3e873d45-6f22-48f7-9b5d-8ac41f3041a5"
      },
      "outputs": [
        {
          "output_type": "stream",
          "name": "stdout",
          "text": [
            "Looking in indexes: https://pypi.org/simple, https://us-python.pkg.dev/colab-wheels/public/simple/\n",
            "Looking in links: https://pytorch-geometric.com/whl/torch-1.13.1+cu116.html\n",
            "Collecting torch-scatter\n",
            "  Downloading https://data.pyg.org/whl/torch-1.13.0%2Bcu116/torch_scatter-2.1.0%2Bpt113cu116-cp38-cp38-linux_x86_64.whl (9.4 MB)\n",
            "\u001b[2K     \u001b[90m━━━━━━━━━━━━━━━━━━━━━━━━━━━━━━━━━━━━━━━━\u001b[0m \u001b[32m9.4/9.4 MB\u001b[0m \u001b[31m46.0 MB/s\u001b[0m eta \u001b[36m0:00:00\u001b[0m\n",
            "\u001b[?25hCollecting torch-cluster\n",
            "  Downloading https://data.pyg.org/whl/torch-1.13.0%2Bcu116/torch_cluster-1.6.0%2Bpt113cu116-cp38-cp38-linux_x86_64.whl (3.2 MB)\n",
            "\u001b[2K     \u001b[90m━━━━━━━━━━━━━━━━━━━━━━━━━━━━━━━━━━━━━━━━\u001b[0m \u001b[32m3.2/3.2 MB\u001b[0m \u001b[31m38.5 MB/s\u001b[0m eta \u001b[36m0:00:00\u001b[0m\n",
            "\u001b[?25hRequirement already satisfied: scipy in /usr/local/lib/python3.8/dist-packages (from torch-cluster) (1.7.3)\n",
            "Requirement already satisfied: numpy<1.23.0,>=1.16.5 in /usr/local/lib/python3.8/dist-packages (from scipy->torch-cluster) (1.21.6)\n",
            "Installing collected packages: torch-scatter, torch-cluster\n",
            "Successfully installed torch-cluster-1.6.0+pt113cu116 torch-scatter-2.1.0+pt113cu116\n",
            "Looking in indexes: https://pypi.org/simple, https://us-python.pkg.dev/colab-wheels/public/simple/\n",
            "Collecting torchdrug\n",
            "  Downloading torchdrug-0.2.0.post1-py3-none-any.whl (267 kB)\n",
            "\u001b[2K     \u001b[90m━━━━━━━━━━━━━━━━━━━━━━━━━━━━━━━━━━━━━━━\u001b[0m \u001b[32m267.3/267.3 KB\u001b[0m \u001b[31m7.0 MB/s\u001b[0m eta \u001b[36m0:00:00\u001b[0m\n",
            "\u001b[?25hRequirement already satisfied: torch>=1.8.0 in /usr/local/lib/python3.8/dist-packages (from torchdrug) (1.13.1+cu116)\n",
            "Collecting rdkit-pypi>=2020.9\n",
            "  Downloading rdkit_pypi-2022.9.4-cp38-cp38-manylinux_2_17_x86_64.manylinux2014_x86_64.whl (29.3 MB)\n",
            "\u001b[2K     \u001b[90m━━━━━━━━━━━━━━━━━━━━━━━━━━━━━━━━━━━━━━━━\u001b[0m \u001b[32m29.3/29.3 MB\u001b[0m \u001b[31m15.9 MB/s\u001b[0m eta \u001b[36m0:00:00\u001b[0m\n",
            "\u001b[?25hRequirement already satisfied: tqdm in /usr/local/lib/python3.8/dist-packages (from torchdrug) (4.64.1)\n",
            "Requirement already satisfied: lmdb in /usr/local/lib/python3.8/dist-packages (from torchdrug) (0.99)\n",
            "Requirement already satisfied: decorator in /usr/local/lib/python3.8/dist-packages (from torchdrug) (4.4.2)\n",
            "Requirement already satisfied: numpy>=1.11 in /usr/local/lib/python3.8/dist-packages (from torchdrug) (1.21.6)\n",
            "Requirement already satisfied: networkx in /usr/local/lib/python3.8/dist-packages (from torchdrug) (3.0)\n",
            "Requirement already satisfied: torch-scatter>=2.0.8 in /usr/local/lib/python3.8/dist-packages (from torchdrug) (2.1.0+pt113cu116)\n",
            "Requirement already satisfied: jinja2 in /usr/local/lib/python3.8/dist-packages (from torchdrug) (2.11.3)\n",
            "Requirement already satisfied: matplotlib in /usr/local/lib/python3.8/dist-packages (from torchdrug) (3.2.2)\n",
            "Requirement already satisfied: torch-cluster>=1.5.9 in /usr/local/lib/python3.8/dist-packages (from torchdrug) (1.6.0+pt113cu116)\n",
            "Collecting fair-esm\n",
            "  Downloading fair_esm-2.0.0-py3-none-any.whl (93 kB)\n",
            "\u001b[2K     \u001b[90m━━━━━━━━━━━━━━━━━━━━━━━━━━━━━━━━━━━━━━━━\u001b[0m \u001b[32m93.1/93.1 KB\u001b[0m \u001b[31m14.3 MB/s\u001b[0m eta \u001b[36m0:00:00\u001b[0m\n",
            "\u001b[?25hCollecting ninja\n",
            "  Downloading ninja-1.11.1-py2.py3-none-manylinux_2_12_x86_64.manylinux2010_x86_64.whl (145 kB)\n",
            "\u001b[2K     \u001b[90m━━━━━━━━━━━━━━━━━━━━━━━━━━━━━━━━━━━━━━\u001b[0m \u001b[32m146.0/146.0 KB\u001b[0m \u001b[31m21.9 MB/s\u001b[0m eta \u001b[36m0:00:00\u001b[0m\n",
            "\u001b[?25hRequirement already satisfied: Pillow in /usr/local/lib/python3.8/dist-packages (from rdkit-pypi>=2020.9->torchdrug) (7.1.2)\n",
            "Requirement already satisfied: typing-extensions in /usr/local/lib/python3.8/dist-packages (from torch>=1.8.0->torchdrug) (4.4.0)\n",
            "Requirement already satisfied: scipy in /usr/local/lib/python3.8/dist-packages (from torch-cluster>=1.5.9->torchdrug) (1.7.3)\n",
            "Requirement already satisfied: MarkupSafe>=0.23 in /usr/local/lib/python3.8/dist-packages (from jinja2->torchdrug) (2.0.1)\n",
            "Requirement already satisfied: kiwisolver>=1.0.1 in /usr/local/lib/python3.8/dist-packages (from matplotlib->torchdrug) (1.4.4)\n",
            "Requirement already satisfied: pyparsing!=2.0.4,!=2.1.2,!=2.1.6,>=2.0.1 in /usr/local/lib/python3.8/dist-packages (from matplotlib->torchdrug) (3.0.9)\n",
            "Requirement already satisfied: cycler>=0.10 in /usr/local/lib/python3.8/dist-packages (from matplotlib->torchdrug) (0.11.0)\n",
            "Requirement already satisfied: python-dateutil>=2.1 in /usr/local/lib/python3.8/dist-packages (from matplotlib->torchdrug) (2.8.2)\n",
            "Requirement already satisfied: six>=1.5 in /usr/local/lib/python3.8/dist-packages (from python-dateutil>=2.1->matplotlib->torchdrug) (1.15.0)\n",
            "Installing collected packages: ninja, fair-esm, rdkit-pypi, torchdrug\n",
            "Successfully installed fair-esm-2.0.0 ninja-1.11.1 rdkit-pypi-2022.9.4 torchdrug-0.2.0.post1\n"
          ]
        }
      ],
      "source": [
        "import os\n",
        "import torch\n",
        "os.environ[\"TORCH_VERSION\"] = torch.__version__\n",
        "\n",
        "!pip install torch-scatter torch-cluster -f https://pytorch-geometric.com/whl/torch-$TORCH_VERSION.html\n",
        "!pip install torchdrug"
      ]
    },
    {
      "cell_type": "markdown",
      "metadata": {
        "id": "BFmpTG8ccZQJ"
      },
      "source": [
        "# Prepare the Dataset\n",
        "We use ClinTox dataset for illustration. ClinTox contains 1,484 molecules labeled with FDA approvment status and toxity status in clinical trials.\n",
        "\n",
        "Here we download the dataset and split it into training, validation and test sets. The splits for train/valid/test sets are 80%, 10% and 10% respectively.\n",
        "\n"
      ]
    },
    {
      "cell_type": "code",
      "execution_count": 2,
      "metadata": {
        "colab": {
          "base_uri": "https://localhost:8080/"
        },
        "id": "Xb8oU4BZUCmu",
        "outputId": "f874b90a-0b38-4dbe-9cb7-84a3271da3ad"
      },
      "outputs": [
        {
          "output_type": "stream",
          "name": "stderr",
          "text": [
            "INFO:torchdrug.utils.file:Downloading http://deepchem.io.s3-website-us-west-1.amazonaws.com/datasets/clintox.csv.gz to /root/molecule-datasets/clintox.csv.gz\n"
          ]
        },
        {
          "output_type": "stream",
          "name": "stdout",
          "text": [
            "19:33:53   Downloading http://deepchem.io.s3-website-us-west-1.amazonaws.com/datasets/clintox.csv.gz to /root/molecule-datasets/clintox.csv.gz\n"
          ]
        },
        {
          "output_type": "stream",
          "name": "stderr",
          "text": [
            "INFO:torchdrug.utils.file:Extracting /root/molecule-datasets/clintox.csv.gz to /root/molecule-datasets/clintox.csv\n"
          ]
        },
        {
          "output_type": "stream",
          "name": "stdout",
          "text": [
            "19:33:54   Extracting /root/molecule-datasets/clintox.csv.gz to /root/molecule-datasets/clintox.csv\n"
          ]
        },
        {
          "output_type": "stream",
          "name": "stderr",
          "text": [
            "Loading /root/molecule-datasets/clintox.csv: 100%|██████████| 1485/1485 [00:00<00:00, 57952.32it/s]\n",
            "Constructing molecules from SMILES:   0%|          | 0/1484 [00:00<?, ?it/s]/usr/local/lib/python3.8/dist-packages/torchdrug/data/feature.py:42: UserWarning: Unknown value `*`\n",
            "  warnings.warn(\"Unknown value `%s`\" % x)\n",
            "/usr/local/lib/python3.8/dist-packages/torchdrug/data/feature.py:42: UserWarning: Unknown value `Tc`\n",
            "  warnings.warn(\"Unknown value `%s`\" % x)\n",
            "Constructing molecules from SMILES:   1%|          | 13/1484 [00:00<00:11, 125.91it/s]/usr/local/lib/python3.8/dist-packages/torchdrug/data/feature.py:42: UserWarning: Unknown value `Fe`\n",
            "  warnings.warn(\"Unknown value `%s`\" % x)\n",
            "/usr/local/lib/python3.8/dist-packages/torchdrug/data/feature.py:42: UserWarning: Unknown value `Al`\n",
            "  warnings.warn(\"Unknown value `%s`\" % x)\n",
            "Constructing molecules from SMILES:   6%|▌         | 82/1484 [00:00<00:03, 451.50it/s]/usr/local/lib/python3.8/dist-packages/torchdrug/data/feature.py:42: UserWarning: Unknown value `Ca`\n",
            "  warnings.warn(\"Unknown value `%s`\" % x)\n",
            "Constructing molecules from SMILES:  10%|▉         | 144/1484 [00:00<00:02, 527.08it/s]/usr/local/lib/python3.8/dist-packages/torchdrug/data/feature.py:42: UserWarning: Unknown value `Pt`\n",
            "  warnings.warn(\"Unknown value `%s`\" % x)\n",
            "Constructing molecules from SMILES:  18%|█▊        | 271/1484 [00:00<00:02, 586.13it/s]/usr/local/lib/python3.8/dist-packages/torchdrug/data/feature.py:42: UserWarning: Unknown value `Bi`\n",
            "  warnings.warn(\"Unknown value `%s`\" % x)\n",
            "Constructing molecules from SMILES:  88%|████████▊ | 1307/1484 [00:02<00:00, 548.97it/s]/usr/local/lib/python3.8/dist-packages/torchdrug/data/feature.py:42: UserWarning: Unknown value `Au`\n",
            "  warnings.warn(\"Unknown value `%s`\" % x)\n",
            "/usr/local/lib/python3.8/dist-packages/torchdrug/data/feature.py:42: UserWarning: Unknown value `Tl`\n",
            "  warnings.warn(\"Unknown value `%s`\" % x)\n",
            "/usr/local/lib/python3.8/dist-packages/torchdrug/data/feature.py:42: UserWarning: Unknown value `Cr`\n",
            "  warnings.warn(\"Unknown value `%s`\" % x)\n",
            "/usr/local/lib/python3.8/dist-packages/torchdrug/data/feature.py:42: UserWarning: Unknown value `Mn`\n",
            "  warnings.warn(\"Unknown value `%s`\" % x)\n",
            "Constructing molecules from SMILES:  92%|█████████▏| 1369/1484 [00:02<00:00, 567.94it/s]/usr/local/lib/python3.8/dist-packages/torchdrug/data/feature.py:42: UserWarning: Unknown value `Hg`\n",
            "  warnings.warn(\"Unknown value `%s`\" % x)\n",
            "Constructing molecules from SMILES:  97%|█████████▋| 1433/1484 [00:02<00:00, 588.60it/s]/usr/local/lib/python3.8/dist-packages/torchdrug/data/feature.py:42: UserWarning: Unknown value `As`\n",
            "  warnings.warn(\"Unknown value `%s`\" % x)\n",
            "/usr/local/lib/python3.8/dist-packages/torchdrug/data/feature.py:42: UserWarning: Unknown value `Ti`\n",
            "  warnings.warn(\"Unknown value `%s`\" % x)\n",
            "Constructing molecules from SMILES: 100%|██████████| 1484/1484 [00:02<00:00, 545.85it/s]\n"
          ]
        }
      ],
      "source": [
        "import torch\n",
        "from torchdrug import data, datasets\n",
        "\n",
        "dataset = datasets.ClinTox(\"~/molecule-datasets/\")\n",
        "lengths = [int(0.8 * len(dataset)), int(0.1 * len(dataset))]\n",
        "lengths += [len(dataset) - sum(lengths)]\n",
        "train_set, valid_set, test_set = torch.utils.data.random_split(dataset, lengths)"
      ]
    },
    {
      "cell_type": "markdown",
      "metadata": {
        "id": "9X0nSAoGUNBl"
      },
      "source": [
        "Let’s visualize some samples from the dataset."
      ]
    },
    {
      "cell_type": "code",
      "execution_count": 4,
      "metadata": {
        "colab": {
          "base_uri": "https://localhost:8080/",
          "height": 225
        },
        "id": "PYuCkxBGUPgQ",
        "outputId": "94966ba1-2ce5-484a-af2a-699c050a531d"
      },
      "outputs": [
        {
          "output_type": "display_data",
          "data": {
            "text/plain": [
              "<Figure size 1296x216 with 6 Axes>"
            ],
            "image/png": "[encoded data removed]"
          },
          "metadata": {
            "needs_background": "light"
          }
        }
      ],
      "source": [
        "%matplotlib inline\n",
        "graphs = []\n",
        "labels = []\n",
        "for i in range(6):\n",
        "    sample = dataset[i]\n",
        "    graphs.append(sample.pop(\"graph\"))\n",
        "    label = [\"%s: %d\" % (k, v) for k, v in sample.items()]\n",
        "    label = \", \".join(label)\n",
        "    labels.append(label)\n",
        "graph = data.Molecule.pack(graphs)\n",
        "graph.visualize(labels, num_row=1)"
      ]
    },
    {
      "cell_type": "markdown",
      "metadata": {
        "id": "htz21au8cubx"
      },
      "source": [
        "# Define our Model\n",
        "\n",
        "The model consists of two parts, a task-independent graph representation model and a task-specific module. We define a Graph Isomorphism Network (GIN) with 4 hidden layers as our representation model. The two prediction tasks will be jointly optimized through multi-task training by the task-specific module.\n"
      ]
    },
    {
      "cell_type": "code",
      "execution_count": 5,
      "metadata": {
        "id": "kq14KIdFUFtQ"
      },
      "outputs": [],
      "source": [
        "from torchdrug import core, models, tasks, utils\n",
        "\n",
        "model = models.GIN(input_dim=dataset.node_feature_dim,\n",
        "                   hidden_dims=[256, 256, 256, 256],\n",
        "                   short_cut=True, batch_norm=True, concat_hidden=True)\n",
        "task = tasks.PropertyPrediction(model, task=dataset.tasks,\n",
        "                                criterion=\"bce\", metric=(\"auprc\", \"auroc\"))"
      ]
    },
    {
      "cell_type": "markdown",
      "metadata": {
        "id": "IyyIQIrAc0wN"
      },
      "source": [
        "# Train and Test\n",
        "Now we can train our model. We setup an optimizer for our model, and put everything together into an Engine instance. It may take a few minutes to train our model.\n",
        "\n"
      ]
    },
    {
      "cell_type": "code",
      "execution_count": 6,
      "metadata": {
        "colab": {
          "base_uri": "https://localhost:8080/"
        },
        "id": "rfWxU6j5b9rM",
        "outputId": "d073e45e-cf3f-4fdc-a36e-768a512e91ca"
      },
      "outputs": [
        {
          "output_type": "stream",
          "name": "stderr",
          "text": [
            "WARNING:torchdrug.core.engine:Preprocess training set\n"
          ]
        },
        {
          "output_type": "stream",
          "name": "stdout",
          "text": [
            "19:35:47   Preprocess training set\n"
          ]
        },
        {
          "output_type": "stream",
          "name": "stderr",
          "text": [
            "WARNING:torchdrug.core.logger:{'batch_size': 1024,\n",
            " 'class': 'core.Engine',\n",
            " 'gpus': [0],\n",
            " 'gradient_interval': 1,\n",
            " 'log_interval': 100,\n",
            " 'logger': 'logging',\n",
            " 'num_worker': 0,\n",
            " 'optimizer': {'amsgrad': False,\n",
            "               'betas': (0.9, 0.999),\n",
            "               'capturable': False,\n",
            "               'class': 'optim.Adam',\n",
            "               'differentiable': False,\n",
            "               'eps': 1e-08,\n",
            "               'foreach': None,\n",
            "               'fused': False,\n",
            "               'lr': 0.001,\n",
            "               'maximize': False,\n",
            "               'weight_decay': 0},\n",
            " 'scheduler': None,\n",
            " 'task': {'class': 'tasks.PropertyPrediction',\n",
            "          'criterion': 'bce',\n",
            "          'graph_construction_model': None,\n",
            "          'metric': ('auprc', 'auroc'),\n",
            "          'model': {'activation': 'relu',\n",
            "                    'batch_norm': True,\n",
            "                    'class': 'models.GIN',\n",
            "                    'concat_hidden': True,\n",
            "                    'edge_input_dim': None,\n",
            "                    'eps': 0,\n",
            "                    'hidden_dims': [256, 256, 256, 256],\n",
            "                    'input_dim': 67,\n",
            "                    'learn_eps': False,\n",
            "                    'num_mlp_layer': 2,\n",
            "                    'readout': 'sum',\n",
            "                    'short_cut': True},\n",
            "          'normalization': True,\n",
            "          'num_class': None,\n",
            "          'num_mlp_layer': 1,\n",
            "          'task': ['FDA_APPROVED', 'CT_TOX'],\n",
            "          'verbose': 0},\n",
            " 'test_set': {'class': 'dataset.Subset',\n",
            "              'dataset': {'class': 'datasets.ClinTox',\n",
            "                          'path': '~/molecule-datasets/',\n",
            "                          'verbose': 1},\n",
            "              'indices': [1145,\n",
            "                          621,\n",
            "                          1223,\n",
            "                          390,\n",
            "                          40,\n",
            "                          518,\n",
            "                          414,\n",
            "                          304,\n",
            "                          1424,\n",
            "                          1178,\n",
            "                          1405,\n",
            "                          943,\n",
            "                          1217,\n",
            "                          597,\n",
            "                          427,\n",
            "                          1353,\n",
            "                          693,\n",
            "                          1472,\n",
            "                          873,\n",
            "                          918,\n",
            "                          51,\n",
            "                          1364,\n",
            "                          1301,\n",
            "                          535,\n",
            "                          9,\n",
            "                          750,\n",
            "                          763,\n",
            "                          1124,\n",
            "                          1024,\n",
            "                          280,\n",
            "                          1297,\n",
            "                          444,\n",
            "                          1026,\n",
            "                          735,\n",
            "                          229,\n",
            "                          835,\n",
            "                          1218,\n",
            "                          45,\n",
            "                          376,\n",
            "                          1081,\n",
            "                          711,\n",
            "                          1346,\n",
            "                          1286,\n",
            "                          55,\n",
            "                          560,\n",
            "                          1376,\n",
            "                          867,\n",
            "                          1399,\n",
            "                          8,\n",
            "                          571,\n",
            "                          618,\n",
            "                          430,\n",
            "                          1020,\n",
            "                          161,\n",
            "                          778,\n",
            "                          274,\n",
            "                          311,\n",
            "                          895,\n",
            "                          71,\n",
            "                          942,\n",
            "                          1037,\n",
            "                          1304,\n",
            "                          551,\n",
            "                          1155,\n",
            "                          88,\n",
            "                          652,\n",
            "                          197,\n",
            "                          1375,\n",
            "                          12,\n",
            "                          249,\n",
            "                          1273,\n",
            "                          1263,\n",
            "                          34,\n",
            "                          1430,\n",
            "                          587,\n",
            "                          1327,\n",
            "                          850,\n",
            "                          856,\n",
            "                          1412,\n",
            "                          1393,\n",
            "                          15,\n",
            "                          626,\n",
            "                          87,\n",
            "                          1222,\n",
            "                          336,\n",
            "                          1195,\n",
            "                          1255,\n",
            "                          100,\n",
            "                          1312,\n",
            "                          1042,\n",
            "                          838,\n",
            "                          239,\n",
            "                          767,\n",
            "                          644,\n",
            "                          931,\n",
            "                          1456,\n",
            "                          1382,\n",
            "                          646,\n",
            "                          21,\n",
            "                          435,\n",
            "                          1334,\n",
            "                          1201,\n",
            "                          1165,\n",
            "                          725,\n",
            "                          76,\n",
            "                          451,\n",
            "                          502,\n",
            "                          982,\n",
            "                          20,\n",
            "                          515,\n",
            "                          159,\n",
            "                          600,\n",
            "                          1054,\n",
            "                          1131,\n",
            "                          391,\n",
            "                          133,\n",
            "                          1459,\n",
            "                          1319,\n",
            "                          1289,\n",
            "                          168,\n",
            "                          467,\n",
            "                          583,\n",
            "                          949,\n",
            "                          207,\n",
            "                          1324,\n",
            "                          323,\n",
            "                          697,\n",
            "                          1383,\n",
            "                          499,\n",
            "                          364,\n",
            "                          876,\n",
            "                          1142,\n",
            "                          928,\n",
            "                          936,\n",
            "                          1014,\n",
            "                          1419,\n",
            "                          1050,\n",
            "                          10,\n",
            "                          676,\n",
            "                          282,\n",
            "                          578,\n",
            "                          431,\n",
            "                          1148,\n",
            "                          634,\n",
            "                          524,\n",
            "                          1018,\n",
            "                          951,\n",
            "                          925,\n",
            "                          786]},\n",
            " 'train_set': {'class': 'dataset.Subset',\n",
            "               'dataset': {'class': 'datasets.ClinTox',\n",
            "                           'path': '~/molecule-datasets/',\n",
            "                           'verbose': 1},\n",
            "               'indices': [1314,\n",
            "                           64,\n",
            "                           1013,\n",
            "                           411,\n",
            "                           549,\n",
            "                           1115,\n",
            "                           831,\n",
            "                           211,\n",
            "                           775,\n",
            "                           24,\n",
            "                           534,\n",
            "                           1046,\n",
            "                           701,\n",
            "                           620,\n",
            "                           1190,\n",
            "                           536,\n",
            "                           413,\n",
            "                           1242,\n",
            "                           237,\n",
            "                           1396,\n",
            "                           272,\n",
            "                           56,\n",
            "                           782,\n",
            "                           655,\n",
            "                           209,\n",
            "                           61,\n",
            "                           736,\n",
            "                           623,\n",
            "                           552,\n",
            "                           273,\n",
            "                           1207,\n",
            "                           974,\n",
            "                           612,\n",
            "                           960,\n",
            "                           204,\n",
            "                           854,\n",
            "                           377,\n",
            "                           349,\n",
            "                           57,\n",
            "                           616,\n",
            "                           1151,\n",
            "                           375,\n",
            "                           756,\n",
            "                           986,\n",
            "                           1108,\n",
            "                           433,\n",
            "                           641,\n",
            "                           141,\n",
            "                           1341,\n",
            "                           238,\n",
            "                           1441,\n",
            "                           144,\n",
            "                           1227,\n",
            "                           350,\n",
            "                           417,\n",
            "                           130,\n",
            "                           596,\n",
            "                           201,\n",
            "                           113,\n",
            "                           702,\n",
            "                           102,\n",
            "                           324,\n",
            "                           62,\n",
            "                           527,\n",
            "                           1185,\n",
            "                           22,\n",
            "                           302,\n",
            "                           1370,\n",
            "                           38,\n",
            "                           183,\n",
            "                           117,\n",
            "                           368,\n",
            "                           1409,\n",
            "                           13,\n",
            "                           198,\n",
            "                           1439,\n",
            "                           482,\n",
            "                           79,\n",
            "                           1431,\n",
            "                           132,\n",
            "                           400,\n",
            "                           648,\n",
            "                           48,\n",
            "                           142,\n",
            "                           472,\n",
            "                           813,\n",
            "                           1385,\n",
            "                           690,\n",
            "                           1390,\n",
            "                           891,\n",
            "                           989,\n",
            "                           506,\n",
            "                           840,\n",
            "                           11,\n",
            "                           1447,\n",
            "                           489,\n",
            "                           1168,\n",
            "                           853,\n",
            "                           720,\n",
            "                           389,\n",
            "                           1388,\n",
            "                           1118,\n",
            "                           1450,\n",
            "                           758,\n",
            "                           715,\n",
            "                           1264,\n",
            "                           217,\n",
            "                           1200,\n",
            "                           265,\n",
            "                           543,\n",
            "                           456,\n",
            "                           1416,\n",
            "                           1067,\n",
            "                           553,\n",
            "                           1315,\n",
            "                           176,\n",
            "                           1444,\n",
            "                           539,\n",
            "                           1256,\n",
            "                           1454,\n",
            "                           461,\n",
            "                           704,\n",
            "                           1231,\n",
            "                           321,\n",
            "                           338,\n",
            "                           770,\n",
            "                           681,\n",
            "                           694,\n",
            "                           663,\n",
            "                           356,\n",
            "                           556,\n",
            "                           724,\n",
            "                           223,\n",
            "                           1392,\n",
            "                           1465,\n",
            "                           1182,\n",
            "                           1406,\n",
            "                           23,\n",
            "                           465,\n",
            "                           206,\n",
            "                           957,\n",
            "                           902,\n",
            "                           531,\n",
            "                           1126,\n",
            "                           1436,\n",
            "                           505,\n",
            "                           59,\n",
            "                           526,\n",
            "                           331,\n",
            "                           37,\n",
            "                           1166,\n",
            "                           295,\n",
            "                           719,\n",
            "                           903,\n",
            "                           84,\n",
            "                           677,\n",
            "                           771,\n",
            "                           149,\n",
            "                           864,\n",
            "                           803,\n",
            "                           420,\n",
            "                           542,\n",
            "                           865,\n",
            "                           642,\n",
            "                           981,\n",
            "                           360,\n",
            "                           1352,\n",
            "                           1398,\n",
            "                           434,\n",
            "                           692,\n",
            "                           98,\n",
            "                           264,\n",
            "                           755,\n",
            "                           545,\n",
            "                           1104,\n",
            "                           1123,\n",
            "                           669,\n",
            "                           1134,\n",
            "                           86,\n",
            "                           424,\n",
            "                           298,\n",
            "                           609,\n",
            "                           1173,\n",
            "                           322,\n",
            "                           1451,\n",
            "                           330,\n",
            "                           118,\n",
            "                           399,\n",
            "                           1266,\n",
            "                           834,\n",
            "                           190,\n",
            "                           566,\n",
            "                           1373,\n",
            "                           1,\n",
            "                           480,\n",
            "                           898,\n",
            "                           1027,\n",
            "                           1049,\n",
            "                           511,\n",
            "                           36,\n",
            "                           155,\n",
            "                           261,\n",
            "                           938,\n",
            "                           248,\n",
            "                           684,\n",
            "                           761,\n",
            "                           1389,\n",
            "                           638,\n",
            "                           668,\n",
            "                           213,\n",
            "                           848,\n",
            "                           607,\n",
            "                           123,\n",
            "                           355,\n",
            "                           1253,\n",
            "                           1381,\n",
            "                           39,\n",
            "                           65,\n",
            "                           1321,\n",
            "                           327,\n",
            "                           341,\n",
            "                           920,\n",
            "                           643,\n",
            "                           271,\n",
            "                           1281,\n",
            "                           969,\n",
            "                           757,\n",
            "                           1097,\n",
            "                           497,\n",
            "                           68,\n",
            "                           347,\n",
            "                           1112,\n",
            "                           754,\n",
            "                           150,\n",
            "                           588,\n",
            "                           624,\n",
            "                           808,\n",
            "                           107,\n",
            "                           1259,\n",
            "                           193,\n",
            "                           1260,\n",
            "                           1432,\n",
            "                           1475,\n",
            "                           687,\n",
            "                           785,\n",
            "                           250,\n",
            "                           276,\n",
            "                           953,\n",
            "                           744,\n",
            "                           941,\n",
            "                           765,\n",
            "                           112,\n",
            "                           1350,\n",
            "                           215,\n",
            "                           514,\n",
            "                           1193,\n",
            "                           1280,\n",
            "                           812,\n",
            "                           625,\n",
            "                           1413,\n",
            "                           1088,\n",
            "                           345,\n",
            "                           1326,\n",
            "                           1305,\n",
            "                           1074,\n",
            "                           602,\n",
            "                           92,\n",
            "                           218,\n",
            "                           281,\n",
            "                           1096,\n",
            "                           683,\n",
            "                           1340,\n",
            "                           686,\n",
            "                           749,\n",
            "                           1401,\n",
            "                           1021,\n",
            "                           557,\n",
            "                           637,\n",
            "                           1039,\n",
            "                           291,\n",
            "                           439,\n",
            "                           614,\n",
            "                           307,\n",
            "                           299,\n",
            "                           258,\n",
            "                           1179,\n",
            "                           134,\n",
            "                           772,\n",
            "                           160,\n",
            "                           191,\n",
            "                           284,\n",
            "                           1358,\n",
            "                           286,\n",
            "                           800,\n",
            "                           42,\n",
            "                           1216,\n",
            "                           449,\n",
            "                           662,\n",
            "                           1257,\n",
            "                           1470,\n",
            "                           1044,\n",
            "                           1078,\n",
            "                           422,\n",
            "                           167,\n",
            "                           768,\n",
            "                           1323,\n",
            "                           828,\n",
            "                           520,\n",
            "                           845,\n",
            "                           576,\n",
            "                           659,\n",
            "                           174,\n",
            "                           1107,\n",
            "                           1116,\n",
            "                           1329,\n",
            "                           418,\n",
            "                           1276,\n",
            "                           574,\n",
            "                           1449,\n",
            "                           1212,\n",
            "                           1094,\n",
            "                           464,\n",
            "                           254,\n",
            "                           913,\n",
            "                           1311,\n",
            "                           151,\n",
            "                           28,\n",
            "                           395,\n",
            "                           1065,\n",
            "                           748,\n",
            "                           909,\n",
            "                           825,\n",
            "                           590,\n",
            "                           256,\n",
            "                           705,\n",
            "                           54,\n",
            "                           348,\n",
            "                           289,\n",
            "                           883,\n",
            "                           1363,\n",
            "                           852,\n",
            "                           664,\n",
            "                           1040,\n",
            "                           41,\n",
            "                           351,\n",
            "                           406,\n",
            "                           158,\n",
            "                           212,\n",
            "                           320,\n",
            "                           823,\n",
            "                           738,\n",
            "                           604,\n",
            "                           605,\n",
            "                           753,\n",
            "                           1205,\n",
            "                           30,\n",
            "                           569,\n",
            "                           1034,\n",
            "                           1211,\n",
            "                           1283,\n",
            "                           53,\n",
            "                           50,\n",
            "                           1422,\n",
            "                           259,\n",
            "                           1210,\n",
            "                           1003,\n",
            "                           1169,\n",
            "                           275,\n",
            "                           255,\n",
            "                           192,\n",
            "                           1306,\n",
            "                           1461,\n",
            "                           1460,\n",
            "                           622,\n",
            "                           127,\n",
            "                           1310,\n",
            "                           442,\n",
            "                           495,\n",
            "                           214,\n",
            "                           419,\n",
            "                           826,\n",
            "                           194,\n",
            "                           1086,\n",
            "                           202,\n",
            "                           779,\n",
            "                           1041,\n",
            "                           1270,\n",
            "                           1243,\n",
            "                           171,\n",
            "                           911,\n",
            "                           1070,\n",
            "                           714,\n",
            "                           1133,\n",
            "                           1331,\n",
            "                           988,\n",
            "                           1265,\n",
            "                           358,\n",
            "                           509,\n",
            "                           305,\n",
            "                           1434,\n",
            "                           220,\n",
            "                           955,\n",
            "                           1452,\n",
            "                           1135,\n",
            "                           1084,\n",
            "                           1407,\n",
            "                           1091,\n",
            "                           1410,\n",
            "                           795,\n",
            "                           386,\n",
            "                           1453,\n",
            "                           234,\n",
            "                           1462,\n",
            "                           487,\n",
            "                           379,\n",
            "                           287,\n",
            "                           1000,\n",
            "                           19,\n",
            "                           47,\n",
            "                           1184,\n",
            "                           924,\n",
            "                           809,\n",
            "                           105,\n",
            "                           116,\n",
            "                           1254,\n",
            "                           1299,\n",
            "                           77,\n",
            "                           153,\n",
            "                           971,\n",
            "                           83,\n",
            "                           17,\n",
            "                           1101,\n",
            "                           382,\n",
            "                           994,\n",
            "                           111,\n",
            "                           1338,\n",
            "                           562,\n",
            "                           312,\n",
            "                           799,\n",
            "                           544,\n",
            "                           1035,\n",
            "                           830,\n",
            "                           1356,\n",
            "                           1160,\n",
            "                           1141,\n",
            "                           452,\n",
            "                           247,\n",
            "                           717,\n",
            "                           810,\n",
            "                           784,\n",
            "                           733,\n",
            "                           729,\n",
            "                           777,\n",
            "                           1158,\n",
            "                           1268,\n",
            "                           199,\n",
            "                           285,\n",
            "                           747,\n",
            "                           940,\n",
            "                           233,\n",
            "                           1274,\n",
            "                           97,\n",
            "                           776,\n",
            "                           946,\n",
            "                           1209,\n",
            "                           726,\n",
            "                           415,\n",
            "                           870,\n",
            "                           658,\n",
            "                           689,\n",
            "                           488,\n",
            "                           860,\n",
            "                           450,\n",
            "                           459,\n",
            "                           1279,\n",
            "                           224,\n",
            "                           1062,\n",
            "                           730,\n",
            "                           471,\n",
            "                           384,\n",
            "                           498,\n",
            "                           231,\n",
            "                           1467,\n",
            "                           46,\n",
            "                           476,\n",
            "                           976,\n",
            "                           1233,\n",
            "                           398,\n",
            "                           1339,\n",
            "                           106,\n",
            "                           496,\n",
            "                           958,\n",
            "                           794,\n",
            "                           131,\n",
            "                           454,\n",
            "                           1433,\n",
            "                           63,\n",
            "                           700,\n",
            "                           2,\n",
            "                           1051,\n",
            "                           561,\n",
            "                           558,\n",
            "                           709,\n",
            "                           478,\n",
            "                           1374,\n",
            "                           1316,\n",
            "                           1351,\n",
            "                           1125,\n",
            "                           437,\n",
            "                           1427,\n",
            "                           1033,\n",
            "                           937,\n",
            "                           325,\n",
            "                           1172,\n",
            "                           303,\n",
            "                           1047,\n",
            "                           1282,\n",
            "                           530,\n",
            "                           500,\n",
            "                           1466,\n",
            "                           512,\n",
            "                           1336,\n",
            "                           1236,\n",
            "                           483,\n",
            "                           1333,\n",
            "                           1030,\n",
            "                           1147,\n",
            "                           601,\n",
            "                           983,\n",
            "                           1176,\n",
            "                           0,\n",
            "                           326,\n",
            "                           227,\n",
            "                           262,\n",
            "                           1343,\n",
            "                           961,\n",
            "                           1404,\n",
            "                           363,\n",
            "                           208,\n",
            "                           119,\n",
            "                           136,\n",
            "                           1215,\n",
            "                           1017,\n",
            "                           1287,\n",
            "                           410,\n",
            "                           357,\n",
            "                           3,\n",
            "                           332,\n",
            "                           393,\n",
            "                           7,\n",
            "                           173,\n",
            "                           672,\n",
            "                           1189,\n",
            "                           1213,\n",
            "                           861,\n",
            "                           682,\n",
            "                           1068,\n",
            "                           66,\n",
            "                           722,\n",
            "                           1473,\n",
            "                           603,\n",
            "                           426,\n",
            "                           818,\n",
            "                           438,\n",
            "                           186,\n",
            "                           814,\n",
            "                           1111,\n",
            "                           798,\n",
            "                           1414,\n",
            "                           516,\n",
            "                           947,\n",
            "                           1171,\n",
            "                           1355,\n",
            "                           73,\n",
            "                           1150,\n",
            "                           115,\n",
            "                           1206,\n",
            "                           635,\n",
            "                           1064,\n",
            "                           593,\n",
            "                           99,\n",
            "                           869,\n",
            "                           1238,\n",
            "                           965,\n",
            "                           367,\n",
            "                           421,\n",
            "                           381,\n",
            "                           1192,\n",
            "                           1072,\n",
            "                           1130,\n",
            "                           653,\n",
            "                           1240,\n",
            "                           503,\n",
            "                           403,\n",
            "                           522,\n",
            "                           532,\n",
            "                           78,\n",
            "                           318,\n",
            "                           1241,\n",
            "                           908,\n",
            "                           484,\n",
            "                           1028,\n",
            "                           481,\n",
            "                           44,\n",
            "                           608,\n",
            "                           706,\n",
            "                           783,\n",
            "                           674,\n",
            "                           1296,\n",
            "                           1349,\n",
            "                           469,\n",
            "                           844,\n",
            "                           695,\n",
            "                           1098,\n",
            "                           226,\n",
            "                           1348,\n",
            "                           296,\n",
            "                           1237,\n",
            "                           508,\n",
            "                           1045,\n",
            "                           81,\n",
            "                           833,\n",
            "                           821,\n",
            "                           423,\n",
            "                           1415,\n",
            "                           801,\n",
            "                           1366,\n",
            "                           1187,\n",
            "                           126,\n",
            "                           203,\n",
            "                           1446,\n",
            "                           1060,\n",
            "                           1194,\n",
            "                           462,\n",
            "                           82,\n",
            "                           222,\n",
            "                           128,\n",
            "                           378,\n",
            "                           1429,\n",
            "                           490,\n",
            "                           1362,\n",
            "                           196,\n",
            "                           1295,\n",
            "                           4,\n",
            "                           1167,\n",
            "                           1367,\n",
            "                           337,\n",
            "                           339,\n",
            "                           125,\n",
            "                           980,\n",
            "                           670,\n",
            "                           787,\n",
            "                           584,\n",
            "                           923,\n",
            "                           846,\n",
            "                           1038,\n",
            "                           917,\n",
            "                           926,\n",
            "                           554,\n",
            "                           401,\n",
            "                           1420,\n",
            "                           148,\n",
            "                           766,\n",
            "                           340,\n",
            "                           1114,\n",
            "                           179,\n",
            "                           627,\n",
            "                           329,\n",
            "                           501,\n",
            "                           169,\n",
            "                           1082,\n",
            "                           866,\n",
            "                           1132,\n",
            "                           288,\n",
            "                           1105,\n",
            "                           996,\n",
            "                           475,\n",
            "                           146,\n",
            "                           1093,\n",
            "                           1458,\n",
            "                           713,\n",
            "                           1378,\n",
            "                           205,\n",
            "                           796,\n",
            "                           979,\n",
            "                           1391,\n",
            "                           1055,\n",
            "                           843,\n",
            "                           862,\n",
            "                           977,\n",
            "                           1293,\n",
            "                           594,\n",
            "                           292,\n",
            "                           581,\n",
            "                           1006,\n",
            "                           537,\n",
            "                           344,\n",
            "                           1397,\n",
            "                           1252,\n",
            "                           899,\n",
            "                           1275,\n",
            "                           380,\n",
            "                           1318,\n",
            "                           1119,\n",
            "                           1221,\n",
            "                           188,\n",
            "                           1036,\n",
            "                           1438,\n",
            "                           944,\n",
            "                           900,\n",
            "                           513,\n",
            "                           317,\n",
            "                           1198,\n",
            "                           70,\n",
            "                           964,\n",
            "                           309,\n",
            "                           656,\n",
            "                           1069,\n",
            "                           564,\n",
            "                           49,\n",
            "                           178,\n",
            "                           892,\n",
            "                           1425,\n",
            "                           18,\n",
            "                           816,\n",
            "                           905,\n",
            "                           1163,\n",
            "                           567,\n",
            "                           458,\n",
            "                           632,\n",
            "                           85,\n",
            "                           1357,\n",
            "                           361,\n",
            "                           52,\n",
            "                           95,\n",
            "                           1002,\n",
            "                           143,\n",
            "                           886,\n",
            "                           727,\n",
            "                           1174,\n",
            "                           805,\n",
            "                           598,\n",
            "                           1089,\n",
            "                           1015,\n",
            "                           396,\n",
            "                           58,\n",
            "                           1320,\n",
            "                           225,\n",
            "                           912,\n",
            "                           1309,\n",
            "                           494,\n",
            "                           29,\n",
            "                           1244,\n",
            "                           74,\n",
            "                           820,\n",
            "                           1191,\n",
            "                           993,\n",
            "                           507,\n",
            "                           425,\n",
            "                           244,\n",
            "                           1292,\n",
            "                           904,\n",
            "                           650,\n",
            "                           541,\n",
            "                           1005,\n",
            "                           737,\n",
            "                           1469,\n",
            "                           764,\n",
            "                           319,\n",
            "                           1232,\n",
            "                           277,\n",
            "                           1001,\n",
            "                           485,\n",
            "                           582,\n",
            "                           927,\n",
            "                           839,\n",
            "                           35,\n",
            "                           504,\n",
            "                           575,\n",
            "                           1307,\n",
            "                           235,\n",
            "                           1457,\n",
            "                           448,\n",
            "                           266,\n",
            "                           568,\n",
            "                           967,\n",
            "                           1421,\n",
            "                           797,\n",
            "                           1322,\n",
            "                           1161,\n",
            "                           793,\n",
            "                           855,\n",
            "                           1143,\n",
            "                           120,\n",
            "                           269,\n",
            "                           236,\n",
            "                           447,\n",
            "                           651,\n",
            "                           1106,\n",
            "                           110,\n",
            "                           599,\n",
            "                           1317,\n",
            "                           362,\n",
            "                           871,\n",
            "                           297,\n",
            "                           1262,\n",
            "                           732,\n",
            "                           200,\n",
            "                           1073,\n",
            "                           241,\n",
            "                           762,\n",
            "                           1359,\n",
            "                           72,\n",
            "                           811,\n",
            "                           613,\n",
            "                           791,\n",
            "                           1022,\n",
            "                           1159,\n",
            "                           934,\n",
            "                           540,\n",
            "                           666,\n",
            "                           699,\n",
            "                           930,\n",
            "                           221,\n",
            "                           1386,\n",
            "                           1303,\n",
            "                           1128,\n",
            "                           184,\n",
            "                           916,\n",
            "                           817,\n",
            "                           1267,\n",
            "                           954,\n",
            "                           1146,\n",
            "                           457,\n",
            "                           1204,\n",
            "                           617,\n",
            "                           841,\n",
            "                           742,\n",
            "                           313,\n",
            "                           935,\n",
            "                           563,\n",
            "                           409,\n",
            "                           1308,\n",
            "                           246,\n",
            "                           712,\n",
            "                           863,\n",
            "                           219,\n",
            "                           546,\n",
            "                           1225,\n",
            "                           103,\n",
            "                           887,\n",
            "                           919,\n",
            "                           1052,\n",
            "                           1368,\n",
            "                           972,\n",
            "                           1224,\n",
            "                           460,\n",
            "                           703,\n",
            "                           1372,\n",
            "                           1080,\n",
            "                           182,\n",
            "                           278,\n",
            "                           1099,\n",
            "                           1408,\n",
            "                           1345,\n",
            "                           240,\n",
            "                           639,\n",
            "                           633,\n",
            "                           1230,\n",
            "                           1188,\n",
            "                           897,\n",
            "                           75,\n",
            "                           1066,\n",
            "                           91,\n",
            "                           1476,\n",
            "                           1103,\n",
            "                           1136,\n",
            "                           956,\n",
            "                           455,\n",
            "                           1248,\n",
            "                           429,\n",
            "                           1090,\n",
            "                           962,\n",
            "                           932,\n",
            "                           1139,\n",
            "                           611,\n",
            "                           1149,\n",
            "                           268,\n",
            "                           243,\n",
            "                           1152,\n",
            "                           1330,\n",
            "                           881,\n",
            "                           517,\n",
            "                           26,\n",
            "                           510,\n",
            "                           525,\n",
            "                           739,\n",
            "                           661,\n",
            "                           1087,\n",
            "                           301,\n",
            "                           443,\n",
            "                           27,\n",
            "                           973,\n",
            "                           1300,\n",
            "                           1007,\n",
            "                           1261,\n",
            "                           760,\n",
            "                           610,\n",
            "                           405,\n",
            "                           1063,\n",
            "                           888,\n",
            "                           882,\n",
            "                           137,\n",
            "                           374,\n",
            "                           1154,\n",
            "                           1442,\n",
            "                           1464,\n",
            "                           385,\n",
            "                           910,\n",
            "                           436,\n",
            "                           162,\n",
            "                           1239,\n",
            "                           1202,\n",
            "                           577,\n",
            "                           533,\n",
            "                           710,\n",
            "                           788,\n",
            "                           889,\n",
            "                           963,\n",
            "                           966,\n",
            "                           997,\n",
            "                           665,\n",
            "                           660,\n",
            "                           177,\n",
            "                           1403,\n",
            "                           1057,\n",
            "                           691,\n",
            "                           679,\n",
            "                           1245,\n",
            "                           580,\n",
            "                           743,\n",
            "                           1463,\n",
            "                           1325,\n",
            "                           1440,\n",
            "                           1011,\n",
            "                           968,\n",
            "                           1474,\n",
            "                           708,\n",
            "                           921,\n",
            "                           33,\n",
            "                           1332,\n",
            "                           1394,\n",
            "                           893,\n",
            "                           1032,\n",
            "                           140,\n",
            "                           121,\n",
            "                           896,\n",
            "                           636,\n",
            "                           875,\n",
            "                           645,\n",
            "                           279,\n",
            "                           723,\n",
            "                           402,\n",
            "                           108,\n",
            "                           346,\n",
            "                           32,\n",
            "                           1402,\n",
            "                           872,\n",
            "                           1129,\n",
            "                           242,\n",
            "                           649,\n",
            "                           1219,\n",
            "                           187,\n",
            "                           1100,\n",
            "                           1250,\n",
            "                           999,\n",
            "                           851,\n",
            "                           731,\n",
            "                           836,\n",
            "                           466,\n",
            "                           1053,\n",
            "                           1186,\n",
            "                           615,\n",
            "                           718,\n",
            "                           1083,\n",
            "                           114,\n",
            "                           1380,\n",
            "                           984,\n",
            "                           907,\n",
            "                           473,\n",
            "                           6,\n",
            "                           874,\n",
            "                           1445,\n",
            "                           152,\n",
            "                           315,\n",
            "                           300,\n",
            "                           1360,\n",
            "                           210,\n",
            "                           1369,\n",
            "                           477,\n",
            "                           441,\n",
            "                           1076,\n",
            "                           463,\n",
            "                           1379,\n",
            "                           1077,\n",
            "                           640,\n",
            "                           975,\n",
            "                           824,\n",
            "                           985,\n",
            "                           1079,\n",
            "                           1175,\n",
            "                           1302,\n",
            "                           548,\n",
            "                           1199,\n",
            "                           1455,\n",
            "                           529,\n",
            "                           1365,\n",
            "                           369,\n",
            "                           1395,\n",
            "                           1153,\n",
            "                           416,\n",
            "                           1229,\n",
            "                           412,\n",
            "                           1122,\n",
            "                           894,\n",
            "                           446,\n",
            "                           185,\n",
            "                           1208,\n",
            "                           69,\n",
            "                           310,\n",
            "                           675,\n",
            "                           290,\n",
            "                           67,\n",
            "                           678,\n",
            "                           901,\n",
            "                           804,\n",
            "                           1423,\n",
            "                           790,\n",
            "                           89,\n",
            "                           1337,\n",
            "                           1164,\n",
            "                           970,\n",
            "                           1298,\n",
            "                           740,\n",
            "                           440,\n",
            "                           847,\n",
            "                           586,\n",
            "                           1271,\n",
            "                           1029,\n",
            "                           591,\n",
            "                           1418,\n",
            "                           175,\n",
            "                           428,\n",
            "                           252,\n",
            "                           16,\n",
            "                           245,\n",
            "                           263,\n",
            "                           802,\n",
            "                           884,\n",
            "                           1477,\n",
            "                           1196,\n",
            "                           1428,\n",
            "                           879,\n",
            "                           734,\n",
            "                           407,\n",
            "                           354,\n",
            "                           1285,\n",
            "                           1448,\n",
            "                           5,\n",
            "                           547,\n",
            "                           228,\n",
            "                           995,\n",
            "                           751,\n",
            "                           122,\n",
            "                           170,\n",
            "                           707,\n",
            "                           978,\n",
            "                           139,\n",
            "                           822,\n",
            "                           1117,\n",
            "                           80,\n",
            "                           1335,\n",
            "                           1347,\n",
            "                           1008,\n",
            "                           570,\n",
            "                           1009,\n",
            "                           565,\n",
            "                           819,\n",
            "                           1246,\n",
            "                           1043,\n",
            "                           1291,\n",
            "                           1197,\n",
            "                           470,\n",
            "                           1071,\n",
            "                           992,\n",
            "                           671,\n",
            "                           474,\n",
            "                           555,\n",
            "                           948,\n",
            "                           1127,\n",
            "                           519,\n",
            "                           164,\n",
            "                           94,\n",
            "                           745,\n",
            "                           1203,\n",
            "                           1228,\n",
            "                           25,\n",
            "                           1144,\n",
            "                           1354,\n",
            "                           145,\n",
            "                           1234,\n",
            "                           1371,\n",
            "                           906,\n",
            "                           1170,\n",
            "                           914,\n",
            "                           1214,\n",
            "                           585,\n",
            "                           915,\n",
            "                           806,\n",
            "                           998,\n",
            "                           990,\n",
            "                           253,\n",
            "                           1056,\n",
            "                           493,\n",
            "                           629,\n",
            "                           1092,\n",
            "                           343,\n",
            "                           1183,\n",
            "                           827,\n",
            "                           129,\n",
            "                           1181,\n",
            "                           829,\n",
            "                           849,\n",
            "                           868,\n",
            "                           267,\n",
            "                           479,\n",
            "                           589,\n",
            "                           528,\n",
            "                           1226,\n",
            "                           716,\n",
            "                           397,\n",
            "                           60,\n",
            "                           832,\n",
            "                           878,\n",
            "                           181,\n",
            "                           359,\n",
            "                           698,\n",
            "                           166,\n",
            "                           104,\n",
            "                           314,\n",
            "                           559,\n",
            "                           1313,\n",
            "                           334,\n",
            "                           163,\n",
            "                           631,\n",
            "                           774,\n",
            "                           1012,\n",
            "                           124,\n",
            "                           673,\n",
            "                           1235,\n",
            "                           959,\n",
            "                           780,\n",
            "                           147,\n",
            "                           93,\n",
            "                           842,\n",
            "                           492,\n",
            "                           654,\n",
            "                           260,\n",
            "                           372,\n",
            "                           135,\n",
            "                           538,\n",
            "                           1468,\n",
            "                           251,\n",
            "                           308,\n",
            "                           680,\n",
            "                           404,\n",
            "                           696,\n",
            "                           432,\n",
            "                           294,\n",
            "                           216,\n",
            "                           728,\n",
            "                           1025]},\n",
            " 'valid_set': {'class': 'dataset.Subset',\n",
            "               'dataset': {'class': 'datasets.ClinTox',\n",
            "                           'path': '~/molecule-datasets/',\n",
            "                           'verbose': 1},\n",
            "               'indices': [1387,\n",
            "                           859,\n",
            "                           1157,\n",
            "                           1443,\n",
            "                           1120,\n",
            "                           789,\n",
            "                           1156,\n",
            "                           1220,\n",
            "                           1095,\n",
            "                           1251,\n",
            "                           1384,\n",
            "                           1258,\n",
            "                           746,\n",
            "                           1031,\n",
            "                           573,\n",
            "                           14,\n",
            "                           31,\n",
            "                           521,\n",
            "                           922,\n",
            "                           1377,\n",
            "                           180,\n",
            "                           885,\n",
            "                           388,\n",
            "                           1290,\n",
            "                           333,\n",
            "                           685,\n",
            "                           352,\n",
            "                           1177,\n",
            "                           1048,\n",
            "                           815,\n",
            "                           952,\n",
            "                           1277,\n",
            "                           1102,\n",
            "                           1010,\n",
            "                           232,\n",
            "                           109,\n",
            "                           1023,\n",
            "                           1075,\n",
            "                           445,\n",
            "                           230,\n",
            "                           157,\n",
            "                           1269,\n",
            "                           759,\n",
            "                           383,\n",
            "                           154,\n",
            "                           1138,\n",
            "                           1288,\n",
            "                           165,\n",
            "                           283,\n",
            "                           523,\n",
            "                           328,\n",
            "                           987,\n",
            "                           950,\n",
            "                           595,\n",
            "                           991,\n",
            "                           387,\n",
            "                           592,\n",
            "                           933,\n",
            "                           1137,\n",
            "                           189,\n",
            "                           293,\n",
            "                           773,\n",
            "                           156,\n",
            "                           1180,\n",
            "                           769,\n",
            "                           1342,\n",
            "                           195,\n",
            "                           1162,\n",
            "                           1061,\n",
            "                           392,\n",
            "                           1249,\n",
            "                           365,\n",
            "                           630,\n",
            "                           647,\n",
            "                           1284,\n",
            "                           890,\n",
            "                           688,\n",
            "                           1058,\n",
            "                           408,\n",
            "                           370,\n",
            "                           579,\n",
            "                           316,\n",
            "                           667,\n",
            "                           1417,\n",
            "                           306,\n",
            "                           468,\n",
            "                           1121,\n",
            "                           1437,\n",
            "                           1426,\n",
            "                           1247,\n",
            "                           1435,\n",
            "                           721,\n",
            "                           1411,\n",
            "                           371,\n",
            "                           394,\n",
            "                           366,\n",
            "                           491,\n",
            "                           550,\n",
            "                           572,\n",
            "                           1294,\n",
            "                           96,\n",
            "                           1328,\n",
            "                           792,\n",
            "                           1016,\n",
            "                           1019,\n",
            "                           1344,\n",
            "                           741,\n",
            "                           1113,\n",
            "                           342,\n",
            "                           43,\n",
            "                           752,\n",
            "                           90,\n",
            "                           877,\n",
            "                           1004,\n",
            "                           486,\n",
            "                           1400,\n",
            "                           1059,\n",
            "                           837,\n",
            "                           1110,\n",
            "                           1471,\n",
            "                           172,\n",
            "                           628,\n",
            "                           1085,\n",
            "                           453,\n",
            "                           606,\n",
            "                           353,\n",
            "                           929,\n",
            "                           880,\n",
            "                           619,\n",
            "                           939,\n",
            "                           657,\n",
            "                           945,\n",
            "                           1272,\n",
            "                           858,\n",
            "                           257,\n",
            "                           1140,\n",
            "                           807,\n",
            "                           781,\n",
            "                           335,\n",
            "                           1109,\n",
            "                           270,\n",
            "                           138,\n",
            "                           373,\n",
            "                           1361,\n",
            "                           1278,\n",
            "                           857,\n",
            "                           101]}}\n"
          ]
        },
        {
          "output_type": "stream",
          "name": "stdout",
          "text": [
            "19:35:51   {'batch_size': 1024,\n",
            " 'class': 'core.Engine',\n",
            " 'gpus': [0],\n",
            " 'gradient_interval': 1,\n",
            " 'log_interval': 100,\n",
            " 'logger': 'logging',\n",
            " 'num_worker': 0,\n",
            " 'optimizer': {'amsgrad': False,\n",
            "               'betas': (0.9, 0.999),\n",
            "               'capturable': False,\n",
            "               'class': 'optim.Adam',\n",
            "               'differentiable': False,\n",
            "               'eps': 1e-08,\n",
            "               'foreach': None,\n",
            "               'fused': False,\n",
            "               'lr': 0.001,\n",
            "               'maximize': False,\n",
            "               'weight_decay': 0},\n",
            " 'scheduler': None,\n",
            " 'task': {'class': 'tasks.PropertyPrediction',\n",
            "          'criterion': 'bce',\n",
            "          'graph_construction_model': None,\n",
            "          'metric': ('auprc', 'auroc'),\n",
            "          'model': {'activation': 'relu',\n",
            "                    'batch_norm': True,\n",
            "                    'class': 'models.GIN',\n",
            "                    'concat_hidden': True,\n",
            "                    'edge_input_dim': None,\n",
            "                    'eps': 0,\n",
            "                    'hidden_dims': [256, 256, 256, 256],\n",
            "                    'input_dim': 67,\n",
            "                    'learn_eps': False,\n",
            "                    'num_mlp_layer': 2,\n",
            "                    'readout': 'sum',\n",
            "                    'short_cut': True},\n",
            "          'normalization': True,\n",
            "          'num_class': None,\n",
            "          'num_mlp_layer': 1,\n",
            "          'task': ['FDA_APPROVED', 'CT_TOX'],\n",
            "          'verbose': 0},\n",
            " 'test_set': {'class': 'dataset.Subset',\n",
            "              'dataset': {'class': 'datasets.ClinTox',\n",
            "                          'path': '~/molecule-datasets/',\n",
            "                          'verbose': 1},\n",
            "              'indices': [1145,\n",
            "                          621,\n",
            "                          1223,\n",
            "                          390,\n",
            "                          40,\n",
            "                          518,\n",
            "                          414,\n",
            "                          304,\n",
            "                          1424,\n",
            "                          1178,\n",
            "                          1405,\n",
            "                          943,\n",
            "                          1217,\n",
            "                          597,\n",
            "                          427,\n",
            "                          1353,\n",
            "                          693,\n",
            "                          1472,\n",
            "                          873,\n",
            "                          918,\n",
            "                          51,\n",
            "                          1364,\n",
            "                          1301,\n",
            "                          535,\n",
            "                          9,\n",
            "                          750,\n",
            "                          763,\n",
            "                          1124,\n",
            "                          1024,\n",
            "                          280,\n",
            "                          1297,\n",
            "                          444,\n",
            "                          1026,\n",
            "                          735,\n",
            "                          229,\n",
            "                          835,\n",
            "                          1218,\n",
            "                          45,\n",
            "                          376,\n",
            "                          1081,\n",
            "                          711,\n",
            "                          1346,\n",
            "                          1286,\n",
            "                          55,\n",
            "                          560,\n",
            "                          1376,\n",
            "                          867,\n",
            "                          1399,\n",
            "                          8,\n",
            "                          571,\n",
            "                          618,\n",
            "                          430,\n",
            "                          1020,\n",
            "                          161,\n",
            "                          778,\n",
            "                          274,\n",
            "                          311,\n",
            "                          895,\n",
            "                          71,\n",
            "                          942,\n",
            "                          1037,\n",
            "                          1304,\n",
            "                          551,\n",
            "                          1155,\n",
            "                          88,\n",
            "                          652,\n",
            "                          197,\n",
            "                          1375,\n",
            "                          12,\n",
            "                          249,\n",
            "                          1273,\n",
            "                          1263,\n",
            "                          34,\n",
            "                          1430,\n",
            "                          587,\n",
            "                          1327,\n",
            "                          850,\n",
            "                          856,\n",
            "                          1412,\n",
            "                          1393,\n",
            "                          15,\n",
            "                          626,\n",
            "                          87,\n",
            "                          1222,\n",
            "                          336,\n",
            "                          1195,\n",
            "                          1255,\n",
            "                          100,\n",
            "                          1312,\n",
            "                          1042,\n",
            "                          838,\n",
            "                          239,\n",
            "                          767,\n",
            "                          644,\n",
            "                          931,\n",
            "                          1456,\n",
            "                          1382,\n",
            "                          646,\n",
            "                          21,\n",
            "                          435,\n",
            "                          1334,\n",
            "                          1201,\n",
            "                          1165,\n",
            "                          725,\n",
            "                          76,\n",
            "                          451,\n",
            "                          502,\n",
            "                          982,\n",
            "                          20,\n",
            "                          515,\n",
            "                          159,\n",
            "                          600,\n",
            "                          1054,\n",
            "                          1131,\n",
            "                          391,\n",
            "                          133,\n",
            "                          1459,\n",
            "                          1319,\n",
            "                          1289,\n",
            "                          168,\n",
            "                          467,\n",
            "                          583,\n",
            "                          949,\n",
            "                          207,\n",
            "                          1324,\n",
            "                          323,\n",
            "                          697,\n",
            "                          1383,\n",
            "                          499,\n",
            "                          364,\n",
            "                          876,\n",
            "                          1142,\n",
            "                          928,\n",
            "                          936,\n",
            "                          1014,\n",
            "                          1419,\n",
            "                          1050,\n",
            "                          10,\n",
            "                          676,\n",
            "                          282,\n",
            "                          578,\n",
            "                          431,\n",
            "                          1148,\n",
            "                          634,\n",
            "                          524,\n",
            "                          1018,\n",
            "                          951,\n",
            "                          925,\n",
            "                          786]},\n",
            " 'train_set': {'class': 'dataset.Subset',\n",
            "               'dataset': {'class': 'datasets.ClinTox',\n",
            "                           'path': '~/molecule-datasets/',\n",
            "                           'verbose': 1},\n",
            "               'indices': [1314,\n",
            "                           64,\n",
            "                           1013,\n",
            "                           411,\n",
            "                           549,\n",
            "                           1115,\n",
            "                           831,\n",
            "                           211,\n",
            "                           775,\n",
            "                           24,\n",
            "                           534,\n",
            "                           1046,\n",
            "                           701,\n",
            "                           620,\n",
            "                           1190,\n",
            "                           536,\n",
            "                           413,\n",
            "                           1242,\n",
            "                           237,\n",
            "                           1396,\n",
            "                           272,\n",
            "                           56,\n",
            "                           782,\n",
            "                           655,\n",
            "                           209,\n",
            "                           61,\n",
            "                           736,\n",
            "                           623,\n",
            "                           552,\n",
            "                           273,\n",
            "                           1207,\n",
            "                           974,\n",
            "                           612,\n",
            "                           960,\n",
            "                           204,\n",
            "                           854,\n",
            "                           377,\n",
            "                           349,\n",
            "                           57,\n",
            "                           616,\n",
            "                           1151,\n",
            "                           375,\n",
            "                           756,\n",
            "                           986,\n",
            "                           1108,\n",
            "                           433,\n",
            "                           641,\n",
            "                           141,\n",
            "                           1341,\n",
            "                           238,\n",
            "                           1441,\n",
            "                           144,\n",
            "                           1227,\n",
            "                           350,\n",
            "                           417,\n",
            "                           130,\n",
            "                           596,\n",
            "                           201,\n",
            "                           113,\n",
            "                           702,\n",
            "                           102,\n",
            "                           324,\n",
            "                           62,\n",
            "                           527,\n",
            "                           1185,\n",
            "                           22,\n",
            "                           302,\n",
            "                           1370,\n",
            "                           38,\n",
            "                           183,\n",
            "                           117,\n",
            "                           368,\n",
            "                           1409,\n",
            "                           13,\n",
            "                           198,\n",
            "                           1439,\n",
            "                           482,\n",
            "                           79,\n",
            "                           1431,\n",
            "                           132,\n",
            "                           400,\n",
            "                           648,\n",
            "                           48,\n",
            "                           142,\n",
            "                           472,\n",
            "                           813,\n",
            "                           1385,\n",
            "                           690,\n",
            "                           1390,\n",
            "                           891,\n",
            "                           989,\n",
            "                           506,\n",
            "                           840,\n",
            "                           11,\n",
            "                           1447,\n",
            "                           489,\n",
            "                           1168,\n",
            "                           853,\n",
            "                           720,\n",
            "                           389,\n",
            "                           1388,\n",
            "                           1118,\n",
            "                           1450,\n",
            "                           758,\n",
            "                           715,\n",
            "                           1264,\n",
            "                           217,\n",
            "                           1200,\n",
            "                           265,\n",
            "                           543,\n",
            "                           456,\n",
            "                           1416,\n",
            "                           1067,\n",
            "                           553,\n",
            "                           1315,\n",
            "                           176,\n",
            "                           1444,\n",
            "                           539,\n",
            "                           1256,\n",
            "                           1454,\n",
            "                           461,\n",
            "                           704,\n",
            "                           1231,\n",
            "                           321,\n",
            "                           338,\n",
            "                           770,\n",
            "                           681,\n",
            "                           694,\n",
            "                           663,\n",
            "                           356,\n",
            "                           556,\n",
            "                           724,\n",
            "                           223,\n",
            "                           1392,\n",
            "                           1465,\n",
            "                           1182,\n",
            "                           1406,\n",
            "                           23,\n",
            "                           465,\n",
            "                           206,\n",
            "                           957,\n",
            "                           902,\n",
            "                           531,\n",
            "                           1126,\n",
            "                           1436,\n",
            "                           505,\n",
            "                           59,\n",
            "                           526,\n",
            "                           331,\n",
            "                           37,\n",
            "                           1166,\n",
            "                           295,\n",
            "                           719,\n",
            "                           903,\n",
            "                           84,\n",
            "                           677,\n",
            "                           771,\n",
            "                           149,\n",
            "                           864,\n",
            "                           803,\n",
            "                           420,\n",
            "                           542,\n",
            "                           865,\n",
            "                           642,\n",
            "                           981,\n",
            "                           360,\n",
            "                           1352,\n",
            "                           1398,\n",
            "                           434,\n",
            "                           692,\n",
            "                           98,\n",
            "                           264,\n",
            "                           755,\n",
            "                           545,\n",
            "                           1104,\n",
            "                           1123,\n",
            "                           669,\n",
            "                           1134,\n",
            "                           86,\n",
            "                           424,\n",
            "                           298,\n",
            "                           609,\n",
            "                           1173,\n",
            "                           322,\n",
            "                           1451,\n",
            "                           330,\n",
            "                           118,\n",
            "                           399,\n",
            "                           1266,\n",
            "                           834,\n",
            "                           190,\n",
            "                           566,\n",
            "                           1373,\n",
            "                           1,\n",
            "                           480,\n",
            "                           898,\n",
            "                           1027,\n",
            "                           1049,\n",
            "                           511,\n",
            "                           36,\n",
            "                           155,\n",
            "                           261,\n",
            "                           938,\n",
            "                           248,\n",
            "                           684,\n",
            "                           761,\n",
            "                           1389,\n",
            "                           638,\n",
            "                           668,\n",
            "                           213,\n",
            "                           848,\n",
            "                           607,\n",
            "                           123,\n",
            "                           355,\n",
            "                           1253,\n",
            "                           1381,\n",
            "                           39,\n",
            "                           65,\n",
            "                           1321,\n",
            "                           327,\n",
            "                           341,\n",
            "                           920,\n",
            "                           643,\n",
            "                           271,\n",
            "                           1281,\n",
            "                           969,\n",
            "                           757,\n",
            "                           1097,\n",
            "                           497,\n",
            "                           68,\n",
            "                           347,\n",
            "                           1112,\n",
            "                           754,\n",
            "                           150,\n",
            "                           588,\n",
            "                           624,\n",
            "                           808,\n",
            "                           107,\n",
            "                           1259,\n",
            "                           193,\n",
            "                           1260,\n",
            "                           1432,\n",
            "                           1475,\n",
            "                           687,\n",
            "                           785,\n",
            "                           250,\n",
            "                           276,\n",
            "                           953,\n",
            "                           744,\n",
            "                           941,\n",
            "                           765,\n",
            "                           112,\n",
            "                           1350,\n",
            "                           215,\n",
            "                           514,\n",
            "                           1193,\n",
            "                           1280,\n",
            "                           812,\n",
            "                           625,\n",
            "                           1413,\n",
            "                           1088,\n",
            "                           345,\n",
            "                           1326,\n",
            "                           1305,\n",
            "                           1074,\n",
            "                           602,\n",
            "                           92,\n",
            "                           218,\n",
            "                           281,\n",
            "                           1096,\n",
            "                           683,\n",
            "                           1340,\n",
            "                           686,\n",
            "                           749,\n",
            "                           1401,\n",
            "                           1021,\n",
            "                           557,\n",
            "                           637,\n",
            "                           1039,\n",
            "                           291,\n",
            "                           439,\n",
            "                           614,\n",
            "                           307,\n",
            "                           299,\n",
            "                           258,\n",
            "                           1179,\n",
            "                           134,\n",
            "                           772,\n",
            "                           160,\n",
            "                           191,\n",
            "                           284,\n",
            "                           1358,\n",
            "                           286,\n",
            "                           800,\n",
            "                           42,\n",
            "                           1216,\n",
            "                           449,\n",
            "                           662,\n",
            "                           1257,\n",
            "                           1470,\n",
            "                           1044,\n",
            "                           1078,\n",
            "                           422,\n",
            "                           167,\n",
            "                           768,\n",
            "                           1323,\n",
            "                           828,\n",
            "                           520,\n",
            "                           845,\n",
            "                           576,\n",
            "                           659,\n",
            "                           174,\n",
            "                           1107,\n",
            "                           1116,\n",
            "                           1329,\n",
            "                           418,\n",
            "                           1276,\n",
            "                           574,\n",
            "                           1449,\n",
            "                           1212,\n",
            "                           1094,\n",
            "                           464,\n",
            "                           254,\n",
            "                           913,\n",
            "                           1311,\n",
            "                           151,\n",
            "                           28,\n",
            "                           395,\n",
            "                           1065,\n",
            "                           748,\n",
            "                           909,\n",
            "                           825,\n",
            "                           590,\n",
            "                           256,\n",
            "                           705,\n",
            "                           54,\n",
            "                           348,\n",
            "                           289,\n",
            "                           883,\n",
            "                           1363,\n",
            "                           852,\n",
            "                           664,\n",
            "                           1040,\n",
            "                           41,\n",
            "                           351,\n",
            "                           406,\n",
            "                           158,\n",
            "                           212,\n",
            "                           320,\n",
            "                           823,\n",
            "                           738,\n",
            "                           604,\n",
            "                           605,\n",
            "                           753,\n",
            "                           1205,\n",
            "                           30,\n",
            "                           569,\n",
            "                           1034,\n",
            "                           1211,\n",
            "                           1283,\n",
            "                           53,\n",
            "                           50,\n",
            "                           1422,\n",
            "                           259,\n",
            "                           1210,\n",
            "                           1003,\n",
            "                           1169,\n",
            "                           275,\n",
            "                           255,\n",
            "                           192,\n",
            "                           1306,\n",
            "                           1461,\n",
            "                           1460,\n",
            "                           622,\n",
            "                           127,\n",
            "                           1310,\n",
            "                           442,\n",
            "                           495,\n",
            "                           214,\n",
            "                           419,\n",
            "                           826,\n",
            "                           194,\n",
            "                           1086,\n",
            "                           202,\n",
            "                           779,\n",
            "                           1041,\n",
            "                           1270,\n",
            "                           1243,\n",
            "                           171,\n",
            "                           911,\n",
            "                           1070,\n",
            "                           714,\n",
            "                           1133,\n",
            "                           1331,\n",
            "                           988,\n",
            "                           1265,\n",
            "                           358,\n",
            "                           509,\n",
            "                           305,\n",
            "                           1434,\n",
            "                           220,\n",
            "                           955,\n",
            "                           1452,\n",
            "                           1135,\n",
            "                           1084,\n",
            "                           1407,\n",
            "                           1091,\n",
            "                           1410,\n",
            "                           795,\n",
            "                           386,\n",
            "                           1453,\n",
            "                           234,\n",
            "                           1462,\n",
            "                           487,\n",
            "                           379,\n",
            "                           287,\n",
            "                           1000,\n",
            "                           19,\n",
            "                           47,\n",
            "                           1184,\n",
            "                           924,\n",
            "                           809,\n",
            "                           105,\n",
            "                           116,\n",
            "                           1254,\n",
            "                           1299,\n",
            "                           77,\n",
            "                           153,\n",
            "                           971,\n",
            "                           83,\n",
            "                           17,\n",
            "                           1101,\n",
            "                           382,\n",
            "                           994,\n",
            "                           111,\n",
            "                           1338,\n",
            "                           562,\n",
            "                           312,\n",
            "                           799,\n",
            "                           544,\n",
            "                           1035,\n",
            "                           830,\n",
            "                           1356,\n",
            "                           1160,\n",
            "                           1141,\n",
            "                           452,\n",
            "                           247,\n",
            "                           717,\n",
            "                           810,\n",
            "                           784,\n",
            "                           733,\n",
            "                           729,\n",
            "                           777,\n",
            "                           1158,\n",
            "                           1268,\n",
            "                           199,\n",
            "                           285,\n",
            "                           747,\n",
            "                           940,\n",
            "                           233,\n",
            "                           1274,\n",
            "                           97,\n",
            "                           776,\n",
            "                           946,\n",
            "                           1209,\n",
            "                           726,\n",
            "                           415,\n",
            "                           870,\n",
            "                           658,\n",
            "                           689,\n",
            "                           488,\n",
            "                           860,\n",
            "                           450,\n",
            "                           459,\n",
            "                           1279,\n",
            "                           224,\n",
            "                           1062,\n",
            "                           730,\n",
            "                           471,\n",
            "                           384,\n",
            "                           498,\n",
            "                           231,\n",
            "                           1467,\n",
            "                           46,\n",
            "                           476,\n",
            "                           976,\n",
            "                           1233,\n",
            "                           398,\n",
            "                           1339,\n",
            "                           106,\n",
            "                           496,\n",
            "                           958,\n",
            "                           794,\n",
            "                           131,\n",
            "                           454,\n",
            "                           1433,\n",
            "                           63,\n",
            "                           700,\n",
            "                           2,\n",
            "                           1051,\n",
            "                           561,\n",
            "                           558,\n",
            "                           709,\n",
            "                           478,\n",
            "                           1374,\n",
            "                           1316,\n",
            "                           1351,\n",
            "                           1125,\n",
            "                           437,\n",
            "                           1427,\n",
            "                           1033,\n",
            "                           937,\n",
            "                           325,\n",
            "                           1172,\n",
            "                           303,\n",
            "                           1047,\n",
            "                           1282,\n",
            "                           530,\n",
            "                           500,\n",
            "                           1466,\n",
            "                           512,\n",
            "                           1336,\n",
            "                           1236,\n",
            "                           483,\n",
            "                           1333,\n",
            "                           1030,\n",
            "                           1147,\n",
            "                           601,\n",
            "                           983,\n",
            "                           1176,\n",
            "                           0,\n",
            "                           326,\n",
            "                           227,\n",
            "                           262,\n",
            "                           1343,\n",
            "                           961,\n",
            "                           1404,\n",
            "                           363,\n",
            "                           208,\n",
            "                           119,\n",
            "                           136,\n",
            "                           1215,\n",
            "                           1017,\n",
            "                           1287,\n",
            "                           410,\n",
            "                           357,\n",
            "                           3,\n",
            "                           332,\n",
            "                           393,\n",
            "                           7,\n",
            "                           173,\n",
            "                           672,\n",
            "                           1189,\n",
            "                           1213,\n",
            "                           861,\n",
            "                           682,\n",
            "                           1068,\n",
            "                           66,\n",
            "                           722,\n",
            "                           1473,\n",
            "                           603,\n",
            "                           426,\n",
            "                           818,\n",
            "                           438,\n",
            "                           186,\n",
            "                           814,\n",
            "                           1111,\n",
            "                           798,\n",
            "                           1414,\n",
            "                           516,\n",
            "                           947,\n",
            "                           1171,\n",
            "                           1355,\n",
            "                           73,\n",
            "                           1150,\n",
            "                           115,\n",
            "                           1206,\n",
            "                           635,\n",
            "                           1064,\n",
            "                           593,\n",
            "                           99,\n",
            "                           869,\n",
            "                           1238,\n",
            "                           965,\n",
            "                           367,\n",
            "                           421,\n",
            "                           381,\n",
            "                           1192,\n",
            "                           1072,\n",
            "                           1130,\n",
            "                           653,\n",
            "                           1240,\n",
            "                           503,\n",
            "                           403,\n",
            "                           522,\n",
            "                           532,\n",
            "                           78,\n",
            "                           318,\n",
            "                           1241,\n",
            "                           908,\n",
            "                           484,\n",
            "                           1028,\n",
            "                           481,\n",
            "                           44,\n",
            "                           608,\n",
            "                           706,\n",
            "                           783,\n",
            "                           674,\n",
            "                           1296,\n",
            "                           1349,\n",
            "                           469,\n",
            "                           844,\n",
            "                           695,\n",
            "                           1098,\n",
            "                           226,\n",
            "                           1348,\n",
            "                           296,\n",
            "                           1237,\n",
            "                           508,\n",
            "                           1045,\n",
            "                           81,\n",
            "                           833,\n",
            "                           821,\n",
            "                           423,\n",
            "                           1415,\n",
            "                           801,\n",
            "                           1366,\n",
            "                           1187,\n",
            "                           126,\n",
            "                           203,\n",
            "                           1446,\n",
            "                           1060,\n",
            "                           1194,\n",
            "                           462,\n",
            "                           82,\n",
            "                           222,\n",
            "                           128,\n",
            "                           378,\n",
            "                           1429,\n",
            "                           490,\n",
            "                           1362,\n",
            "                           196,\n",
            "                           1295,\n",
            "                           4,\n",
            "                           1167,\n",
            "                           1367,\n",
            "                           337,\n",
            "                           339,\n",
            "                           125,\n",
            "                           980,\n",
            "                           670,\n",
            "                           787,\n",
            "                           584,\n",
            "                           923,\n",
            "                           846,\n",
            "                           1038,\n",
            "                           917,\n",
            "                           926,\n",
            "                           554,\n",
            "                           401,\n",
            "                           1420,\n",
            "                           148,\n",
            "                           766,\n",
            "                           340,\n",
            "                           1114,\n",
            "                           179,\n",
            "                           627,\n",
            "                           329,\n",
            "                           501,\n",
            "                           169,\n",
            "                           1082,\n",
            "                           866,\n",
            "                           1132,\n",
            "                           288,\n",
            "                           1105,\n",
            "                           996,\n",
            "                           475,\n",
            "                           146,\n",
            "                           1093,\n",
            "                           1458,\n",
            "                           713,\n",
            "                           1378,\n",
            "                           205,\n",
            "                           796,\n",
            "                           979,\n",
            "                           1391,\n",
            "                           1055,\n",
            "                           843,\n",
            "                           862,\n",
            "                           977,\n",
            "                           1293,\n",
            "                           594,\n",
            "                           292,\n",
            "                           581,\n",
            "                           1006,\n",
            "                           537,\n",
            "                           344,\n",
            "                           1397,\n",
            "                           1252,\n",
            "                           899,\n",
            "                           1275,\n",
            "                           380,\n",
            "                           1318,\n",
            "                           1119,\n",
            "                           1221,\n",
            "                           188,\n",
            "                           1036,\n",
            "                           1438,\n",
            "                           944,\n",
            "                           900,\n",
            "                           513,\n",
            "                           317,\n",
            "                           1198,\n",
            "                           70,\n",
            "                           964,\n",
            "                           309,\n",
            "                           656,\n",
            "                           1069,\n",
            "                           564,\n",
            "                           49,\n",
            "                           178,\n",
            "                           892,\n",
            "                           1425,\n",
            "                           18,\n",
            "                           816,\n",
            "                           905,\n",
            "                           1163,\n",
            "                           567,\n",
            "                           458,\n",
            "                           632,\n",
            "                           85,\n",
            "                           1357,\n",
            "                           361,\n",
            "                           52,\n",
            "                           95,\n",
            "                           1002,\n",
            "                           143,\n",
            "                           886,\n",
            "                           727,\n",
            "                           1174,\n",
            "                           805,\n",
            "                           598,\n",
            "                           1089,\n",
            "                           1015,\n",
            "                           396,\n",
            "                           58,\n",
            "                           1320,\n",
            "                           225,\n",
            "                           912,\n",
            "                           1309,\n",
            "                           494,\n",
            "                           29,\n",
            "                           1244,\n",
            "                           74,\n",
            "                           820,\n",
            "                           1191,\n",
            "                           993,\n",
            "                           507,\n",
            "                           425,\n",
            "                           244,\n",
            "                           1292,\n",
            "                           904,\n",
            "                           650,\n",
            "                           541,\n",
            "                           1005,\n",
            "                           737,\n",
            "                           1469,\n",
            "                           764,\n",
            "                           319,\n",
            "                           1232,\n",
            "                           277,\n",
            "                           1001,\n",
            "                           485,\n",
            "                           582,\n",
            "                           927,\n",
            "                           839,\n",
            "                           35,\n",
            "                           504,\n",
            "                           575,\n",
            "                           1307,\n",
            "                           235,\n",
            "                           1457,\n",
            "                           448,\n",
            "                           266,\n",
            "                           568,\n",
            "                           967,\n",
            "                           1421,\n",
            "                           797,\n",
            "                           1322,\n",
            "                           1161,\n",
            "                           793,\n",
            "                           855,\n",
            "                           1143,\n",
            "                           120,\n",
            "                           269,\n",
            "                           236,\n",
            "                           447,\n",
            "                           651,\n",
            "                           1106,\n",
            "                           110,\n",
            "                           599,\n",
            "                           1317,\n",
            "                           362,\n",
            "                           871,\n",
            "                           297,\n",
            "                           1262,\n",
            "                           732,\n",
            "                           200,\n",
            "                           1073,\n",
            "                           241,\n",
            "                           762,\n",
            "                           1359,\n",
            "                           72,\n",
            "                           811,\n",
            "                           613,\n",
            "                           791,\n",
            "                           1022,\n",
            "                           1159,\n",
            "                           934,\n",
            "                           540,\n",
            "                           666,\n",
            "                           699,\n",
            "                           930,\n",
            "                           221,\n",
            "                           1386,\n",
            "                           1303,\n",
            "                           1128,\n",
            "                           184,\n",
            "                           916,\n",
            "                           817,\n",
            "                           1267,\n",
            "                           954,\n",
            "                           1146,\n",
            "                           457,\n",
            "                           1204,\n",
            "                           617,\n",
            "                           841,\n",
            "                           742,\n",
            "                           313,\n",
            "                           935,\n",
            "                           563,\n",
            "                           409,\n",
            "                           1308,\n",
            "                           246,\n",
            "                           712,\n",
            "                           863,\n",
            "                           219,\n",
            "                           546,\n",
            "                           1225,\n",
            "                           103,\n",
            "                           887,\n",
            "                           919,\n",
            "                           1052,\n",
            "                           1368,\n",
            "                           972,\n",
            "                           1224,\n",
            "                           460,\n",
            "                           703,\n",
            "                           1372,\n",
            "                           1080,\n",
            "                           182,\n",
            "                           278,\n",
            "                           1099,\n",
            "                           1408,\n",
            "                           1345,\n",
            "                           240,\n",
            "                           639,\n",
            "                           633,\n",
            "                           1230,\n",
            "                           1188,\n",
            "                           897,\n",
            "                           75,\n",
            "                           1066,\n",
            "                           91,\n",
            "                           1476,\n",
            "                           1103,\n",
            "                           1136,\n",
            "                           956,\n",
            "                           455,\n",
            "                           1248,\n",
            "                           429,\n",
            "                           1090,\n",
            "                           962,\n",
            "                           932,\n",
            "                           1139,\n",
            "                           611,\n",
            "                           1149,\n",
            "                           268,\n",
            "                           243,\n",
            "                           1152,\n",
            "                           1330,\n",
            "                           881,\n",
            "                           517,\n",
            "                           26,\n",
            "                           510,\n",
            "                           525,\n",
            "                           739,\n",
            "                           661,\n",
            "                           1087,\n",
            "                           301,\n",
            "                           443,\n",
            "                           27,\n",
            "                           973,\n",
            "                           1300,\n",
            "                           1007,\n",
            "                           1261,\n",
            "                           760,\n",
            "                           610,\n",
            "                           405,\n",
            "                           1063,\n",
            "                           888,\n",
            "                           882,\n",
            "                           137,\n",
            "                           374,\n",
            "                           1154,\n",
            "                           1442,\n",
            "                           1464,\n",
            "                           385,\n",
            "                           910,\n",
            "                           436,\n",
            "                           162,\n",
            "                           1239,\n",
            "                           1202,\n",
            "                           577,\n",
            "                           533,\n",
            "                           710,\n",
            "                           788,\n",
            "                           889,\n",
            "                           963,\n",
            "                           966,\n",
            "                           997,\n",
            "                           665,\n",
            "                           660,\n",
            "                           177,\n",
            "                           1403,\n",
            "                           1057,\n",
            "                           691,\n",
            "                           679,\n",
            "                           1245,\n",
            "                           580,\n",
            "                           743,\n",
            "                           1463,\n",
            "                           1325,\n",
            "                           1440,\n",
            "                           1011,\n",
            "                           968,\n",
            "                           1474,\n",
            "                           708,\n",
            "                           921,\n",
            "                           33,\n",
            "                           1332,\n",
            "                           1394,\n",
            "                           893,\n",
            "                           1032,\n",
            "                           140,\n",
            "                           121,\n",
            "                           896,\n",
            "                           636,\n",
            "                           875,\n",
            "                           645,\n",
            "                           279,\n",
            "                           723,\n",
            "                           402,\n",
            "                           108,\n",
            "                           346,\n",
            "                           32,\n",
            "                           1402,\n",
            "                           872,\n",
            "                           1129,\n",
            "                           242,\n",
            "                           649,\n",
            "                           1219,\n",
            "                           187,\n",
            "                           1100,\n",
            "                           1250,\n",
            "                           999,\n",
            "                           851,\n",
            "                           731,\n",
            "                           836,\n",
            "                           466,\n",
            "                           1053,\n",
            "                           1186,\n",
            "                           615,\n",
            "                           718,\n",
            "                           1083,\n",
            "                           114,\n",
            "                           1380,\n",
            "                           984,\n",
            "                           907,\n",
            "                           473,\n",
            "                           6,\n",
            "                           874,\n",
            "                           1445,\n",
            "                           152,\n",
            "                           315,\n",
            "                           300,\n",
            "                           1360,\n",
            "                           210,\n",
            "                           1369,\n",
            "                           477,\n",
            "                           441,\n",
            "                           1076,\n",
            "                           463,\n",
            "                           1379,\n",
            "                           1077,\n",
            "                           640,\n",
            "                           975,\n",
            "                           824,\n",
            "                           985,\n",
            "                           1079,\n",
            "                           1175,\n",
            "                           1302,\n",
            "                           548,\n",
            "                           1199,\n",
            "                           1455,\n",
            "                           529,\n",
            "                           1365,\n",
            "                           369,\n",
            "                           1395,\n",
            "                           1153,\n",
            "                           416,\n",
            "                           1229,\n",
            "                           412,\n",
            "                           1122,\n",
            "                           894,\n",
            "                           446,\n",
            "                           185,\n",
            "                           1208,\n",
            "                           69,\n",
            "                           310,\n",
            "                           675,\n",
            "                           290,\n",
            "                           67,\n",
            "                           678,\n",
            "                           901,\n",
            "                           804,\n",
            "                           1423,\n",
            "                           790,\n",
            "                           89,\n",
            "                           1337,\n",
            "                           1164,\n",
            "                           970,\n",
            "                           1298,\n",
            "                           740,\n",
            "                           440,\n",
            "                           847,\n",
            "                           586,\n",
            "                           1271,\n",
            "                           1029,\n",
            "                           591,\n",
            "                           1418,\n",
            "                           175,\n",
            "                           428,\n",
            "                           252,\n",
            "                           16,\n",
            "                           245,\n",
            "                           263,\n",
            "                           802,\n",
            "                           884,\n",
            "                           1477,\n",
            "                           1196,\n",
            "                           1428,\n",
            "                           879,\n",
            "                           734,\n",
            "                           407,\n",
            "                           354,\n",
            "                           1285,\n",
            "                           1448,\n",
            "                           5,\n",
            "                           547,\n",
            "                           228,\n",
            "                           995,\n",
            "                           751,\n",
            "                           122,\n",
            "                           170,\n",
            "                           707,\n",
            "                           978,\n",
            "                           139,\n",
            "                           822,\n",
            "                           1117,\n",
            "                           80,\n",
            "                           1335,\n",
            "                           1347,\n",
            "                           1008,\n",
            "                           570,\n",
            "                           1009,\n",
            "                           565,\n",
            "                           819,\n",
            "                           1246,\n",
            "                           1043,\n",
            "                           1291,\n",
            "                           1197,\n",
            "                           470,\n",
            "                           1071,\n",
            "                           992,\n",
            "                           671,\n",
            "                           474,\n",
            "                           555,\n",
            "                           948,\n",
            "                           1127,\n",
            "                           519,\n",
            "                           164,\n",
            "                           94,\n",
            "                           745,\n",
            "                           1203,\n",
            "                           1228,\n",
            "                           25,\n",
            "                           1144,\n",
            "                           1354,\n",
            "                           145,\n",
            "                           1234,\n",
            "                           1371,\n",
            "                           906,\n",
            "                           1170,\n",
            "                           914,\n",
            "                           1214,\n",
            "                           585,\n",
            "                           915,\n",
            "                           806,\n",
            "                           998,\n",
            "                           990,\n",
            "                           253,\n",
            "                           1056,\n",
            "                           493,\n",
            "                           629,\n",
            "                           1092,\n",
            "                           343,\n",
            "                           1183,\n",
            "                           827,\n",
            "                           129,\n",
            "                           1181,\n",
            "                           829,\n",
            "                           849,\n",
            "                           868,\n",
            "                           267,\n",
            "                           479,\n",
            "                           589,\n",
            "                           528,\n",
            "                           1226,\n",
            "                           716,\n",
            "                           397,\n",
            "                           60,\n",
            "                           832,\n",
            "                           878,\n",
            "                           181,\n",
            "                           359,\n",
            "                           698,\n",
            "                           166,\n",
            "                           104,\n",
            "                           314,\n",
            "                           559,\n",
            "                           1313,\n",
            "                           334,\n",
            "                           163,\n",
            "                           631,\n",
            "                           774,\n",
            "                           1012,\n",
            "                           124,\n",
            "                           673,\n",
            "                           1235,\n",
            "                           959,\n",
            "                           780,\n",
            "                           147,\n",
            "                           93,\n",
            "                           842,\n",
            "                           492,\n",
            "                           654,\n",
            "                           260,\n",
            "                           372,\n",
            "                           135,\n",
            "                           538,\n",
            "                           1468,\n",
            "                           251,\n",
            "                           308,\n",
            "                           680,\n",
            "                           404,\n",
            "                           696,\n",
            "                           432,\n",
            "                           294,\n",
            "                           216,\n",
            "                           728,\n",
            "                           1025]},\n",
            " 'valid_set': {'class': 'dataset.Subset',\n",
            "               'dataset': {'class': 'datasets.ClinTox',\n",
            "                           'path': '~/molecule-datasets/',\n",
            "                           'verbose': 1},\n",
            "               'indices': [1387,\n",
            "                           859,\n",
            "                           1157,\n",
            "                           1443,\n",
            "                           1120,\n",
            "                           789,\n",
            "                           1156,\n",
            "                           1220,\n",
            "                           1095,\n",
            "                           1251,\n",
            "                           1384,\n",
            "                           1258,\n",
            "                           746,\n",
            "                           1031,\n",
            "                           573,\n",
            "                           14,\n",
            "                           31,\n",
            "                           521,\n",
            "                           922,\n",
            "                           1377,\n",
            "                           180,\n",
            "                           885,\n",
            "                           388,\n",
            "                           1290,\n",
            "                           333,\n",
            "                           685,\n",
            "                           352,\n",
            "                           1177,\n",
            "                           1048,\n",
            "                           815,\n",
            "                           952,\n",
            "                           1277,\n",
            "                           1102,\n",
            "                           1010,\n",
            "                           232,\n",
            "                           109,\n",
            "                           1023,\n",
            "                           1075,\n",
            "                           445,\n",
            "                           230,\n",
            "                           157,\n",
            "                           1269,\n",
            "                           759,\n",
            "                           383,\n",
            "                           154,\n",
            "                           1138,\n",
            "                           1288,\n",
            "                           165,\n",
            "                           283,\n",
            "                           523,\n",
            "                           328,\n",
            "                           987,\n",
            "                           950,\n",
            "                           595,\n",
            "                           991,\n",
            "                           387,\n",
            "                           592,\n",
            "                           933,\n",
            "                           1137,\n",
            "                           189,\n",
            "                           293,\n",
            "                           773,\n",
            "                           156,\n",
            "                           1180,\n",
            "                           769,\n",
            "                           1342,\n",
            "                           195,\n",
            "                           1162,\n",
            "                           1061,\n",
            "                           392,\n",
            "                           1249,\n",
            "                           365,\n",
            "                           630,\n",
            "                           647,\n",
            "                           1284,\n",
            "                           890,\n",
            "                           688,\n",
            "                           1058,\n",
            "                           408,\n",
            "                           370,\n",
            "                           579,\n",
            "                           316,\n",
            "                           667,\n",
            "                           1417,\n",
            "                           306,\n",
            "                           468,\n",
            "                           1121,\n",
            "                           1437,\n",
            "                           1426,\n",
            "                           1247,\n",
            "                           1435,\n",
            "                           721,\n",
            "                           1411,\n",
            "                           371,\n",
            "                           394,\n",
            "                           366,\n",
            "                           491,\n",
            "                           550,\n",
            "                           572,\n",
            "                           1294,\n",
            "                           96,\n",
            "                           1328,\n",
            "                           792,\n",
            "                           1016,\n",
            "                           1019,\n",
            "                           1344,\n",
            "                           741,\n",
            "                           1113,\n",
            "                           342,\n",
            "                           43,\n",
            "                           752,\n",
            "                           90,\n",
            "                           877,\n",
            "                           1004,\n",
            "                           486,\n",
            "                           1400,\n",
            "                           1059,\n",
            "                           837,\n",
            "                           1110,\n",
            "                           1471,\n",
            "                           172,\n",
            "                           628,\n",
            "                           1085,\n",
            "                           453,\n",
            "                           606,\n",
            "                           353,\n",
            "                           929,\n",
            "                           880,\n",
            "                           619,\n",
            "                           939,\n",
            "                           657,\n",
            "                           945,\n",
            "                           1272,\n",
            "                           858,\n",
            "                           257,\n",
            "                           1140,\n",
            "                           807,\n",
            "                           781,\n",
            "                           335,\n",
            "                           1109,\n",
            "                           270,\n",
            "                           138,\n",
            "                           373,\n",
            "                           1361,\n",
            "                           1278,\n",
            "                           857,\n",
            "                           101]}}\n"
          ]
        },
        {
          "output_type": "stream",
          "name": "stderr",
          "text": [
            "WARNING:torchdrug.core.meter:>>>>>>>>>>>>>>>>>>>>>>>>>>>>>>\n"
          ]
        },
        {
          "output_type": "stream",
          "name": "stdout",
          "text": [
            "19:35:51   >>>>>>>>>>>>>>>>>>>>>>>>>>>>>>\n"
          ]
        },
        {
          "output_type": "stream",
          "name": "stderr",
          "text": [
            "WARNING:torchdrug.core.meter:Epoch 0 begin\n"
          ]
        },
        {
          "output_type": "stream",
          "name": "stdout",
          "text": [
            "19:35:51   Epoch 0 begin\n"
          ]
        },
        {
          "output_type": "stream",
          "name": "stderr",
          "text": [
            "WARNING:torchdrug.core.logger:>>>>>>>>>>>>>>>>>>>>>>>>>>>>>>\n"
          ]
        },
        {
          "output_type": "stream",
          "name": "stdout",
          "text": [
            "19:36:18   >>>>>>>>>>>>>>>>>>>>>>>>>>>>>>\n"
          ]
        },
        {
          "output_type": "stream",
          "name": "stderr",
          "text": [
            "WARNING:torchdrug.core.logger:binary cross entropy: 4.59379\n"
          ]
        },
        {
          "output_type": "stream",
          "name": "stdout",
          "text": [
            "19:36:18   binary cross entropy: 4.59379\n"
          ]
        },
        {
          "output_type": "stream",
          "name": "stderr",
          "text": [
            "WARNING:torchdrug.core.meter:>>>>>>>>>>>>>>>>>>>>>>>>>>>>>>\n"
          ]
        },
        {
          "output_type": "stream",
          "name": "stdout",
          "text": [
            "19:36:18   >>>>>>>>>>>>>>>>>>>>>>>>>>>>>>\n"
          ]
        },
        {
          "output_type": "stream",
          "name": "stderr",
          "text": [
            "WARNING:torchdrug.core.meter:Epoch 0 end\n"
          ]
        },
        {
          "output_type": "stream",
          "name": "stdout",
          "text": [
            "19:36:18   Epoch 0 end\n"
          ]
        },
        {
          "output_type": "stream",
          "name": "stderr",
          "text": [
            "WARNING:torchdrug.core.meter:duration: 26.64 secs\n"
          ]
        },
        {
          "output_type": "stream",
          "name": "stdout",
          "text": [
            "19:36:18   duration: 26.64 secs\n"
          ]
        },
        {
          "output_type": "stream",
          "name": "stderr",
          "text": [
            "WARNING:torchdrug.core.meter:speed: 0.08 batch / sec\n"
          ]
        },
        {
          "output_type": "stream",
          "name": "stdout",
          "text": [
            "19:36:18   speed: 0.08 batch / sec\n"
          ]
        },
        {
          "output_type": "stream",
          "name": "stderr",
          "text": [
            "WARNING:torchdrug.core.meter:ETA: 43.95 mins\n"
          ]
        },
        {
          "output_type": "stream",
          "name": "stdout",
          "text": [
            "19:36:18   ETA: 43.95 mins\n"
          ]
        },
        {
          "output_type": "stream",
          "name": "stderr",
          "text": [
            "WARNING:torchdrug.core.meter:max GPU memory: 735.6 MiB\n"
          ]
        },
        {
          "output_type": "stream",
          "name": "stdout",
          "text": [
            "19:36:18   max GPU memory: 735.6 MiB\n"
          ]
        },
        {
          "output_type": "stream",
          "name": "stderr",
          "text": [
            "WARNING:torchdrug.core.logger:------------------------------\n"
          ]
        },
        {
          "output_type": "stream",
          "name": "stdout",
          "text": [
            "19:36:18   ------------------------------\n"
          ]
        },
        {
          "output_type": "stream",
          "name": "stderr",
          "text": [
            "WARNING:torchdrug.core.logger:average binary cross entropy: 3.84129\n"
          ]
        },
        {
          "output_type": "stream",
          "name": "stdout",
          "text": [
            "19:36:18   average binary cross entropy: 3.84129\n"
          ]
        },
        {
          "output_type": "stream",
          "name": "stderr",
          "text": [
            "WARNING:torchdrug.core.meter:>>>>>>>>>>>>>>>>>>>>>>>>>>>>>>\n"
          ]
        },
        {
          "output_type": "stream",
          "name": "stdout",
          "text": [
            "19:36:18   >>>>>>>>>>>>>>>>>>>>>>>>>>>>>>\n"
          ]
        },
        {
          "output_type": "stream",
          "name": "stderr",
          "text": [
            "WARNING:torchdrug.core.meter:Epoch 1 begin\n"
          ]
        },
        {
          "output_type": "stream",
          "name": "stdout",
          "text": [
            "19:36:18   Epoch 1 begin\n"
          ]
        },
        {
          "output_type": "stream",
          "name": "stderr",
          "text": [
            "WARNING:torchdrug.core.meter:>>>>>>>>>>>>>>>>>>>>>>>>>>>>>>\n"
          ]
        },
        {
          "output_type": "stream",
          "name": "stdout",
          "text": [
            "19:36:18   >>>>>>>>>>>>>>>>>>>>>>>>>>>>>>\n"
          ]
        },
        {
          "output_type": "stream",
          "name": "stderr",
          "text": [
            "WARNING:torchdrug.core.meter:Epoch 1 end\n"
          ]
        },
        {
          "output_type": "stream",
          "name": "stdout",
          "text": [
            "19:36:18   Epoch 1 end\n"
          ]
        },
        {
          "output_type": "stream",
          "name": "stderr",
          "text": [
            "WARNING:torchdrug.core.meter:duration: 0.26 secs\n"
          ]
        },
        {
          "output_type": "stream",
          "name": "stdout",
          "text": [
            "19:36:18   duration: 0.26 secs\n"
          ]
        },
        {
          "output_type": "stream",
          "name": "stderr",
          "text": [
            "WARNING:torchdrug.core.meter:speed: 7.78 batch / sec\n"
          ]
        },
        {
          "output_type": "stream",
          "name": "stdout",
          "text": [
            "19:36:18   speed: 7.78 batch / sec\n"
          ]
        },
        {
          "output_type": "stream",
          "name": "stderr",
          "text": [
            "WARNING:torchdrug.core.meter:ETA: 21.96 mins\n"
          ]
        },
        {
          "output_type": "stream",
          "name": "stdout",
          "text": [
            "19:36:18   ETA: 21.96 mins\n"
          ]
        },
        {
          "output_type": "stream",
          "name": "stderr",
          "text": [
            "WARNING:torchdrug.core.meter:max GPU memory: 753.4 MiB\n"
          ]
        },
        {
          "output_type": "stream",
          "name": "stdout",
          "text": [
            "19:36:18   max GPU memory: 753.4 MiB\n"
          ]
        },
        {
          "output_type": "stream",
          "name": "stderr",
          "text": [
            "WARNING:torchdrug.core.logger:------------------------------\n"
          ]
        },
        {
          "output_type": "stream",
          "name": "stdout",
          "text": [
            "19:36:18   ------------------------------\n"
          ]
        },
        {
          "output_type": "stream",
          "name": "stderr",
          "text": [
            "WARNING:torchdrug.core.logger:average binary cross entropy: 2.65198\n"
          ]
        },
        {
          "output_type": "stream",
          "name": "stdout",
          "text": [
            "19:36:18   average binary cross entropy: 2.65198\n"
          ]
        },
        {
          "output_type": "stream",
          "name": "stderr",
          "text": [
            "WARNING:torchdrug.core.meter:>>>>>>>>>>>>>>>>>>>>>>>>>>>>>>\n"
          ]
        },
        {
          "output_type": "stream",
          "name": "stdout",
          "text": [
            "19:36:18   >>>>>>>>>>>>>>>>>>>>>>>>>>>>>>\n"
          ]
        },
        {
          "output_type": "stream",
          "name": "stderr",
          "text": [
            "WARNING:torchdrug.core.meter:Epoch 2 begin\n"
          ]
        },
        {
          "output_type": "stream",
          "name": "stdout",
          "text": [
            "19:36:18   Epoch 2 begin\n"
          ]
        },
        {
          "output_type": "stream",
          "name": "stderr",
          "text": [
            "WARNING:torchdrug.core.meter:>>>>>>>>>>>>>>>>>>>>>>>>>>>>>>\n"
          ]
        },
        {
          "output_type": "stream",
          "name": "stdout",
          "text": [
            "19:36:18   >>>>>>>>>>>>>>>>>>>>>>>>>>>>>>\n"
          ]
        },
        {
          "output_type": "stream",
          "name": "stderr",
          "text": [
            "WARNING:torchdrug.core.meter:Epoch 2 end\n"
          ]
        },
        {
          "output_type": "stream",
          "name": "stdout",
          "text": [
            "19:36:18   Epoch 2 end\n"
          ]
        },
        {
          "output_type": "stream",
          "name": "stderr",
          "text": [
            "WARNING:torchdrug.core.meter:duration: 0.25 secs\n"
          ]
        },
        {
          "output_type": "stream",
          "name": "stdout",
          "text": [
            "19:36:18   duration: 0.25 secs\n"
          ]
        },
        {
          "output_type": "stream",
          "name": "stderr",
          "text": [
            "WARNING:torchdrug.core.meter:speed: 8.07 batch / sec\n"
          ]
        },
        {
          "output_type": "stream",
          "name": "stdout",
          "text": [
            "19:36:18   speed: 8.07 batch / sec\n"
          ]
        },
        {
          "output_type": "stream",
          "name": "stderr",
          "text": [
            "WARNING:torchdrug.core.meter:ETA: 14.63 mins\n"
          ]
        },
        {
          "output_type": "stream",
          "name": "stdout",
          "text": [
            "19:36:18   ETA: 14.63 mins\n"
          ]
        },
        {
          "output_type": "stream",
          "name": "stderr",
          "text": [
            "WARNING:torchdrug.core.meter:max GPU memory: 744.7 MiB\n"
          ]
        },
        {
          "output_type": "stream",
          "name": "stdout",
          "text": [
            "19:36:18   max GPU memory: 744.7 MiB\n"
          ]
        },
        {
          "output_type": "stream",
          "name": "stderr",
          "text": [
            "WARNING:torchdrug.core.logger:------------------------------\n"
          ]
        },
        {
          "output_type": "stream",
          "name": "stdout",
          "text": [
            "19:36:18   ------------------------------\n"
          ]
        },
        {
          "output_type": "stream",
          "name": "stderr",
          "text": [
            "WARNING:torchdrug.core.logger:average binary cross entropy: 2.95919\n"
          ]
        },
        {
          "output_type": "stream",
          "name": "stdout",
          "text": [
            "19:36:18   average binary cross entropy: 2.95919\n"
          ]
        },
        {
          "output_type": "stream",
          "name": "stderr",
          "text": [
            "WARNING:torchdrug.core.meter:>>>>>>>>>>>>>>>>>>>>>>>>>>>>>>\n"
          ]
        },
        {
          "output_type": "stream",
          "name": "stdout",
          "text": [
            "19:36:18   >>>>>>>>>>>>>>>>>>>>>>>>>>>>>>\n"
          ]
        },
        {
          "output_type": "stream",
          "name": "stderr",
          "text": [
            "WARNING:torchdrug.core.meter:Epoch 3 begin\n"
          ]
        },
        {
          "output_type": "stream",
          "name": "stdout",
          "text": [
            "19:36:18   Epoch 3 begin\n"
          ]
        },
        {
          "output_type": "stream",
          "name": "stderr",
          "text": [
            "WARNING:torchdrug.core.meter:>>>>>>>>>>>>>>>>>>>>>>>>>>>>>>\n"
          ]
        },
        {
          "output_type": "stream",
          "name": "stdout",
          "text": [
            "19:36:18   >>>>>>>>>>>>>>>>>>>>>>>>>>>>>>\n"
          ]
        },
        {
          "output_type": "stream",
          "name": "stderr",
          "text": [
            "WARNING:torchdrug.core.meter:Epoch 3 end\n"
          ]
        },
        {
          "output_type": "stream",
          "name": "stdout",
          "text": [
            "19:36:18   Epoch 3 end\n"
          ]
        },
        {
          "output_type": "stream",
          "name": "stderr",
          "text": [
            "WARNING:torchdrug.core.meter:duration: 0.25 secs\n"
          ]
        },
        {
          "output_type": "stream",
          "name": "stdout",
          "text": [
            "19:36:18   duration: 0.25 secs\n"
          ]
        },
        {
          "output_type": "stream",
          "name": "stderr",
          "text": [
            "WARNING:torchdrug.core.meter:speed: 8.07 batch / sec\n"
          ]
        },
        {
          "output_type": "stream",
          "name": "stdout",
          "text": [
            "19:36:18   speed: 8.07 batch / sec\n"
          ]
        },
        {
          "output_type": "stream",
          "name": "stderr",
          "text": [
            "WARNING:torchdrug.core.meter:ETA: 10.96 mins\n"
          ]
        },
        {
          "output_type": "stream",
          "name": "stdout",
          "text": [
            "19:36:18   ETA: 10.96 mins\n"
          ]
        },
        {
          "output_type": "stream",
          "name": "stderr",
          "text": [
            "WARNING:torchdrug.core.meter:max GPU memory: 748.5 MiB\n"
          ]
        },
        {
          "output_type": "stream",
          "name": "stdout",
          "text": [
            "19:36:18   max GPU memory: 748.5 MiB\n"
          ]
        },
        {
          "output_type": "stream",
          "name": "stderr",
          "text": [
            "WARNING:torchdrug.core.logger:------------------------------\n"
          ]
        },
        {
          "output_type": "stream",
          "name": "stdout",
          "text": [
            "19:36:18   ------------------------------\n"
          ]
        },
        {
          "output_type": "stream",
          "name": "stderr",
          "text": [
            "WARNING:torchdrug.core.logger:average binary cross entropy: 3.62793\n"
          ]
        },
        {
          "output_type": "stream",
          "name": "stdout",
          "text": [
            "19:36:18   average binary cross entropy: 3.62793\n"
          ]
        },
        {
          "output_type": "stream",
          "name": "stderr",
          "text": [
            "WARNING:torchdrug.core.meter:>>>>>>>>>>>>>>>>>>>>>>>>>>>>>>\n"
          ]
        },
        {
          "output_type": "stream",
          "name": "stdout",
          "text": [
            "19:36:18   >>>>>>>>>>>>>>>>>>>>>>>>>>>>>>\n"
          ]
        },
        {
          "output_type": "stream",
          "name": "stderr",
          "text": [
            "WARNING:torchdrug.core.meter:Epoch 4 begin\n"
          ]
        },
        {
          "output_type": "stream",
          "name": "stdout",
          "text": [
            "19:36:18   Epoch 4 begin\n"
          ]
        },
        {
          "output_type": "stream",
          "name": "stderr",
          "text": [
            "WARNING:torchdrug.core.meter:>>>>>>>>>>>>>>>>>>>>>>>>>>>>>>\n"
          ]
        },
        {
          "output_type": "stream",
          "name": "stdout",
          "text": [
            "19:36:19   >>>>>>>>>>>>>>>>>>>>>>>>>>>>>>\n"
          ]
        },
        {
          "output_type": "stream",
          "name": "stderr",
          "text": [
            "WARNING:torchdrug.core.meter:Epoch 4 end\n"
          ]
        },
        {
          "output_type": "stream",
          "name": "stdout",
          "text": [
            "19:36:19   Epoch 4 end\n"
          ]
        },
        {
          "output_type": "stream",
          "name": "stderr",
          "text": [
            "WARNING:torchdrug.core.meter:duration: 0.23 secs\n"
          ]
        },
        {
          "output_type": "stream",
          "name": "stdout",
          "text": [
            "19:36:19   duration: 0.23 secs\n"
          ]
        },
        {
          "output_type": "stream",
          "name": "stderr",
          "text": [
            "WARNING:torchdrug.core.meter:speed: 8.81 batch / sec\n"
          ]
        },
        {
          "output_type": "stream",
          "name": "stdout",
          "text": [
            "19:36:19   speed: 8.81 batch / sec\n"
          ]
        },
        {
          "output_type": "stream",
          "name": "stderr",
          "text": [
            "WARNING:torchdrug.core.meter:ETA: 8.74 mins\n"
          ]
        },
        {
          "output_type": "stream",
          "name": "stdout",
          "text": [
            "19:36:19   ETA: 8.74 mins\n"
          ]
        },
        {
          "output_type": "stream",
          "name": "stderr",
          "text": [
            "WARNING:torchdrug.core.meter:max GPU memory: 740.3 MiB\n"
          ]
        },
        {
          "output_type": "stream",
          "name": "stdout",
          "text": [
            "19:36:19   max GPU memory: 740.3 MiB\n"
          ]
        },
        {
          "output_type": "stream",
          "name": "stderr",
          "text": [
            "WARNING:torchdrug.core.logger:------------------------------\n"
          ]
        },
        {
          "output_type": "stream",
          "name": "stdout",
          "text": [
            "19:36:19   ------------------------------\n"
          ]
        },
        {
          "output_type": "stream",
          "name": "stderr",
          "text": [
            "WARNING:torchdrug.core.logger:average binary cross entropy: 3.06106\n"
          ]
        },
        {
          "output_type": "stream",
          "name": "stdout",
          "text": [
            "19:36:19   average binary cross entropy: 3.06106\n"
          ]
        },
        {
          "output_type": "stream",
          "name": "stderr",
          "text": [
            "WARNING:torchdrug.core.meter:>>>>>>>>>>>>>>>>>>>>>>>>>>>>>>\n"
          ]
        },
        {
          "output_type": "stream",
          "name": "stdout",
          "text": [
            "19:36:19   >>>>>>>>>>>>>>>>>>>>>>>>>>>>>>\n"
          ]
        },
        {
          "output_type": "stream",
          "name": "stderr",
          "text": [
            "WARNING:torchdrug.core.meter:Epoch 5 begin\n"
          ]
        },
        {
          "output_type": "stream",
          "name": "stdout",
          "text": [
            "19:36:19   Epoch 5 begin\n"
          ]
        },
        {
          "output_type": "stream",
          "name": "stderr",
          "text": [
            "WARNING:torchdrug.core.meter:>>>>>>>>>>>>>>>>>>>>>>>>>>>>>>\n"
          ]
        },
        {
          "output_type": "stream",
          "name": "stdout",
          "text": [
            "19:36:19   >>>>>>>>>>>>>>>>>>>>>>>>>>>>>>\n"
          ]
        },
        {
          "output_type": "stream",
          "name": "stderr",
          "text": [
            "WARNING:torchdrug.core.meter:Epoch 5 end\n"
          ]
        },
        {
          "output_type": "stream",
          "name": "stdout",
          "text": [
            "19:36:19   Epoch 5 end\n"
          ]
        },
        {
          "output_type": "stream",
          "name": "stderr",
          "text": [
            "WARNING:torchdrug.core.meter:duration: 0.25 secs\n"
          ]
        },
        {
          "output_type": "stream",
          "name": "stdout",
          "text": [
            "19:36:19   duration: 0.25 secs\n"
          ]
        },
        {
          "output_type": "stream",
          "name": "stderr",
          "text": [
            "WARNING:torchdrug.core.meter:speed: 7.89 batch / sec\n"
          ]
        },
        {
          "output_type": "stream",
          "name": "stdout",
          "text": [
            "19:36:19   speed: 7.89 batch / sec\n"
          ]
        },
        {
          "output_type": "stream",
          "name": "stderr",
          "text": [
            "WARNING:torchdrug.core.meter:ETA: 7.28 mins\n"
          ]
        },
        {
          "output_type": "stream",
          "name": "stdout",
          "text": [
            "19:36:19   ETA: 7.28 mins\n"
          ]
        },
        {
          "output_type": "stream",
          "name": "stderr",
          "text": [
            "WARNING:torchdrug.core.meter:max GPU memory: 750.2 MiB\n"
          ]
        },
        {
          "output_type": "stream",
          "name": "stdout",
          "text": [
            "19:36:19   max GPU memory: 750.2 MiB\n"
          ]
        },
        {
          "output_type": "stream",
          "name": "stderr",
          "text": [
            "WARNING:torchdrug.core.logger:------------------------------\n"
          ]
        },
        {
          "output_type": "stream",
          "name": "stdout",
          "text": [
            "19:36:19   ------------------------------\n"
          ]
        },
        {
          "output_type": "stream",
          "name": "stderr",
          "text": [
            "WARNING:torchdrug.core.logger:average binary cross entropy: 2.09135\n"
          ]
        },
        {
          "output_type": "stream",
          "name": "stdout",
          "text": [
            "19:36:19   average binary cross entropy: 2.09135\n"
          ]
        },
        {
          "output_type": "stream",
          "name": "stderr",
          "text": [
            "WARNING:torchdrug.core.meter:>>>>>>>>>>>>>>>>>>>>>>>>>>>>>>\n"
          ]
        },
        {
          "output_type": "stream",
          "name": "stdout",
          "text": [
            "19:36:19   >>>>>>>>>>>>>>>>>>>>>>>>>>>>>>\n"
          ]
        },
        {
          "output_type": "stream",
          "name": "stderr",
          "text": [
            "WARNING:torchdrug.core.meter:Epoch 6 begin\n"
          ]
        },
        {
          "output_type": "stream",
          "name": "stdout",
          "text": [
            "19:36:19   Epoch 6 begin\n"
          ]
        },
        {
          "output_type": "stream",
          "name": "stderr",
          "text": [
            "WARNING:torchdrug.core.meter:>>>>>>>>>>>>>>>>>>>>>>>>>>>>>>\n"
          ]
        },
        {
          "output_type": "stream",
          "name": "stdout",
          "text": [
            "19:36:19   >>>>>>>>>>>>>>>>>>>>>>>>>>>>>>\n"
          ]
        },
        {
          "output_type": "stream",
          "name": "stderr",
          "text": [
            "WARNING:torchdrug.core.meter:Epoch 6 end\n"
          ]
        },
        {
          "output_type": "stream",
          "name": "stdout",
          "text": [
            "19:36:19   Epoch 6 end\n"
          ]
        },
        {
          "output_type": "stream",
          "name": "stderr",
          "text": [
            "WARNING:torchdrug.core.meter:duration: 0.23 secs\n"
          ]
        },
        {
          "output_type": "stream",
          "name": "stdout",
          "text": [
            "19:36:19   duration: 0.23 secs\n"
          ]
        },
        {
          "output_type": "stream",
          "name": "stderr",
          "text": [
            "WARNING:torchdrug.core.meter:speed: 8.54 batch / sec\n"
          ]
        },
        {
          "output_type": "stream",
          "name": "stdout",
          "text": [
            "19:36:19   speed: 8.54 batch / sec\n"
          ]
        },
        {
          "output_type": "stream",
          "name": "stderr",
          "text": [
            "WARNING:torchdrug.core.meter:ETA: 6.22 mins\n"
          ]
        },
        {
          "output_type": "stream",
          "name": "stdout",
          "text": [
            "19:36:19   ETA: 6.22 mins\n"
          ]
        },
        {
          "output_type": "stream",
          "name": "stderr",
          "text": [
            "WARNING:torchdrug.core.meter:max GPU memory: 742.3 MiB\n"
          ]
        },
        {
          "output_type": "stream",
          "name": "stdout",
          "text": [
            "19:36:19   max GPU memory: 742.3 MiB\n"
          ]
        },
        {
          "output_type": "stream",
          "name": "stderr",
          "text": [
            "WARNING:torchdrug.core.logger:------------------------------\n"
          ]
        },
        {
          "output_type": "stream",
          "name": "stdout",
          "text": [
            "19:36:19   ------------------------------\n"
          ]
        },
        {
          "output_type": "stream",
          "name": "stderr",
          "text": [
            "WARNING:torchdrug.core.logger:average binary cross entropy: 2.4848\n"
          ]
        },
        {
          "output_type": "stream",
          "name": "stdout",
          "text": [
            "19:36:19   average binary cross entropy: 2.4848\n"
          ]
        },
        {
          "output_type": "stream",
          "name": "stderr",
          "text": [
            "WARNING:torchdrug.core.meter:>>>>>>>>>>>>>>>>>>>>>>>>>>>>>>\n"
          ]
        },
        {
          "output_type": "stream",
          "name": "stdout",
          "text": [
            "19:36:19   >>>>>>>>>>>>>>>>>>>>>>>>>>>>>>\n"
          ]
        },
        {
          "output_type": "stream",
          "name": "stderr",
          "text": [
            "WARNING:torchdrug.core.meter:Epoch 7 begin\n"
          ]
        },
        {
          "output_type": "stream",
          "name": "stdout",
          "text": [
            "19:36:19   Epoch 7 begin\n"
          ]
        },
        {
          "output_type": "stream",
          "name": "stderr",
          "text": [
            "WARNING:torchdrug.core.meter:>>>>>>>>>>>>>>>>>>>>>>>>>>>>>>\n"
          ]
        },
        {
          "output_type": "stream",
          "name": "stdout",
          "text": [
            "19:36:19   >>>>>>>>>>>>>>>>>>>>>>>>>>>>>>\n"
          ]
        },
        {
          "output_type": "stream",
          "name": "stderr",
          "text": [
            "WARNING:torchdrug.core.meter:Epoch 7 end\n"
          ]
        },
        {
          "output_type": "stream",
          "name": "stdout",
          "text": [
            "19:36:19   Epoch 7 end\n"
          ]
        },
        {
          "output_type": "stream",
          "name": "stderr",
          "text": [
            "WARNING:torchdrug.core.meter:duration: 0.23 secs\n"
          ]
        },
        {
          "output_type": "stream",
          "name": "stdout",
          "text": [
            "19:36:19   duration: 0.23 secs\n"
          ]
        },
        {
          "output_type": "stream",
          "name": "stderr",
          "text": [
            "WARNING:torchdrug.core.meter:speed: 8.66 batch / sec\n"
          ]
        },
        {
          "output_type": "stream",
          "name": "stdout",
          "text": [
            "19:36:19   speed: 8.66 batch / sec\n"
          ]
        },
        {
          "output_type": "stream",
          "name": "stderr",
          "text": [
            "WARNING:torchdrug.core.meter:ETA: 5.43 mins\n"
          ]
        },
        {
          "output_type": "stream",
          "name": "stdout",
          "text": [
            "19:36:19   ETA: 5.43 mins\n"
          ]
        },
        {
          "output_type": "stream",
          "name": "stderr",
          "text": [
            "WARNING:torchdrug.core.meter:max GPU memory: 753.6 MiB\n"
          ]
        },
        {
          "output_type": "stream",
          "name": "stdout",
          "text": [
            "19:36:19   max GPU memory: 753.6 MiB\n"
          ]
        },
        {
          "output_type": "stream",
          "name": "stderr",
          "text": [
            "WARNING:torchdrug.core.logger:------------------------------\n"
          ]
        },
        {
          "output_type": "stream",
          "name": "stdout",
          "text": [
            "19:36:19   ------------------------------\n"
          ]
        },
        {
          "output_type": "stream",
          "name": "stderr",
          "text": [
            "WARNING:torchdrug.core.logger:average binary cross entropy: 1.78399\n"
          ]
        },
        {
          "output_type": "stream",
          "name": "stdout",
          "text": [
            "19:36:19   average binary cross entropy: 1.78399\n"
          ]
        },
        {
          "output_type": "stream",
          "name": "stderr",
          "text": [
            "WARNING:torchdrug.core.meter:>>>>>>>>>>>>>>>>>>>>>>>>>>>>>>\n"
          ]
        },
        {
          "output_type": "stream",
          "name": "stdout",
          "text": [
            "19:36:19   >>>>>>>>>>>>>>>>>>>>>>>>>>>>>>\n"
          ]
        },
        {
          "output_type": "stream",
          "name": "stderr",
          "text": [
            "WARNING:torchdrug.core.meter:Epoch 8 begin\n"
          ]
        },
        {
          "output_type": "stream",
          "name": "stdout",
          "text": [
            "19:36:19   Epoch 8 begin\n"
          ]
        },
        {
          "output_type": "stream",
          "name": "stderr",
          "text": [
            "WARNING:torchdrug.core.meter:>>>>>>>>>>>>>>>>>>>>>>>>>>>>>>\n"
          ]
        },
        {
          "output_type": "stream",
          "name": "stdout",
          "text": [
            "19:36:20   >>>>>>>>>>>>>>>>>>>>>>>>>>>>>>\n"
          ]
        },
        {
          "output_type": "stream",
          "name": "stderr",
          "text": [
            "WARNING:torchdrug.core.meter:Epoch 8 end\n"
          ]
        },
        {
          "output_type": "stream",
          "name": "stdout",
          "text": [
            "19:36:20   Epoch 8 end\n"
          ]
        },
        {
          "output_type": "stream",
          "name": "stderr",
          "text": [
            "WARNING:torchdrug.core.meter:duration: 0.25 secs\n"
          ]
        },
        {
          "output_type": "stream",
          "name": "stdout",
          "text": [
            "19:36:20   duration: 0.25 secs\n"
          ]
        },
        {
          "output_type": "stream",
          "name": "stderr",
          "text": [
            "WARNING:torchdrug.core.meter:speed: 8.12 batch / sec\n"
          ]
        },
        {
          "output_type": "stream",
          "name": "stdout",
          "text": [
            "19:36:20   speed: 8.12 batch / sec\n"
          ]
        },
        {
          "output_type": "stream",
          "name": "stderr",
          "text": [
            "WARNING:torchdrug.core.meter:ETA: 4.82 mins\n"
          ]
        },
        {
          "output_type": "stream",
          "name": "stdout",
          "text": [
            "19:36:20   ETA: 4.82 mins\n"
          ]
        },
        {
          "output_type": "stream",
          "name": "stderr",
          "text": [
            "WARNING:torchdrug.core.meter:max GPU memory: 742.5 MiB\n"
          ]
        },
        {
          "output_type": "stream",
          "name": "stdout",
          "text": [
            "19:36:20   max GPU memory: 742.5 MiB\n"
          ]
        },
        {
          "output_type": "stream",
          "name": "stderr",
          "text": [
            "WARNING:torchdrug.core.logger:------------------------------\n"
          ]
        },
        {
          "output_type": "stream",
          "name": "stdout",
          "text": [
            "19:36:20   ------------------------------\n"
          ]
        },
        {
          "output_type": "stream",
          "name": "stderr",
          "text": [
            "WARNING:torchdrug.core.logger:average binary cross entropy: 1.6171\n"
          ]
        },
        {
          "output_type": "stream",
          "name": "stdout",
          "text": [
            "19:36:20   average binary cross entropy: 1.6171\n"
          ]
        },
        {
          "output_type": "stream",
          "name": "stderr",
          "text": [
            "WARNING:torchdrug.core.meter:>>>>>>>>>>>>>>>>>>>>>>>>>>>>>>\n"
          ]
        },
        {
          "output_type": "stream",
          "name": "stdout",
          "text": [
            "19:36:20   >>>>>>>>>>>>>>>>>>>>>>>>>>>>>>\n"
          ]
        },
        {
          "output_type": "stream",
          "name": "stderr",
          "text": [
            "WARNING:torchdrug.core.meter:Epoch 9 begin\n"
          ]
        },
        {
          "output_type": "stream",
          "name": "stdout",
          "text": [
            "19:36:20   Epoch 9 begin\n"
          ]
        },
        {
          "output_type": "stream",
          "name": "stderr",
          "text": [
            "WARNING:torchdrug.core.meter:>>>>>>>>>>>>>>>>>>>>>>>>>>>>>>\n"
          ]
        },
        {
          "output_type": "stream",
          "name": "stdout",
          "text": [
            "19:36:20   >>>>>>>>>>>>>>>>>>>>>>>>>>>>>>\n"
          ]
        },
        {
          "output_type": "stream",
          "name": "stderr",
          "text": [
            "WARNING:torchdrug.core.meter:Epoch 9 end\n"
          ]
        },
        {
          "output_type": "stream",
          "name": "stdout",
          "text": [
            "19:36:20   Epoch 9 end\n"
          ]
        },
        {
          "output_type": "stream",
          "name": "stderr",
          "text": [
            "WARNING:torchdrug.core.meter:duration: 0.24 secs\n"
          ]
        },
        {
          "output_type": "stream",
          "name": "stdout",
          "text": [
            "19:36:20   duration: 0.24 secs\n"
          ]
        },
        {
          "output_type": "stream",
          "name": "stderr",
          "text": [
            "WARNING:torchdrug.core.meter:speed: 8.28 batch / sec\n"
          ]
        },
        {
          "output_type": "stream",
          "name": "stdout",
          "text": [
            "19:36:20   speed: 8.28 batch / sec\n"
          ]
        },
        {
          "output_type": "stream",
          "name": "stderr",
          "text": [
            "WARNING:torchdrug.core.meter:ETA: 4.32 mins\n"
          ]
        },
        {
          "output_type": "stream",
          "name": "stdout",
          "text": [
            "19:36:20   ETA: 4.32 mins\n"
          ]
        },
        {
          "output_type": "stream",
          "name": "stderr",
          "text": [
            "WARNING:torchdrug.core.meter:max GPU memory: 746.0 MiB\n"
          ]
        },
        {
          "output_type": "stream",
          "name": "stdout",
          "text": [
            "19:36:20   max GPU memory: 746.0 MiB\n"
          ]
        },
        {
          "output_type": "stream",
          "name": "stderr",
          "text": [
            "WARNING:torchdrug.core.logger:------------------------------\n"
          ]
        },
        {
          "output_type": "stream",
          "name": "stdout",
          "text": [
            "19:36:20   ------------------------------\n"
          ]
        },
        {
          "output_type": "stream",
          "name": "stderr",
          "text": [
            "WARNING:torchdrug.core.logger:average binary cross entropy: 1.05473\n"
          ]
        },
        {
          "output_type": "stream",
          "name": "stdout",
          "text": [
            "19:36:20   average binary cross entropy: 1.05473\n"
          ]
        },
        {
          "output_type": "stream",
          "name": "stderr",
          "text": [
            "WARNING:torchdrug.core.meter:>>>>>>>>>>>>>>>>>>>>>>>>>>>>>>\n"
          ]
        },
        {
          "output_type": "stream",
          "name": "stdout",
          "text": [
            "19:36:20   >>>>>>>>>>>>>>>>>>>>>>>>>>>>>>\n"
          ]
        },
        {
          "output_type": "stream",
          "name": "stderr",
          "text": [
            "WARNING:torchdrug.core.meter:Epoch 10 begin\n"
          ]
        },
        {
          "output_type": "stream",
          "name": "stdout",
          "text": [
            "19:36:20   Epoch 10 begin\n"
          ]
        },
        {
          "output_type": "stream",
          "name": "stderr",
          "text": [
            "WARNING:torchdrug.core.meter:>>>>>>>>>>>>>>>>>>>>>>>>>>>>>>\n"
          ]
        },
        {
          "output_type": "stream",
          "name": "stdout",
          "text": [
            "19:36:20   >>>>>>>>>>>>>>>>>>>>>>>>>>>>>>\n"
          ]
        },
        {
          "output_type": "stream",
          "name": "stderr",
          "text": [
            "WARNING:torchdrug.core.meter:Epoch 10 end\n"
          ]
        },
        {
          "output_type": "stream",
          "name": "stdout",
          "text": [
            "19:36:20   Epoch 10 end\n"
          ]
        },
        {
          "output_type": "stream",
          "name": "stderr",
          "text": [
            "WARNING:torchdrug.core.meter:duration: 0.24 secs\n"
          ]
        },
        {
          "output_type": "stream",
          "name": "stdout",
          "text": [
            "19:36:20   duration: 0.24 secs\n"
          ]
        },
        {
          "output_type": "stream",
          "name": "stderr",
          "text": [
            "WARNING:torchdrug.core.meter:speed: 8.32 batch / sec\n"
          ]
        },
        {
          "output_type": "stream",
          "name": "stdout",
          "text": [
            "19:36:20   speed: 8.32 batch / sec\n"
          ]
        },
        {
          "output_type": "stream",
          "name": "stderr",
          "text": [
            "WARNING:torchdrug.core.meter:ETA: 3.92 mins\n"
          ]
        },
        {
          "output_type": "stream",
          "name": "stdout",
          "text": [
            "19:36:20   ETA: 3.92 mins\n"
          ]
        },
        {
          "output_type": "stream",
          "name": "stderr",
          "text": [
            "WARNING:torchdrug.core.meter:max GPU memory: 751.5 MiB\n"
          ]
        },
        {
          "output_type": "stream",
          "name": "stdout",
          "text": [
            "19:36:20   max GPU memory: 751.5 MiB\n"
          ]
        },
        {
          "output_type": "stream",
          "name": "stderr",
          "text": [
            "WARNING:torchdrug.core.logger:------------------------------\n"
          ]
        },
        {
          "output_type": "stream",
          "name": "stdout",
          "text": [
            "19:36:20   ------------------------------\n"
          ]
        },
        {
          "output_type": "stream",
          "name": "stderr",
          "text": [
            "WARNING:torchdrug.core.logger:average binary cross entropy: 0.949159\n"
          ]
        },
        {
          "output_type": "stream",
          "name": "stdout",
          "text": [
            "19:36:20   average binary cross entropy: 0.949159\n"
          ]
        },
        {
          "output_type": "stream",
          "name": "stderr",
          "text": [
            "WARNING:torchdrug.core.meter:>>>>>>>>>>>>>>>>>>>>>>>>>>>>>>\n"
          ]
        },
        {
          "output_type": "stream",
          "name": "stdout",
          "text": [
            "19:36:20   >>>>>>>>>>>>>>>>>>>>>>>>>>>>>>\n"
          ]
        },
        {
          "output_type": "stream",
          "name": "stderr",
          "text": [
            "WARNING:torchdrug.core.meter:Epoch 11 begin\n"
          ]
        },
        {
          "output_type": "stream",
          "name": "stdout",
          "text": [
            "19:36:20   Epoch 11 begin\n"
          ]
        },
        {
          "output_type": "stream",
          "name": "stderr",
          "text": [
            "WARNING:torchdrug.core.meter:>>>>>>>>>>>>>>>>>>>>>>>>>>>>>>\n"
          ]
        },
        {
          "output_type": "stream",
          "name": "stdout",
          "text": [
            "19:36:20   >>>>>>>>>>>>>>>>>>>>>>>>>>>>>>\n"
          ]
        },
        {
          "output_type": "stream",
          "name": "stderr",
          "text": [
            "WARNING:torchdrug.core.meter:Epoch 11 end\n"
          ]
        },
        {
          "output_type": "stream",
          "name": "stdout",
          "text": [
            "19:36:20   Epoch 11 end\n"
          ]
        },
        {
          "output_type": "stream",
          "name": "stderr",
          "text": [
            "WARNING:torchdrug.core.meter:duration: 0.23 secs\n"
          ]
        },
        {
          "output_type": "stream",
          "name": "stdout",
          "text": [
            "19:36:20   duration: 0.23 secs\n"
          ]
        },
        {
          "output_type": "stream",
          "name": "stderr",
          "text": [
            "WARNING:torchdrug.core.meter:speed: 8.78 batch / sec\n"
          ]
        },
        {
          "output_type": "stream",
          "name": "stdout",
          "text": [
            "19:36:20   speed: 8.78 batch / sec\n"
          ]
        },
        {
          "output_type": "stream",
          "name": "stderr",
          "text": [
            "WARNING:torchdrug.core.meter:ETA: 3.58 mins\n"
          ]
        },
        {
          "output_type": "stream",
          "name": "stdout",
          "text": [
            "19:36:20   ETA: 3.58 mins\n"
          ]
        },
        {
          "output_type": "stream",
          "name": "stderr",
          "text": [
            "WARNING:torchdrug.core.meter:max GPU memory: 750.1 MiB\n"
          ]
        },
        {
          "output_type": "stream",
          "name": "stdout",
          "text": [
            "19:36:20   max GPU memory: 750.1 MiB\n"
          ]
        },
        {
          "output_type": "stream",
          "name": "stderr",
          "text": [
            "WARNING:torchdrug.core.logger:------------------------------\n"
          ]
        },
        {
          "output_type": "stream",
          "name": "stdout",
          "text": [
            "19:36:20   ------------------------------\n"
          ]
        },
        {
          "output_type": "stream",
          "name": "stderr",
          "text": [
            "WARNING:torchdrug.core.logger:average binary cross entropy: 0.890923\n"
          ]
        },
        {
          "output_type": "stream",
          "name": "stdout",
          "text": [
            "19:36:20   average binary cross entropy: 0.890923\n"
          ]
        },
        {
          "output_type": "stream",
          "name": "stderr",
          "text": [
            "WARNING:torchdrug.core.meter:>>>>>>>>>>>>>>>>>>>>>>>>>>>>>>\n"
          ]
        },
        {
          "output_type": "stream",
          "name": "stdout",
          "text": [
            "19:36:20   >>>>>>>>>>>>>>>>>>>>>>>>>>>>>>\n"
          ]
        },
        {
          "output_type": "stream",
          "name": "stderr",
          "text": [
            "WARNING:torchdrug.core.meter:Epoch 12 begin\n"
          ]
        },
        {
          "output_type": "stream",
          "name": "stdout",
          "text": [
            "19:36:20   Epoch 12 begin\n"
          ]
        },
        {
          "output_type": "stream",
          "name": "stderr",
          "text": [
            "WARNING:torchdrug.core.meter:>>>>>>>>>>>>>>>>>>>>>>>>>>>>>>\n"
          ]
        },
        {
          "output_type": "stream",
          "name": "stdout",
          "text": [
            "19:36:21   >>>>>>>>>>>>>>>>>>>>>>>>>>>>>>\n"
          ]
        },
        {
          "output_type": "stream",
          "name": "stderr",
          "text": [
            "WARNING:torchdrug.core.meter:Epoch 12 end\n"
          ]
        },
        {
          "output_type": "stream",
          "name": "stdout",
          "text": [
            "19:36:21   Epoch 12 end\n"
          ]
        },
        {
          "output_type": "stream",
          "name": "stderr",
          "text": [
            "WARNING:torchdrug.core.meter:duration: 0.23 secs\n"
          ]
        },
        {
          "output_type": "stream",
          "name": "stdout",
          "text": [
            "19:36:21   duration: 0.23 secs\n"
          ]
        },
        {
          "output_type": "stream",
          "name": "stderr",
          "text": [
            "WARNING:torchdrug.core.meter:speed: 8.55 batch / sec\n"
          ]
        },
        {
          "output_type": "stream",
          "name": "stdout",
          "text": [
            "19:36:21   speed: 8.55 batch / sec\n"
          ]
        },
        {
          "output_type": "stream",
          "name": "stderr",
          "text": [
            "WARNING:torchdrug.core.meter:ETA: 3.29 mins\n"
          ]
        },
        {
          "output_type": "stream",
          "name": "stdout",
          "text": [
            "19:36:21   ETA: 3.29 mins\n"
          ]
        },
        {
          "output_type": "stream",
          "name": "stderr",
          "text": [
            "WARNING:torchdrug.core.meter:max GPU memory: 749.0 MiB\n"
          ]
        },
        {
          "output_type": "stream",
          "name": "stdout",
          "text": [
            "19:36:21   max GPU memory: 749.0 MiB\n"
          ]
        },
        {
          "output_type": "stream",
          "name": "stderr",
          "text": [
            "WARNING:torchdrug.core.logger:------------------------------\n"
          ]
        },
        {
          "output_type": "stream",
          "name": "stdout",
          "text": [
            "19:36:21   ------------------------------\n"
          ]
        },
        {
          "output_type": "stream",
          "name": "stderr",
          "text": [
            "WARNING:torchdrug.core.logger:average binary cross entropy: 0.463474\n"
          ]
        },
        {
          "output_type": "stream",
          "name": "stdout",
          "text": [
            "19:36:21   average binary cross entropy: 0.463474\n"
          ]
        },
        {
          "output_type": "stream",
          "name": "stderr",
          "text": [
            "WARNING:torchdrug.core.meter:>>>>>>>>>>>>>>>>>>>>>>>>>>>>>>\n"
          ]
        },
        {
          "output_type": "stream",
          "name": "stdout",
          "text": [
            "19:36:21   >>>>>>>>>>>>>>>>>>>>>>>>>>>>>>\n"
          ]
        },
        {
          "output_type": "stream",
          "name": "stderr",
          "text": [
            "WARNING:torchdrug.core.meter:Epoch 13 begin\n"
          ]
        },
        {
          "output_type": "stream",
          "name": "stdout",
          "text": [
            "19:36:21   Epoch 13 begin\n"
          ]
        },
        {
          "output_type": "stream",
          "name": "stderr",
          "text": [
            "WARNING:torchdrug.core.meter:>>>>>>>>>>>>>>>>>>>>>>>>>>>>>>\n"
          ]
        },
        {
          "output_type": "stream",
          "name": "stdout",
          "text": [
            "19:36:21   >>>>>>>>>>>>>>>>>>>>>>>>>>>>>>\n"
          ]
        },
        {
          "output_type": "stream",
          "name": "stderr",
          "text": [
            "WARNING:torchdrug.core.meter:Epoch 13 end\n"
          ]
        },
        {
          "output_type": "stream",
          "name": "stdout",
          "text": [
            "19:36:21   Epoch 13 end\n"
          ]
        },
        {
          "output_type": "stream",
          "name": "stderr",
          "text": [
            "WARNING:torchdrug.core.meter:duration: 0.24 secs\n"
          ]
        },
        {
          "output_type": "stream",
          "name": "stdout",
          "text": [
            "19:36:21   duration: 0.24 secs\n"
          ]
        },
        {
          "output_type": "stream",
          "name": "stderr",
          "text": [
            "WARNING:torchdrug.core.meter:speed: 8.40 batch / sec\n"
          ]
        },
        {
          "output_type": "stream",
          "name": "stdout",
          "text": [
            "19:36:21   speed: 8.40 batch / sec\n"
          ]
        },
        {
          "output_type": "stream",
          "name": "stderr",
          "text": [
            "WARNING:torchdrug.core.meter:ETA: 3.05 mins\n"
          ]
        },
        {
          "output_type": "stream",
          "name": "stdout",
          "text": [
            "19:36:21   ETA: 3.05 mins\n"
          ]
        },
        {
          "output_type": "stream",
          "name": "stderr",
          "text": [
            "WARNING:torchdrug.core.meter:max GPU memory: 741.4 MiB\n"
          ]
        },
        {
          "output_type": "stream",
          "name": "stdout",
          "text": [
            "19:36:21   max GPU memory: 741.4 MiB\n"
          ]
        },
        {
          "output_type": "stream",
          "name": "stderr",
          "text": [
            "WARNING:torchdrug.core.logger:------------------------------\n"
          ]
        },
        {
          "output_type": "stream",
          "name": "stdout",
          "text": [
            "19:36:21   ------------------------------\n"
          ]
        },
        {
          "output_type": "stream",
          "name": "stderr",
          "text": [
            "WARNING:torchdrug.core.logger:average binary cross entropy: 0.492973\n"
          ]
        },
        {
          "output_type": "stream",
          "name": "stdout",
          "text": [
            "19:36:21   average binary cross entropy: 0.492973\n"
          ]
        },
        {
          "output_type": "stream",
          "name": "stderr",
          "text": [
            "WARNING:torchdrug.core.meter:>>>>>>>>>>>>>>>>>>>>>>>>>>>>>>\n"
          ]
        },
        {
          "output_type": "stream",
          "name": "stdout",
          "text": [
            "19:36:21   >>>>>>>>>>>>>>>>>>>>>>>>>>>>>>\n"
          ]
        },
        {
          "output_type": "stream",
          "name": "stderr",
          "text": [
            "WARNING:torchdrug.core.meter:Epoch 14 begin\n"
          ]
        },
        {
          "output_type": "stream",
          "name": "stdout",
          "text": [
            "19:36:21   Epoch 14 begin\n"
          ]
        },
        {
          "output_type": "stream",
          "name": "stderr",
          "text": [
            "WARNING:torchdrug.core.meter:>>>>>>>>>>>>>>>>>>>>>>>>>>>>>>\n"
          ]
        },
        {
          "output_type": "stream",
          "name": "stdout",
          "text": [
            "19:36:21   >>>>>>>>>>>>>>>>>>>>>>>>>>>>>>\n"
          ]
        },
        {
          "output_type": "stream",
          "name": "stderr",
          "text": [
            "WARNING:torchdrug.core.meter:Epoch 14 end\n"
          ]
        },
        {
          "output_type": "stream",
          "name": "stdout",
          "text": [
            "19:36:21   Epoch 14 end\n"
          ]
        },
        {
          "output_type": "stream",
          "name": "stderr",
          "text": [
            "WARNING:torchdrug.core.meter:duration: 0.24 secs\n"
          ]
        },
        {
          "output_type": "stream",
          "name": "stdout",
          "text": [
            "19:36:21   duration: 0.24 secs\n"
          ]
        },
        {
          "output_type": "stream",
          "name": "stderr",
          "text": [
            "WARNING:torchdrug.core.meter:speed: 8.44 batch / sec\n"
          ]
        },
        {
          "output_type": "stream",
          "name": "stdout",
          "text": [
            "19:36:21   speed: 8.44 batch / sec\n"
          ]
        },
        {
          "output_type": "stream",
          "name": "stderr",
          "text": [
            "WARNING:torchdrug.core.meter:ETA: 2.83 mins\n"
          ]
        },
        {
          "output_type": "stream",
          "name": "stdout",
          "text": [
            "19:36:21   ETA: 2.83 mins\n"
          ]
        },
        {
          "output_type": "stream",
          "name": "stderr",
          "text": [
            "WARNING:torchdrug.core.meter:max GPU memory: 742.5 MiB\n"
          ]
        },
        {
          "output_type": "stream",
          "name": "stdout",
          "text": [
            "19:36:21   max GPU memory: 742.5 MiB\n"
          ]
        },
        {
          "output_type": "stream",
          "name": "stderr",
          "text": [
            "WARNING:torchdrug.core.logger:------------------------------\n"
          ]
        },
        {
          "output_type": "stream",
          "name": "stdout",
          "text": [
            "19:36:21   ------------------------------\n"
          ]
        },
        {
          "output_type": "stream",
          "name": "stderr",
          "text": [
            "WARNING:torchdrug.core.logger:average binary cross entropy: 0.574173\n"
          ]
        },
        {
          "output_type": "stream",
          "name": "stdout",
          "text": [
            "19:36:21   average binary cross entropy: 0.574173\n"
          ]
        },
        {
          "output_type": "stream",
          "name": "stderr",
          "text": [
            "WARNING:torchdrug.core.meter:>>>>>>>>>>>>>>>>>>>>>>>>>>>>>>\n"
          ]
        },
        {
          "output_type": "stream",
          "name": "stdout",
          "text": [
            "19:36:21   >>>>>>>>>>>>>>>>>>>>>>>>>>>>>>\n"
          ]
        },
        {
          "output_type": "stream",
          "name": "stderr",
          "text": [
            "WARNING:torchdrug.core.meter:Epoch 15 begin\n"
          ]
        },
        {
          "output_type": "stream",
          "name": "stdout",
          "text": [
            "19:36:21   Epoch 15 begin\n"
          ]
        },
        {
          "output_type": "stream",
          "name": "stderr",
          "text": [
            "WARNING:torchdrug.core.meter:>>>>>>>>>>>>>>>>>>>>>>>>>>>>>>\n"
          ]
        },
        {
          "output_type": "stream",
          "name": "stdout",
          "text": [
            "19:36:21   >>>>>>>>>>>>>>>>>>>>>>>>>>>>>>\n"
          ]
        },
        {
          "output_type": "stream",
          "name": "stderr",
          "text": [
            "WARNING:torchdrug.core.meter:Epoch 15 end\n"
          ]
        },
        {
          "output_type": "stream",
          "name": "stdout",
          "text": [
            "19:36:21   Epoch 15 end\n"
          ]
        },
        {
          "output_type": "stream",
          "name": "stderr",
          "text": [
            "WARNING:torchdrug.core.meter:duration: 0.24 secs\n"
          ]
        },
        {
          "output_type": "stream",
          "name": "stdout",
          "text": [
            "19:36:21   duration: 0.24 secs\n"
          ]
        },
        {
          "output_type": "stream",
          "name": "stderr",
          "text": [
            "WARNING:torchdrug.core.meter:speed: 8.23 batch / sec\n"
          ]
        },
        {
          "output_type": "stream",
          "name": "stdout",
          "text": [
            "19:36:21   speed: 8.23 batch / sec\n"
          ]
        },
        {
          "output_type": "stream",
          "name": "stderr",
          "text": [
            "WARNING:torchdrug.core.meter:ETA: 2.65 mins\n"
          ]
        },
        {
          "output_type": "stream",
          "name": "stdout",
          "text": [
            "19:36:21   ETA: 2.65 mins\n"
          ]
        },
        {
          "output_type": "stream",
          "name": "stderr",
          "text": [
            "WARNING:torchdrug.core.meter:max GPU memory: 752.6 MiB\n"
          ]
        },
        {
          "output_type": "stream",
          "name": "stdout",
          "text": [
            "19:36:21   max GPU memory: 752.6 MiB\n"
          ]
        },
        {
          "output_type": "stream",
          "name": "stderr",
          "text": [
            "WARNING:torchdrug.core.logger:------------------------------\n"
          ]
        },
        {
          "output_type": "stream",
          "name": "stdout",
          "text": [
            "19:36:21   ------------------------------\n"
          ]
        },
        {
          "output_type": "stream",
          "name": "stderr",
          "text": [
            "WARNING:torchdrug.core.logger:average binary cross entropy: 0.514031\n"
          ]
        },
        {
          "output_type": "stream",
          "name": "stdout",
          "text": [
            "19:36:21   average binary cross entropy: 0.514031\n"
          ]
        },
        {
          "output_type": "stream",
          "name": "stderr",
          "text": [
            "WARNING:torchdrug.core.meter:>>>>>>>>>>>>>>>>>>>>>>>>>>>>>>\n"
          ]
        },
        {
          "output_type": "stream",
          "name": "stdout",
          "text": [
            "19:36:21   >>>>>>>>>>>>>>>>>>>>>>>>>>>>>>\n"
          ]
        },
        {
          "output_type": "stream",
          "name": "stderr",
          "text": [
            "WARNING:torchdrug.core.meter:Epoch 16 begin\n"
          ]
        },
        {
          "output_type": "stream",
          "name": "stdout",
          "text": [
            "19:36:21   Epoch 16 begin\n"
          ]
        },
        {
          "output_type": "stream",
          "name": "stderr",
          "text": [
            "WARNING:torchdrug.core.meter:>>>>>>>>>>>>>>>>>>>>>>>>>>>>>>\n"
          ]
        },
        {
          "output_type": "stream",
          "name": "stdout",
          "text": [
            "19:36:21   >>>>>>>>>>>>>>>>>>>>>>>>>>>>>>\n"
          ]
        },
        {
          "output_type": "stream",
          "name": "stderr",
          "text": [
            "WARNING:torchdrug.core.meter:Epoch 16 end\n"
          ]
        },
        {
          "output_type": "stream",
          "name": "stdout",
          "text": [
            "19:36:22   Epoch 16 end\n"
          ]
        },
        {
          "output_type": "stream",
          "name": "stderr",
          "text": [
            "WARNING:torchdrug.core.meter:duration: 0.26 secs\n"
          ]
        },
        {
          "output_type": "stream",
          "name": "stdout",
          "text": [
            "19:36:22   duration: 0.26 secs\n"
          ]
        },
        {
          "output_type": "stream",
          "name": "stderr",
          "text": [
            "WARNING:torchdrug.core.meter:speed: 7.74 batch / sec\n"
          ]
        },
        {
          "output_type": "stream",
          "name": "stdout",
          "text": [
            "19:36:22   speed: 7.74 batch / sec\n"
          ]
        },
        {
          "output_type": "stream",
          "name": "stderr",
          "text": [
            "WARNING:torchdrug.core.meter:ETA: 2.48 mins\n"
          ]
        },
        {
          "output_type": "stream",
          "name": "stdout",
          "text": [
            "19:36:22   ETA: 2.48 mins\n"
          ]
        },
        {
          "output_type": "stream",
          "name": "stderr",
          "text": [
            "WARNING:torchdrug.core.meter:max GPU memory: 743.3 MiB\n"
          ]
        },
        {
          "output_type": "stream",
          "name": "stdout",
          "text": [
            "19:36:22   max GPU memory: 743.3 MiB\n"
          ]
        },
        {
          "output_type": "stream",
          "name": "stderr",
          "text": [
            "WARNING:torchdrug.core.logger:------------------------------\n"
          ]
        },
        {
          "output_type": "stream",
          "name": "stdout",
          "text": [
            "19:36:22   ------------------------------\n"
          ]
        },
        {
          "output_type": "stream",
          "name": "stderr",
          "text": [
            "WARNING:torchdrug.core.logger:average binary cross entropy: 0.407285\n"
          ]
        },
        {
          "output_type": "stream",
          "name": "stdout",
          "text": [
            "19:36:22   average binary cross entropy: 0.407285\n"
          ]
        },
        {
          "output_type": "stream",
          "name": "stderr",
          "text": [
            "WARNING:torchdrug.core.meter:>>>>>>>>>>>>>>>>>>>>>>>>>>>>>>\n"
          ]
        },
        {
          "output_type": "stream",
          "name": "stdout",
          "text": [
            "19:36:22   >>>>>>>>>>>>>>>>>>>>>>>>>>>>>>\n"
          ]
        },
        {
          "output_type": "stream",
          "name": "stderr",
          "text": [
            "WARNING:torchdrug.core.meter:Epoch 17 begin\n"
          ]
        },
        {
          "output_type": "stream",
          "name": "stdout",
          "text": [
            "19:36:22   Epoch 17 begin\n"
          ]
        },
        {
          "output_type": "stream",
          "name": "stderr",
          "text": [
            "WARNING:torchdrug.core.meter:>>>>>>>>>>>>>>>>>>>>>>>>>>>>>>\n"
          ]
        },
        {
          "output_type": "stream",
          "name": "stdout",
          "text": [
            "19:36:22   >>>>>>>>>>>>>>>>>>>>>>>>>>>>>>\n"
          ]
        },
        {
          "output_type": "stream",
          "name": "stderr",
          "text": [
            "WARNING:torchdrug.core.meter:Epoch 17 end\n"
          ]
        },
        {
          "output_type": "stream",
          "name": "stdout",
          "text": [
            "19:36:22   Epoch 17 end\n"
          ]
        },
        {
          "output_type": "stream",
          "name": "stderr",
          "text": [
            "WARNING:torchdrug.core.meter:duration: 0.24 secs\n"
          ]
        },
        {
          "output_type": "stream",
          "name": "stdout",
          "text": [
            "19:36:22   duration: 0.24 secs\n"
          ]
        },
        {
          "output_type": "stream",
          "name": "stderr",
          "text": [
            "WARNING:torchdrug.core.meter:speed: 8.37 batch / sec\n"
          ]
        },
        {
          "output_type": "stream",
          "name": "stdout",
          "text": [
            "19:36:22   speed: 8.37 batch / sec\n"
          ]
        },
        {
          "output_type": "stream",
          "name": "stderr",
          "text": [
            "WARNING:torchdrug.core.meter:ETA: 2.33 mins\n"
          ]
        },
        {
          "output_type": "stream",
          "name": "stdout",
          "text": [
            "19:36:22   ETA: 2.33 mins\n"
          ]
        },
        {
          "output_type": "stream",
          "name": "stderr",
          "text": [
            "WARNING:torchdrug.core.meter:max GPU memory: 749.4 MiB\n"
          ]
        },
        {
          "output_type": "stream",
          "name": "stdout",
          "text": [
            "19:36:22   max GPU memory: 749.4 MiB\n"
          ]
        },
        {
          "output_type": "stream",
          "name": "stderr",
          "text": [
            "WARNING:torchdrug.core.logger:------------------------------\n"
          ]
        },
        {
          "output_type": "stream",
          "name": "stdout",
          "text": [
            "19:36:22   ------------------------------\n"
          ]
        },
        {
          "output_type": "stream",
          "name": "stderr",
          "text": [
            "WARNING:torchdrug.core.logger:average binary cross entropy: 0.379058\n"
          ]
        },
        {
          "output_type": "stream",
          "name": "stdout",
          "text": [
            "19:36:22   average binary cross entropy: 0.379058\n"
          ]
        },
        {
          "output_type": "stream",
          "name": "stderr",
          "text": [
            "WARNING:torchdrug.core.meter:>>>>>>>>>>>>>>>>>>>>>>>>>>>>>>\n"
          ]
        },
        {
          "output_type": "stream",
          "name": "stdout",
          "text": [
            "19:36:22   >>>>>>>>>>>>>>>>>>>>>>>>>>>>>>\n"
          ]
        },
        {
          "output_type": "stream",
          "name": "stderr",
          "text": [
            "WARNING:torchdrug.core.meter:Epoch 18 begin\n"
          ]
        },
        {
          "output_type": "stream",
          "name": "stdout",
          "text": [
            "19:36:22   Epoch 18 begin\n"
          ]
        },
        {
          "output_type": "stream",
          "name": "stderr",
          "text": [
            "WARNING:torchdrug.core.meter:>>>>>>>>>>>>>>>>>>>>>>>>>>>>>>\n"
          ]
        },
        {
          "output_type": "stream",
          "name": "stdout",
          "text": [
            "19:36:22   >>>>>>>>>>>>>>>>>>>>>>>>>>>>>>\n"
          ]
        },
        {
          "output_type": "stream",
          "name": "stderr",
          "text": [
            "WARNING:torchdrug.core.meter:Epoch 18 end\n"
          ]
        },
        {
          "output_type": "stream",
          "name": "stdout",
          "text": [
            "19:36:22   Epoch 18 end\n"
          ]
        },
        {
          "output_type": "stream",
          "name": "stderr",
          "text": [
            "WARNING:torchdrug.core.meter:duration: 0.25 secs\n"
          ]
        },
        {
          "output_type": "stream",
          "name": "stdout",
          "text": [
            "19:36:22   duration: 0.25 secs\n"
          ]
        },
        {
          "output_type": "stream",
          "name": "stderr",
          "text": [
            "WARNING:torchdrug.core.meter:speed: 8.16 batch / sec\n"
          ]
        },
        {
          "output_type": "stream",
          "name": "stdout",
          "text": [
            "19:36:22   speed: 8.16 batch / sec\n"
          ]
        },
        {
          "output_type": "stream",
          "name": "stderr",
          "text": [
            "WARNING:torchdrug.core.meter:ETA: 2.20 mins\n"
          ]
        },
        {
          "output_type": "stream",
          "name": "stdout",
          "text": [
            "19:36:22   ETA: 2.20 mins\n"
          ]
        },
        {
          "output_type": "stream",
          "name": "stderr",
          "text": [
            "WARNING:torchdrug.core.meter:max GPU memory: 742.9 MiB\n"
          ]
        },
        {
          "output_type": "stream",
          "name": "stdout",
          "text": [
            "19:36:22   max GPU memory: 742.9 MiB\n"
          ]
        },
        {
          "output_type": "stream",
          "name": "stderr",
          "text": [
            "WARNING:torchdrug.core.logger:------------------------------\n"
          ]
        },
        {
          "output_type": "stream",
          "name": "stdout",
          "text": [
            "19:36:22   ------------------------------\n"
          ]
        },
        {
          "output_type": "stream",
          "name": "stderr",
          "text": [
            "WARNING:torchdrug.core.logger:average binary cross entropy: 0.352744\n"
          ]
        },
        {
          "output_type": "stream",
          "name": "stdout",
          "text": [
            "19:36:22   average binary cross entropy: 0.352744\n"
          ]
        },
        {
          "output_type": "stream",
          "name": "stderr",
          "text": [
            "WARNING:torchdrug.core.meter:>>>>>>>>>>>>>>>>>>>>>>>>>>>>>>\n"
          ]
        },
        {
          "output_type": "stream",
          "name": "stdout",
          "text": [
            "19:36:22   >>>>>>>>>>>>>>>>>>>>>>>>>>>>>>\n"
          ]
        },
        {
          "output_type": "stream",
          "name": "stderr",
          "text": [
            "WARNING:torchdrug.core.meter:Epoch 19 begin\n"
          ]
        },
        {
          "output_type": "stream",
          "name": "stdout",
          "text": [
            "19:36:22   Epoch 19 begin\n"
          ]
        },
        {
          "output_type": "stream",
          "name": "stderr",
          "text": [
            "WARNING:torchdrug.core.meter:>>>>>>>>>>>>>>>>>>>>>>>>>>>>>>\n"
          ]
        },
        {
          "output_type": "stream",
          "name": "stdout",
          "text": [
            "19:36:22   >>>>>>>>>>>>>>>>>>>>>>>>>>>>>>\n"
          ]
        },
        {
          "output_type": "stream",
          "name": "stderr",
          "text": [
            "WARNING:torchdrug.core.meter:Epoch 19 end\n"
          ]
        },
        {
          "output_type": "stream",
          "name": "stdout",
          "text": [
            "19:36:22   Epoch 19 end\n"
          ]
        },
        {
          "output_type": "stream",
          "name": "stderr",
          "text": [
            "WARNING:torchdrug.core.meter:duration: 0.23 secs\n"
          ]
        },
        {
          "output_type": "stream",
          "name": "stdout",
          "text": [
            "19:36:22   duration: 0.23 secs\n"
          ]
        },
        {
          "output_type": "stream",
          "name": "stderr",
          "text": [
            "WARNING:torchdrug.core.meter:speed: 8.60 batch / sec\n"
          ]
        },
        {
          "output_type": "stream",
          "name": "stdout",
          "text": [
            "19:36:22   speed: 8.60 batch / sec\n"
          ]
        },
        {
          "output_type": "stream",
          "name": "stderr",
          "text": [
            "WARNING:torchdrug.core.meter:ETA: 2.08 mins\n"
          ]
        },
        {
          "output_type": "stream",
          "name": "stdout",
          "text": [
            "19:36:22   ETA: 2.08 mins\n"
          ]
        },
        {
          "output_type": "stream",
          "name": "stderr",
          "text": [
            "WARNING:torchdrug.core.meter:max GPU memory: 746.8 MiB\n"
          ]
        },
        {
          "output_type": "stream",
          "name": "stdout",
          "text": [
            "19:36:22   max GPU memory: 746.8 MiB\n"
          ]
        },
        {
          "output_type": "stream",
          "name": "stderr",
          "text": [
            "WARNING:torchdrug.core.logger:------------------------------\n"
          ]
        },
        {
          "output_type": "stream",
          "name": "stdout",
          "text": [
            "19:36:22   ------------------------------\n"
          ]
        },
        {
          "output_type": "stream",
          "name": "stderr",
          "text": [
            "WARNING:torchdrug.core.logger:average binary cross entropy: 0.237878\n"
          ]
        },
        {
          "output_type": "stream",
          "name": "stdout",
          "text": [
            "19:36:22   average binary cross entropy: 0.237878\n"
          ]
        },
        {
          "output_type": "stream",
          "name": "stderr",
          "text": [
            "WARNING:torchdrug.core.meter:>>>>>>>>>>>>>>>>>>>>>>>>>>>>>>\n"
          ]
        },
        {
          "output_type": "stream",
          "name": "stdout",
          "text": [
            "19:36:22   >>>>>>>>>>>>>>>>>>>>>>>>>>>>>>\n"
          ]
        },
        {
          "output_type": "stream",
          "name": "stderr",
          "text": [
            "WARNING:torchdrug.core.meter:Epoch 20 begin\n"
          ]
        },
        {
          "output_type": "stream",
          "name": "stdout",
          "text": [
            "19:36:22   Epoch 20 begin\n"
          ]
        },
        {
          "output_type": "stream",
          "name": "stderr",
          "text": [
            "WARNING:torchdrug.core.meter:>>>>>>>>>>>>>>>>>>>>>>>>>>>>>>\n"
          ]
        },
        {
          "output_type": "stream",
          "name": "stdout",
          "text": [
            "19:36:22   >>>>>>>>>>>>>>>>>>>>>>>>>>>>>>\n"
          ]
        },
        {
          "output_type": "stream",
          "name": "stderr",
          "text": [
            "WARNING:torchdrug.core.meter:Epoch 20 end\n"
          ]
        },
        {
          "output_type": "stream",
          "name": "stdout",
          "text": [
            "19:36:22   Epoch 20 end\n"
          ]
        },
        {
          "output_type": "stream",
          "name": "stderr",
          "text": [
            "WARNING:torchdrug.core.meter:duration: 0.25 secs\n"
          ]
        },
        {
          "output_type": "stream",
          "name": "stdout",
          "text": [
            "19:36:22   duration: 0.25 secs\n"
          ]
        },
        {
          "output_type": "stream",
          "name": "stderr",
          "text": [
            "WARNING:torchdrug.core.meter:speed: 8.11 batch / sec\n"
          ]
        },
        {
          "output_type": "stream",
          "name": "stdout",
          "text": [
            "19:36:22   speed: 8.11 batch / sec\n"
          ]
        },
        {
          "output_type": "stream",
          "name": "stderr",
          "text": [
            "WARNING:torchdrug.core.meter:ETA: 1.97 mins\n"
          ]
        },
        {
          "output_type": "stream",
          "name": "stdout",
          "text": [
            "19:36:22   ETA: 1.97 mins\n"
          ]
        },
        {
          "output_type": "stream",
          "name": "stderr",
          "text": [
            "WARNING:torchdrug.core.meter:max GPU memory: 745.1 MiB\n"
          ]
        },
        {
          "output_type": "stream",
          "name": "stdout",
          "text": [
            "19:36:22   max GPU memory: 745.1 MiB\n"
          ]
        },
        {
          "output_type": "stream",
          "name": "stderr",
          "text": [
            "WARNING:torchdrug.core.logger:------------------------------\n"
          ]
        },
        {
          "output_type": "stream",
          "name": "stdout",
          "text": [
            "19:36:22   ------------------------------\n"
          ]
        },
        {
          "output_type": "stream",
          "name": "stderr",
          "text": [
            "WARNING:torchdrug.core.logger:average binary cross entropy: 0.368441\n"
          ]
        },
        {
          "output_type": "stream",
          "name": "stdout",
          "text": [
            "19:36:22   average binary cross entropy: 0.368441\n"
          ]
        },
        {
          "output_type": "stream",
          "name": "stderr",
          "text": [
            "WARNING:torchdrug.core.meter:>>>>>>>>>>>>>>>>>>>>>>>>>>>>>>\n"
          ]
        },
        {
          "output_type": "stream",
          "name": "stdout",
          "text": [
            "19:36:22   >>>>>>>>>>>>>>>>>>>>>>>>>>>>>>\n"
          ]
        },
        {
          "output_type": "stream",
          "name": "stderr",
          "text": [
            "WARNING:torchdrug.core.meter:Epoch 21 begin\n"
          ]
        },
        {
          "output_type": "stream",
          "name": "stdout",
          "text": [
            "19:36:22   Epoch 21 begin\n"
          ]
        },
        {
          "output_type": "stream",
          "name": "stderr",
          "text": [
            "WARNING:torchdrug.core.meter:>>>>>>>>>>>>>>>>>>>>>>>>>>>>>>\n"
          ]
        },
        {
          "output_type": "stream",
          "name": "stdout",
          "text": [
            "19:36:23   >>>>>>>>>>>>>>>>>>>>>>>>>>>>>>\n"
          ]
        },
        {
          "output_type": "stream",
          "name": "stderr",
          "text": [
            "WARNING:torchdrug.core.meter:Epoch 21 end\n"
          ]
        },
        {
          "output_type": "stream",
          "name": "stdout",
          "text": [
            "19:36:23   Epoch 21 end\n"
          ]
        },
        {
          "output_type": "stream",
          "name": "stderr",
          "text": [
            "WARNING:torchdrug.core.meter:duration: 0.23 secs\n"
          ]
        },
        {
          "output_type": "stream",
          "name": "stdout",
          "text": [
            "19:36:23   duration: 0.23 secs\n"
          ]
        },
        {
          "output_type": "stream",
          "name": "stderr",
          "text": [
            "WARNING:torchdrug.core.meter:speed: 8.53 batch / sec\n"
          ]
        },
        {
          "output_type": "stream",
          "name": "stdout",
          "text": [
            "19:36:23   speed: 8.53 batch / sec\n"
          ]
        },
        {
          "output_type": "stream",
          "name": "stderr",
          "text": [
            "WARNING:torchdrug.core.meter:ETA: 1.87 mins\n"
          ]
        },
        {
          "output_type": "stream",
          "name": "stdout",
          "text": [
            "19:36:23   ETA: 1.87 mins\n"
          ]
        },
        {
          "output_type": "stream",
          "name": "stderr",
          "text": [
            "WARNING:torchdrug.core.meter:max GPU memory: 751.6 MiB\n"
          ]
        },
        {
          "output_type": "stream",
          "name": "stdout",
          "text": [
            "19:36:23   max GPU memory: 751.6 MiB\n"
          ]
        },
        {
          "output_type": "stream",
          "name": "stderr",
          "text": [
            "WARNING:torchdrug.core.logger:------------------------------\n"
          ]
        },
        {
          "output_type": "stream",
          "name": "stdout",
          "text": [
            "19:36:23   ------------------------------\n"
          ]
        },
        {
          "output_type": "stream",
          "name": "stderr",
          "text": [
            "WARNING:torchdrug.core.logger:average binary cross entropy: 0.430696\n"
          ]
        },
        {
          "output_type": "stream",
          "name": "stdout",
          "text": [
            "19:36:23   average binary cross entropy: 0.430696\n"
          ]
        },
        {
          "output_type": "stream",
          "name": "stderr",
          "text": [
            "WARNING:torchdrug.core.meter:>>>>>>>>>>>>>>>>>>>>>>>>>>>>>>\n"
          ]
        },
        {
          "output_type": "stream",
          "name": "stdout",
          "text": [
            "19:36:23   >>>>>>>>>>>>>>>>>>>>>>>>>>>>>>\n"
          ]
        },
        {
          "output_type": "stream",
          "name": "stderr",
          "text": [
            "WARNING:torchdrug.core.meter:Epoch 22 begin\n"
          ]
        },
        {
          "output_type": "stream",
          "name": "stdout",
          "text": [
            "19:36:23   Epoch 22 begin\n"
          ]
        },
        {
          "output_type": "stream",
          "name": "stderr",
          "text": [
            "WARNING:torchdrug.core.meter:>>>>>>>>>>>>>>>>>>>>>>>>>>>>>>\n"
          ]
        },
        {
          "output_type": "stream",
          "name": "stdout",
          "text": [
            "19:36:23   >>>>>>>>>>>>>>>>>>>>>>>>>>>>>>\n"
          ]
        },
        {
          "output_type": "stream",
          "name": "stderr",
          "text": [
            "WARNING:torchdrug.core.meter:Epoch 22 end\n"
          ]
        },
        {
          "output_type": "stream",
          "name": "stdout",
          "text": [
            "19:36:23   Epoch 22 end\n"
          ]
        },
        {
          "output_type": "stream",
          "name": "stderr",
          "text": [
            "WARNING:torchdrug.core.meter:duration: 0.24 secs\n"
          ]
        },
        {
          "output_type": "stream",
          "name": "stdout",
          "text": [
            "19:36:23   duration: 0.24 secs\n"
          ]
        },
        {
          "output_type": "stream",
          "name": "stderr",
          "text": [
            "WARNING:torchdrug.core.meter:speed: 8.24 batch / sec\n"
          ]
        },
        {
          "output_type": "stream",
          "name": "stdout",
          "text": [
            "19:36:23   speed: 8.24 batch / sec\n"
          ]
        },
        {
          "output_type": "stream",
          "name": "stderr",
          "text": [
            "WARNING:torchdrug.core.meter:ETA: 1.78 mins\n"
          ]
        },
        {
          "output_type": "stream",
          "name": "stdout",
          "text": [
            "19:36:23   ETA: 1.78 mins\n"
          ]
        },
        {
          "output_type": "stream",
          "name": "stderr",
          "text": [
            "WARNING:torchdrug.core.meter:max GPU memory: 742.9 MiB\n"
          ]
        },
        {
          "output_type": "stream",
          "name": "stdout",
          "text": [
            "19:36:23   max GPU memory: 742.9 MiB\n"
          ]
        },
        {
          "output_type": "stream",
          "name": "stderr",
          "text": [
            "WARNING:torchdrug.core.logger:------------------------------\n"
          ]
        },
        {
          "output_type": "stream",
          "name": "stdout",
          "text": [
            "19:36:23   ------------------------------\n"
          ]
        },
        {
          "output_type": "stream",
          "name": "stderr",
          "text": [
            "WARNING:torchdrug.core.logger:average binary cross entropy: 0.300783\n"
          ]
        },
        {
          "output_type": "stream",
          "name": "stdout",
          "text": [
            "19:36:23   average binary cross entropy: 0.300783\n"
          ]
        },
        {
          "output_type": "stream",
          "name": "stderr",
          "text": [
            "WARNING:torchdrug.core.meter:>>>>>>>>>>>>>>>>>>>>>>>>>>>>>>\n"
          ]
        },
        {
          "output_type": "stream",
          "name": "stdout",
          "text": [
            "19:36:23   >>>>>>>>>>>>>>>>>>>>>>>>>>>>>>\n"
          ]
        },
        {
          "output_type": "stream",
          "name": "stderr",
          "text": [
            "WARNING:torchdrug.core.meter:Epoch 23 begin\n"
          ]
        },
        {
          "output_type": "stream",
          "name": "stdout",
          "text": [
            "19:36:23   Epoch 23 begin\n"
          ]
        },
        {
          "output_type": "stream",
          "name": "stderr",
          "text": [
            "WARNING:torchdrug.core.meter:>>>>>>>>>>>>>>>>>>>>>>>>>>>>>>\n"
          ]
        },
        {
          "output_type": "stream",
          "name": "stdout",
          "text": [
            "19:36:23   >>>>>>>>>>>>>>>>>>>>>>>>>>>>>>\n"
          ]
        },
        {
          "output_type": "stream",
          "name": "stderr",
          "text": [
            "WARNING:torchdrug.core.meter:Epoch 23 end\n"
          ]
        },
        {
          "output_type": "stream",
          "name": "stdout",
          "text": [
            "19:36:23   Epoch 23 end\n"
          ]
        },
        {
          "output_type": "stream",
          "name": "stderr",
          "text": [
            "WARNING:torchdrug.core.meter:duration: 0.25 secs\n"
          ]
        },
        {
          "output_type": "stream",
          "name": "stdout",
          "text": [
            "19:36:23   duration: 0.25 secs\n"
          ]
        },
        {
          "output_type": "stream",
          "name": "stderr",
          "text": [
            "WARNING:torchdrug.core.meter:speed: 8.00 batch / sec\n"
          ]
        },
        {
          "output_type": "stream",
          "name": "stdout",
          "text": [
            "19:36:23   speed: 8.00 batch / sec\n"
          ]
        },
        {
          "output_type": "stream",
          "name": "stderr",
          "text": [
            "WARNING:torchdrug.core.meter:ETA: 1.70 mins\n"
          ]
        },
        {
          "output_type": "stream",
          "name": "stdout",
          "text": [
            "19:36:23   ETA: 1.70 mins\n"
          ]
        },
        {
          "output_type": "stream",
          "name": "stderr",
          "text": [
            "WARNING:torchdrug.core.meter:max GPU memory: 757.6 MiB\n"
          ]
        },
        {
          "output_type": "stream",
          "name": "stdout",
          "text": [
            "19:36:23   max GPU memory: 757.6 MiB\n"
          ]
        },
        {
          "output_type": "stream",
          "name": "stderr",
          "text": [
            "WARNING:torchdrug.core.logger:------------------------------\n"
          ]
        },
        {
          "output_type": "stream",
          "name": "stdout",
          "text": [
            "19:36:23   ------------------------------\n"
          ]
        },
        {
          "output_type": "stream",
          "name": "stderr",
          "text": [
            "WARNING:torchdrug.core.logger:average binary cross entropy: 0.262034\n"
          ]
        },
        {
          "output_type": "stream",
          "name": "stdout",
          "text": [
            "19:36:23   average binary cross entropy: 0.262034\n"
          ]
        },
        {
          "output_type": "stream",
          "name": "stderr",
          "text": [
            "WARNING:torchdrug.core.meter:>>>>>>>>>>>>>>>>>>>>>>>>>>>>>>\n"
          ]
        },
        {
          "output_type": "stream",
          "name": "stdout",
          "text": [
            "19:36:23   >>>>>>>>>>>>>>>>>>>>>>>>>>>>>>\n"
          ]
        },
        {
          "output_type": "stream",
          "name": "stderr",
          "text": [
            "WARNING:torchdrug.core.meter:Epoch 24 begin\n"
          ]
        },
        {
          "output_type": "stream",
          "name": "stdout",
          "text": [
            "19:36:23   Epoch 24 begin\n"
          ]
        },
        {
          "output_type": "stream",
          "name": "stderr",
          "text": [
            "WARNING:torchdrug.core.meter:>>>>>>>>>>>>>>>>>>>>>>>>>>>>>>\n"
          ]
        },
        {
          "output_type": "stream",
          "name": "stdout",
          "text": [
            "19:36:23   >>>>>>>>>>>>>>>>>>>>>>>>>>>>>>\n"
          ]
        },
        {
          "output_type": "stream",
          "name": "stderr",
          "text": [
            "WARNING:torchdrug.core.meter:Epoch 24 end\n"
          ]
        },
        {
          "output_type": "stream",
          "name": "stdout",
          "text": [
            "19:36:23   Epoch 24 end\n"
          ]
        },
        {
          "output_type": "stream",
          "name": "stderr",
          "text": [
            "WARNING:torchdrug.core.meter:duration: 0.24 secs\n"
          ]
        },
        {
          "output_type": "stream",
          "name": "stdout",
          "text": [
            "19:36:23   duration: 0.24 secs\n"
          ]
        },
        {
          "output_type": "stream",
          "name": "stderr",
          "text": [
            "WARNING:torchdrug.core.meter:speed: 8.36 batch / sec\n"
          ]
        },
        {
          "output_type": "stream",
          "name": "stdout",
          "text": [
            "19:36:23   speed: 8.36 batch / sec\n"
          ]
        },
        {
          "output_type": "stream",
          "name": "stderr",
          "text": [
            "WARNING:torchdrug.core.meter:ETA: 1.62 mins\n"
          ]
        },
        {
          "output_type": "stream",
          "name": "stdout",
          "text": [
            "19:36:23   ETA: 1.62 mins\n"
          ]
        },
        {
          "output_type": "stream",
          "name": "stderr",
          "text": [
            "WARNING:torchdrug.core.meter:max GPU memory: 741.7 MiB\n"
          ]
        },
        {
          "output_type": "stream",
          "name": "stdout",
          "text": [
            "19:36:23   max GPU memory: 741.7 MiB\n"
          ]
        },
        {
          "output_type": "stream",
          "name": "stderr",
          "text": [
            "WARNING:torchdrug.core.logger:------------------------------\n"
          ]
        },
        {
          "output_type": "stream",
          "name": "stdout",
          "text": [
            "19:36:23   ------------------------------\n"
          ]
        },
        {
          "output_type": "stream",
          "name": "stderr",
          "text": [
            "WARNING:torchdrug.core.logger:average binary cross entropy: 0.218923\n"
          ]
        },
        {
          "output_type": "stream",
          "name": "stdout",
          "text": [
            "19:36:23   average binary cross entropy: 0.218923\n"
          ]
        },
        {
          "output_type": "stream",
          "name": "stderr",
          "text": [
            "WARNING:torchdrug.core.meter:>>>>>>>>>>>>>>>>>>>>>>>>>>>>>>\n"
          ]
        },
        {
          "output_type": "stream",
          "name": "stdout",
          "text": [
            "19:36:23   >>>>>>>>>>>>>>>>>>>>>>>>>>>>>>\n"
          ]
        },
        {
          "output_type": "stream",
          "name": "stderr",
          "text": [
            "WARNING:torchdrug.core.meter:Epoch 25 begin\n"
          ]
        },
        {
          "output_type": "stream",
          "name": "stdout",
          "text": [
            "19:36:23   Epoch 25 begin\n"
          ]
        },
        {
          "output_type": "stream",
          "name": "stderr",
          "text": [
            "WARNING:torchdrug.core.meter:>>>>>>>>>>>>>>>>>>>>>>>>>>>>>>\n"
          ]
        },
        {
          "output_type": "stream",
          "name": "stdout",
          "text": [
            "19:36:24   >>>>>>>>>>>>>>>>>>>>>>>>>>>>>>\n"
          ]
        },
        {
          "output_type": "stream",
          "name": "stderr",
          "text": [
            "WARNING:torchdrug.core.meter:Epoch 25 end\n"
          ]
        },
        {
          "output_type": "stream",
          "name": "stdout",
          "text": [
            "19:36:24   Epoch 25 end\n"
          ]
        },
        {
          "output_type": "stream",
          "name": "stderr",
          "text": [
            "WARNING:torchdrug.core.meter:duration: 0.23 secs\n"
          ]
        },
        {
          "output_type": "stream",
          "name": "stdout",
          "text": [
            "19:36:24   duration: 0.23 secs\n"
          ]
        },
        {
          "output_type": "stream",
          "name": "stderr",
          "text": [
            "WARNING:torchdrug.core.meter:speed: 8.62 batch / sec\n"
          ]
        },
        {
          "output_type": "stream",
          "name": "stdout",
          "text": [
            "19:36:24   speed: 8.62 batch / sec\n"
          ]
        },
        {
          "output_type": "stream",
          "name": "stderr",
          "text": [
            "WARNING:torchdrug.core.meter:ETA: 1.55 mins\n"
          ]
        },
        {
          "output_type": "stream",
          "name": "stdout",
          "text": [
            "19:36:24   ETA: 1.55 mins\n"
          ]
        },
        {
          "output_type": "stream",
          "name": "stderr",
          "text": [
            "WARNING:torchdrug.core.meter:max GPU memory: 749.9 MiB\n"
          ]
        },
        {
          "output_type": "stream",
          "name": "stdout",
          "text": [
            "19:36:24   max GPU memory: 749.9 MiB\n"
          ]
        },
        {
          "output_type": "stream",
          "name": "stderr",
          "text": [
            "WARNING:torchdrug.core.logger:------------------------------\n"
          ]
        },
        {
          "output_type": "stream",
          "name": "stdout",
          "text": [
            "19:36:24   ------------------------------\n"
          ]
        },
        {
          "output_type": "stream",
          "name": "stderr",
          "text": [
            "WARNING:torchdrug.core.logger:average binary cross entropy: 0.264212\n"
          ]
        },
        {
          "output_type": "stream",
          "name": "stdout",
          "text": [
            "19:36:24   average binary cross entropy: 0.264212\n"
          ]
        },
        {
          "output_type": "stream",
          "name": "stderr",
          "text": [
            "WARNING:torchdrug.core.meter:>>>>>>>>>>>>>>>>>>>>>>>>>>>>>>\n"
          ]
        },
        {
          "output_type": "stream",
          "name": "stdout",
          "text": [
            "19:36:24   >>>>>>>>>>>>>>>>>>>>>>>>>>>>>>\n"
          ]
        },
        {
          "output_type": "stream",
          "name": "stderr",
          "text": [
            "WARNING:torchdrug.core.meter:Epoch 26 begin\n"
          ]
        },
        {
          "output_type": "stream",
          "name": "stdout",
          "text": [
            "19:36:24   Epoch 26 begin\n"
          ]
        },
        {
          "output_type": "stream",
          "name": "stderr",
          "text": [
            "WARNING:torchdrug.core.meter:>>>>>>>>>>>>>>>>>>>>>>>>>>>>>>\n"
          ]
        },
        {
          "output_type": "stream",
          "name": "stdout",
          "text": [
            "19:36:24   >>>>>>>>>>>>>>>>>>>>>>>>>>>>>>\n"
          ]
        },
        {
          "output_type": "stream",
          "name": "stderr",
          "text": [
            "WARNING:torchdrug.core.meter:Epoch 26 end\n"
          ]
        },
        {
          "output_type": "stream",
          "name": "stdout",
          "text": [
            "19:36:24   Epoch 26 end\n"
          ]
        },
        {
          "output_type": "stream",
          "name": "stderr",
          "text": [
            "WARNING:torchdrug.core.meter:duration: 0.25 secs\n"
          ]
        },
        {
          "output_type": "stream",
          "name": "stdout",
          "text": [
            "19:36:24   duration: 0.25 secs\n"
          ]
        },
        {
          "output_type": "stream",
          "name": "stderr",
          "text": [
            "WARNING:torchdrug.core.meter:speed: 8.04 batch / sec\n"
          ]
        },
        {
          "output_type": "stream",
          "name": "stdout",
          "text": [
            "19:36:24   speed: 8.04 batch / sec\n"
          ]
        },
        {
          "output_type": "stream",
          "name": "stderr",
          "text": [
            "WARNING:torchdrug.core.meter:ETA: 1.48 mins\n"
          ]
        },
        {
          "output_type": "stream",
          "name": "stdout",
          "text": [
            "19:36:24   ETA: 1.48 mins\n"
          ]
        },
        {
          "output_type": "stream",
          "name": "stderr",
          "text": [
            "WARNING:torchdrug.core.meter:max GPU memory: 743.0 MiB\n"
          ]
        },
        {
          "output_type": "stream",
          "name": "stdout",
          "text": [
            "19:36:24   max GPU memory: 743.0 MiB\n"
          ]
        },
        {
          "output_type": "stream",
          "name": "stderr",
          "text": [
            "WARNING:torchdrug.core.logger:------------------------------\n"
          ]
        },
        {
          "output_type": "stream",
          "name": "stdout",
          "text": [
            "19:36:24   ------------------------------\n"
          ]
        },
        {
          "output_type": "stream",
          "name": "stderr",
          "text": [
            "WARNING:torchdrug.core.logger:average binary cross entropy: 0.265425\n"
          ]
        },
        {
          "output_type": "stream",
          "name": "stdout",
          "text": [
            "19:36:24   average binary cross entropy: 0.265425\n"
          ]
        },
        {
          "output_type": "stream",
          "name": "stderr",
          "text": [
            "WARNING:torchdrug.core.meter:>>>>>>>>>>>>>>>>>>>>>>>>>>>>>>\n"
          ]
        },
        {
          "output_type": "stream",
          "name": "stdout",
          "text": [
            "19:36:24   >>>>>>>>>>>>>>>>>>>>>>>>>>>>>>\n"
          ]
        },
        {
          "output_type": "stream",
          "name": "stderr",
          "text": [
            "WARNING:torchdrug.core.meter:Epoch 27 begin\n"
          ]
        },
        {
          "output_type": "stream",
          "name": "stdout",
          "text": [
            "19:36:24   Epoch 27 begin\n"
          ]
        },
        {
          "output_type": "stream",
          "name": "stderr",
          "text": [
            "WARNING:torchdrug.core.meter:>>>>>>>>>>>>>>>>>>>>>>>>>>>>>>\n"
          ]
        },
        {
          "output_type": "stream",
          "name": "stdout",
          "text": [
            "19:36:24   >>>>>>>>>>>>>>>>>>>>>>>>>>>>>>\n"
          ]
        },
        {
          "output_type": "stream",
          "name": "stderr",
          "text": [
            "WARNING:torchdrug.core.meter:Epoch 27 end\n"
          ]
        },
        {
          "output_type": "stream",
          "name": "stdout",
          "text": [
            "19:36:24   Epoch 27 end\n"
          ]
        },
        {
          "output_type": "stream",
          "name": "stderr",
          "text": [
            "WARNING:torchdrug.core.meter:duration: 0.24 secs\n"
          ]
        },
        {
          "output_type": "stream",
          "name": "stdout",
          "text": [
            "19:36:24   duration: 0.24 secs\n"
          ]
        },
        {
          "output_type": "stream",
          "name": "stderr",
          "text": [
            "WARNING:torchdrug.core.meter:speed: 8.42 batch / sec\n"
          ]
        },
        {
          "output_type": "stream",
          "name": "stdout",
          "text": [
            "19:36:24   speed: 8.42 batch / sec\n"
          ]
        },
        {
          "output_type": "stream",
          "name": "stderr",
          "text": [
            "WARNING:torchdrug.core.meter:ETA: 1.42 mins\n"
          ]
        },
        {
          "output_type": "stream",
          "name": "stdout",
          "text": [
            "19:36:24   ETA: 1.42 mins\n"
          ]
        },
        {
          "output_type": "stream",
          "name": "stderr",
          "text": [
            "WARNING:torchdrug.core.meter:max GPU memory: 742.4 MiB\n"
          ]
        },
        {
          "output_type": "stream",
          "name": "stdout",
          "text": [
            "19:36:24   max GPU memory: 742.4 MiB\n"
          ]
        },
        {
          "output_type": "stream",
          "name": "stderr",
          "text": [
            "WARNING:torchdrug.core.logger:------------------------------\n"
          ]
        },
        {
          "output_type": "stream",
          "name": "stdout",
          "text": [
            "19:36:24   ------------------------------\n"
          ]
        },
        {
          "output_type": "stream",
          "name": "stderr",
          "text": [
            "WARNING:torchdrug.core.logger:average binary cross entropy: 0.182619\n"
          ]
        },
        {
          "output_type": "stream",
          "name": "stdout",
          "text": [
            "19:36:24   average binary cross entropy: 0.182619\n"
          ]
        },
        {
          "output_type": "stream",
          "name": "stderr",
          "text": [
            "WARNING:torchdrug.core.meter:>>>>>>>>>>>>>>>>>>>>>>>>>>>>>>\n"
          ]
        },
        {
          "output_type": "stream",
          "name": "stdout",
          "text": [
            "19:36:24   >>>>>>>>>>>>>>>>>>>>>>>>>>>>>>\n"
          ]
        },
        {
          "output_type": "stream",
          "name": "stderr",
          "text": [
            "WARNING:torchdrug.core.meter:Epoch 28 begin\n"
          ]
        },
        {
          "output_type": "stream",
          "name": "stdout",
          "text": [
            "19:36:24   Epoch 28 begin\n"
          ]
        },
        {
          "output_type": "stream",
          "name": "stderr",
          "text": [
            "WARNING:torchdrug.core.meter:>>>>>>>>>>>>>>>>>>>>>>>>>>>>>>\n"
          ]
        },
        {
          "output_type": "stream",
          "name": "stdout",
          "text": [
            "19:36:24   >>>>>>>>>>>>>>>>>>>>>>>>>>>>>>\n"
          ]
        },
        {
          "output_type": "stream",
          "name": "stderr",
          "text": [
            "WARNING:torchdrug.core.meter:Epoch 28 end\n"
          ]
        },
        {
          "output_type": "stream",
          "name": "stdout",
          "text": [
            "19:36:24   Epoch 28 end\n"
          ]
        },
        {
          "output_type": "stream",
          "name": "stderr",
          "text": [
            "WARNING:torchdrug.core.meter:duration: 0.24 secs\n"
          ]
        },
        {
          "output_type": "stream",
          "name": "stdout",
          "text": [
            "19:36:24   duration: 0.24 secs\n"
          ]
        },
        {
          "output_type": "stream",
          "name": "stderr",
          "text": [
            "WARNING:torchdrug.core.meter:speed: 8.29 batch / sec\n"
          ]
        },
        {
          "output_type": "stream",
          "name": "stdout",
          "text": [
            "19:36:24   speed: 8.29 batch / sec\n"
          ]
        },
        {
          "output_type": "stream",
          "name": "stderr",
          "text": [
            "WARNING:torchdrug.core.meter:ETA: 1.36 mins\n"
          ]
        },
        {
          "output_type": "stream",
          "name": "stdout",
          "text": [
            "19:36:24   ETA: 1.36 mins\n"
          ]
        },
        {
          "output_type": "stream",
          "name": "stderr",
          "text": [
            "WARNING:torchdrug.core.meter:max GPU memory: 757.2 MiB\n"
          ]
        },
        {
          "output_type": "stream",
          "name": "stdout",
          "text": [
            "19:36:24   max GPU memory: 757.2 MiB\n"
          ]
        },
        {
          "output_type": "stream",
          "name": "stderr",
          "text": [
            "WARNING:torchdrug.core.logger:------------------------------\n"
          ]
        },
        {
          "output_type": "stream",
          "name": "stdout",
          "text": [
            "19:36:24   ------------------------------\n"
          ]
        },
        {
          "output_type": "stream",
          "name": "stderr",
          "text": [
            "WARNING:torchdrug.core.logger:average binary cross entropy: 0.167445\n"
          ]
        },
        {
          "output_type": "stream",
          "name": "stdout",
          "text": [
            "19:36:24   average binary cross entropy: 0.167445\n"
          ]
        },
        {
          "output_type": "stream",
          "name": "stderr",
          "text": [
            "WARNING:torchdrug.core.meter:>>>>>>>>>>>>>>>>>>>>>>>>>>>>>>\n"
          ]
        },
        {
          "output_type": "stream",
          "name": "stdout",
          "text": [
            "19:36:24   >>>>>>>>>>>>>>>>>>>>>>>>>>>>>>\n"
          ]
        },
        {
          "output_type": "stream",
          "name": "stderr",
          "text": [
            "WARNING:torchdrug.core.meter:Epoch 29 begin\n"
          ]
        },
        {
          "output_type": "stream",
          "name": "stdout",
          "text": [
            "19:36:24   Epoch 29 begin\n"
          ]
        },
        {
          "output_type": "stream",
          "name": "stderr",
          "text": [
            "WARNING:torchdrug.core.meter:>>>>>>>>>>>>>>>>>>>>>>>>>>>>>>\n"
          ]
        },
        {
          "output_type": "stream",
          "name": "stdout",
          "text": [
            "19:36:25   >>>>>>>>>>>>>>>>>>>>>>>>>>>>>>\n"
          ]
        },
        {
          "output_type": "stream",
          "name": "stderr",
          "text": [
            "WARNING:torchdrug.core.meter:Epoch 29 end\n"
          ]
        },
        {
          "output_type": "stream",
          "name": "stdout",
          "text": [
            "19:36:25   Epoch 29 end\n"
          ]
        },
        {
          "output_type": "stream",
          "name": "stderr",
          "text": [
            "WARNING:torchdrug.core.meter:duration: 0.24 secs\n"
          ]
        },
        {
          "output_type": "stream",
          "name": "stdout",
          "text": [
            "19:36:25   duration: 0.24 secs\n"
          ]
        },
        {
          "output_type": "stream",
          "name": "stderr",
          "text": [
            "WARNING:torchdrug.core.meter:speed: 8.38 batch / sec\n"
          ]
        },
        {
          "output_type": "stream",
          "name": "stdout",
          "text": [
            "19:36:25   speed: 8.38 batch / sec\n"
          ]
        },
        {
          "output_type": "stream",
          "name": "stderr",
          "text": [
            "WARNING:torchdrug.core.meter:ETA: 1.31 mins\n"
          ]
        },
        {
          "output_type": "stream",
          "name": "stdout",
          "text": [
            "19:36:25   ETA: 1.31 mins\n"
          ]
        },
        {
          "output_type": "stream",
          "name": "stderr",
          "text": [
            "WARNING:torchdrug.core.meter:max GPU memory: 750.3 MiB\n"
          ]
        },
        {
          "output_type": "stream",
          "name": "stdout",
          "text": [
            "19:36:25   max GPU memory: 750.3 MiB\n"
          ]
        },
        {
          "output_type": "stream",
          "name": "stderr",
          "text": [
            "WARNING:torchdrug.core.logger:------------------------------\n"
          ]
        },
        {
          "output_type": "stream",
          "name": "stdout",
          "text": [
            "19:36:25   ------------------------------\n"
          ]
        },
        {
          "output_type": "stream",
          "name": "stderr",
          "text": [
            "WARNING:torchdrug.core.logger:average binary cross entropy: 0.18363\n"
          ]
        },
        {
          "output_type": "stream",
          "name": "stdout",
          "text": [
            "19:36:25   average binary cross entropy: 0.18363\n"
          ]
        },
        {
          "output_type": "stream",
          "name": "stderr",
          "text": [
            "WARNING:torchdrug.core.meter:>>>>>>>>>>>>>>>>>>>>>>>>>>>>>>\n"
          ]
        },
        {
          "output_type": "stream",
          "name": "stdout",
          "text": [
            "19:36:25   >>>>>>>>>>>>>>>>>>>>>>>>>>>>>>\n"
          ]
        },
        {
          "output_type": "stream",
          "name": "stderr",
          "text": [
            "WARNING:torchdrug.core.meter:Epoch 30 begin\n"
          ]
        },
        {
          "output_type": "stream",
          "name": "stdout",
          "text": [
            "19:36:25   Epoch 30 begin\n"
          ]
        },
        {
          "output_type": "stream",
          "name": "stderr",
          "text": [
            "WARNING:torchdrug.core.meter:>>>>>>>>>>>>>>>>>>>>>>>>>>>>>>\n"
          ]
        },
        {
          "output_type": "stream",
          "name": "stdout",
          "text": [
            "19:36:25   >>>>>>>>>>>>>>>>>>>>>>>>>>>>>>\n"
          ]
        },
        {
          "output_type": "stream",
          "name": "stderr",
          "text": [
            "WARNING:torchdrug.core.meter:Epoch 30 end\n"
          ]
        },
        {
          "output_type": "stream",
          "name": "stdout",
          "text": [
            "19:36:25   Epoch 30 end\n"
          ]
        },
        {
          "output_type": "stream",
          "name": "stderr",
          "text": [
            "WARNING:torchdrug.core.meter:duration: 0.25 secs\n"
          ]
        },
        {
          "output_type": "stream",
          "name": "stdout",
          "text": [
            "19:36:25   duration: 0.25 secs\n"
          ]
        },
        {
          "output_type": "stream",
          "name": "stderr",
          "text": [
            "WARNING:torchdrug.core.meter:speed: 7.89 batch / sec\n"
          ]
        },
        {
          "output_type": "stream",
          "name": "stdout",
          "text": [
            "19:36:25   speed: 7.89 batch / sec\n"
          ]
        },
        {
          "output_type": "stream",
          "name": "stderr",
          "text": [
            "WARNING:torchdrug.core.meter:ETA: 1.26 mins\n"
          ]
        },
        {
          "output_type": "stream",
          "name": "stdout",
          "text": [
            "19:36:25   ETA: 1.26 mins\n"
          ]
        },
        {
          "output_type": "stream",
          "name": "stderr",
          "text": [
            "WARNING:torchdrug.core.meter:max GPU memory: 746.1 MiB\n"
          ]
        },
        {
          "output_type": "stream",
          "name": "stdout",
          "text": [
            "19:36:25   max GPU memory: 746.1 MiB\n"
          ]
        },
        {
          "output_type": "stream",
          "name": "stderr",
          "text": [
            "WARNING:torchdrug.core.logger:------------------------------\n"
          ]
        },
        {
          "output_type": "stream",
          "name": "stdout",
          "text": [
            "19:36:25   ------------------------------\n"
          ]
        },
        {
          "output_type": "stream",
          "name": "stderr",
          "text": [
            "WARNING:torchdrug.core.logger:average binary cross entropy: 0.208539\n"
          ]
        },
        {
          "output_type": "stream",
          "name": "stdout",
          "text": [
            "19:36:25   average binary cross entropy: 0.208539\n"
          ]
        },
        {
          "output_type": "stream",
          "name": "stderr",
          "text": [
            "WARNING:torchdrug.core.meter:>>>>>>>>>>>>>>>>>>>>>>>>>>>>>>\n"
          ]
        },
        {
          "output_type": "stream",
          "name": "stdout",
          "text": [
            "19:36:25   >>>>>>>>>>>>>>>>>>>>>>>>>>>>>>\n"
          ]
        },
        {
          "output_type": "stream",
          "name": "stderr",
          "text": [
            "WARNING:torchdrug.core.meter:Epoch 31 begin\n"
          ]
        },
        {
          "output_type": "stream",
          "name": "stdout",
          "text": [
            "19:36:25   Epoch 31 begin\n"
          ]
        },
        {
          "output_type": "stream",
          "name": "stderr",
          "text": [
            "WARNING:torchdrug.core.meter:>>>>>>>>>>>>>>>>>>>>>>>>>>>>>>\n"
          ]
        },
        {
          "output_type": "stream",
          "name": "stdout",
          "text": [
            "19:36:25   >>>>>>>>>>>>>>>>>>>>>>>>>>>>>>\n"
          ]
        },
        {
          "output_type": "stream",
          "name": "stderr",
          "text": [
            "WARNING:torchdrug.core.meter:Epoch 31 end\n"
          ]
        },
        {
          "output_type": "stream",
          "name": "stdout",
          "text": [
            "19:36:25   Epoch 31 end\n"
          ]
        },
        {
          "output_type": "stream",
          "name": "stderr",
          "text": [
            "WARNING:torchdrug.core.meter:duration: 0.24 secs\n"
          ]
        },
        {
          "output_type": "stream",
          "name": "stdout",
          "text": [
            "19:36:25   duration: 0.24 secs\n"
          ]
        },
        {
          "output_type": "stream",
          "name": "stderr",
          "text": [
            "WARNING:torchdrug.core.meter:speed: 8.17 batch / sec\n"
          ]
        },
        {
          "output_type": "stream",
          "name": "stdout",
          "text": [
            "19:36:25   speed: 8.17 batch / sec\n"
          ]
        },
        {
          "output_type": "stream",
          "name": "stderr",
          "text": [
            "WARNING:torchdrug.core.meter:ETA: 1.21 mins\n"
          ]
        },
        {
          "output_type": "stream",
          "name": "stdout",
          "text": [
            "19:36:25   ETA: 1.21 mins\n"
          ]
        },
        {
          "output_type": "stream",
          "name": "stderr",
          "text": [
            "WARNING:torchdrug.core.meter:max GPU memory: 750.9 MiB\n"
          ]
        },
        {
          "output_type": "stream",
          "name": "stdout",
          "text": [
            "19:36:25   max GPU memory: 750.9 MiB\n"
          ]
        },
        {
          "output_type": "stream",
          "name": "stderr",
          "text": [
            "WARNING:torchdrug.core.logger:------------------------------\n"
          ]
        },
        {
          "output_type": "stream",
          "name": "stdout",
          "text": [
            "19:36:25   ------------------------------\n"
          ]
        },
        {
          "output_type": "stream",
          "name": "stderr",
          "text": [
            "WARNING:torchdrug.core.logger:average binary cross entropy: 0.175783\n"
          ]
        },
        {
          "output_type": "stream",
          "name": "stdout",
          "text": [
            "19:36:25   average binary cross entropy: 0.175783\n"
          ]
        },
        {
          "output_type": "stream",
          "name": "stderr",
          "text": [
            "WARNING:torchdrug.core.meter:>>>>>>>>>>>>>>>>>>>>>>>>>>>>>>\n"
          ]
        },
        {
          "output_type": "stream",
          "name": "stdout",
          "text": [
            "19:36:25   >>>>>>>>>>>>>>>>>>>>>>>>>>>>>>\n"
          ]
        },
        {
          "output_type": "stream",
          "name": "stderr",
          "text": [
            "WARNING:torchdrug.core.meter:Epoch 32 begin\n"
          ]
        },
        {
          "output_type": "stream",
          "name": "stdout",
          "text": [
            "19:36:25   Epoch 32 begin\n"
          ]
        },
        {
          "output_type": "stream",
          "name": "stderr",
          "text": [
            "WARNING:torchdrug.core.meter:>>>>>>>>>>>>>>>>>>>>>>>>>>>>>>\n"
          ]
        },
        {
          "output_type": "stream",
          "name": "stdout",
          "text": [
            "19:36:25   >>>>>>>>>>>>>>>>>>>>>>>>>>>>>>\n"
          ]
        },
        {
          "output_type": "stream",
          "name": "stderr",
          "text": [
            "WARNING:torchdrug.core.meter:Epoch 32 end\n"
          ]
        },
        {
          "output_type": "stream",
          "name": "stdout",
          "text": [
            "19:36:25   Epoch 32 end\n"
          ]
        },
        {
          "output_type": "stream",
          "name": "stderr",
          "text": [
            "WARNING:torchdrug.core.meter:duration: 0.25 secs\n"
          ]
        },
        {
          "output_type": "stream",
          "name": "stdout",
          "text": [
            "19:36:25   duration: 0.25 secs\n"
          ]
        },
        {
          "output_type": "stream",
          "name": "stderr",
          "text": [
            "WARNING:torchdrug.core.meter:speed: 7.99 batch / sec\n"
          ]
        },
        {
          "output_type": "stream",
          "name": "stdout",
          "text": [
            "19:36:25   speed: 7.99 batch / sec\n"
          ]
        },
        {
          "output_type": "stream",
          "name": "stderr",
          "text": [
            "WARNING:torchdrug.core.meter:ETA: 1.16 mins\n"
          ]
        },
        {
          "output_type": "stream",
          "name": "stdout",
          "text": [
            "19:36:25   ETA: 1.16 mins\n"
          ]
        },
        {
          "output_type": "stream",
          "name": "stderr",
          "text": [
            "WARNING:torchdrug.core.meter:max GPU memory: 754.2 MiB\n"
          ]
        },
        {
          "output_type": "stream",
          "name": "stdout",
          "text": [
            "19:36:25   max GPU memory: 754.2 MiB\n"
          ]
        },
        {
          "output_type": "stream",
          "name": "stderr",
          "text": [
            "WARNING:torchdrug.core.logger:------------------------------\n"
          ]
        },
        {
          "output_type": "stream",
          "name": "stdout",
          "text": [
            "19:36:25   ------------------------------\n"
          ]
        },
        {
          "output_type": "stream",
          "name": "stderr",
          "text": [
            "WARNING:torchdrug.core.logger:average binary cross entropy: 0.147217\n"
          ]
        },
        {
          "output_type": "stream",
          "name": "stdout",
          "text": [
            "19:36:25   average binary cross entropy: 0.147217\n"
          ]
        },
        {
          "output_type": "stream",
          "name": "stderr",
          "text": [
            "WARNING:torchdrug.core.meter:>>>>>>>>>>>>>>>>>>>>>>>>>>>>>>\n"
          ]
        },
        {
          "output_type": "stream",
          "name": "stdout",
          "text": [
            "19:36:25   >>>>>>>>>>>>>>>>>>>>>>>>>>>>>>\n"
          ]
        },
        {
          "output_type": "stream",
          "name": "stderr",
          "text": [
            "WARNING:torchdrug.core.meter:Epoch 33 begin\n"
          ]
        },
        {
          "output_type": "stream",
          "name": "stdout",
          "text": [
            "19:36:25   Epoch 33 begin\n"
          ]
        },
        {
          "output_type": "stream",
          "name": "stderr",
          "text": [
            "WARNING:torchdrug.core.meter:>>>>>>>>>>>>>>>>>>>>>>>>>>>>>>\n"
          ]
        },
        {
          "output_type": "stream",
          "name": "stdout",
          "text": [
            "19:36:26   >>>>>>>>>>>>>>>>>>>>>>>>>>>>>>\n"
          ]
        },
        {
          "output_type": "stream",
          "name": "stderr",
          "text": [
            "WARNING:torchdrug.core.meter:Epoch 33 end\n"
          ]
        },
        {
          "output_type": "stream",
          "name": "stdout",
          "text": [
            "19:36:26   Epoch 33 end\n"
          ]
        },
        {
          "output_type": "stream",
          "name": "stderr",
          "text": [
            "WARNING:torchdrug.core.meter:duration: 0.25 secs\n"
          ]
        },
        {
          "output_type": "stream",
          "name": "stdout",
          "text": [
            "19:36:26   duration: 0.25 secs\n"
          ]
        },
        {
          "output_type": "stream",
          "name": "stderr",
          "text": [
            "WARNING:torchdrug.core.meter:speed: 7.94 batch / sec\n"
          ]
        },
        {
          "output_type": "stream",
          "name": "stdout",
          "text": [
            "19:36:26   speed: 7.94 batch / sec\n"
          ]
        },
        {
          "output_type": "stream",
          "name": "stderr",
          "text": [
            "WARNING:torchdrug.core.meter:ETA: 1.12 mins\n"
          ]
        },
        {
          "output_type": "stream",
          "name": "stdout",
          "text": [
            "19:36:26   ETA: 1.12 mins\n"
          ]
        },
        {
          "output_type": "stream",
          "name": "stderr",
          "text": [
            "WARNING:torchdrug.core.meter:max GPU memory: 740.3 MiB\n"
          ]
        },
        {
          "output_type": "stream",
          "name": "stdout",
          "text": [
            "19:36:26   max GPU memory: 740.3 MiB\n"
          ]
        },
        {
          "output_type": "stream",
          "name": "stderr",
          "text": [
            "WARNING:torchdrug.core.logger:------------------------------\n"
          ]
        },
        {
          "output_type": "stream",
          "name": "stdout",
          "text": [
            "19:36:26   ------------------------------\n"
          ]
        },
        {
          "output_type": "stream",
          "name": "stderr",
          "text": [
            "WARNING:torchdrug.core.logger:average binary cross entropy: 0.192139\n"
          ]
        },
        {
          "output_type": "stream",
          "name": "stdout",
          "text": [
            "19:36:26   average binary cross entropy: 0.192139\n"
          ]
        },
        {
          "output_type": "stream",
          "name": "stderr",
          "text": [
            "WARNING:torchdrug.core.meter:>>>>>>>>>>>>>>>>>>>>>>>>>>>>>>\n"
          ]
        },
        {
          "output_type": "stream",
          "name": "stdout",
          "text": [
            "19:36:26   >>>>>>>>>>>>>>>>>>>>>>>>>>>>>>\n"
          ]
        },
        {
          "output_type": "stream",
          "name": "stderr",
          "text": [
            "WARNING:torchdrug.core.meter:Epoch 34 begin\n"
          ]
        },
        {
          "output_type": "stream",
          "name": "stdout",
          "text": [
            "19:36:26   Epoch 34 begin\n"
          ]
        },
        {
          "output_type": "stream",
          "name": "stderr",
          "text": [
            "WARNING:torchdrug.core.meter:>>>>>>>>>>>>>>>>>>>>>>>>>>>>>>\n"
          ]
        },
        {
          "output_type": "stream",
          "name": "stdout",
          "text": [
            "19:36:26   >>>>>>>>>>>>>>>>>>>>>>>>>>>>>>\n"
          ]
        },
        {
          "output_type": "stream",
          "name": "stderr",
          "text": [
            "WARNING:torchdrug.core.meter:Epoch 34 end\n"
          ]
        },
        {
          "output_type": "stream",
          "name": "stdout",
          "text": [
            "19:36:26   Epoch 34 end\n"
          ]
        },
        {
          "output_type": "stream",
          "name": "stderr",
          "text": [
            "WARNING:torchdrug.core.meter:duration: 0.24 secs\n"
          ]
        },
        {
          "output_type": "stream",
          "name": "stdout",
          "text": [
            "19:36:26   duration: 0.24 secs\n"
          ]
        },
        {
          "output_type": "stream",
          "name": "stderr",
          "text": [
            "WARNING:torchdrug.core.meter:speed: 8.30 batch / sec\n"
          ]
        },
        {
          "output_type": "stream",
          "name": "stdout",
          "text": [
            "19:36:26   speed: 8.30 batch / sec\n"
          ]
        },
        {
          "output_type": "stream",
          "name": "stderr",
          "text": [
            "WARNING:torchdrug.core.meter:ETA: 1.08 mins\n"
          ]
        },
        {
          "output_type": "stream",
          "name": "stdout",
          "text": [
            "19:36:26   ETA: 1.08 mins\n"
          ]
        },
        {
          "output_type": "stream",
          "name": "stderr",
          "text": [
            "WARNING:torchdrug.core.meter:max GPU memory: 751.8 MiB\n"
          ]
        },
        {
          "output_type": "stream",
          "name": "stdout",
          "text": [
            "19:36:26   max GPU memory: 751.8 MiB\n"
          ]
        },
        {
          "output_type": "stream",
          "name": "stderr",
          "text": [
            "WARNING:torchdrug.core.logger:------------------------------\n"
          ]
        },
        {
          "output_type": "stream",
          "name": "stdout",
          "text": [
            "19:36:26   ------------------------------\n"
          ]
        },
        {
          "output_type": "stream",
          "name": "stderr",
          "text": [
            "WARNING:torchdrug.core.logger:average binary cross entropy: 0.164097\n"
          ]
        },
        {
          "output_type": "stream",
          "name": "stdout",
          "text": [
            "19:36:26   average binary cross entropy: 0.164097\n"
          ]
        },
        {
          "output_type": "stream",
          "name": "stderr",
          "text": [
            "WARNING:torchdrug.core.meter:>>>>>>>>>>>>>>>>>>>>>>>>>>>>>>\n"
          ]
        },
        {
          "output_type": "stream",
          "name": "stdout",
          "text": [
            "19:36:26   >>>>>>>>>>>>>>>>>>>>>>>>>>>>>>\n"
          ]
        },
        {
          "output_type": "stream",
          "name": "stderr",
          "text": [
            "WARNING:torchdrug.core.meter:Epoch 35 begin\n"
          ]
        },
        {
          "output_type": "stream",
          "name": "stdout",
          "text": [
            "19:36:26   Epoch 35 begin\n"
          ]
        },
        {
          "output_type": "stream",
          "name": "stderr",
          "text": [
            "WARNING:torchdrug.core.meter:>>>>>>>>>>>>>>>>>>>>>>>>>>>>>>\n"
          ]
        },
        {
          "output_type": "stream",
          "name": "stdout",
          "text": [
            "19:36:26   >>>>>>>>>>>>>>>>>>>>>>>>>>>>>>\n"
          ]
        },
        {
          "output_type": "stream",
          "name": "stderr",
          "text": [
            "WARNING:torchdrug.core.meter:Epoch 35 end\n"
          ]
        },
        {
          "output_type": "stream",
          "name": "stdout",
          "text": [
            "19:36:26   Epoch 35 end\n"
          ]
        },
        {
          "output_type": "stream",
          "name": "stderr",
          "text": [
            "WARNING:torchdrug.core.meter:duration: 0.25 secs\n"
          ]
        },
        {
          "output_type": "stream",
          "name": "stdout",
          "text": [
            "19:36:26   duration: 0.25 secs\n"
          ]
        },
        {
          "output_type": "stream",
          "name": "stderr",
          "text": [
            "WARNING:torchdrug.core.meter:speed: 8.09 batch / sec\n"
          ]
        },
        {
          "output_type": "stream",
          "name": "stdout",
          "text": [
            "19:36:26   speed: 8.09 batch / sec\n"
          ]
        },
        {
          "output_type": "stream",
          "name": "stderr",
          "text": [
            "WARNING:torchdrug.core.meter:ETA: 1.04 mins\n"
          ]
        },
        {
          "output_type": "stream",
          "name": "stdout",
          "text": [
            "19:36:26   ETA: 1.04 mins\n"
          ]
        },
        {
          "output_type": "stream",
          "name": "stderr",
          "text": [
            "WARNING:torchdrug.core.meter:max GPU memory: 745.5 MiB\n"
          ]
        },
        {
          "output_type": "stream",
          "name": "stdout",
          "text": [
            "19:36:26   max GPU memory: 745.5 MiB\n"
          ]
        },
        {
          "output_type": "stream",
          "name": "stderr",
          "text": [
            "WARNING:torchdrug.core.logger:------------------------------\n"
          ]
        },
        {
          "output_type": "stream",
          "name": "stdout",
          "text": [
            "19:36:26   ------------------------------\n"
          ]
        },
        {
          "output_type": "stream",
          "name": "stderr",
          "text": [
            "WARNING:torchdrug.core.logger:average binary cross entropy: 0.109958\n"
          ]
        },
        {
          "output_type": "stream",
          "name": "stdout",
          "text": [
            "19:36:26   average binary cross entropy: 0.109958\n"
          ]
        },
        {
          "output_type": "stream",
          "name": "stderr",
          "text": [
            "WARNING:torchdrug.core.meter:>>>>>>>>>>>>>>>>>>>>>>>>>>>>>>\n"
          ]
        },
        {
          "output_type": "stream",
          "name": "stdout",
          "text": [
            "19:36:26   >>>>>>>>>>>>>>>>>>>>>>>>>>>>>>\n"
          ]
        },
        {
          "output_type": "stream",
          "name": "stderr",
          "text": [
            "WARNING:torchdrug.core.meter:Epoch 36 begin\n"
          ]
        },
        {
          "output_type": "stream",
          "name": "stdout",
          "text": [
            "19:36:26   Epoch 36 begin\n"
          ]
        },
        {
          "output_type": "stream",
          "name": "stderr",
          "text": [
            "WARNING:torchdrug.core.meter:>>>>>>>>>>>>>>>>>>>>>>>>>>>>>>\n"
          ]
        },
        {
          "output_type": "stream",
          "name": "stdout",
          "text": [
            "19:36:26   >>>>>>>>>>>>>>>>>>>>>>>>>>>>>>\n"
          ]
        },
        {
          "output_type": "stream",
          "name": "stderr",
          "text": [
            "WARNING:torchdrug.core.meter:Epoch 36 end\n"
          ]
        },
        {
          "output_type": "stream",
          "name": "stdout",
          "text": [
            "19:36:26   Epoch 36 end\n"
          ]
        },
        {
          "output_type": "stream",
          "name": "stderr",
          "text": [
            "WARNING:torchdrug.core.meter:duration: 0.24 secs\n"
          ]
        },
        {
          "output_type": "stream",
          "name": "stdout",
          "text": [
            "19:36:26   duration: 0.24 secs\n"
          ]
        },
        {
          "output_type": "stream",
          "name": "stderr",
          "text": [
            "WARNING:torchdrug.core.meter:speed: 8.45 batch / sec\n"
          ]
        },
        {
          "output_type": "stream",
          "name": "stdout",
          "text": [
            "19:36:26   speed: 8.45 batch / sec\n"
          ]
        },
        {
          "output_type": "stream",
          "name": "stderr",
          "text": [
            "WARNING:torchdrug.core.meter:ETA: 1.00 mins\n"
          ]
        },
        {
          "output_type": "stream",
          "name": "stdout",
          "text": [
            "19:36:26   ETA: 1.00 mins\n"
          ]
        },
        {
          "output_type": "stream",
          "name": "stderr",
          "text": [
            "WARNING:torchdrug.core.meter:max GPU memory: 748.1 MiB\n"
          ]
        },
        {
          "output_type": "stream",
          "name": "stdout",
          "text": [
            "19:36:26   max GPU memory: 748.1 MiB\n"
          ]
        },
        {
          "output_type": "stream",
          "name": "stderr",
          "text": [
            "WARNING:torchdrug.core.logger:------------------------------\n"
          ]
        },
        {
          "output_type": "stream",
          "name": "stdout",
          "text": [
            "19:36:26   ------------------------------\n"
          ]
        },
        {
          "output_type": "stream",
          "name": "stderr",
          "text": [
            "WARNING:torchdrug.core.logger:average binary cross entropy: 0.201172\n"
          ]
        },
        {
          "output_type": "stream",
          "name": "stdout",
          "text": [
            "19:36:26   average binary cross entropy: 0.201172\n"
          ]
        },
        {
          "output_type": "stream",
          "name": "stderr",
          "text": [
            "WARNING:torchdrug.core.meter:>>>>>>>>>>>>>>>>>>>>>>>>>>>>>>\n"
          ]
        },
        {
          "output_type": "stream",
          "name": "stdout",
          "text": [
            "19:36:26   >>>>>>>>>>>>>>>>>>>>>>>>>>>>>>\n"
          ]
        },
        {
          "output_type": "stream",
          "name": "stderr",
          "text": [
            "WARNING:torchdrug.core.meter:Epoch 37 begin\n"
          ]
        },
        {
          "output_type": "stream",
          "name": "stdout",
          "text": [
            "19:36:26   Epoch 37 begin\n"
          ]
        },
        {
          "output_type": "stream",
          "name": "stderr",
          "text": [
            "WARNING:torchdrug.core.meter:>>>>>>>>>>>>>>>>>>>>>>>>>>>>>>\n"
          ]
        },
        {
          "output_type": "stream",
          "name": "stdout",
          "text": [
            "19:36:27   >>>>>>>>>>>>>>>>>>>>>>>>>>>>>>\n"
          ]
        },
        {
          "output_type": "stream",
          "name": "stderr",
          "text": [
            "WARNING:torchdrug.core.meter:Epoch 37 end\n"
          ]
        },
        {
          "output_type": "stream",
          "name": "stdout",
          "text": [
            "19:36:27   Epoch 37 end\n"
          ]
        },
        {
          "output_type": "stream",
          "name": "stderr",
          "text": [
            "WARNING:torchdrug.core.meter:duration: 0.28 secs\n"
          ]
        },
        {
          "output_type": "stream",
          "name": "stdout",
          "text": [
            "19:36:27   duration: 0.28 secs\n"
          ]
        },
        {
          "output_type": "stream",
          "name": "stderr",
          "text": [
            "WARNING:torchdrug.core.meter:speed: 7.11 batch / sec\n"
          ]
        },
        {
          "output_type": "stream",
          "name": "stdout",
          "text": [
            "19:36:27   speed: 7.11 batch / sec\n"
          ]
        },
        {
          "output_type": "stream",
          "name": "stderr",
          "text": [
            "WARNING:torchdrug.core.meter:ETA: 58.14 secs\n"
          ]
        },
        {
          "output_type": "stream",
          "name": "stdout",
          "text": [
            "19:36:27   ETA: 58.14 secs\n"
          ]
        },
        {
          "output_type": "stream",
          "name": "stderr",
          "text": [
            "WARNING:torchdrug.core.meter:max GPU memory: 750.3 MiB\n"
          ]
        },
        {
          "output_type": "stream",
          "name": "stdout",
          "text": [
            "19:36:27   max GPU memory: 750.3 MiB\n"
          ]
        },
        {
          "output_type": "stream",
          "name": "stderr",
          "text": [
            "WARNING:torchdrug.core.logger:------------------------------\n"
          ]
        },
        {
          "output_type": "stream",
          "name": "stdout",
          "text": [
            "19:36:27   ------------------------------\n"
          ]
        },
        {
          "output_type": "stream",
          "name": "stderr",
          "text": [
            "WARNING:torchdrug.core.logger:average binary cross entropy: 0.188699\n"
          ]
        },
        {
          "output_type": "stream",
          "name": "stdout",
          "text": [
            "19:36:27   average binary cross entropy: 0.188699\n"
          ]
        },
        {
          "output_type": "stream",
          "name": "stderr",
          "text": [
            "WARNING:torchdrug.core.meter:>>>>>>>>>>>>>>>>>>>>>>>>>>>>>>\n"
          ]
        },
        {
          "output_type": "stream",
          "name": "stdout",
          "text": [
            "19:36:27   >>>>>>>>>>>>>>>>>>>>>>>>>>>>>>\n"
          ]
        },
        {
          "output_type": "stream",
          "name": "stderr",
          "text": [
            "WARNING:torchdrug.core.meter:Epoch 38 begin\n"
          ]
        },
        {
          "output_type": "stream",
          "name": "stdout",
          "text": [
            "19:36:27   Epoch 38 begin\n"
          ]
        },
        {
          "output_type": "stream",
          "name": "stderr",
          "text": [
            "WARNING:torchdrug.core.meter:>>>>>>>>>>>>>>>>>>>>>>>>>>>>>>\n"
          ]
        },
        {
          "output_type": "stream",
          "name": "stdout",
          "text": [
            "19:36:27   >>>>>>>>>>>>>>>>>>>>>>>>>>>>>>\n"
          ]
        },
        {
          "output_type": "stream",
          "name": "stderr",
          "text": [
            "WARNING:torchdrug.core.meter:Epoch 38 end\n"
          ]
        },
        {
          "output_type": "stream",
          "name": "stdout",
          "text": [
            "19:36:27   Epoch 38 end\n"
          ]
        },
        {
          "output_type": "stream",
          "name": "stderr",
          "text": [
            "WARNING:torchdrug.core.meter:duration: 0.26 secs\n"
          ]
        },
        {
          "output_type": "stream",
          "name": "stdout",
          "text": [
            "19:36:27   duration: 0.26 secs\n"
          ]
        },
        {
          "output_type": "stream",
          "name": "stderr",
          "text": [
            "WARNING:torchdrug.core.meter:speed: 7.60 batch / sec\n"
          ]
        },
        {
          "output_type": "stream",
          "name": "stdout",
          "text": [
            "19:36:27   speed: 7.60 batch / sec\n"
          ]
        },
        {
          "output_type": "stream",
          "name": "stderr",
          "text": [
            "WARNING:torchdrug.core.meter:ETA: 56.15 secs\n"
          ]
        },
        {
          "output_type": "stream",
          "name": "stdout",
          "text": [
            "19:36:27   ETA: 56.15 secs\n"
          ]
        },
        {
          "output_type": "stream",
          "name": "stderr",
          "text": [
            "WARNING:torchdrug.core.meter:max GPU memory: 740.9 MiB\n"
          ]
        },
        {
          "output_type": "stream",
          "name": "stdout",
          "text": [
            "19:36:27   max GPU memory: 740.9 MiB\n"
          ]
        },
        {
          "output_type": "stream",
          "name": "stderr",
          "text": [
            "WARNING:torchdrug.core.logger:------------------------------\n"
          ]
        },
        {
          "output_type": "stream",
          "name": "stdout",
          "text": [
            "19:36:27   ------------------------------\n"
          ]
        },
        {
          "output_type": "stream",
          "name": "stderr",
          "text": [
            "WARNING:torchdrug.core.logger:average binary cross entropy: 0.081685\n"
          ]
        },
        {
          "output_type": "stream",
          "name": "stdout",
          "text": [
            "19:36:27   average binary cross entropy: 0.081685\n"
          ]
        },
        {
          "output_type": "stream",
          "name": "stderr",
          "text": [
            "WARNING:torchdrug.core.meter:>>>>>>>>>>>>>>>>>>>>>>>>>>>>>>\n"
          ]
        },
        {
          "output_type": "stream",
          "name": "stdout",
          "text": [
            "19:36:27   >>>>>>>>>>>>>>>>>>>>>>>>>>>>>>\n"
          ]
        },
        {
          "output_type": "stream",
          "name": "stderr",
          "text": [
            "WARNING:torchdrug.core.meter:Epoch 39 begin\n"
          ]
        },
        {
          "output_type": "stream",
          "name": "stdout",
          "text": [
            "19:36:27   Epoch 39 begin\n"
          ]
        },
        {
          "output_type": "stream",
          "name": "stderr",
          "text": [
            "WARNING:torchdrug.core.meter:>>>>>>>>>>>>>>>>>>>>>>>>>>>>>>\n"
          ]
        },
        {
          "output_type": "stream",
          "name": "stdout",
          "text": [
            "19:36:27   >>>>>>>>>>>>>>>>>>>>>>>>>>>>>>\n"
          ]
        },
        {
          "output_type": "stream",
          "name": "stderr",
          "text": [
            "WARNING:torchdrug.core.meter:Epoch 39 end\n"
          ]
        },
        {
          "output_type": "stream",
          "name": "stdout",
          "text": [
            "19:36:27   Epoch 39 end\n"
          ]
        },
        {
          "output_type": "stream",
          "name": "stderr",
          "text": [
            "WARNING:torchdrug.core.meter:duration: 0.24 secs\n"
          ]
        },
        {
          "output_type": "stream",
          "name": "stdout",
          "text": [
            "19:36:27   duration: 0.24 secs\n"
          ]
        },
        {
          "output_type": "stream",
          "name": "stderr",
          "text": [
            "WARNING:torchdrug.core.meter:speed: 8.25 batch / sec\n"
          ]
        },
        {
          "output_type": "stream",
          "name": "stdout",
          "text": [
            "19:36:27   speed: 8.25 batch / sec\n"
          ]
        },
        {
          "output_type": "stream",
          "name": "stderr",
          "text": [
            "WARNING:torchdrug.core.meter:ETA: 54.21 secs\n"
          ]
        },
        {
          "output_type": "stream",
          "name": "stdout",
          "text": [
            "19:36:27   ETA: 54.21 secs\n"
          ]
        },
        {
          "output_type": "stream",
          "name": "stderr",
          "text": [
            "WARNING:torchdrug.core.meter:max GPU memory: 751.4 MiB\n"
          ]
        },
        {
          "output_type": "stream",
          "name": "stdout",
          "text": [
            "19:36:27   max GPU memory: 751.4 MiB\n"
          ]
        },
        {
          "output_type": "stream",
          "name": "stderr",
          "text": [
            "WARNING:torchdrug.core.logger:------------------------------\n"
          ]
        },
        {
          "output_type": "stream",
          "name": "stdout",
          "text": [
            "19:36:27   ------------------------------\n"
          ]
        },
        {
          "output_type": "stream",
          "name": "stderr",
          "text": [
            "WARNING:torchdrug.core.logger:average binary cross entropy: 0.168775\n"
          ]
        },
        {
          "output_type": "stream",
          "name": "stdout",
          "text": [
            "19:36:27   average binary cross entropy: 0.168775\n"
          ]
        },
        {
          "output_type": "stream",
          "name": "stderr",
          "text": [
            "WARNING:torchdrug.core.meter:>>>>>>>>>>>>>>>>>>>>>>>>>>>>>>\n"
          ]
        },
        {
          "output_type": "stream",
          "name": "stdout",
          "text": [
            "19:36:27   >>>>>>>>>>>>>>>>>>>>>>>>>>>>>>\n"
          ]
        },
        {
          "output_type": "stream",
          "name": "stderr",
          "text": [
            "WARNING:torchdrug.core.meter:Epoch 40 begin\n"
          ]
        },
        {
          "output_type": "stream",
          "name": "stdout",
          "text": [
            "19:36:27   Epoch 40 begin\n"
          ]
        },
        {
          "output_type": "stream",
          "name": "stderr",
          "text": [
            "WARNING:torchdrug.core.meter:>>>>>>>>>>>>>>>>>>>>>>>>>>>>>>\n"
          ]
        },
        {
          "output_type": "stream",
          "name": "stdout",
          "text": [
            "19:36:27   >>>>>>>>>>>>>>>>>>>>>>>>>>>>>>\n"
          ]
        },
        {
          "output_type": "stream",
          "name": "stderr",
          "text": [
            "WARNING:torchdrug.core.meter:Epoch 40 end\n"
          ]
        },
        {
          "output_type": "stream",
          "name": "stdout",
          "text": [
            "19:36:27   Epoch 40 end\n"
          ]
        },
        {
          "output_type": "stream",
          "name": "stderr",
          "text": [
            "WARNING:torchdrug.core.meter:duration: 0.24 secs\n"
          ]
        },
        {
          "output_type": "stream",
          "name": "stdout",
          "text": [
            "19:36:27   duration: 0.24 secs\n"
          ]
        },
        {
          "output_type": "stream",
          "name": "stderr",
          "text": [
            "WARNING:torchdrug.core.meter:speed: 8.25 batch / sec\n"
          ]
        },
        {
          "output_type": "stream",
          "name": "stdout",
          "text": [
            "19:36:27   speed: 8.25 batch / sec\n"
          ]
        },
        {
          "output_type": "stream",
          "name": "stderr",
          "text": [
            "WARNING:torchdrug.core.meter:ETA: 52.36 secs\n"
          ]
        },
        {
          "output_type": "stream",
          "name": "stdout",
          "text": [
            "19:36:27   ETA: 52.36 secs\n"
          ]
        },
        {
          "output_type": "stream",
          "name": "stderr",
          "text": [
            "WARNING:torchdrug.core.meter:max GPU memory: 747.0 MiB\n"
          ]
        },
        {
          "output_type": "stream",
          "name": "stdout",
          "text": [
            "19:36:27   max GPU memory: 747.0 MiB\n"
          ]
        },
        {
          "output_type": "stream",
          "name": "stderr",
          "text": [
            "WARNING:torchdrug.core.logger:------------------------------\n"
          ]
        },
        {
          "output_type": "stream",
          "name": "stdout",
          "text": [
            "19:36:27   ------------------------------\n"
          ]
        },
        {
          "output_type": "stream",
          "name": "stderr",
          "text": [
            "WARNING:torchdrug.core.logger:average binary cross entropy: 0.184081\n"
          ]
        },
        {
          "output_type": "stream",
          "name": "stdout",
          "text": [
            "19:36:27   average binary cross entropy: 0.184081\n"
          ]
        },
        {
          "output_type": "stream",
          "name": "stderr",
          "text": [
            "WARNING:torchdrug.core.meter:>>>>>>>>>>>>>>>>>>>>>>>>>>>>>>\n"
          ]
        },
        {
          "output_type": "stream",
          "name": "stdout",
          "text": [
            "19:36:27   >>>>>>>>>>>>>>>>>>>>>>>>>>>>>>\n"
          ]
        },
        {
          "output_type": "stream",
          "name": "stderr",
          "text": [
            "WARNING:torchdrug.core.meter:Epoch 41 begin\n"
          ]
        },
        {
          "output_type": "stream",
          "name": "stdout",
          "text": [
            "19:36:27   Epoch 41 begin\n"
          ]
        },
        {
          "output_type": "stream",
          "name": "stderr",
          "text": [
            "WARNING:torchdrug.core.meter:>>>>>>>>>>>>>>>>>>>>>>>>>>>>>>\n"
          ]
        },
        {
          "output_type": "stream",
          "name": "stdout",
          "text": [
            "19:36:28   >>>>>>>>>>>>>>>>>>>>>>>>>>>>>>\n"
          ]
        },
        {
          "output_type": "stream",
          "name": "stderr",
          "text": [
            "WARNING:torchdrug.core.meter:Epoch 41 end\n"
          ]
        },
        {
          "output_type": "stream",
          "name": "stdout",
          "text": [
            "19:36:28   Epoch 41 end\n"
          ]
        },
        {
          "output_type": "stream",
          "name": "stderr",
          "text": [
            "WARNING:torchdrug.core.meter:duration: 0.24 secs\n"
          ]
        },
        {
          "output_type": "stream",
          "name": "stdout",
          "text": [
            "19:36:28   duration: 0.24 secs\n"
          ]
        },
        {
          "output_type": "stream",
          "name": "stderr",
          "text": [
            "WARNING:torchdrug.core.meter:speed: 8.46 batch / sec\n"
          ]
        },
        {
          "output_type": "stream",
          "name": "stdout",
          "text": [
            "19:36:28   speed: 8.46 batch / sec\n"
          ]
        },
        {
          "output_type": "stream",
          "name": "stderr",
          "text": [
            "WARNING:torchdrug.core.meter:ETA: 50.57 secs\n"
          ]
        },
        {
          "output_type": "stream",
          "name": "stdout",
          "text": [
            "19:36:28   ETA: 50.57 secs\n"
          ]
        },
        {
          "output_type": "stream",
          "name": "stderr",
          "text": [
            "WARNING:torchdrug.core.meter:max GPU memory: 751.3 MiB\n"
          ]
        },
        {
          "output_type": "stream",
          "name": "stdout",
          "text": [
            "19:36:28   max GPU memory: 751.3 MiB\n"
          ]
        },
        {
          "output_type": "stream",
          "name": "stderr",
          "text": [
            "WARNING:torchdrug.core.logger:------------------------------\n"
          ]
        },
        {
          "output_type": "stream",
          "name": "stdout",
          "text": [
            "19:36:28   ------------------------------\n"
          ]
        },
        {
          "output_type": "stream",
          "name": "stderr",
          "text": [
            "WARNING:torchdrug.core.logger:average binary cross entropy: 0.117514\n"
          ]
        },
        {
          "output_type": "stream",
          "name": "stdout",
          "text": [
            "19:36:28   average binary cross entropy: 0.117514\n"
          ]
        },
        {
          "output_type": "stream",
          "name": "stderr",
          "text": [
            "WARNING:torchdrug.core.meter:>>>>>>>>>>>>>>>>>>>>>>>>>>>>>>\n"
          ]
        },
        {
          "output_type": "stream",
          "name": "stdout",
          "text": [
            "19:36:28   >>>>>>>>>>>>>>>>>>>>>>>>>>>>>>\n"
          ]
        },
        {
          "output_type": "stream",
          "name": "stderr",
          "text": [
            "WARNING:torchdrug.core.meter:Epoch 42 begin\n"
          ]
        },
        {
          "output_type": "stream",
          "name": "stdout",
          "text": [
            "19:36:28   Epoch 42 begin\n"
          ]
        },
        {
          "output_type": "stream",
          "name": "stderr",
          "text": [
            "WARNING:torchdrug.core.meter:>>>>>>>>>>>>>>>>>>>>>>>>>>>>>>\n"
          ]
        },
        {
          "output_type": "stream",
          "name": "stdout",
          "text": [
            "19:36:28   >>>>>>>>>>>>>>>>>>>>>>>>>>>>>>\n"
          ]
        },
        {
          "output_type": "stream",
          "name": "stderr",
          "text": [
            "WARNING:torchdrug.core.meter:Epoch 42 end\n"
          ]
        },
        {
          "output_type": "stream",
          "name": "stdout",
          "text": [
            "19:36:28   Epoch 42 end\n"
          ]
        },
        {
          "output_type": "stream",
          "name": "stderr",
          "text": [
            "WARNING:torchdrug.core.meter:duration: 0.24 secs\n"
          ]
        },
        {
          "output_type": "stream",
          "name": "stdout",
          "text": [
            "19:36:28   duration: 0.24 secs\n"
          ]
        },
        {
          "output_type": "stream",
          "name": "stderr",
          "text": [
            "WARNING:torchdrug.core.meter:speed: 8.29 batch / sec\n"
          ]
        },
        {
          "output_type": "stream",
          "name": "stdout",
          "text": [
            "19:36:28   speed: 8.29 batch / sec\n"
          ]
        },
        {
          "output_type": "stream",
          "name": "stderr",
          "text": [
            "WARNING:torchdrug.core.meter:ETA: 48.86 secs\n"
          ]
        },
        {
          "output_type": "stream",
          "name": "stdout",
          "text": [
            "19:36:28   ETA: 48.86 secs\n"
          ]
        },
        {
          "output_type": "stream",
          "name": "stderr",
          "text": [
            "WARNING:torchdrug.core.meter:max GPU memory: 750.1 MiB\n"
          ]
        },
        {
          "output_type": "stream",
          "name": "stdout",
          "text": [
            "19:36:28   max GPU memory: 750.1 MiB\n"
          ]
        },
        {
          "output_type": "stream",
          "name": "stderr",
          "text": [
            "WARNING:torchdrug.core.logger:------------------------------\n"
          ]
        },
        {
          "output_type": "stream",
          "name": "stdout",
          "text": [
            "19:36:28   ------------------------------\n"
          ]
        },
        {
          "output_type": "stream",
          "name": "stderr",
          "text": [
            "WARNING:torchdrug.core.logger:average binary cross entropy: 0.123718\n"
          ]
        },
        {
          "output_type": "stream",
          "name": "stdout",
          "text": [
            "19:36:28   average binary cross entropy: 0.123718\n"
          ]
        },
        {
          "output_type": "stream",
          "name": "stderr",
          "text": [
            "WARNING:torchdrug.core.meter:>>>>>>>>>>>>>>>>>>>>>>>>>>>>>>\n"
          ]
        },
        {
          "output_type": "stream",
          "name": "stdout",
          "text": [
            "19:36:28   >>>>>>>>>>>>>>>>>>>>>>>>>>>>>>\n"
          ]
        },
        {
          "output_type": "stream",
          "name": "stderr",
          "text": [
            "WARNING:torchdrug.core.meter:Epoch 43 begin\n"
          ]
        },
        {
          "output_type": "stream",
          "name": "stdout",
          "text": [
            "19:36:28   Epoch 43 begin\n"
          ]
        },
        {
          "output_type": "stream",
          "name": "stderr",
          "text": [
            "WARNING:torchdrug.core.meter:>>>>>>>>>>>>>>>>>>>>>>>>>>>>>>\n"
          ]
        },
        {
          "output_type": "stream",
          "name": "stdout",
          "text": [
            "19:36:28   >>>>>>>>>>>>>>>>>>>>>>>>>>>>>>\n"
          ]
        },
        {
          "output_type": "stream",
          "name": "stderr",
          "text": [
            "WARNING:torchdrug.core.meter:Epoch 43 end\n"
          ]
        },
        {
          "output_type": "stream",
          "name": "stdout",
          "text": [
            "19:36:28   Epoch 43 end\n"
          ]
        },
        {
          "output_type": "stream",
          "name": "stderr",
          "text": [
            "WARNING:torchdrug.core.meter:duration: 0.25 secs\n"
          ]
        },
        {
          "output_type": "stream",
          "name": "stdout",
          "text": [
            "19:36:28   duration: 0.25 secs\n"
          ]
        },
        {
          "output_type": "stream",
          "name": "stderr",
          "text": [
            "WARNING:torchdrug.core.meter:speed: 8.12 batch / sec\n"
          ]
        },
        {
          "output_type": "stream",
          "name": "stdout",
          "text": [
            "19:36:28   speed: 8.12 batch / sec\n"
          ]
        },
        {
          "output_type": "stream",
          "name": "stderr",
          "text": [
            "WARNING:torchdrug.core.meter:ETA: 47.23 secs\n"
          ]
        },
        {
          "output_type": "stream",
          "name": "stdout",
          "text": [
            "19:36:28   ETA: 47.23 secs\n"
          ]
        },
        {
          "output_type": "stream",
          "name": "stderr",
          "text": [
            "WARNING:torchdrug.core.meter:max GPU memory: 740.0 MiB\n"
          ]
        },
        {
          "output_type": "stream",
          "name": "stdout",
          "text": [
            "19:36:28   max GPU memory: 740.0 MiB\n"
          ]
        },
        {
          "output_type": "stream",
          "name": "stderr",
          "text": [
            "WARNING:torchdrug.core.logger:------------------------------\n"
          ]
        },
        {
          "output_type": "stream",
          "name": "stdout",
          "text": [
            "19:36:28   ------------------------------\n"
          ]
        },
        {
          "output_type": "stream",
          "name": "stderr",
          "text": [
            "WARNING:torchdrug.core.logger:average binary cross entropy: 0.14306\n"
          ]
        },
        {
          "output_type": "stream",
          "name": "stdout",
          "text": [
            "19:36:28   average binary cross entropy: 0.14306\n"
          ]
        },
        {
          "output_type": "stream",
          "name": "stderr",
          "text": [
            "WARNING:torchdrug.core.meter:>>>>>>>>>>>>>>>>>>>>>>>>>>>>>>\n"
          ]
        },
        {
          "output_type": "stream",
          "name": "stdout",
          "text": [
            "19:36:28   >>>>>>>>>>>>>>>>>>>>>>>>>>>>>>\n"
          ]
        },
        {
          "output_type": "stream",
          "name": "stderr",
          "text": [
            "WARNING:torchdrug.core.meter:Epoch 44 begin\n"
          ]
        },
        {
          "output_type": "stream",
          "name": "stdout",
          "text": [
            "19:36:28   Epoch 44 begin\n"
          ]
        },
        {
          "output_type": "stream",
          "name": "stderr",
          "text": [
            "WARNING:torchdrug.core.meter:>>>>>>>>>>>>>>>>>>>>>>>>>>>>>>\n"
          ]
        },
        {
          "output_type": "stream",
          "name": "stdout",
          "text": [
            "19:36:28   >>>>>>>>>>>>>>>>>>>>>>>>>>>>>>\n"
          ]
        },
        {
          "output_type": "stream",
          "name": "stderr",
          "text": [
            "WARNING:torchdrug.core.meter:Epoch 44 end\n"
          ]
        },
        {
          "output_type": "stream",
          "name": "stdout",
          "text": [
            "19:36:28   Epoch 44 end\n"
          ]
        },
        {
          "output_type": "stream",
          "name": "stderr",
          "text": [
            "WARNING:torchdrug.core.meter:duration: 0.25 secs\n"
          ]
        },
        {
          "output_type": "stream",
          "name": "stdout",
          "text": [
            "19:36:28   duration: 0.25 secs\n"
          ]
        },
        {
          "output_type": "stream",
          "name": "stderr",
          "text": [
            "WARNING:torchdrug.core.meter:speed: 7.91 batch / sec\n"
          ]
        },
        {
          "output_type": "stream",
          "name": "stdout",
          "text": [
            "19:36:28   speed: 7.91 batch / sec\n"
          ]
        },
        {
          "output_type": "stream",
          "name": "stderr",
          "text": [
            "WARNING:torchdrug.core.meter:ETA: 45.66 secs\n"
          ]
        },
        {
          "output_type": "stream",
          "name": "stdout",
          "text": [
            "19:36:28   ETA: 45.66 secs\n"
          ]
        },
        {
          "output_type": "stream",
          "name": "stderr",
          "text": [
            "WARNING:torchdrug.core.meter:max GPU memory: 739.1 MiB\n"
          ]
        },
        {
          "output_type": "stream",
          "name": "stdout",
          "text": [
            "19:36:28   max GPU memory: 739.1 MiB\n"
          ]
        },
        {
          "output_type": "stream",
          "name": "stderr",
          "text": [
            "WARNING:torchdrug.core.logger:------------------------------\n"
          ]
        },
        {
          "output_type": "stream",
          "name": "stdout",
          "text": [
            "19:36:28   ------------------------------\n"
          ]
        },
        {
          "output_type": "stream",
          "name": "stderr",
          "text": [
            "WARNING:torchdrug.core.logger:average binary cross entropy: 0.113696\n"
          ]
        },
        {
          "output_type": "stream",
          "name": "stdout",
          "text": [
            "19:36:28   average binary cross entropy: 0.113696\n"
          ]
        },
        {
          "output_type": "stream",
          "name": "stderr",
          "text": [
            "WARNING:torchdrug.core.meter:>>>>>>>>>>>>>>>>>>>>>>>>>>>>>>\n"
          ]
        },
        {
          "output_type": "stream",
          "name": "stdout",
          "text": [
            "19:36:28   >>>>>>>>>>>>>>>>>>>>>>>>>>>>>>\n"
          ]
        },
        {
          "output_type": "stream",
          "name": "stderr",
          "text": [
            "WARNING:torchdrug.core.meter:Epoch 45 begin\n"
          ]
        },
        {
          "output_type": "stream",
          "name": "stdout",
          "text": [
            "19:36:28   Epoch 45 begin\n"
          ]
        },
        {
          "output_type": "stream",
          "name": "stderr",
          "text": [
            "WARNING:torchdrug.core.meter:>>>>>>>>>>>>>>>>>>>>>>>>>>>>>>\n"
          ]
        },
        {
          "output_type": "stream",
          "name": "stdout",
          "text": [
            "19:36:29   >>>>>>>>>>>>>>>>>>>>>>>>>>>>>>\n"
          ]
        },
        {
          "output_type": "stream",
          "name": "stderr",
          "text": [
            "WARNING:torchdrug.core.meter:Epoch 45 end\n"
          ]
        },
        {
          "output_type": "stream",
          "name": "stdout",
          "text": [
            "19:36:29   Epoch 45 end\n"
          ]
        },
        {
          "output_type": "stream",
          "name": "stderr",
          "text": [
            "WARNING:torchdrug.core.meter:duration: 0.24 secs\n"
          ]
        },
        {
          "output_type": "stream",
          "name": "stdout",
          "text": [
            "19:36:29   duration: 0.24 secs\n"
          ]
        },
        {
          "output_type": "stream",
          "name": "stderr",
          "text": [
            "WARNING:torchdrug.core.meter:speed: 8.29 batch / sec\n"
          ]
        },
        {
          "output_type": "stream",
          "name": "stdout",
          "text": [
            "19:36:29   speed: 8.29 batch / sec\n"
          ]
        },
        {
          "output_type": "stream",
          "name": "stderr",
          "text": [
            "WARNING:torchdrug.core.meter:ETA: 44.14 secs\n"
          ]
        },
        {
          "output_type": "stream",
          "name": "stdout",
          "text": [
            "19:36:29   ETA: 44.14 secs\n"
          ]
        },
        {
          "output_type": "stream",
          "name": "stderr",
          "text": [
            "WARNING:torchdrug.core.meter:max GPU memory: 752.1 MiB\n"
          ]
        },
        {
          "output_type": "stream",
          "name": "stdout",
          "text": [
            "19:36:29   max GPU memory: 752.1 MiB\n"
          ]
        },
        {
          "output_type": "stream",
          "name": "stderr",
          "text": [
            "WARNING:torchdrug.core.logger:------------------------------\n"
          ]
        },
        {
          "output_type": "stream",
          "name": "stdout",
          "text": [
            "19:36:29   ------------------------------\n"
          ]
        },
        {
          "output_type": "stream",
          "name": "stderr",
          "text": [
            "WARNING:torchdrug.core.logger:average binary cross entropy: 0.102481\n"
          ]
        },
        {
          "output_type": "stream",
          "name": "stdout",
          "text": [
            "19:36:29   average binary cross entropy: 0.102481\n"
          ]
        },
        {
          "output_type": "stream",
          "name": "stderr",
          "text": [
            "WARNING:torchdrug.core.meter:>>>>>>>>>>>>>>>>>>>>>>>>>>>>>>\n"
          ]
        },
        {
          "output_type": "stream",
          "name": "stdout",
          "text": [
            "19:36:29   >>>>>>>>>>>>>>>>>>>>>>>>>>>>>>\n"
          ]
        },
        {
          "output_type": "stream",
          "name": "stderr",
          "text": [
            "WARNING:torchdrug.core.meter:Epoch 46 begin\n"
          ]
        },
        {
          "output_type": "stream",
          "name": "stdout",
          "text": [
            "19:36:29   Epoch 46 begin\n"
          ]
        },
        {
          "output_type": "stream",
          "name": "stderr",
          "text": [
            "WARNING:torchdrug.core.meter:>>>>>>>>>>>>>>>>>>>>>>>>>>>>>>\n"
          ]
        },
        {
          "output_type": "stream",
          "name": "stdout",
          "text": [
            "19:36:29   >>>>>>>>>>>>>>>>>>>>>>>>>>>>>>\n"
          ]
        },
        {
          "output_type": "stream",
          "name": "stderr",
          "text": [
            "WARNING:torchdrug.core.meter:Epoch 46 end\n"
          ]
        },
        {
          "output_type": "stream",
          "name": "stdout",
          "text": [
            "19:36:29   Epoch 46 end\n"
          ]
        },
        {
          "output_type": "stream",
          "name": "stderr",
          "text": [
            "WARNING:torchdrug.core.meter:duration: 0.23 secs\n"
          ]
        },
        {
          "output_type": "stream",
          "name": "stdout",
          "text": [
            "19:36:29   duration: 0.23 secs\n"
          ]
        },
        {
          "output_type": "stream",
          "name": "stderr",
          "text": [
            "WARNING:torchdrug.core.meter:speed: 8.58 batch / sec\n"
          ]
        },
        {
          "output_type": "stream",
          "name": "stdout",
          "text": [
            "19:36:29   speed: 8.58 batch / sec\n"
          ]
        },
        {
          "output_type": "stream",
          "name": "stderr",
          "text": [
            "WARNING:torchdrug.core.meter:ETA: 42.66 secs\n"
          ]
        },
        {
          "output_type": "stream",
          "name": "stdout",
          "text": [
            "19:36:29   ETA: 42.66 secs\n"
          ]
        },
        {
          "output_type": "stream",
          "name": "stderr",
          "text": [
            "WARNING:torchdrug.core.meter:max GPU memory: 739.3 MiB\n"
          ]
        },
        {
          "output_type": "stream",
          "name": "stdout",
          "text": [
            "19:36:29   max GPU memory: 739.3 MiB\n"
          ]
        },
        {
          "output_type": "stream",
          "name": "stderr",
          "text": [
            "WARNING:torchdrug.core.logger:------------------------------\n"
          ]
        },
        {
          "output_type": "stream",
          "name": "stdout",
          "text": [
            "19:36:29   ------------------------------\n"
          ]
        },
        {
          "output_type": "stream",
          "name": "stderr",
          "text": [
            "WARNING:torchdrug.core.logger:average binary cross entropy: 0.0922701\n"
          ]
        },
        {
          "output_type": "stream",
          "name": "stdout",
          "text": [
            "19:36:29   average binary cross entropy: 0.0922701\n"
          ]
        },
        {
          "output_type": "stream",
          "name": "stderr",
          "text": [
            "WARNING:torchdrug.core.meter:>>>>>>>>>>>>>>>>>>>>>>>>>>>>>>\n"
          ]
        },
        {
          "output_type": "stream",
          "name": "stdout",
          "text": [
            "19:36:29   >>>>>>>>>>>>>>>>>>>>>>>>>>>>>>\n"
          ]
        },
        {
          "output_type": "stream",
          "name": "stderr",
          "text": [
            "WARNING:torchdrug.core.meter:Epoch 47 begin\n"
          ]
        },
        {
          "output_type": "stream",
          "name": "stdout",
          "text": [
            "19:36:29   Epoch 47 begin\n"
          ]
        },
        {
          "output_type": "stream",
          "name": "stderr",
          "text": [
            "WARNING:torchdrug.core.meter:>>>>>>>>>>>>>>>>>>>>>>>>>>>>>>\n"
          ]
        },
        {
          "output_type": "stream",
          "name": "stdout",
          "text": [
            "19:36:29   >>>>>>>>>>>>>>>>>>>>>>>>>>>>>>\n"
          ]
        },
        {
          "output_type": "stream",
          "name": "stderr",
          "text": [
            "WARNING:torchdrug.core.meter:Epoch 47 end\n"
          ]
        },
        {
          "output_type": "stream",
          "name": "stdout",
          "text": [
            "19:36:29   Epoch 47 end\n"
          ]
        },
        {
          "output_type": "stream",
          "name": "stderr",
          "text": [
            "WARNING:torchdrug.core.meter:duration: 0.24 secs\n"
          ]
        },
        {
          "output_type": "stream",
          "name": "stdout",
          "text": [
            "19:36:29   duration: 0.24 secs\n"
          ]
        },
        {
          "output_type": "stream",
          "name": "stderr",
          "text": [
            "WARNING:torchdrug.core.meter:speed: 8.46 batch / sec\n"
          ]
        },
        {
          "output_type": "stream",
          "name": "stdout",
          "text": [
            "19:36:29   speed: 8.46 batch / sec\n"
          ]
        },
        {
          "output_type": "stream",
          "name": "stderr",
          "text": [
            "WARNING:torchdrug.core.meter:ETA: 41.24 secs\n"
          ]
        },
        {
          "output_type": "stream",
          "name": "stdout",
          "text": [
            "19:36:29   ETA: 41.24 secs\n"
          ]
        },
        {
          "output_type": "stream",
          "name": "stderr",
          "text": [
            "WARNING:torchdrug.core.meter:max GPU memory: 750.6 MiB\n"
          ]
        },
        {
          "output_type": "stream",
          "name": "stdout",
          "text": [
            "19:36:29   max GPU memory: 750.6 MiB\n"
          ]
        },
        {
          "output_type": "stream",
          "name": "stderr",
          "text": [
            "WARNING:torchdrug.core.logger:------------------------------\n"
          ]
        },
        {
          "output_type": "stream",
          "name": "stdout",
          "text": [
            "19:36:29   ------------------------------\n"
          ]
        },
        {
          "output_type": "stream",
          "name": "stderr",
          "text": [
            "WARNING:torchdrug.core.logger:average binary cross entropy: 0.0881011\n"
          ]
        },
        {
          "output_type": "stream",
          "name": "stdout",
          "text": [
            "19:36:29   average binary cross entropy: 0.0881011\n"
          ]
        },
        {
          "output_type": "stream",
          "name": "stderr",
          "text": [
            "WARNING:torchdrug.core.meter:>>>>>>>>>>>>>>>>>>>>>>>>>>>>>>\n"
          ]
        },
        {
          "output_type": "stream",
          "name": "stdout",
          "text": [
            "19:36:29   >>>>>>>>>>>>>>>>>>>>>>>>>>>>>>\n"
          ]
        },
        {
          "output_type": "stream",
          "name": "stderr",
          "text": [
            "WARNING:torchdrug.core.meter:Epoch 48 begin\n"
          ]
        },
        {
          "output_type": "stream",
          "name": "stdout",
          "text": [
            "19:36:29   Epoch 48 begin\n"
          ]
        },
        {
          "output_type": "stream",
          "name": "stderr",
          "text": [
            "WARNING:torchdrug.core.meter:>>>>>>>>>>>>>>>>>>>>>>>>>>>>>>\n"
          ]
        },
        {
          "output_type": "stream",
          "name": "stdout",
          "text": [
            "19:36:29   >>>>>>>>>>>>>>>>>>>>>>>>>>>>>>\n"
          ]
        },
        {
          "output_type": "stream",
          "name": "stderr",
          "text": [
            "WARNING:torchdrug.core.meter:Epoch 48 end\n"
          ]
        },
        {
          "output_type": "stream",
          "name": "stdout",
          "text": [
            "19:36:29   Epoch 48 end\n"
          ]
        },
        {
          "output_type": "stream",
          "name": "stderr",
          "text": [
            "WARNING:torchdrug.core.meter:duration: 0.25 secs\n"
          ]
        },
        {
          "output_type": "stream",
          "name": "stdout",
          "text": [
            "19:36:29   duration: 0.25 secs\n"
          ]
        },
        {
          "output_type": "stream",
          "name": "stderr",
          "text": [
            "WARNING:torchdrug.core.meter:speed: 7.97 batch / sec\n"
          ]
        },
        {
          "output_type": "stream",
          "name": "stdout",
          "text": [
            "19:36:29   speed: 7.97 batch / sec\n"
          ]
        },
        {
          "output_type": "stream",
          "name": "stderr",
          "text": [
            "WARNING:torchdrug.core.meter:ETA: 39.89 secs\n"
          ]
        },
        {
          "output_type": "stream",
          "name": "stdout",
          "text": [
            "19:36:29   ETA: 39.89 secs\n"
          ]
        },
        {
          "output_type": "stream",
          "name": "stderr",
          "text": [
            "WARNING:torchdrug.core.meter:max GPU memory: 751.8 MiB\n"
          ]
        },
        {
          "output_type": "stream",
          "name": "stdout",
          "text": [
            "19:36:29   max GPU memory: 751.8 MiB\n"
          ]
        },
        {
          "output_type": "stream",
          "name": "stderr",
          "text": [
            "WARNING:torchdrug.core.logger:------------------------------\n"
          ]
        },
        {
          "output_type": "stream",
          "name": "stdout",
          "text": [
            "19:36:29   ------------------------------\n"
          ]
        },
        {
          "output_type": "stream",
          "name": "stderr",
          "text": [
            "WARNING:torchdrug.core.logger:average binary cross entropy: 0.12176\n"
          ]
        },
        {
          "output_type": "stream",
          "name": "stdout",
          "text": [
            "19:36:29   average binary cross entropy: 0.12176\n"
          ]
        },
        {
          "output_type": "stream",
          "name": "stderr",
          "text": [
            "WARNING:torchdrug.core.meter:>>>>>>>>>>>>>>>>>>>>>>>>>>>>>>\n"
          ]
        },
        {
          "output_type": "stream",
          "name": "stdout",
          "text": [
            "19:36:29   >>>>>>>>>>>>>>>>>>>>>>>>>>>>>>\n"
          ]
        },
        {
          "output_type": "stream",
          "name": "stderr",
          "text": [
            "WARNING:torchdrug.core.meter:Epoch 49 begin\n"
          ]
        },
        {
          "output_type": "stream",
          "name": "stdout",
          "text": [
            "19:36:29   Epoch 49 begin\n"
          ]
        },
        {
          "output_type": "stream",
          "name": "stderr",
          "text": [
            "WARNING:torchdrug.core.meter:>>>>>>>>>>>>>>>>>>>>>>>>>>>>>>\n"
          ]
        },
        {
          "output_type": "stream",
          "name": "stdout",
          "text": [
            "19:36:30   >>>>>>>>>>>>>>>>>>>>>>>>>>>>>>\n"
          ]
        },
        {
          "output_type": "stream",
          "name": "stderr",
          "text": [
            "WARNING:torchdrug.core.meter:Epoch 49 end\n"
          ]
        },
        {
          "output_type": "stream",
          "name": "stdout",
          "text": [
            "19:36:30   Epoch 49 end\n"
          ]
        },
        {
          "output_type": "stream",
          "name": "stderr",
          "text": [
            "WARNING:torchdrug.core.meter:duration: 0.25 secs\n"
          ]
        },
        {
          "output_type": "stream",
          "name": "stdout",
          "text": [
            "19:36:30   duration: 0.25 secs\n"
          ]
        },
        {
          "output_type": "stream",
          "name": "stderr",
          "text": [
            "WARNING:torchdrug.core.meter:speed: 8.07 batch / sec\n"
          ]
        },
        {
          "output_type": "stream",
          "name": "stdout",
          "text": [
            "19:36:30   speed: 8.07 batch / sec\n"
          ]
        },
        {
          "output_type": "stream",
          "name": "stderr",
          "text": [
            "WARNING:torchdrug.core.meter:ETA: 38.57 secs\n"
          ]
        },
        {
          "output_type": "stream",
          "name": "stdout",
          "text": [
            "19:36:30   ETA: 38.57 secs\n"
          ]
        },
        {
          "output_type": "stream",
          "name": "stderr",
          "text": [
            "WARNING:torchdrug.core.meter:max GPU memory: 742.5 MiB\n"
          ]
        },
        {
          "output_type": "stream",
          "name": "stdout",
          "text": [
            "19:36:30   max GPU memory: 742.5 MiB\n"
          ]
        },
        {
          "output_type": "stream",
          "name": "stderr",
          "text": [
            "WARNING:torchdrug.core.logger:------------------------------\n"
          ]
        },
        {
          "output_type": "stream",
          "name": "stdout",
          "text": [
            "19:36:30   ------------------------------\n"
          ]
        },
        {
          "output_type": "stream",
          "name": "stderr",
          "text": [
            "WARNING:torchdrug.core.logger:average binary cross entropy: 0.102704\n"
          ]
        },
        {
          "output_type": "stream",
          "name": "stdout",
          "text": [
            "19:36:30   average binary cross entropy: 0.102704\n"
          ]
        },
        {
          "output_type": "stream",
          "name": "stderr",
          "text": [
            "WARNING:torchdrug.core.meter:>>>>>>>>>>>>>>>>>>>>>>>>>>>>>>\n"
          ]
        },
        {
          "output_type": "stream",
          "name": "stdout",
          "text": [
            "19:36:30   >>>>>>>>>>>>>>>>>>>>>>>>>>>>>>\n"
          ]
        },
        {
          "output_type": "stream",
          "name": "stderr",
          "text": [
            "WARNING:torchdrug.core.meter:Epoch 50 begin\n"
          ]
        },
        {
          "output_type": "stream",
          "name": "stdout",
          "text": [
            "19:36:30   Epoch 50 begin\n"
          ]
        },
        {
          "output_type": "stream",
          "name": "stderr",
          "text": [
            "WARNING:torchdrug.core.logger:>>>>>>>>>>>>>>>>>>>>>>>>>>>>>>\n"
          ]
        },
        {
          "output_type": "stream",
          "name": "stdout",
          "text": [
            "19:36:30   >>>>>>>>>>>>>>>>>>>>>>>>>>>>>>\n"
          ]
        },
        {
          "output_type": "stream",
          "name": "stderr",
          "text": [
            "WARNING:torchdrug.core.logger:binary cross entropy: 0.0801\n"
          ]
        },
        {
          "output_type": "stream",
          "name": "stdout",
          "text": [
            "19:36:30   binary cross entropy: 0.0801\n"
          ]
        },
        {
          "output_type": "stream",
          "name": "stderr",
          "text": [
            "WARNING:torchdrug.core.meter:>>>>>>>>>>>>>>>>>>>>>>>>>>>>>>\n"
          ]
        },
        {
          "output_type": "stream",
          "name": "stdout",
          "text": [
            "19:36:30   >>>>>>>>>>>>>>>>>>>>>>>>>>>>>>\n"
          ]
        },
        {
          "output_type": "stream",
          "name": "stderr",
          "text": [
            "WARNING:torchdrug.core.meter:Epoch 50 end\n"
          ]
        },
        {
          "output_type": "stream",
          "name": "stdout",
          "text": [
            "19:36:30   Epoch 50 end\n"
          ]
        },
        {
          "output_type": "stream",
          "name": "stderr",
          "text": [
            "WARNING:torchdrug.core.meter:duration: 0.25 secs\n"
          ]
        },
        {
          "output_type": "stream",
          "name": "stdout",
          "text": [
            "19:36:30   duration: 0.25 secs\n"
          ]
        },
        {
          "output_type": "stream",
          "name": "stderr",
          "text": [
            "WARNING:torchdrug.core.meter:speed: 7.93 batch / sec\n"
          ]
        },
        {
          "output_type": "stream",
          "name": "stdout",
          "text": [
            "19:36:30   speed: 7.93 batch / sec\n"
          ]
        },
        {
          "output_type": "stream",
          "name": "stderr",
          "text": [
            "WARNING:torchdrug.core.meter:ETA: 37.30 secs\n"
          ]
        },
        {
          "output_type": "stream",
          "name": "stdout",
          "text": [
            "19:36:30   ETA: 37.30 secs\n"
          ]
        },
        {
          "output_type": "stream",
          "name": "stderr",
          "text": [
            "WARNING:torchdrug.core.meter:max GPU memory: 751.5 MiB\n"
          ]
        },
        {
          "output_type": "stream",
          "name": "stdout",
          "text": [
            "19:36:30   max GPU memory: 751.5 MiB\n"
          ]
        },
        {
          "output_type": "stream",
          "name": "stderr",
          "text": [
            "WARNING:torchdrug.core.logger:------------------------------\n"
          ]
        },
        {
          "output_type": "stream",
          "name": "stdout",
          "text": [
            "19:36:30   ------------------------------\n"
          ]
        },
        {
          "output_type": "stream",
          "name": "stderr",
          "text": [
            "WARNING:torchdrug.core.logger:average binary cross entropy: 0.10228\n"
          ]
        },
        {
          "output_type": "stream",
          "name": "stdout",
          "text": [
            "19:36:30   average binary cross entropy: 0.10228\n"
          ]
        },
        {
          "output_type": "stream",
          "name": "stderr",
          "text": [
            "WARNING:torchdrug.core.meter:>>>>>>>>>>>>>>>>>>>>>>>>>>>>>>\n"
          ]
        },
        {
          "output_type": "stream",
          "name": "stdout",
          "text": [
            "19:36:30   >>>>>>>>>>>>>>>>>>>>>>>>>>>>>>\n"
          ]
        },
        {
          "output_type": "stream",
          "name": "stderr",
          "text": [
            "WARNING:torchdrug.core.meter:Epoch 51 begin\n"
          ]
        },
        {
          "output_type": "stream",
          "name": "stdout",
          "text": [
            "19:36:30   Epoch 51 begin\n"
          ]
        },
        {
          "output_type": "stream",
          "name": "stderr",
          "text": [
            "WARNING:torchdrug.core.meter:>>>>>>>>>>>>>>>>>>>>>>>>>>>>>>\n"
          ]
        },
        {
          "output_type": "stream",
          "name": "stdout",
          "text": [
            "19:36:30   >>>>>>>>>>>>>>>>>>>>>>>>>>>>>>\n"
          ]
        },
        {
          "output_type": "stream",
          "name": "stderr",
          "text": [
            "WARNING:torchdrug.core.meter:Epoch 51 end\n"
          ]
        },
        {
          "output_type": "stream",
          "name": "stdout",
          "text": [
            "19:36:30   Epoch 51 end\n"
          ]
        },
        {
          "output_type": "stream",
          "name": "stderr",
          "text": [
            "WARNING:torchdrug.core.meter:duration: 0.24 secs\n"
          ]
        },
        {
          "output_type": "stream",
          "name": "stdout",
          "text": [
            "19:36:30   duration: 0.24 secs\n"
          ]
        },
        {
          "output_type": "stream",
          "name": "stderr",
          "text": [
            "WARNING:torchdrug.core.meter:speed: 8.31 batch / sec\n"
          ]
        },
        {
          "output_type": "stream",
          "name": "stdout",
          "text": [
            "19:36:30   speed: 8.31 batch / sec\n"
          ]
        },
        {
          "output_type": "stream",
          "name": "stderr",
          "text": [
            "WARNING:torchdrug.core.meter:ETA: 36.06 secs\n"
          ]
        },
        {
          "output_type": "stream",
          "name": "stdout",
          "text": [
            "19:36:30   ETA: 36.06 secs\n"
          ]
        },
        {
          "output_type": "stream",
          "name": "stderr",
          "text": [
            "WARNING:torchdrug.core.meter:max GPU memory: 751.6 MiB\n"
          ]
        },
        {
          "output_type": "stream",
          "name": "stdout",
          "text": [
            "19:36:30   max GPU memory: 751.6 MiB\n"
          ]
        },
        {
          "output_type": "stream",
          "name": "stderr",
          "text": [
            "WARNING:torchdrug.core.logger:------------------------------\n"
          ]
        },
        {
          "output_type": "stream",
          "name": "stdout",
          "text": [
            "19:36:30   ------------------------------\n"
          ]
        },
        {
          "output_type": "stream",
          "name": "stderr",
          "text": [
            "WARNING:torchdrug.core.logger:average binary cross entropy: 0.121382\n"
          ]
        },
        {
          "output_type": "stream",
          "name": "stdout",
          "text": [
            "19:36:30   average binary cross entropy: 0.121382\n"
          ]
        },
        {
          "output_type": "stream",
          "name": "stderr",
          "text": [
            "WARNING:torchdrug.core.meter:>>>>>>>>>>>>>>>>>>>>>>>>>>>>>>\n"
          ]
        },
        {
          "output_type": "stream",
          "name": "stdout",
          "text": [
            "19:36:30   >>>>>>>>>>>>>>>>>>>>>>>>>>>>>>\n"
          ]
        },
        {
          "output_type": "stream",
          "name": "stderr",
          "text": [
            "WARNING:torchdrug.core.meter:Epoch 52 begin\n"
          ]
        },
        {
          "output_type": "stream",
          "name": "stdout",
          "text": [
            "19:36:30   Epoch 52 begin\n"
          ]
        },
        {
          "output_type": "stream",
          "name": "stderr",
          "text": [
            "WARNING:torchdrug.core.meter:>>>>>>>>>>>>>>>>>>>>>>>>>>>>>>\n"
          ]
        },
        {
          "output_type": "stream",
          "name": "stdout",
          "text": [
            "19:36:30   >>>>>>>>>>>>>>>>>>>>>>>>>>>>>>\n"
          ]
        },
        {
          "output_type": "stream",
          "name": "stderr",
          "text": [
            "WARNING:torchdrug.core.meter:Epoch 52 end\n"
          ]
        },
        {
          "output_type": "stream",
          "name": "stdout",
          "text": [
            "19:36:30   Epoch 52 end\n"
          ]
        },
        {
          "output_type": "stream",
          "name": "stderr",
          "text": [
            "WARNING:torchdrug.core.meter:duration: 0.26 secs\n"
          ]
        },
        {
          "output_type": "stream",
          "name": "stdout",
          "text": [
            "19:36:30   duration: 0.26 secs\n"
          ]
        },
        {
          "output_type": "stream",
          "name": "stderr",
          "text": [
            "WARNING:torchdrug.core.meter:speed: 7.62 batch / sec\n"
          ]
        },
        {
          "output_type": "stream",
          "name": "stdout",
          "text": [
            "19:36:30   speed: 7.62 batch / sec\n"
          ]
        },
        {
          "output_type": "stream",
          "name": "stderr",
          "text": [
            "WARNING:torchdrug.core.meter:ETA: 34.87 secs\n"
          ]
        },
        {
          "output_type": "stream",
          "name": "stdout",
          "text": [
            "19:36:30   ETA: 34.87 secs\n"
          ]
        },
        {
          "output_type": "stream",
          "name": "stderr",
          "text": [
            "WARNING:torchdrug.core.meter:max GPU memory: 735.1 MiB\n"
          ]
        },
        {
          "output_type": "stream",
          "name": "stdout",
          "text": [
            "19:36:30   max GPU memory: 735.1 MiB\n"
          ]
        },
        {
          "output_type": "stream",
          "name": "stderr",
          "text": [
            "WARNING:torchdrug.core.logger:------------------------------\n"
          ]
        },
        {
          "output_type": "stream",
          "name": "stdout",
          "text": [
            "19:36:30   ------------------------------\n"
          ]
        },
        {
          "output_type": "stream",
          "name": "stderr",
          "text": [
            "WARNING:torchdrug.core.logger:average binary cross entropy: 0.141628\n"
          ]
        },
        {
          "output_type": "stream",
          "name": "stdout",
          "text": [
            "19:36:30   average binary cross entropy: 0.141628\n"
          ]
        },
        {
          "output_type": "stream",
          "name": "stderr",
          "text": [
            "WARNING:torchdrug.core.meter:>>>>>>>>>>>>>>>>>>>>>>>>>>>>>>\n"
          ]
        },
        {
          "output_type": "stream",
          "name": "stdout",
          "text": [
            "19:36:30   >>>>>>>>>>>>>>>>>>>>>>>>>>>>>>\n"
          ]
        },
        {
          "output_type": "stream",
          "name": "stderr",
          "text": [
            "WARNING:torchdrug.core.meter:Epoch 53 begin\n"
          ]
        },
        {
          "output_type": "stream",
          "name": "stdout",
          "text": [
            "19:36:30   Epoch 53 begin\n"
          ]
        },
        {
          "output_type": "stream",
          "name": "stderr",
          "text": [
            "WARNING:torchdrug.core.meter:>>>>>>>>>>>>>>>>>>>>>>>>>>>>>>\n"
          ]
        },
        {
          "output_type": "stream",
          "name": "stdout",
          "text": [
            "19:36:31   >>>>>>>>>>>>>>>>>>>>>>>>>>>>>>\n"
          ]
        },
        {
          "output_type": "stream",
          "name": "stderr",
          "text": [
            "WARNING:torchdrug.core.meter:Epoch 53 end\n"
          ]
        },
        {
          "output_type": "stream",
          "name": "stdout",
          "text": [
            "19:36:31   Epoch 53 end\n"
          ]
        },
        {
          "output_type": "stream",
          "name": "stderr",
          "text": [
            "WARNING:torchdrug.core.meter:duration: 0.24 secs\n"
          ]
        },
        {
          "output_type": "stream",
          "name": "stdout",
          "text": [
            "19:36:31   duration: 0.24 secs\n"
          ]
        },
        {
          "output_type": "stream",
          "name": "stderr",
          "text": [
            "WARNING:torchdrug.core.meter:speed: 8.23 batch / sec\n"
          ]
        },
        {
          "output_type": "stream",
          "name": "stdout",
          "text": [
            "19:36:31   speed: 8.23 batch / sec\n"
          ]
        },
        {
          "output_type": "stream",
          "name": "stderr",
          "text": [
            "WARNING:torchdrug.core.meter:ETA: 33.71 secs\n"
          ]
        },
        {
          "output_type": "stream",
          "name": "stdout",
          "text": [
            "19:36:31   ETA: 33.71 secs\n"
          ]
        },
        {
          "output_type": "stream",
          "name": "stderr",
          "text": [
            "WARNING:torchdrug.core.meter:max GPU memory: 749.2 MiB\n"
          ]
        },
        {
          "output_type": "stream",
          "name": "stdout",
          "text": [
            "19:36:31   max GPU memory: 749.2 MiB\n"
          ]
        },
        {
          "output_type": "stream",
          "name": "stderr",
          "text": [
            "WARNING:torchdrug.core.logger:------------------------------\n"
          ]
        },
        {
          "output_type": "stream",
          "name": "stdout",
          "text": [
            "19:36:31   ------------------------------\n"
          ]
        },
        {
          "output_type": "stream",
          "name": "stderr",
          "text": [
            "WARNING:torchdrug.core.logger:average binary cross entropy: 0.117177\n"
          ]
        },
        {
          "output_type": "stream",
          "name": "stdout",
          "text": [
            "19:36:31   average binary cross entropy: 0.117177\n"
          ]
        },
        {
          "output_type": "stream",
          "name": "stderr",
          "text": [
            "WARNING:torchdrug.core.meter:>>>>>>>>>>>>>>>>>>>>>>>>>>>>>>\n"
          ]
        },
        {
          "output_type": "stream",
          "name": "stdout",
          "text": [
            "19:36:31   >>>>>>>>>>>>>>>>>>>>>>>>>>>>>>\n"
          ]
        },
        {
          "output_type": "stream",
          "name": "stderr",
          "text": [
            "WARNING:torchdrug.core.meter:Epoch 54 begin\n"
          ]
        },
        {
          "output_type": "stream",
          "name": "stdout",
          "text": [
            "19:36:31   Epoch 54 begin\n"
          ]
        },
        {
          "output_type": "stream",
          "name": "stderr",
          "text": [
            "WARNING:torchdrug.core.meter:>>>>>>>>>>>>>>>>>>>>>>>>>>>>>>\n"
          ]
        },
        {
          "output_type": "stream",
          "name": "stdout",
          "text": [
            "19:36:31   >>>>>>>>>>>>>>>>>>>>>>>>>>>>>>\n"
          ]
        },
        {
          "output_type": "stream",
          "name": "stderr",
          "text": [
            "WARNING:torchdrug.core.meter:Epoch 54 end\n"
          ]
        },
        {
          "output_type": "stream",
          "name": "stdout",
          "text": [
            "19:36:31   Epoch 54 end\n"
          ]
        },
        {
          "output_type": "stream",
          "name": "stderr",
          "text": [
            "WARNING:torchdrug.core.meter:duration: 0.24 secs\n"
          ]
        },
        {
          "output_type": "stream",
          "name": "stdout",
          "text": [
            "19:36:31   duration: 0.24 secs\n"
          ]
        },
        {
          "output_type": "stream",
          "name": "stderr",
          "text": [
            "WARNING:torchdrug.core.meter:speed: 8.39 batch / sec\n"
          ]
        },
        {
          "output_type": "stream",
          "name": "stdout",
          "text": [
            "19:36:31   speed: 8.39 batch / sec\n"
          ]
        },
        {
          "output_type": "stream",
          "name": "stderr",
          "text": [
            "WARNING:torchdrug.core.meter:ETA: 32.57 secs\n"
          ]
        },
        {
          "output_type": "stream",
          "name": "stdout",
          "text": [
            "19:36:31   ETA: 32.57 secs\n"
          ]
        },
        {
          "output_type": "stream",
          "name": "stderr",
          "text": [
            "WARNING:torchdrug.core.meter:max GPU memory: 750.2 MiB\n"
          ]
        },
        {
          "output_type": "stream",
          "name": "stdout",
          "text": [
            "19:36:31   max GPU memory: 750.2 MiB\n"
          ]
        },
        {
          "output_type": "stream",
          "name": "stderr",
          "text": [
            "WARNING:torchdrug.core.logger:------------------------------\n"
          ]
        },
        {
          "output_type": "stream",
          "name": "stdout",
          "text": [
            "19:36:31   ------------------------------\n"
          ]
        },
        {
          "output_type": "stream",
          "name": "stderr",
          "text": [
            "WARNING:torchdrug.core.logger:average binary cross entropy: 0.12495\n"
          ]
        },
        {
          "output_type": "stream",
          "name": "stdout",
          "text": [
            "19:36:31   average binary cross entropy: 0.12495\n"
          ]
        },
        {
          "output_type": "stream",
          "name": "stderr",
          "text": [
            "WARNING:torchdrug.core.meter:>>>>>>>>>>>>>>>>>>>>>>>>>>>>>>\n"
          ]
        },
        {
          "output_type": "stream",
          "name": "stdout",
          "text": [
            "19:36:31   >>>>>>>>>>>>>>>>>>>>>>>>>>>>>>\n"
          ]
        },
        {
          "output_type": "stream",
          "name": "stderr",
          "text": [
            "WARNING:torchdrug.core.meter:Epoch 55 begin\n"
          ]
        },
        {
          "output_type": "stream",
          "name": "stdout",
          "text": [
            "19:36:31   Epoch 55 begin\n"
          ]
        },
        {
          "output_type": "stream",
          "name": "stderr",
          "text": [
            "WARNING:torchdrug.core.meter:>>>>>>>>>>>>>>>>>>>>>>>>>>>>>>\n"
          ]
        },
        {
          "output_type": "stream",
          "name": "stdout",
          "text": [
            "19:36:31   >>>>>>>>>>>>>>>>>>>>>>>>>>>>>>\n"
          ]
        },
        {
          "output_type": "stream",
          "name": "stderr",
          "text": [
            "WARNING:torchdrug.core.meter:Epoch 55 end\n"
          ]
        },
        {
          "output_type": "stream",
          "name": "stdout",
          "text": [
            "19:36:31   Epoch 55 end\n"
          ]
        },
        {
          "output_type": "stream",
          "name": "stderr",
          "text": [
            "WARNING:torchdrug.core.meter:duration: 0.24 secs\n"
          ]
        },
        {
          "output_type": "stream",
          "name": "stdout",
          "text": [
            "19:36:31   duration: 0.24 secs\n"
          ]
        },
        {
          "output_type": "stream",
          "name": "stderr",
          "text": [
            "WARNING:torchdrug.core.meter:speed: 8.46 batch / sec\n"
          ]
        },
        {
          "output_type": "stream",
          "name": "stdout",
          "text": [
            "19:36:31   speed: 8.46 batch / sec\n"
          ]
        },
        {
          "output_type": "stream",
          "name": "stderr",
          "text": [
            "WARNING:torchdrug.core.meter:ETA: 31.46 secs\n"
          ]
        },
        {
          "output_type": "stream",
          "name": "stdout",
          "text": [
            "19:36:31   ETA: 31.46 secs\n"
          ]
        },
        {
          "output_type": "stream",
          "name": "stderr",
          "text": [
            "WARNING:torchdrug.core.meter:max GPU memory: 740.4 MiB\n"
          ]
        },
        {
          "output_type": "stream",
          "name": "stdout",
          "text": [
            "19:36:31   max GPU memory: 740.4 MiB\n"
          ]
        },
        {
          "output_type": "stream",
          "name": "stderr",
          "text": [
            "WARNING:torchdrug.core.logger:------------------------------\n"
          ]
        },
        {
          "output_type": "stream",
          "name": "stdout",
          "text": [
            "19:36:31   ------------------------------\n"
          ]
        },
        {
          "output_type": "stream",
          "name": "stderr",
          "text": [
            "WARNING:torchdrug.core.logger:average binary cross entropy: 0.0800006\n"
          ]
        },
        {
          "output_type": "stream",
          "name": "stdout",
          "text": [
            "19:36:31   average binary cross entropy: 0.0800006\n"
          ]
        },
        {
          "output_type": "stream",
          "name": "stderr",
          "text": [
            "WARNING:torchdrug.core.meter:>>>>>>>>>>>>>>>>>>>>>>>>>>>>>>\n"
          ]
        },
        {
          "output_type": "stream",
          "name": "stdout",
          "text": [
            "19:36:31   >>>>>>>>>>>>>>>>>>>>>>>>>>>>>>\n"
          ]
        },
        {
          "output_type": "stream",
          "name": "stderr",
          "text": [
            "WARNING:torchdrug.core.meter:Epoch 56 begin\n"
          ]
        },
        {
          "output_type": "stream",
          "name": "stdout",
          "text": [
            "19:36:31   Epoch 56 begin\n"
          ]
        },
        {
          "output_type": "stream",
          "name": "stderr",
          "text": [
            "WARNING:torchdrug.core.meter:>>>>>>>>>>>>>>>>>>>>>>>>>>>>>>\n"
          ]
        },
        {
          "output_type": "stream",
          "name": "stdout",
          "text": [
            "19:36:31   >>>>>>>>>>>>>>>>>>>>>>>>>>>>>>\n"
          ]
        },
        {
          "output_type": "stream",
          "name": "stderr",
          "text": [
            "WARNING:torchdrug.core.meter:Epoch 56 end\n"
          ]
        },
        {
          "output_type": "stream",
          "name": "stdout",
          "text": [
            "19:36:31   Epoch 56 end\n"
          ]
        },
        {
          "output_type": "stream",
          "name": "stderr",
          "text": [
            "WARNING:torchdrug.core.meter:duration: 0.26 secs\n"
          ]
        },
        {
          "output_type": "stream",
          "name": "stdout",
          "text": [
            "19:36:31   duration: 0.26 secs\n"
          ]
        },
        {
          "output_type": "stream",
          "name": "stderr",
          "text": [
            "WARNING:torchdrug.core.meter:speed: 7.84 batch / sec\n"
          ]
        },
        {
          "output_type": "stream",
          "name": "stdout",
          "text": [
            "19:36:31   speed: 7.84 batch / sec\n"
          ]
        },
        {
          "output_type": "stream",
          "name": "stderr",
          "text": [
            "WARNING:torchdrug.core.meter:ETA: 30.40 secs\n"
          ]
        },
        {
          "output_type": "stream",
          "name": "stdout",
          "text": [
            "19:36:31   ETA: 30.40 secs\n"
          ]
        },
        {
          "output_type": "stream",
          "name": "stderr",
          "text": [
            "WARNING:torchdrug.core.meter:max GPU memory: 753.0 MiB\n"
          ]
        },
        {
          "output_type": "stream",
          "name": "stdout",
          "text": [
            "19:36:31   max GPU memory: 753.0 MiB\n"
          ]
        },
        {
          "output_type": "stream",
          "name": "stderr",
          "text": [
            "WARNING:torchdrug.core.logger:------------------------------\n"
          ]
        },
        {
          "output_type": "stream",
          "name": "stdout",
          "text": [
            "19:36:31   ------------------------------\n"
          ]
        },
        {
          "output_type": "stream",
          "name": "stderr",
          "text": [
            "WARNING:torchdrug.core.logger:average binary cross entropy: 0.110857\n"
          ]
        },
        {
          "output_type": "stream",
          "name": "stdout",
          "text": [
            "19:36:31   average binary cross entropy: 0.110857\n"
          ]
        },
        {
          "output_type": "stream",
          "name": "stderr",
          "text": [
            "WARNING:torchdrug.core.meter:>>>>>>>>>>>>>>>>>>>>>>>>>>>>>>\n"
          ]
        },
        {
          "output_type": "stream",
          "name": "stdout",
          "text": [
            "19:36:31   >>>>>>>>>>>>>>>>>>>>>>>>>>>>>>\n"
          ]
        },
        {
          "output_type": "stream",
          "name": "stderr",
          "text": [
            "WARNING:torchdrug.core.meter:Epoch 57 begin\n"
          ]
        },
        {
          "output_type": "stream",
          "name": "stdout",
          "text": [
            "19:36:31   Epoch 57 begin\n"
          ]
        },
        {
          "output_type": "stream",
          "name": "stderr",
          "text": [
            "WARNING:torchdrug.core.meter:>>>>>>>>>>>>>>>>>>>>>>>>>>>>>>\n"
          ]
        },
        {
          "output_type": "stream",
          "name": "stdout",
          "text": [
            "19:36:32   >>>>>>>>>>>>>>>>>>>>>>>>>>>>>>\n"
          ]
        },
        {
          "output_type": "stream",
          "name": "stderr",
          "text": [
            "WARNING:torchdrug.core.meter:Epoch 57 end\n"
          ]
        },
        {
          "output_type": "stream",
          "name": "stdout",
          "text": [
            "19:36:32   Epoch 57 end\n"
          ]
        },
        {
          "output_type": "stream",
          "name": "stderr",
          "text": [
            "WARNING:torchdrug.core.meter:duration: 0.24 secs\n"
          ]
        },
        {
          "output_type": "stream",
          "name": "stdout",
          "text": [
            "19:36:32   duration: 0.24 secs\n"
          ]
        },
        {
          "output_type": "stream",
          "name": "stderr",
          "text": [
            "WARNING:torchdrug.core.meter:speed: 8.18 batch / sec\n"
          ]
        },
        {
          "output_type": "stream",
          "name": "stdout",
          "text": [
            "19:36:32   speed: 8.18 batch / sec\n"
          ]
        },
        {
          "output_type": "stream",
          "name": "stderr",
          "text": [
            "WARNING:torchdrug.core.meter:ETA: 29.36 secs\n"
          ]
        },
        {
          "output_type": "stream",
          "name": "stdout",
          "text": [
            "19:36:32   ETA: 29.36 secs\n"
          ]
        },
        {
          "output_type": "stream",
          "name": "stderr",
          "text": [
            "WARNING:torchdrug.core.meter:max GPU memory: 742.9 MiB\n"
          ]
        },
        {
          "output_type": "stream",
          "name": "stdout",
          "text": [
            "19:36:32   max GPU memory: 742.9 MiB\n"
          ]
        },
        {
          "output_type": "stream",
          "name": "stderr",
          "text": [
            "WARNING:torchdrug.core.logger:------------------------------\n"
          ]
        },
        {
          "output_type": "stream",
          "name": "stdout",
          "text": [
            "19:36:32   ------------------------------\n"
          ]
        },
        {
          "output_type": "stream",
          "name": "stderr",
          "text": [
            "WARNING:torchdrug.core.logger:average binary cross entropy: 0.0732119\n"
          ]
        },
        {
          "output_type": "stream",
          "name": "stdout",
          "text": [
            "19:36:32   average binary cross entropy: 0.0732119\n"
          ]
        },
        {
          "output_type": "stream",
          "name": "stderr",
          "text": [
            "WARNING:torchdrug.core.meter:>>>>>>>>>>>>>>>>>>>>>>>>>>>>>>\n"
          ]
        },
        {
          "output_type": "stream",
          "name": "stdout",
          "text": [
            "19:36:32   >>>>>>>>>>>>>>>>>>>>>>>>>>>>>>\n"
          ]
        },
        {
          "output_type": "stream",
          "name": "stderr",
          "text": [
            "WARNING:torchdrug.core.meter:Epoch 58 begin\n"
          ]
        },
        {
          "output_type": "stream",
          "name": "stdout",
          "text": [
            "19:36:32   Epoch 58 begin\n"
          ]
        },
        {
          "output_type": "stream",
          "name": "stderr",
          "text": [
            "WARNING:torchdrug.core.meter:>>>>>>>>>>>>>>>>>>>>>>>>>>>>>>\n"
          ]
        },
        {
          "output_type": "stream",
          "name": "stdout",
          "text": [
            "19:36:32   >>>>>>>>>>>>>>>>>>>>>>>>>>>>>>\n"
          ]
        },
        {
          "output_type": "stream",
          "name": "stderr",
          "text": [
            "WARNING:torchdrug.core.meter:Epoch 58 end\n"
          ]
        },
        {
          "output_type": "stream",
          "name": "stdout",
          "text": [
            "19:36:32   Epoch 58 end\n"
          ]
        },
        {
          "output_type": "stream",
          "name": "stderr",
          "text": [
            "WARNING:torchdrug.core.meter:duration: 0.25 secs\n"
          ]
        },
        {
          "output_type": "stream",
          "name": "stdout",
          "text": [
            "19:36:32   duration: 0.25 secs\n"
          ]
        },
        {
          "output_type": "stream",
          "name": "stderr",
          "text": [
            "WARNING:torchdrug.core.meter:speed: 8.08 batch / sec\n"
          ]
        },
        {
          "output_type": "stream",
          "name": "stdout",
          "text": [
            "19:36:32   speed: 8.08 batch / sec\n"
          ]
        },
        {
          "output_type": "stream",
          "name": "stderr",
          "text": [
            "WARNING:torchdrug.core.meter:ETA: 28.35 secs\n"
          ]
        },
        {
          "output_type": "stream",
          "name": "stdout",
          "text": [
            "19:36:32   ETA: 28.35 secs\n"
          ]
        },
        {
          "output_type": "stream",
          "name": "stderr",
          "text": [
            "WARNING:torchdrug.core.meter:max GPU memory: 742.5 MiB\n"
          ]
        },
        {
          "output_type": "stream",
          "name": "stdout",
          "text": [
            "19:36:32   max GPU memory: 742.5 MiB\n"
          ]
        },
        {
          "output_type": "stream",
          "name": "stderr",
          "text": [
            "WARNING:torchdrug.core.logger:------------------------------\n"
          ]
        },
        {
          "output_type": "stream",
          "name": "stdout",
          "text": [
            "19:36:32   ------------------------------\n"
          ]
        },
        {
          "output_type": "stream",
          "name": "stderr",
          "text": [
            "WARNING:torchdrug.core.logger:average binary cross entropy: 0.105631\n"
          ]
        },
        {
          "output_type": "stream",
          "name": "stdout",
          "text": [
            "19:36:32   average binary cross entropy: 0.105631\n"
          ]
        },
        {
          "output_type": "stream",
          "name": "stderr",
          "text": [
            "WARNING:torchdrug.core.meter:>>>>>>>>>>>>>>>>>>>>>>>>>>>>>>\n"
          ]
        },
        {
          "output_type": "stream",
          "name": "stdout",
          "text": [
            "19:36:32   >>>>>>>>>>>>>>>>>>>>>>>>>>>>>>\n"
          ]
        },
        {
          "output_type": "stream",
          "name": "stderr",
          "text": [
            "WARNING:torchdrug.core.meter:Epoch 59 begin\n"
          ]
        },
        {
          "output_type": "stream",
          "name": "stdout",
          "text": [
            "19:36:32   Epoch 59 begin\n"
          ]
        },
        {
          "output_type": "stream",
          "name": "stderr",
          "text": [
            "WARNING:torchdrug.core.meter:>>>>>>>>>>>>>>>>>>>>>>>>>>>>>>\n"
          ]
        },
        {
          "output_type": "stream",
          "name": "stdout",
          "text": [
            "19:36:32   >>>>>>>>>>>>>>>>>>>>>>>>>>>>>>\n"
          ]
        },
        {
          "output_type": "stream",
          "name": "stderr",
          "text": [
            "WARNING:torchdrug.core.meter:Epoch 59 end\n"
          ]
        },
        {
          "output_type": "stream",
          "name": "stdout",
          "text": [
            "19:36:32   Epoch 59 end\n"
          ]
        },
        {
          "output_type": "stream",
          "name": "stderr",
          "text": [
            "WARNING:torchdrug.core.meter:duration: 0.24 secs\n"
          ]
        },
        {
          "output_type": "stream",
          "name": "stdout",
          "text": [
            "19:36:32   duration: 0.24 secs\n"
          ]
        },
        {
          "output_type": "stream",
          "name": "stderr",
          "text": [
            "WARNING:torchdrug.core.meter:speed: 8.27 batch / sec\n"
          ]
        },
        {
          "output_type": "stream",
          "name": "stdout",
          "text": [
            "19:36:32   speed: 8.27 batch / sec\n"
          ]
        },
        {
          "output_type": "stream",
          "name": "stderr",
          "text": [
            "WARNING:torchdrug.core.meter:ETA: 27.35 secs\n"
          ]
        },
        {
          "output_type": "stream",
          "name": "stdout",
          "text": [
            "19:36:32   ETA: 27.35 secs\n"
          ]
        },
        {
          "output_type": "stream",
          "name": "stderr",
          "text": [
            "WARNING:torchdrug.core.meter:max GPU memory: 750.4 MiB\n"
          ]
        },
        {
          "output_type": "stream",
          "name": "stdout",
          "text": [
            "19:36:32   max GPU memory: 750.4 MiB\n"
          ]
        },
        {
          "output_type": "stream",
          "name": "stderr",
          "text": [
            "WARNING:torchdrug.core.logger:------------------------------\n"
          ]
        },
        {
          "output_type": "stream",
          "name": "stdout",
          "text": [
            "19:36:32   ------------------------------\n"
          ]
        },
        {
          "output_type": "stream",
          "name": "stderr",
          "text": [
            "WARNING:torchdrug.core.logger:average binary cross entropy: 0.0850465\n"
          ]
        },
        {
          "output_type": "stream",
          "name": "stdout",
          "text": [
            "19:36:32   average binary cross entropy: 0.0850465\n"
          ]
        },
        {
          "output_type": "stream",
          "name": "stderr",
          "text": [
            "WARNING:torchdrug.core.meter:>>>>>>>>>>>>>>>>>>>>>>>>>>>>>>\n"
          ]
        },
        {
          "output_type": "stream",
          "name": "stdout",
          "text": [
            "19:36:32   >>>>>>>>>>>>>>>>>>>>>>>>>>>>>>\n"
          ]
        },
        {
          "output_type": "stream",
          "name": "stderr",
          "text": [
            "WARNING:torchdrug.core.meter:Epoch 60 begin\n"
          ]
        },
        {
          "output_type": "stream",
          "name": "stdout",
          "text": [
            "19:36:32   Epoch 60 begin\n"
          ]
        },
        {
          "output_type": "stream",
          "name": "stderr",
          "text": [
            "WARNING:torchdrug.core.meter:>>>>>>>>>>>>>>>>>>>>>>>>>>>>>>\n"
          ]
        },
        {
          "output_type": "stream",
          "name": "stdout",
          "text": [
            "19:36:32   >>>>>>>>>>>>>>>>>>>>>>>>>>>>>>\n"
          ]
        },
        {
          "output_type": "stream",
          "name": "stderr",
          "text": [
            "WARNING:torchdrug.core.meter:Epoch 60 end\n"
          ]
        },
        {
          "output_type": "stream",
          "name": "stdout",
          "text": [
            "19:36:32   Epoch 60 end\n"
          ]
        },
        {
          "output_type": "stream",
          "name": "stderr",
          "text": [
            "WARNING:torchdrug.core.meter:duration: 0.25 secs\n"
          ]
        },
        {
          "output_type": "stream",
          "name": "stdout",
          "text": [
            "19:36:32   duration: 0.25 secs\n"
          ]
        },
        {
          "output_type": "stream",
          "name": "stderr",
          "text": [
            "WARNING:torchdrug.core.meter:speed: 8.04 batch / sec\n"
          ]
        },
        {
          "output_type": "stream",
          "name": "stdout",
          "text": [
            "19:36:32   speed: 8.04 batch / sec\n"
          ]
        },
        {
          "output_type": "stream",
          "name": "stderr",
          "text": [
            "WARNING:torchdrug.core.meter:ETA: 26.39 secs\n"
          ]
        },
        {
          "output_type": "stream",
          "name": "stdout",
          "text": [
            "19:36:32   ETA: 26.39 secs\n"
          ]
        },
        {
          "output_type": "stream",
          "name": "stderr",
          "text": [
            "WARNING:torchdrug.core.meter:max GPU memory: 740.6 MiB\n"
          ]
        },
        {
          "output_type": "stream",
          "name": "stdout",
          "text": [
            "19:36:32   max GPU memory: 740.6 MiB\n"
          ]
        },
        {
          "output_type": "stream",
          "name": "stderr",
          "text": [
            "WARNING:torchdrug.core.logger:------------------------------\n"
          ]
        },
        {
          "output_type": "stream",
          "name": "stdout",
          "text": [
            "19:36:32   ------------------------------\n"
          ]
        },
        {
          "output_type": "stream",
          "name": "stderr",
          "text": [
            "WARNING:torchdrug.core.logger:average binary cross entropy: 0.0970021\n"
          ]
        },
        {
          "output_type": "stream",
          "name": "stdout",
          "text": [
            "19:36:32   average binary cross entropy: 0.0970021\n"
          ]
        },
        {
          "output_type": "stream",
          "name": "stderr",
          "text": [
            "WARNING:torchdrug.core.meter:>>>>>>>>>>>>>>>>>>>>>>>>>>>>>>\n"
          ]
        },
        {
          "output_type": "stream",
          "name": "stdout",
          "text": [
            "19:36:32   >>>>>>>>>>>>>>>>>>>>>>>>>>>>>>\n"
          ]
        },
        {
          "output_type": "stream",
          "name": "stderr",
          "text": [
            "WARNING:torchdrug.core.meter:Epoch 61 begin\n"
          ]
        },
        {
          "output_type": "stream",
          "name": "stdout",
          "text": [
            "19:36:32   Epoch 61 begin\n"
          ]
        },
        {
          "output_type": "stream",
          "name": "stderr",
          "text": [
            "WARNING:torchdrug.core.meter:>>>>>>>>>>>>>>>>>>>>>>>>>>>>>>\n"
          ]
        },
        {
          "output_type": "stream",
          "name": "stdout",
          "text": [
            "19:36:33   >>>>>>>>>>>>>>>>>>>>>>>>>>>>>>\n"
          ]
        },
        {
          "output_type": "stream",
          "name": "stderr",
          "text": [
            "WARNING:torchdrug.core.meter:Epoch 61 end\n"
          ]
        },
        {
          "output_type": "stream",
          "name": "stdout",
          "text": [
            "19:36:33   Epoch 61 end\n"
          ]
        },
        {
          "output_type": "stream",
          "name": "stderr",
          "text": [
            "WARNING:torchdrug.core.meter:duration: 0.26 secs\n"
          ]
        },
        {
          "output_type": "stream",
          "name": "stdout",
          "text": [
            "19:36:33   duration: 0.26 secs\n"
          ]
        },
        {
          "output_type": "stream",
          "name": "stderr",
          "text": [
            "WARNING:torchdrug.core.meter:speed: 7.79 batch / sec\n"
          ]
        },
        {
          "output_type": "stream",
          "name": "stdout",
          "text": [
            "19:36:33   speed: 7.79 batch / sec\n"
          ]
        },
        {
          "output_type": "stream",
          "name": "stderr",
          "text": [
            "WARNING:torchdrug.core.meter:ETA: 25.46 secs\n"
          ]
        },
        {
          "output_type": "stream",
          "name": "stdout",
          "text": [
            "19:36:33   ETA: 25.46 secs\n"
          ]
        },
        {
          "output_type": "stream",
          "name": "stderr",
          "text": [
            "WARNING:torchdrug.core.meter:max GPU memory: 750.5 MiB\n"
          ]
        },
        {
          "output_type": "stream",
          "name": "stdout",
          "text": [
            "19:36:33   max GPU memory: 750.5 MiB\n"
          ]
        },
        {
          "output_type": "stream",
          "name": "stderr",
          "text": [
            "WARNING:torchdrug.core.logger:------------------------------\n"
          ]
        },
        {
          "output_type": "stream",
          "name": "stdout",
          "text": [
            "19:36:33   ------------------------------\n"
          ]
        },
        {
          "output_type": "stream",
          "name": "stderr",
          "text": [
            "WARNING:torchdrug.core.logger:average binary cross entropy: 0.127035\n"
          ]
        },
        {
          "output_type": "stream",
          "name": "stdout",
          "text": [
            "19:36:33   average binary cross entropy: 0.127035\n"
          ]
        },
        {
          "output_type": "stream",
          "name": "stderr",
          "text": [
            "WARNING:torchdrug.core.meter:>>>>>>>>>>>>>>>>>>>>>>>>>>>>>>\n"
          ]
        },
        {
          "output_type": "stream",
          "name": "stdout",
          "text": [
            "19:36:33   >>>>>>>>>>>>>>>>>>>>>>>>>>>>>>\n"
          ]
        },
        {
          "output_type": "stream",
          "name": "stderr",
          "text": [
            "WARNING:torchdrug.core.meter:Epoch 62 begin\n"
          ]
        },
        {
          "output_type": "stream",
          "name": "stdout",
          "text": [
            "19:36:33   Epoch 62 begin\n"
          ]
        },
        {
          "output_type": "stream",
          "name": "stderr",
          "text": [
            "WARNING:torchdrug.core.meter:>>>>>>>>>>>>>>>>>>>>>>>>>>>>>>\n"
          ]
        },
        {
          "output_type": "stream",
          "name": "stdout",
          "text": [
            "19:36:33   >>>>>>>>>>>>>>>>>>>>>>>>>>>>>>\n"
          ]
        },
        {
          "output_type": "stream",
          "name": "stderr",
          "text": [
            "WARNING:torchdrug.core.meter:Epoch 62 end\n"
          ]
        },
        {
          "output_type": "stream",
          "name": "stdout",
          "text": [
            "19:36:33   Epoch 62 end\n"
          ]
        },
        {
          "output_type": "stream",
          "name": "stderr",
          "text": [
            "WARNING:torchdrug.core.meter:duration: 0.25 secs\n"
          ]
        },
        {
          "output_type": "stream",
          "name": "stdout",
          "text": [
            "19:36:33   duration: 0.25 secs\n"
          ]
        },
        {
          "output_type": "stream",
          "name": "stderr",
          "text": [
            "WARNING:torchdrug.core.meter:speed: 7.86 batch / sec\n"
          ]
        },
        {
          "output_type": "stream",
          "name": "stdout",
          "text": [
            "19:36:33   speed: 7.86 batch / sec\n"
          ]
        },
        {
          "output_type": "stream",
          "name": "stderr",
          "text": [
            "WARNING:torchdrug.core.meter:ETA: 24.54 secs\n"
          ]
        },
        {
          "output_type": "stream",
          "name": "stdout",
          "text": [
            "19:36:33   ETA: 24.54 secs\n"
          ]
        },
        {
          "output_type": "stream",
          "name": "stderr",
          "text": [
            "WARNING:torchdrug.core.meter:max GPU memory: 740.7 MiB\n"
          ]
        },
        {
          "output_type": "stream",
          "name": "stdout",
          "text": [
            "19:36:33   max GPU memory: 740.7 MiB\n"
          ]
        },
        {
          "output_type": "stream",
          "name": "stderr",
          "text": [
            "WARNING:torchdrug.core.logger:------------------------------\n"
          ]
        },
        {
          "output_type": "stream",
          "name": "stdout",
          "text": [
            "19:36:33   ------------------------------\n"
          ]
        },
        {
          "output_type": "stream",
          "name": "stderr",
          "text": [
            "WARNING:torchdrug.core.logger:average binary cross entropy: 0.0730172\n"
          ]
        },
        {
          "output_type": "stream",
          "name": "stdout",
          "text": [
            "19:36:33   average binary cross entropy: 0.0730172\n"
          ]
        },
        {
          "output_type": "stream",
          "name": "stderr",
          "text": [
            "WARNING:torchdrug.core.meter:>>>>>>>>>>>>>>>>>>>>>>>>>>>>>>\n"
          ]
        },
        {
          "output_type": "stream",
          "name": "stdout",
          "text": [
            "19:36:33   >>>>>>>>>>>>>>>>>>>>>>>>>>>>>>\n"
          ]
        },
        {
          "output_type": "stream",
          "name": "stderr",
          "text": [
            "WARNING:torchdrug.core.meter:Epoch 63 begin\n"
          ]
        },
        {
          "output_type": "stream",
          "name": "stdout",
          "text": [
            "19:36:33   Epoch 63 begin\n"
          ]
        },
        {
          "output_type": "stream",
          "name": "stderr",
          "text": [
            "WARNING:torchdrug.core.meter:>>>>>>>>>>>>>>>>>>>>>>>>>>>>>>\n"
          ]
        },
        {
          "output_type": "stream",
          "name": "stdout",
          "text": [
            "19:36:33   >>>>>>>>>>>>>>>>>>>>>>>>>>>>>>\n"
          ]
        },
        {
          "output_type": "stream",
          "name": "stderr",
          "text": [
            "WARNING:torchdrug.core.meter:Epoch 63 end\n"
          ]
        },
        {
          "output_type": "stream",
          "name": "stdout",
          "text": [
            "19:36:33   Epoch 63 end\n"
          ]
        },
        {
          "output_type": "stream",
          "name": "stderr",
          "text": [
            "WARNING:torchdrug.core.meter:duration: 0.24 secs\n"
          ]
        },
        {
          "output_type": "stream",
          "name": "stdout",
          "text": [
            "19:36:33   duration: 0.24 secs\n"
          ]
        },
        {
          "output_type": "stream",
          "name": "stderr",
          "text": [
            "WARNING:torchdrug.core.meter:speed: 8.18 batch / sec\n"
          ]
        },
        {
          "output_type": "stream",
          "name": "stdout",
          "text": [
            "19:36:33   speed: 8.18 batch / sec\n"
          ]
        },
        {
          "output_type": "stream",
          "name": "stderr",
          "text": [
            "WARNING:torchdrug.core.meter:ETA: 23.65 secs\n"
          ]
        },
        {
          "output_type": "stream",
          "name": "stdout",
          "text": [
            "19:36:33   ETA: 23.65 secs\n"
          ]
        },
        {
          "output_type": "stream",
          "name": "stderr",
          "text": [
            "WARNING:torchdrug.core.meter:max GPU memory: 742.5 MiB\n"
          ]
        },
        {
          "output_type": "stream",
          "name": "stdout",
          "text": [
            "19:36:33   max GPU memory: 742.5 MiB\n"
          ]
        },
        {
          "output_type": "stream",
          "name": "stderr",
          "text": [
            "WARNING:torchdrug.core.logger:------------------------------\n"
          ]
        },
        {
          "output_type": "stream",
          "name": "stdout",
          "text": [
            "19:36:33   ------------------------------\n"
          ]
        },
        {
          "output_type": "stream",
          "name": "stderr",
          "text": [
            "WARNING:torchdrug.core.logger:average binary cross entropy: 0.113834\n"
          ]
        },
        {
          "output_type": "stream",
          "name": "stdout",
          "text": [
            "19:36:33   average binary cross entropy: 0.113834\n"
          ]
        },
        {
          "output_type": "stream",
          "name": "stderr",
          "text": [
            "WARNING:torchdrug.core.meter:>>>>>>>>>>>>>>>>>>>>>>>>>>>>>>\n"
          ]
        },
        {
          "output_type": "stream",
          "name": "stdout",
          "text": [
            "19:36:33   >>>>>>>>>>>>>>>>>>>>>>>>>>>>>>\n"
          ]
        },
        {
          "output_type": "stream",
          "name": "stderr",
          "text": [
            "WARNING:torchdrug.core.meter:Epoch 64 begin\n"
          ]
        },
        {
          "output_type": "stream",
          "name": "stdout",
          "text": [
            "19:36:33   Epoch 64 begin\n"
          ]
        },
        {
          "output_type": "stream",
          "name": "stderr",
          "text": [
            "WARNING:torchdrug.core.meter:>>>>>>>>>>>>>>>>>>>>>>>>>>>>>>\n"
          ]
        },
        {
          "output_type": "stream",
          "name": "stdout",
          "text": [
            "19:36:33   >>>>>>>>>>>>>>>>>>>>>>>>>>>>>>\n"
          ]
        },
        {
          "output_type": "stream",
          "name": "stderr",
          "text": [
            "WARNING:torchdrug.core.meter:Epoch 64 end\n"
          ]
        },
        {
          "output_type": "stream",
          "name": "stdout",
          "text": [
            "19:36:33   Epoch 64 end\n"
          ]
        },
        {
          "output_type": "stream",
          "name": "stderr",
          "text": [
            "WARNING:torchdrug.core.meter:duration: 0.24 secs\n"
          ]
        },
        {
          "output_type": "stream",
          "name": "stdout",
          "text": [
            "19:36:33   duration: 0.24 secs\n"
          ]
        },
        {
          "output_type": "stream",
          "name": "stderr",
          "text": [
            "WARNING:torchdrug.core.meter:speed: 8.35 batch / sec\n"
          ]
        },
        {
          "output_type": "stream",
          "name": "stdout",
          "text": [
            "19:36:33   speed: 8.35 batch / sec\n"
          ]
        },
        {
          "output_type": "stream",
          "name": "stderr",
          "text": [
            "WARNING:torchdrug.core.meter:ETA: 22.76 secs\n"
          ]
        },
        {
          "output_type": "stream",
          "name": "stdout",
          "text": [
            "19:36:33   ETA: 22.76 secs\n"
          ]
        },
        {
          "output_type": "stream",
          "name": "stderr",
          "text": [
            "WARNING:torchdrug.core.meter:max GPU memory: 738.6 MiB\n"
          ]
        },
        {
          "output_type": "stream",
          "name": "stdout",
          "text": [
            "19:36:33   max GPU memory: 738.6 MiB\n"
          ]
        },
        {
          "output_type": "stream",
          "name": "stderr",
          "text": [
            "WARNING:torchdrug.core.logger:------------------------------\n"
          ]
        },
        {
          "output_type": "stream",
          "name": "stdout",
          "text": [
            "19:36:33   ------------------------------\n"
          ]
        },
        {
          "output_type": "stream",
          "name": "stderr",
          "text": [
            "WARNING:torchdrug.core.logger:average binary cross entropy: 0.154741\n"
          ]
        },
        {
          "output_type": "stream",
          "name": "stdout",
          "text": [
            "19:36:33   average binary cross entropy: 0.154741\n"
          ]
        },
        {
          "output_type": "stream",
          "name": "stderr",
          "text": [
            "WARNING:torchdrug.core.meter:>>>>>>>>>>>>>>>>>>>>>>>>>>>>>>\n"
          ]
        },
        {
          "output_type": "stream",
          "name": "stdout",
          "text": [
            "19:36:33   >>>>>>>>>>>>>>>>>>>>>>>>>>>>>>\n"
          ]
        },
        {
          "output_type": "stream",
          "name": "stderr",
          "text": [
            "WARNING:torchdrug.core.meter:Epoch 65 begin\n"
          ]
        },
        {
          "output_type": "stream",
          "name": "stdout",
          "text": [
            "19:36:33   Epoch 65 begin\n"
          ]
        },
        {
          "output_type": "stream",
          "name": "stderr",
          "text": [
            "WARNING:torchdrug.core.meter:>>>>>>>>>>>>>>>>>>>>>>>>>>>>>>\n"
          ]
        },
        {
          "output_type": "stream",
          "name": "stdout",
          "text": [
            "19:36:34   >>>>>>>>>>>>>>>>>>>>>>>>>>>>>>\n"
          ]
        },
        {
          "output_type": "stream",
          "name": "stderr",
          "text": [
            "WARNING:torchdrug.core.meter:Epoch 65 end\n"
          ]
        },
        {
          "output_type": "stream",
          "name": "stdout",
          "text": [
            "19:36:34   Epoch 65 end\n"
          ]
        },
        {
          "output_type": "stream",
          "name": "stderr",
          "text": [
            "WARNING:torchdrug.core.meter:duration: 0.24 secs\n"
          ]
        },
        {
          "output_type": "stream",
          "name": "stdout",
          "text": [
            "19:36:34   duration: 0.24 secs\n"
          ]
        },
        {
          "output_type": "stream",
          "name": "stderr",
          "text": [
            "WARNING:torchdrug.core.meter:speed: 8.38 batch / sec\n"
          ]
        },
        {
          "output_type": "stream",
          "name": "stdout",
          "text": [
            "19:36:34   speed: 8.38 batch / sec\n"
          ]
        },
        {
          "output_type": "stream",
          "name": "stderr",
          "text": [
            "WARNING:torchdrug.core.meter:ETA: 21.90 secs\n"
          ]
        },
        {
          "output_type": "stream",
          "name": "stdout",
          "text": [
            "19:36:34   ETA: 21.90 secs\n"
          ]
        },
        {
          "output_type": "stream",
          "name": "stderr",
          "text": [
            "WARNING:torchdrug.core.meter:max GPU memory: 741.8 MiB\n"
          ]
        },
        {
          "output_type": "stream",
          "name": "stdout",
          "text": [
            "19:36:34   max GPU memory: 741.8 MiB\n"
          ]
        },
        {
          "output_type": "stream",
          "name": "stderr",
          "text": [
            "WARNING:torchdrug.core.logger:------------------------------\n"
          ]
        },
        {
          "output_type": "stream",
          "name": "stdout",
          "text": [
            "19:36:34   ------------------------------\n"
          ]
        },
        {
          "output_type": "stream",
          "name": "stderr",
          "text": [
            "WARNING:torchdrug.core.logger:average binary cross entropy: 0.111237\n"
          ]
        },
        {
          "output_type": "stream",
          "name": "stdout",
          "text": [
            "19:36:34   average binary cross entropy: 0.111237\n"
          ]
        },
        {
          "output_type": "stream",
          "name": "stderr",
          "text": [
            "WARNING:torchdrug.core.meter:>>>>>>>>>>>>>>>>>>>>>>>>>>>>>>\n"
          ]
        },
        {
          "output_type": "stream",
          "name": "stdout",
          "text": [
            "19:36:34   >>>>>>>>>>>>>>>>>>>>>>>>>>>>>>\n"
          ]
        },
        {
          "output_type": "stream",
          "name": "stderr",
          "text": [
            "WARNING:torchdrug.core.meter:Epoch 66 begin\n"
          ]
        },
        {
          "output_type": "stream",
          "name": "stdout",
          "text": [
            "19:36:34   Epoch 66 begin\n"
          ]
        },
        {
          "output_type": "stream",
          "name": "stderr",
          "text": [
            "WARNING:torchdrug.core.meter:>>>>>>>>>>>>>>>>>>>>>>>>>>>>>>\n"
          ]
        },
        {
          "output_type": "stream",
          "name": "stdout",
          "text": [
            "19:36:34   >>>>>>>>>>>>>>>>>>>>>>>>>>>>>>\n"
          ]
        },
        {
          "output_type": "stream",
          "name": "stderr",
          "text": [
            "WARNING:torchdrug.core.meter:Epoch 66 end\n"
          ]
        },
        {
          "output_type": "stream",
          "name": "stdout",
          "text": [
            "19:36:34   Epoch 66 end\n"
          ]
        },
        {
          "output_type": "stream",
          "name": "stderr",
          "text": [
            "WARNING:torchdrug.core.meter:duration: 0.24 secs\n"
          ]
        },
        {
          "output_type": "stream",
          "name": "stdout",
          "text": [
            "19:36:34   duration: 0.24 secs\n"
          ]
        },
        {
          "output_type": "stream",
          "name": "stderr",
          "text": [
            "WARNING:torchdrug.core.meter:speed: 8.44 batch / sec\n"
          ]
        },
        {
          "output_type": "stream",
          "name": "stdout",
          "text": [
            "19:36:34   speed: 8.44 batch / sec\n"
          ]
        },
        {
          "output_type": "stream",
          "name": "stderr",
          "text": [
            "WARNING:torchdrug.core.meter:ETA: 21.06 secs\n"
          ]
        },
        {
          "output_type": "stream",
          "name": "stdout",
          "text": [
            "19:36:34   ETA: 21.06 secs\n"
          ]
        },
        {
          "output_type": "stream",
          "name": "stderr",
          "text": [
            "WARNING:torchdrug.core.meter:max GPU memory: 750.4 MiB\n"
          ]
        },
        {
          "output_type": "stream",
          "name": "stdout",
          "text": [
            "19:36:34   max GPU memory: 750.4 MiB\n"
          ]
        },
        {
          "output_type": "stream",
          "name": "stderr",
          "text": [
            "WARNING:torchdrug.core.logger:------------------------------\n"
          ]
        },
        {
          "output_type": "stream",
          "name": "stdout",
          "text": [
            "19:36:34   ------------------------------\n"
          ]
        },
        {
          "output_type": "stream",
          "name": "stderr",
          "text": [
            "WARNING:torchdrug.core.logger:average binary cross entropy: 0.209471\n"
          ]
        },
        {
          "output_type": "stream",
          "name": "stdout",
          "text": [
            "19:36:34   average binary cross entropy: 0.209471\n"
          ]
        },
        {
          "output_type": "stream",
          "name": "stderr",
          "text": [
            "WARNING:torchdrug.core.meter:>>>>>>>>>>>>>>>>>>>>>>>>>>>>>>\n"
          ]
        },
        {
          "output_type": "stream",
          "name": "stdout",
          "text": [
            "19:36:34   >>>>>>>>>>>>>>>>>>>>>>>>>>>>>>\n"
          ]
        },
        {
          "output_type": "stream",
          "name": "stderr",
          "text": [
            "WARNING:torchdrug.core.meter:Epoch 67 begin\n"
          ]
        },
        {
          "output_type": "stream",
          "name": "stdout",
          "text": [
            "19:36:34   Epoch 67 begin\n"
          ]
        },
        {
          "output_type": "stream",
          "name": "stderr",
          "text": [
            "WARNING:torchdrug.core.meter:>>>>>>>>>>>>>>>>>>>>>>>>>>>>>>\n"
          ]
        },
        {
          "output_type": "stream",
          "name": "stdout",
          "text": [
            "19:36:34   >>>>>>>>>>>>>>>>>>>>>>>>>>>>>>\n"
          ]
        },
        {
          "output_type": "stream",
          "name": "stderr",
          "text": [
            "WARNING:torchdrug.core.meter:Epoch 67 end\n"
          ]
        },
        {
          "output_type": "stream",
          "name": "stdout",
          "text": [
            "19:36:34   Epoch 67 end\n"
          ]
        },
        {
          "output_type": "stream",
          "name": "stderr",
          "text": [
            "WARNING:torchdrug.core.meter:duration: 0.24 secs\n"
          ]
        },
        {
          "output_type": "stream",
          "name": "stdout",
          "text": [
            "19:36:34   duration: 0.24 secs\n"
          ]
        },
        {
          "output_type": "stream",
          "name": "stderr",
          "text": [
            "WARNING:torchdrug.core.meter:speed: 8.21 batch / sec\n"
          ]
        },
        {
          "output_type": "stream",
          "name": "stdout",
          "text": [
            "19:36:34   speed: 8.21 batch / sec\n"
          ]
        },
        {
          "output_type": "stream",
          "name": "stderr",
          "text": [
            "WARNING:torchdrug.core.meter:ETA: 20.23 secs\n"
          ]
        },
        {
          "output_type": "stream",
          "name": "stdout",
          "text": [
            "19:36:34   ETA: 20.23 secs\n"
          ]
        },
        {
          "output_type": "stream",
          "name": "stderr",
          "text": [
            "WARNING:torchdrug.core.meter:max GPU memory: 741.6 MiB\n"
          ]
        },
        {
          "output_type": "stream",
          "name": "stdout",
          "text": [
            "19:36:34   max GPU memory: 741.6 MiB\n"
          ]
        },
        {
          "output_type": "stream",
          "name": "stderr",
          "text": [
            "WARNING:torchdrug.core.logger:------------------------------\n"
          ]
        },
        {
          "output_type": "stream",
          "name": "stdout",
          "text": [
            "19:36:34   ------------------------------\n"
          ]
        },
        {
          "output_type": "stream",
          "name": "stderr",
          "text": [
            "WARNING:torchdrug.core.logger:average binary cross entropy: 0.104256\n"
          ]
        },
        {
          "output_type": "stream",
          "name": "stdout",
          "text": [
            "19:36:34   average binary cross entropy: 0.104256\n"
          ]
        },
        {
          "output_type": "stream",
          "name": "stderr",
          "text": [
            "WARNING:torchdrug.core.meter:>>>>>>>>>>>>>>>>>>>>>>>>>>>>>>\n"
          ]
        },
        {
          "output_type": "stream",
          "name": "stdout",
          "text": [
            "19:36:34   >>>>>>>>>>>>>>>>>>>>>>>>>>>>>>\n"
          ]
        },
        {
          "output_type": "stream",
          "name": "stderr",
          "text": [
            "WARNING:torchdrug.core.meter:Epoch 68 begin\n"
          ]
        },
        {
          "output_type": "stream",
          "name": "stdout",
          "text": [
            "19:36:34   Epoch 68 begin\n"
          ]
        },
        {
          "output_type": "stream",
          "name": "stderr",
          "text": [
            "WARNING:torchdrug.core.meter:>>>>>>>>>>>>>>>>>>>>>>>>>>>>>>\n"
          ]
        },
        {
          "output_type": "stream",
          "name": "stdout",
          "text": [
            "19:36:34   >>>>>>>>>>>>>>>>>>>>>>>>>>>>>>\n"
          ]
        },
        {
          "output_type": "stream",
          "name": "stderr",
          "text": [
            "WARNING:torchdrug.core.meter:Epoch 68 end\n"
          ]
        },
        {
          "output_type": "stream",
          "name": "stdout",
          "text": [
            "19:36:34   Epoch 68 end\n"
          ]
        },
        {
          "output_type": "stream",
          "name": "stderr",
          "text": [
            "WARNING:torchdrug.core.meter:duration: 0.24 secs\n"
          ]
        },
        {
          "output_type": "stream",
          "name": "stdout",
          "text": [
            "19:36:34   duration: 0.24 secs\n"
          ]
        },
        {
          "output_type": "stream",
          "name": "stderr",
          "text": [
            "WARNING:torchdrug.core.meter:speed: 8.36 batch / sec\n"
          ]
        },
        {
          "output_type": "stream",
          "name": "stdout",
          "text": [
            "19:36:34   speed: 8.36 batch / sec\n"
          ]
        },
        {
          "output_type": "stream",
          "name": "stderr",
          "text": [
            "WARNING:torchdrug.core.meter:ETA: 19.42 secs\n"
          ]
        },
        {
          "output_type": "stream",
          "name": "stdout",
          "text": [
            "19:36:34   ETA: 19.42 secs\n"
          ]
        },
        {
          "output_type": "stream",
          "name": "stderr",
          "text": [
            "WARNING:torchdrug.core.meter:max GPU memory: 741.6 MiB\n"
          ]
        },
        {
          "output_type": "stream",
          "name": "stdout",
          "text": [
            "19:36:34   max GPU memory: 741.6 MiB\n"
          ]
        },
        {
          "output_type": "stream",
          "name": "stderr",
          "text": [
            "WARNING:torchdrug.core.logger:------------------------------\n"
          ]
        },
        {
          "output_type": "stream",
          "name": "stdout",
          "text": [
            "19:36:34   ------------------------------\n"
          ]
        },
        {
          "output_type": "stream",
          "name": "stderr",
          "text": [
            "WARNING:torchdrug.core.logger:average binary cross entropy: 0.20636\n"
          ]
        },
        {
          "output_type": "stream",
          "name": "stdout",
          "text": [
            "19:36:34   average binary cross entropy: 0.20636\n"
          ]
        },
        {
          "output_type": "stream",
          "name": "stderr",
          "text": [
            "WARNING:torchdrug.core.meter:>>>>>>>>>>>>>>>>>>>>>>>>>>>>>>\n"
          ]
        },
        {
          "output_type": "stream",
          "name": "stdout",
          "text": [
            "19:36:34   >>>>>>>>>>>>>>>>>>>>>>>>>>>>>>\n"
          ]
        },
        {
          "output_type": "stream",
          "name": "stderr",
          "text": [
            "WARNING:torchdrug.core.meter:Epoch 69 begin\n"
          ]
        },
        {
          "output_type": "stream",
          "name": "stdout",
          "text": [
            "19:36:34   Epoch 69 begin\n"
          ]
        },
        {
          "output_type": "stream",
          "name": "stderr",
          "text": [
            "WARNING:torchdrug.core.meter:>>>>>>>>>>>>>>>>>>>>>>>>>>>>>>\n"
          ]
        },
        {
          "output_type": "stream",
          "name": "stdout",
          "text": [
            "19:36:34   >>>>>>>>>>>>>>>>>>>>>>>>>>>>>>\n"
          ]
        },
        {
          "output_type": "stream",
          "name": "stderr",
          "text": [
            "WARNING:torchdrug.core.meter:Epoch 69 end\n"
          ]
        },
        {
          "output_type": "stream",
          "name": "stdout",
          "text": [
            "19:36:34   Epoch 69 end\n"
          ]
        },
        {
          "output_type": "stream",
          "name": "stderr",
          "text": [
            "WARNING:torchdrug.core.meter:duration: 0.25 secs\n"
          ]
        },
        {
          "output_type": "stream",
          "name": "stdout",
          "text": [
            "19:36:34   duration: 0.25 secs\n"
          ]
        },
        {
          "output_type": "stream",
          "name": "stderr",
          "text": [
            "WARNING:torchdrug.core.meter:speed: 7.94 batch / sec\n"
          ]
        },
        {
          "output_type": "stream",
          "name": "stdout",
          "text": [
            "19:36:35   speed: 7.94 batch / sec\n"
          ]
        },
        {
          "output_type": "stream",
          "name": "stderr",
          "text": [
            "WARNING:torchdrug.core.meter:ETA: 18.64 secs\n"
          ]
        },
        {
          "output_type": "stream",
          "name": "stdout",
          "text": [
            "19:36:35   ETA: 18.64 secs\n"
          ]
        },
        {
          "output_type": "stream",
          "name": "stderr",
          "text": [
            "WARNING:torchdrug.core.meter:max GPU memory: 752.3 MiB\n"
          ]
        },
        {
          "output_type": "stream",
          "name": "stdout",
          "text": [
            "19:36:35   max GPU memory: 752.3 MiB\n"
          ]
        },
        {
          "output_type": "stream",
          "name": "stderr",
          "text": [
            "WARNING:torchdrug.core.logger:------------------------------\n"
          ]
        },
        {
          "output_type": "stream",
          "name": "stdout",
          "text": [
            "19:36:35   ------------------------------\n"
          ]
        },
        {
          "output_type": "stream",
          "name": "stderr",
          "text": [
            "WARNING:torchdrug.core.logger:average binary cross entropy: 0.130231\n"
          ]
        },
        {
          "output_type": "stream",
          "name": "stdout",
          "text": [
            "19:36:35   average binary cross entropy: 0.130231\n"
          ]
        },
        {
          "output_type": "stream",
          "name": "stderr",
          "text": [
            "WARNING:torchdrug.core.meter:>>>>>>>>>>>>>>>>>>>>>>>>>>>>>>\n"
          ]
        },
        {
          "output_type": "stream",
          "name": "stdout",
          "text": [
            "19:36:35   >>>>>>>>>>>>>>>>>>>>>>>>>>>>>>\n"
          ]
        },
        {
          "output_type": "stream",
          "name": "stderr",
          "text": [
            "WARNING:torchdrug.core.meter:Epoch 70 begin\n"
          ]
        },
        {
          "output_type": "stream",
          "name": "stdout",
          "text": [
            "19:36:35   Epoch 70 begin\n"
          ]
        },
        {
          "output_type": "stream",
          "name": "stderr",
          "text": [
            "WARNING:torchdrug.core.meter:>>>>>>>>>>>>>>>>>>>>>>>>>>>>>>\n"
          ]
        },
        {
          "output_type": "stream",
          "name": "stdout",
          "text": [
            "19:36:35   >>>>>>>>>>>>>>>>>>>>>>>>>>>>>>\n"
          ]
        },
        {
          "output_type": "stream",
          "name": "stderr",
          "text": [
            "WARNING:torchdrug.core.meter:Epoch 70 end\n"
          ]
        },
        {
          "output_type": "stream",
          "name": "stdout",
          "text": [
            "19:36:35   Epoch 70 end\n"
          ]
        },
        {
          "output_type": "stream",
          "name": "stderr",
          "text": [
            "WARNING:torchdrug.core.meter:duration: 0.25 secs\n"
          ]
        },
        {
          "output_type": "stream",
          "name": "stdout",
          "text": [
            "19:36:35   duration: 0.25 secs\n"
          ]
        },
        {
          "output_type": "stream",
          "name": "stderr",
          "text": [
            "WARNING:torchdrug.core.meter:speed: 7.98 batch / sec\n"
          ]
        },
        {
          "output_type": "stream",
          "name": "stdout",
          "text": [
            "19:36:35   speed: 7.98 batch / sec\n"
          ]
        },
        {
          "output_type": "stream",
          "name": "stderr",
          "text": [
            "WARNING:torchdrug.core.meter:ETA: 17.86 secs\n"
          ]
        },
        {
          "output_type": "stream",
          "name": "stdout",
          "text": [
            "19:36:35   ETA: 17.86 secs\n"
          ]
        },
        {
          "output_type": "stream",
          "name": "stderr",
          "text": [
            "WARNING:torchdrug.core.meter:max GPU memory: 741.0 MiB\n"
          ]
        },
        {
          "output_type": "stream",
          "name": "stdout",
          "text": [
            "19:36:35   max GPU memory: 741.0 MiB\n"
          ]
        },
        {
          "output_type": "stream",
          "name": "stderr",
          "text": [
            "WARNING:torchdrug.core.logger:------------------------------\n"
          ]
        },
        {
          "output_type": "stream",
          "name": "stdout",
          "text": [
            "19:36:35   ------------------------------\n"
          ]
        },
        {
          "output_type": "stream",
          "name": "stderr",
          "text": [
            "WARNING:torchdrug.core.logger:average binary cross entropy: 0.159106\n"
          ]
        },
        {
          "output_type": "stream",
          "name": "stdout",
          "text": [
            "19:36:35   average binary cross entropy: 0.159106\n"
          ]
        },
        {
          "output_type": "stream",
          "name": "stderr",
          "text": [
            "WARNING:torchdrug.core.meter:>>>>>>>>>>>>>>>>>>>>>>>>>>>>>>\n"
          ]
        },
        {
          "output_type": "stream",
          "name": "stdout",
          "text": [
            "19:36:35   >>>>>>>>>>>>>>>>>>>>>>>>>>>>>>\n"
          ]
        },
        {
          "output_type": "stream",
          "name": "stderr",
          "text": [
            "WARNING:torchdrug.core.meter:Epoch 71 begin\n"
          ]
        },
        {
          "output_type": "stream",
          "name": "stdout",
          "text": [
            "19:36:35   Epoch 71 begin\n"
          ]
        },
        {
          "output_type": "stream",
          "name": "stderr",
          "text": [
            "WARNING:torchdrug.core.meter:>>>>>>>>>>>>>>>>>>>>>>>>>>>>>>\n"
          ]
        },
        {
          "output_type": "stream",
          "name": "stdout",
          "text": [
            "19:36:35   >>>>>>>>>>>>>>>>>>>>>>>>>>>>>>\n"
          ]
        },
        {
          "output_type": "stream",
          "name": "stderr",
          "text": [
            "WARNING:torchdrug.core.meter:Epoch 71 end\n"
          ]
        },
        {
          "output_type": "stream",
          "name": "stdout",
          "text": [
            "19:36:35   Epoch 71 end\n"
          ]
        },
        {
          "output_type": "stream",
          "name": "stderr",
          "text": [
            "WARNING:torchdrug.core.meter:duration: 0.23 secs\n"
          ]
        },
        {
          "output_type": "stream",
          "name": "stdout",
          "text": [
            "19:36:35   duration: 0.23 secs\n"
          ]
        },
        {
          "output_type": "stream",
          "name": "stderr",
          "text": [
            "WARNING:torchdrug.core.meter:speed: 8.58 batch / sec\n"
          ]
        },
        {
          "output_type": "stream",
          "name": "stdout",
          "text": [
            "19:36:35   speed: 8.58 batch / sec\n"
          ]
        },
        {
          "output_type": "stream",
          "name": "stderr",
          "text": [
            "WARNING:torchdrug.core.meter:ETA: 17.10 secs\n"
          ]
        },
        {
          "output_type": "stream",
          "name": "stdout",
          "text": [
            "19:36:35   ETA: 17.10 secs\n"
          ]
        },
        {
          "output_type": "stream",
          "name": "stderr",
          "text": [
            "WARNING:torchdrug.core.meter:max GPU memory: 744.9 MiB\n"
          ]
        },
        {
          "output_type": "stream",
          "name": "stdout",
          "text": [
            "19:36:35   max GPU memory: 744.9 MiB\n"
          ]
        },
        {
          "output_type": "stream",
          "name": "stderr",
          "text": [
            "WARNING:torchdrug.core.logger:------------------------------\n"
          ]
        },
        {
          "output_type": "stream",
          "name": "stdout",
          "text": [
            "19:36:35   ------------------------------\n"
          ]
        },
        {
          "output_type": "stream",
          "name": "stderr",
          "text": [
            "WARNING:torchdrug.core.logger:average binary cross entropy: 0.152462\n"
          ]
        },
        {
          "output_type": "stream",
          "name": "stdout",
          "text": [
            "19:36:35   average binary cross entropy: 0.152462\n"
          ]
        },
        {
          "output_type": "stream",
          "name": "stderr",
          "text": [
            "WARNING:torchdrug.core.meter:>>>>>>>>>>>>>>>>>>>>>>>>>>>>>>\n"
          ]
        },
        {
          "output_type": "stream",
          "name": "stdout",
          "text": [
            "19:36:35   >>>>>>>>>>>>>>>>>>>>>>>>>>>>>>\n"
          ]
        },
        {
          "output_type": "stream",
          "name": "stderr",
          "text": [
            "WARNING:torchdrug.core.meter:Epoch 72 begin\n"
          ]
        },
        {
          "output_type": "stream",
          "name": "stdout",
          "text": [
            "19:36:35   Epoch 72 begin\n"
          ]
        },
        {
          "output_type": "stream",
          "name": "stderr",
          "text": [
            "WARNING:torchdrug.core.meter:>>>>>>>>>>>>>>>>>>>>>>>>>>>>>>\n"
          ]
        },
        {
          "output_type": "stream",
          "name": "stdout",
          "text": [
            "19:36:35   >>>>>>>>>>>>>>>>>>>>>>>>>>>>>>\n"
          ]
        },
        {
          "output_type": "stream",
          "name": "stderr",
          "text": [
            "WARNING:torchdrug.core.meter:Epoch 72 end\n"
          ]
        },
        {
          "output_type": "stream",
          "name": "stdout",
          "text": [
            "19:36:35   Epoch 72 end\n"
          ]
        },
        {
          "output_type": "stream",
          "name": "stderr",
          "text": [
            "WARNING:torchdrug.core.meter:duration: 0.24 secs\n"
          ]
        },
        {
          "output_type": "stream",
          "name": "stdout",
          "text": [
            "19:36:35   duration: 0.24 secs\n"
          ]
        },
        {
          "output_type": "stream",
          "name": "stderr",
          "text": [
            "WARNING:torchdrug.core.meter:speed: 8.32 batch / sec\n"
          ]
        },
        {
          "output_type": "stream",
          "name": "stdout",
          "text": [
            "19:36:35   speed: 8.32 batch / sec\n"
          ]
        },
        {
          "output_type": "stream",
          "name": "stderr",
          "text": [
            "WARNING:torchdrug.core.meter:ETA: 16.35 secs\n"
          ]
        },
        {
          "output_type": "stream",
          "name": "stdout",
          "text": [
            "19:36:35   ETA: 16.35 secs\n"
          ]
        },
        {
          "output_type": "stream",
          "name": "stderr",
          "text": [
            "WARNING:torchdrug.core.meter:max GPU memory: 741.5 MiB\n"
          ]
        },
        {
          "output_type": "stream",
          "name": "stdout",
          "text": [
            "19:36:35   max GPU memory: 741.5 MiB\n"
          ]
        },
        {
          "output_type": "stream",
          "name": "stderr",
          "text": [
            "WARNING:torchdrug.core.logger:------------------------------\n"
          ]
        },
        {
          "output_type": "stream",
          "name": "stdout",
          "text": [
            "19:36:35   ------------------------------\n"
          ]
        },
        {
          "output_type": "stream",
          "name": "stderr",
          "text": [
            "WARNING:torchdrug.core.logger:average binary cross entropy: 0.14018\n"
          ]
        },
        {
          "output_type": "stream",
          "name": "stdout",
          "text": [
            "19:36:35   average binary cross entropy: 0.14018\n"
          ]
        },
        {
          "output_type": "stream",
          "name": "stderr",
          "text": [
            "WARNING:torchdrug.core.meter:>>>>>>>>>>>>>>>>>>>>>>>>>>>>>>\n"
          ]
        },
        {
          "output_type": "stream",
          "name": "stdout",
          "text": [
            "19:36:35   >>>>>>>>>>>>>>>>>>>>>>>>>>>>>>\n"
          ]
        },
        {
          "output_type": "stream",
          "name": "stderr",
          "text": [
            "WARNING:torchdrug.core.meter:Epoch 73 begin\n"
          ]
        },
        {
          "output_type": "stream",
          "name": "stdout",
          "text": [
            "19:36:35   Epoch 73 begin\n"
          ]
        },
        {
          "output_type": "stream",
          "name": "stderr",
          "text": [
            "WARNING:torchdrug.core.meter:>>>>>>>>>>>>>>>>>>>>>>>>>>>>>>\n"
          ]
        },
        {
          "output_type": "stream",
          "name": "stdout",
          "text": [
            "19:36:35   >>>>>>>>>>>>>>>>>>>>>>>>>>>>>>\n"
          ]
        },
        {
          "output_type": "stream",
          "name": "stderr",
          "text": [
            "WARNING:torchdrug.core.meter:Epoch 73 end\n"
          ]
        },
        {
          "output_type": "stream",
          "name": "stdout",
          "text": [
            "19:36:35   Epoch 73 end\n"
          ]
        },
        {
          "output_type": "stream",
          "name": "stderr",
          "text": [
            "WARNING:torchdrug.core.meter:duration: 0.25 secs\n"
          ]
        },
        {
          "output_type": "stream",
          "name": "stdout",
          "text": [
            "19:36:35   duration: 0.25 secs\n"
          ]
        },
        {
          "output_type": "stream",
          "name": "stderr",
          "text": [
            "WARNING:torchdrug.core.meter:speed: 7.88 batch / sec\n"
          ]
        },
        {
          "output_type": "stream",
          "name": "stdout",
          "text": [
            "19:36:35   speed: 7.88 batch / sec\n"
          ]
        },
        {
          "output_type": "stream",
          "name": "stderr",
          "text": [
            "WARNING:torchdrug.core.meter:ETA: 15.62 secs\n"
          ]
        },
        {
          "output_type": "stream",
          "name": "stdout",
          "text": [
            "19:36:35   ETA: 15.62 secs\n"
          ]
        },
        {
          "output_type": "stream",
          "name": "stderr",
          "text": [
            "WARNING:torchdrug.core.meter:max GPU memory: 742.1 MiB\n"
          ]
        },
        {
          "output_type": "stream",
          "name": "stdout",
          "text": [
            "19:36:35   max GPU memory: 742.1 MiB\n"
          ]
        },
        {
          "output_type": "stream",
          "name": "stderr",
          "text": [
            "WARNING:torchdrug.core.logger:------------------------------\n"
          ]
        },
        {
          "output_type": "stream",
          "name": "stdout",
          "text": [
            "19:36:35   ------------------------------\n"
          ]
        },
        {
          "output_type": "stream",
          "name": "stderr",
          "text": [
            "WARNING:torchdrug.core.logger:average binary cross entropy: 0.198091\n"
          ]
        },
        {
          "output_type": "stream",
          "name": "stdout",
          "text": [
            "19:36:35   average binary cross entropy: 0.198091\n"
          ]
        },
        {
          "output_type": "stream",
          "name": "stderr",
          "text": [
            "WARNING:torchdrug.core.meter:>>>>>>>>>>>>>>>>>>>>>>>>>>>>>>\n"
          ]
        },
        {
          "output_type": "stream",
          "name": "stdout",
          "text": [
            "19:36:35   >>>>>>>>>>>>>>>>>>>>>>>>>>>>>>\n"
          ]
        },
        {
          "output_type": "stream",
          "name": "stderr",
          "text": [
            "WARNING:torchdrug.core.meter:Epoch 74 begin\n"
          ]
        },
        {
          "output_type": "stream",
          "name": "stdout",
          "text": [
            "19:36:35   Epoch 74 begin\n"
          ]
        },
        {
          "output_type": "stream",
          "name": "stderr",
          "text": [
            "WARNING:torchdrug.core.meter:>>>>>>>>>>>>>>>>>>>>>>>>>>>>>>\n"
          ]
        },
        {
          "output_type": "stream",
          "name": "stdout",
          "text": [
            "19:36:36   >>>>>>>>>>>>>>>>>>>>>>>>>>>>>>\n"
          ]
        },
        {
          "output_type": "stream",
          "name": "stderr",
          "text": [
            "WARNING:torchdrug.core.meter:Epoch 74 end\n"
          ]
        },
        {
          "output_type": "stream",
          "name": "stdout",
          "text": [
            "19:36:36   Epoch 74 end\n"
          ]
        },
        {
          "output_type": "stream",
          "name": "stderr",
          "text": [
            "WARNING:torchdrug.core.meter:duration: 0.28 secs\n"
          ]
        },
        {
          "output_type": "stream",
          "name": "stdout",
          "text": [
            "19:36:36   duration: 0.28 secs\n"
          ]
        },
        {
          "output_type": "stream",
          "name": "stderr",
          "text": [
            "WARNING:torchdrug.core.meter:speed: 7.25 batch / sec\n"
          ]
        },
        {
          "output_type": "stream",
          "name": "stdout",
          "text": [
            "19:36:36   speed: 7.25 batch / sec\n"
          ]
        },
        {
          "output_type": "stream",
          "name": "stderr",
          "text": [
            "WARNING:torchdrug.core.meter:ETA: 14.91 secs\n"
          ]
        },
        {
          "output_type": "stream",
          "name": "stdout",
          "text": [
            "19:36:36   ETA: 14.91 secs\n"
          ]
        },
        {
          "output_type": "stream",
          "name": "stderr",
          "text": [
            "WARNING:torchdrug.core.meter:max GPU memory: 755.0 MiB\n"
          ]
        },
        {
          "output_type": "stream",
          "name": "stdout",
          "text": [
            "19:36:36   max GPU memory: 755.0 MiB\n"
          ]
        },
        {
          "output_type": "stream",
          "name": "stderr",
          "text": [
            "WARNING:torchdrug.core.logger:------------------------------\n"
          ]
        },
        {
          "output_type": "stream",
          "name": "stdout",
          "text": [
            "19:36:36   ------------------------------\n"
          ]
        },
        {
          "output_type": "stream",
          "name": "stderr",
          "text": [
            "WARNING:torchdrug.core.logger:average binary cross entropy: 0.177718\n"
          ]
        },
        {
          "output_type": "stream",
          "name": "stdout",
          "text": [
            "19:36:36   average binary cross entropy: 0.177718\n"
          ]
        },
        {
          "output_type": "stream",
          "name": "stderr",
          "text": [
            "WARNING:torchdrug.core.meter:>>>>>>>>>>>>>>>>>>>>>>>>>>>>>>\n"
          ]
        },
        {
          "output_type": "stream",
          "name": "stdout",
          "text": [
            "19:36:36   >>>>>>>>>>>>>>>>>>>>>>>>>>>>>>\n"
          ]
        },
        {
          "output_type": "stream",
          "name": "stderr",
          "text": [
            "WARNING:torchdrug.core.meter:Epoch 75 begin\n"
          ]
        },
        {
          "output_type": "stream",
          "name": "stdout",
          "text": [
            "19:36:36   Epoch 75 begin\n"
          ]
        },
        {
          "output_type": "stream",
          "name": "stderr",
          "text": [
            "WARNING:torchdrug.core.meter:>>>>>>>>>>>>>>>>>>>>>>>>>>>>>>\n"
          ]
        },
        {
          "output_type": "stream",
          "name": "stdout",
          "text": [
            "19:36:36   >>>>>>>>>>>>>>>>>>>>>>>>>>>>>>\n"
          ]
        },
        {
          "output_type": "stream",
          "name": "stderr",
          "text": [
            "WARNING:torchdrug.core.meter:Epoch 75 end\n"
          ]
        },
        {
          "output_type": "stream",
          "name": "stdout",
          "text": [
            "19:36:36   Epoch 75 end\n"
          ]
        },
        {
          "output_type": "stream",
          "name": "stderr",
          "text": [
            "WARNING:torchdrug.core.meter:duration: 0.26 secs\n"
          ]
        },
        {
          "output_type": "stream",
          "name": "stdout",
          "text": [
            "19:36:36   duration: 0.26 secs\n"
          ]
        },
        {
          "output_type": "stream",
          "name": "stderr",
          "text": [
            "WARNING:torchdrug.core.meter:speed: 7.84 batch / sec\n"
          ]
        },
        {
          "output_type": "stream",
          "name": "stdout",
          "text": [
            "19:36:36   speed: 7.84 batch / sec\n"
          ]
        },
        {
          "output_type": "stream",
          "name": "stderr",
          "text": [
            "WARNING:torchdrug.core.meter:ETA: 14.21 secs\n"
          ]
        },
        {
          "output_type": "stream",
          "name": "stdout",
          "text": [
            "19:36:36   ETA: 14.21 secs\n"
          ]
        },
        {
          "output_type": "stream",
          "name": "stderr",
          "text": [
            "WARNING:torchdrug.core.meter:max GPU memory: 740.1 MiB\n"
          ]
        },
        {
          "output_type": "stream",
          "name": "stdout",
          "text": [
            "19:36:36   max GPU memory: 740.1 MiB\n"
          ]
        },
        {
          "output_type": "stream",
          "name": "stderr",
          "text": [
            "WARNING:torchdrug.core.logger:------------------------------\n"
          ]
        },
        {
          "output_type": "stream",
          "name": "stdout",
          "text": [
            "19:36:36   ------------------------------\n"
          ]
        },
        {
          "output_type": "stream",
          "name": "stderr",
          "text": [
            "WARNING:torchdrug.core.logger:average binary cross entropy: 0.152828\n"
          ]
        },
        {
          "output_type": "stream",
          "name": "stdout",
          "text": [
            "19:36:36   average binary cross entropy: 0.152828\n"
          ]
        },
        {
          "output_type": "stream",
          "name": "stderr",
          "text": [
            "WARNING:torchdrug.core.meter:>>>>>>>>>>>>>>>>>>>>>>>>>>>>>>\n"
          ]
        },
        {
          "output_type": "stream",
          "name": "stdout",
          "text": [
            "19:36:36   >>>>>>>>>>>>>>>>>>>>>>>>>>>>>>\n"
          ]
        },
        {
          "output_type": "stream",
          "name": "stderr",
          "text": [
            "WARNING:torchdrug.core.meter:Epoch 76 begin\n"
          ]
        },
        {
          "output_type": "stream",
          "name": "stdout",
          "text": [
            "19:36:36   Epoch 76 begin\n"
          ]
        },
        {
          "output_type": "stream",
          "name": "stderr",
          "text": [
            "WARNING:torchdrug.core.meter:>>>>>>>>>>>>>>>>>>>>>>>>>>>>>>\n"
          ]
        },
        {
          "output_type": "stream",
          "name": "stdout",
          "text": [
            "19:36:36   >>>>>>>>>>>>>>>>>>>>>>>>>>>>>>\n"
          ]
        },
        {
          "output_type": "stream",
          "name": "stderr",
          "text": [
            "WARNING:torchdrug.core.meter:Epoch 76 end\n"
          ]
        },
        {
          "output_type": "stream",
          "name": "stdout",
          "text": [
            "19:36:36   Epoch 76 end\n"
          ]
        },
        {
          "output_type": "stream",
          "name": "stderr",
          "text": [
            "WARNING:torchdrug.core.meter:duration: 0.24 secs\n"
          ]
        },
        {
          "output_type": "stream",
          "name": "stdout",
          "text": [
            "19:36:36   duration: 0.24 secs\n"
          ]
        },
        {
          "output_type": "stream",
          "name": "stderr",
          "text": [
            "WARNING:torchdrug.core.meter:speed: 8.34 batch / sec\n"
          ]
        },
        {
          "output_type": "stream",
          "name": "stdout",
          "text": [
            "19:36:36   speed: 8.34 batch / sec\n"
          ]
        },
        {
          "output_type": "stream",
          "name": "stderr",
          "text": [
            "WARNING:torchdrug.core.meter:ETA: 13.51 secs\n"
          ]
        },
        {
          "output_type": "stream",
          "name": "stdout",
          "text": [
            "19:36:36   ETA: 13.51 secs\n"
          ]
        },
        {
          "output_type": "stream",
          "name": "stderr",
          "text": [
            "WARNING:torchdrug.core.meter:max GPU memory: 748.5 MiB\n"
          ]
        },
        {
          "output_type": "stream",
          "name": "stdout",
          "text": [
            "19:36:36   max GPU memory: 748.5 MiB\n"
          ]
        },
        {
          "output_type": "stream",
          "name": "stderr",
          "text": [
            "WARNING:torchdrug.core.logger:------------------------------\n"
          ]
        },
        {
          "output_type": "stream",
          "name": "stdout",
          "text": [
            "19:36:36   ------------------------------\n"
          ]
        },
        {
          "output_type": "stream",
          "name": "stderr",
          "text": [
            "WARNING:torchdrug.core.logger:average binary cross entropy: 0.140585\n"
          ]
        },
        {
          "output_type": "stream",
          "name": "stdout",
          "text": [
            "19:36:36   average binary cross entropy: 0.140585\n"
          ]
        },
        {
          "output_type": "stream",
          "name": "stderr",
          "text": [
            "WARNING:torchdrug.core.meter:>>>>>>>>>>>>>>>>>>>>>>>>>>>>>>\n"
          ]
        },
        {
          "output_type": "stream",
          "name": "stdout",
          "text": [
            "19:36:36   >>>>>>>>>>>>>>>>>>>>>>>>>>>>>>\n"
          ]
        },
        {
          "output_type": "stream",
          "name": "stderr",
          "text": [
            "WARNING:torchdrug.core.meter:Epoch 77 begin\n"
          ]
        },
        {
          "output_type": "stream",
          "name": "stdout",
          "text": [
            "19:36:36   Epoch 77 begin\n"
          ]
        },
        {
          "output_type": "stream",
          "name": "stderr",
          "text": [
            "WARNING:torchdrug.core.meter:>>>>>>>>>>>>>>>>>>>>>>>>>>>>>>\n"
          ]
        },
        {
          "output_type": "stream",
          "name": "stdout",
          "text": [
            "19:36:36   >>>>>>>>>>>>>>>>>>>>>>>>>>>>>>\n"
          ]
        },
        {
          "output_type": "stream",
          "name": "stderr",
          "text": [
            "WARNING:torchdrug.core.meter:Epoch 77 end\n"
          ]
        },
        {
          "output_type": "stream",
          "name": "stdout",
          "text": [
            "19:36:36   Epoch 77 end\n"
          ]
        },
        {
          "output_type": "stream",
          "name": "stderr",
          "text": [
            "WARNING:torchdrug.core.meter:duration: 0.24 secs\n"
          ]
        },
        {
          "output_type": "stream",
          "name": "stdout",
          "text": [
            "19:36:36   duration: 0.24 secs\n"
          ]
        },
        {
          "output_type": "stream",
          "name": "stderr",
          "text": [
            "WARNING:torchdrug.core.meter:speed: 8.22 batch / sec\n"
          ]
        },
        {
          "output_type": "stream",
          "name": "stdout",
          "text": [
            "19:36:36   speed: 8.22 batch / sec\n"
          ]
        },
        {
          "output_type": "stream",
          "name": "stderr",
          "text": [
            "WARNING:torchdrug.core.meter:ETA: 12.83 secs\n"
          ]
        },
        {
          "output_type": "stream",
          "name": "stdout",
          "text": [
            "19:36:36   ETA: 12.83 secs\n"
          ]
        },
        {
          "output_type": "stream",
          "name": "stderr",
          "text": [
            "WARNING:torchdrug.core.meter:max GPU memory: 742.8 MiB\n"
          ]
        },
        {
          "output_type": "stream",
          "name": "stdout",
          "text": [
            "19:36:36   max GPU memory: 742.8 MiB\n"
          ]
        },
        {
          "output_type": "stream",
          "name": "stderr",
          "text": [
            "WARNING:torchdrug.core.logger:------------------------------\n"
          ]
        },
        {
          "output_type": "stream",
          "name": "stdout",
          "text": [
            "19:36:36   ------------------------------\n"
          ]
        },
        {
          "output_type": "stream",
          "name": "stderr",
          "text": [
            "WARNING:torchdrug.core.logger:average binary cross entropy: 0.123107\n"
          ]
        },
        {
          "output_type": "stream",
          "name": "stdout",
          "text": [
            "19:36:37   average binary cross entropy: 0.123107\n"
          ]
        },
        {
          "output_type": "stream",
          "name": "stderr",
          "text": [
            "WARNING:torchdrug.core.meter:>>>>>>>>>>>>>>>>>>>>>>>>>>>>>>\n"
          ]
        },
        {
          "output_type": "stream",
          "name": "stdout",
          "text": [
            "19:36:37   >>>>>>>>>>>>>>>>>>>>>>>>>>>>>>\n"
          ]
        },
        {
          "output_type": "stream",
          "name": "stderr",
          "text": [
            "WARNING:torchdrug.core.meter:Epoch 78 begin\n"
          ]
        },
        {
          "output_type": "stream",
          "name": "stdout",
          "text": [
            "19:36:37   Epoch 78 begin\n"
          ]
        },
        {
          "output_type": "stream",
          "name": "stderr",
          "text": [
            "WARNING:torchdrug.core.meter:>>>>>>>>>>>>>>>>>>>>>>>>>>>>>>\n"
          ]
        },
        {
          "output_type": "stream",
          "name": "stdout",
          "text": [
            "19:36:37   >>>>>>>>>>>>>>>>>>>>>>>>>>>>>>\n"
          ]
        },
        {
          "output_type": "stream",
          "name": "stderr",
          "text": [
            "WARNING:torchdrug.core.meter:Epoch 78 end\n"
          ]
        },
        {
          "output_type": "stream",
          "name": "stdout",
          "text": [
            "19:36:37   Epoch 78 end\n"
          ]
        },
        {
          "output_type": "stream",
          "name": "stderr",
          "text": [
            "WARNING:torchdrug.core.meter:duration: 0.23 secs\n"
          ]
        },
        {
          "output_type": "stream",
          "name": "stdout",
          "text": [
            "19:36:37   duration: 0.23 secs\n"
          ]
        },
        {
          "output_type": "stream",
          "name": "stderr",
          "text": [
            "WARNING:torchdrug.core.meter:speed: 8.54 batch / sec\n"
          ]
        },
        {
          "output_type": "stream",
          "name": "stdout",
          "text": [
            "19:36:37   speed: 8.54 batch / sec\n"
          ]
        },
        {
          "output_type": "stream",
          "name": "stderr",
          "text": [
            "WARNING:torchdrug.core.meter:ETA: 12.15 secs\n"
          ]
        },
        {
          "output_type": "stream",
          "name": "stdout",
          "text": [
            "19:36:37   ETA: 12.15 secs\n"
          ]
        },
        {
          "output_type": "stream",
          "name": "stderr",
          "text": [
            "WARNING:torchdrug.core.meter:max GPU memory: 754.0 MiB\n"
          ]
        },
        {
          "output_type": "stream",
          "name": "stdout",
          "text": [
            "19:36:37   max GPU memory: 754.0 MiB\n"
          ]
        },
        {
          "output_type": "stream",
          "name": "stderr",
          "text": [
            "WARNING:torchdrug.core.logger:------------------------------\n"
          ]
        },
        {
          "output_type": "stream",
          "name": "stdout",
          "text": [
            "19:36:37   ------------------------------\n"
          ]
        },
        {
          "output_type": "stream",
          "name": "stderr",
          "text": [
            "WARNING:torchdrug.core.logger:average binary cross entropy: 0.109585\n"
          ]
        },
        {
          "output_type": "stream",
          "name": "stdout",
          "text": [
            "19:36:37   average binary cross entropy: 0.109585\n"
          ]
        },
        {
          "output_type": "stream",
          "name": "stderr",
          "text": [
            "WARNING:torchdrug.core.meter:>>>>>>>>>>>>>>>>>>>>>>>>>>>>>>\n"
          ]
        },
        {
          "output_type": "stream",
          "name": "stdout",
          "text": [
            "19:36:37   >>>>>>>>>>>>>>>>>>>>>>>>>>>>>>\n"
          ]
        },
        {
          "output_type": "stream",
          "name": "stderr",
          "text": [
            "WARNING:torchdrug.core.meter:Epoch 79 begin\n"
          ]
        },
        {
          "output_type": "stream",
          "name": "stdout",
          "text": [
            "19:36:37   Epoch 79 begin\n"
          ]
        },
        {
          "output_type": "stream",
          "name": "stderr",
          "text": [
            "WARNING:torchdrug.core.meter:>>>>>>>>>>>>>>>>>>>>>>>>>>>>>>\n"
          ]
        },
        {
          "output_type": "stream",
          "name": "stdout",
          "text": [
            "19:36:37   >>>>>>>>>>>>>>>>>>>>>>>>>>>>>>\n"
          ]
        },
        {
          "output_type": "stream",
          "name": "stderr",
          "text": [
            "WARNING:torchdrug.core.meter:Epoch 79 end\n"
          ]
        },
        {
          "output_type": "stream",
          "name": "stdout",
          "text": [
            "19:36:37   Epoch 79 end\n"
          ]
        },
        {
          "output_type": "stream",
          "name": "stderr",
          "text": [
            "WARNING:torchdrug.core.meter:duration: 0.26 secs\n"
          ]
        },
        {
          "output_type": "stream",
          "name": "stdout",
          "text": [
            "19:36:37   duration: 0.26 secs\n"
          ]
        },
        {
          "output_type": "stream",
          "name": "stderr",
          "text": [
            "WARNING:torchdrug.core.meter:speed: 7.84 batch / sec\n"
          ]
        },
        {
          "output_type": "stream",
          "name": "stdout",
          "text": [
            "19:36:37   speed: 7.84 batch / sec\n"
          ]
        },
        {
          "output_type": "stream",
          "name": "stderr",
          "text": [
            "WARNING:torchdrug.core.meter:ETA: 11.49 secs\n"
          ]
        },
        {
          "output_type": "stream",
          "name": "stdout",
          "text": [
            "19:36:37   ETA: 11.49 secs\n"
          ]
        },
        {
          "output_type": "stream",
          "name": "stderr",
          "text": [
            "WARNING:torchdrug.core.meter:max GPU memory: 741.3 MiB\n"
          ]
        },
        {
          "output_type": "stream",
          "name": "stdout",
          "text": [
            "19:36:37   max GPU memory: 741.3 MiB\n"
          ]
        },
        {
          "output_type": "stream",
          "name": "stderr",
          "text": [
            "WARNING:torchdrug.core.logger:------------------------------\n"
          ]
        },
        {
          "output_type": "stream",
          "name": "stdout",
          "text": [
            "19:36:37   ------------------------------\n"
          ]
        },
        {
          "output_type": "stream",
          "name": "stderr",
          "text": [
            "WARNING:torchdrug.core.logger:average binary cross entropy: 0.0726683\n"
          ]
        },
        {
          "output_type": "stream",
          "name": "stdout",
          "text": [
            "19:36:37   average binary cross entropy: 0.0726683\n"
          ]
        },
        {
          "output_type": "stream",
          "name": "stderr",
          "text": [
            "WARNING:torchdrug.core.meter:>>>>>>>>>>>>>>>>>>>>>>>>>>>>>>\n"
          ]
        },
        {
          "output_type": "stream",
          "name": "stdout",
          "text": [
            "19:36:37   >>>>>>>>>>>>>>>>>>>>>>>>>>>>>>\n"
          ]
        },
        {
          "output_type": "stream",
          "name": "stderr",
          "text": [
            "WARNING:torchdrug.core.meter:Epoch 80 begin\n"
          ]
        },
        {
          "output_type": "stream",
          "name": "stdout",
          "text": [
            "19:36:37   Epoch 80 begin\n"
          ]
        },
        {
          "output_type": "stream",
          "name": "stderr",
          "text": [
            "WARNING:torchdrug.core.meter:>>>>>>>>>>>>>>>>>>>>>>>>>>>>>>\n"
          ]
        },
        {
          "output_type": "stream",
          "name": "stdout",
          "text": [
            "19:36:37   >>>>>>>>>>>>>>>>>>>>>>>>>>>>>>\n"
          ]
        },
        {
          "output_type": "stream",
          "name": "stderr",
          "text": [
            "WARNING:torchdrug.core.meter:Epoch 80 end\n"
          ]
        },
        {
          "output_type": "stream",
          "name": "stdout",
          "text": [
            "19:36:37   Epoch 80 end\n"
          ]
        },
        {
          "output_type": "stream",
          "name": "stderr",
          "text": [
            "WARNING:torchdrug.core.meter:duration: 0.26 secs\n"
          ]
        },
        {
          "output_type": "stream",
          "name": "stdout",
          "text": [
            "19:36:37   duration: 0.26 secs\n"
          ]
        },
        {
          "output_type": "stream",
          "name": "stderr",
          "text": [
            "WARNING:torchdrug.core.meter:speed: 7.80 batch / sec\n"
          ]
        },
        {
          "output_type": "stream",
          "name": "stdout",
          "text": [
            "19:36:37   speed: 7.80 batch / sec\n"
          ]
        },
        {
          "output_type": "stream",
          "name": "stderr",
          "text": [
            "WARNING:torchdrug.core.meter:ETA: 10.84 secs\n"
          ]
        },
        {
          "output_type": "stream",
          "name": "stdout",
          "text": [
            "19:36:37   ETA: 10.84 secs\n"
          ]
        },
        {
          "output_type": "stream",
          "name": "stderr",
          "text": [
            "WARNING:torchdrug.core.meter:max GPU memory: 750.2 MiB\n"
          ]
        },
        {
          "output_type": "stream",
          "name": "stdout",
          "text": [
            "19:36:37   max GPU memory: 750.2 MiB\n"
          ]
        },
        {
          "output_type": "stream",
          "name": "stderr",
          "text": [
            "WARNING:torchdrug.core.logger:------------------------------\n"
          ]
        },
        {
          "output_type": "stream",
          "name": "stdout",
          "text": [
            "19:36:37   ------------------------------\n"
          ]
        },
        {
          "output_type": "stream",
          "name": "stderr",
          "text": [
            "WARNING:torchdrug.core.logger:average binary cross entropy: 0.118005\n"
          ]
        },
        {
          "output_type": "stream",
          "name": "stdout",
          "text": [
            "19:36:37   average binary cross entropy: 0.118005\n"
          ]
        },
        {
          "output_type": "stream",
          "name": "stderr",
          "text": [
            "WARNING:torchdrug.core.meter:>>>>>>>>>>>>>>>>>>>>>>>>>>>>>>\n"
          ]
        },
        {
          "output_type": "stream",
          "name": "stdout",
          "text": [
            "19:36:37   >>>>>>>>>>>>>>>>>>>>>>>>>>>>>>\n"
          ]
        },
        {
          "output_type": "stream",
          "name": "stderr",
          "text": [
            "WARNING:torchdrug.core.meter:Epoch 81 begin\n"
          ]
        },
        {
          "output_type": "stream",
          "name": "stdout",
          "text": [
            "19:36:37   Epoch 81 begin\n"
          ]
        },
        {
          "output_type": "stream",
          "name": "stderr",
          "text": [
            "WARNING:torchdrug.core.meter:>>>>>>>>>>>>>>>>>>>>>>>>>>>>>>\n"
          ]
        },
        {
          "output_type": "stream",
          "name": "stdout",
          "text": [
            "19:36:37   >>>>>>>>>>>>>>>>>>>>>>>>>>>>>>\n"
          ]
        },
        {
          "output_type": "stream",
          "name": "stderr",
          "text": [
            "WARNING:torchdrug.core.meter:Epoch 81 end\n"
          ]
        },
        {
          "output_type": "stream",
          "name": "stdout",
          "text": [
            "19:36:37   Epoch 81 end\n"
          ]
        },
        {
          "output_type": "stream",
          "name": "stderr",
          "text": [
            "WARNING:torchdrug.core.meter:duration: 0.25 secs\n"
          ]
        },
        {
          "output_type": "stream",
          "name": "stdout",
          "text": [
            "19:36:37   duration: 0.25 secs\n"
          ]
        },
        {
          "output_type": "stream",
          "name": "stderr",
          "text": [
            "WARNING:torchdrug.core.meter:speed: 8.11 batch / sec\n"
          ]
        },
        {
          "output_type": "stream",
          "name": "stdout",
          "text": [
            "19:36:37   speed: 8.11 batch / sec\n"
          ]
        },
        {
          "output_type": "stream",
          "name": "stderr",
          "text": [
            "WARNING:torchdrug.core.meter:ETA: 10.20 secs\n"
          ]
        },
        {
          "output_type": "stream",
          "name": "stdout",
          "text": [
            "19:36:37   ETA: 10.20 secs\n"
          ]
        },
        {
          "output_type": "stream",
          "name": "stderr",
          "text": [
            "WARNING:torchdrug.core.meter:max GPU memory: 736.8 MiB\n"
          ]
        },
        {
          "output_type": "stream",
          "name": "stdout",
          "text": [
            "19:36:37   max GPU memory: 736.8 MiB\n"
          ]
        },
        {
          "output_type": "stream",
          "name": "stderr",
          "text": [
            "WARNING:torchdrug.core.logger:------------------------------\n"
          ]
        },
        {
          "output_type": "stream",
          "name": "stdout",
          "text": [
            "19:36:37   ------------------------------\n"
          ]
        },
        {
          "output_type": "stream",
          "name": "stderr",
          "text": [
            "WARNING:torchdrug.core.logger:average binary cross entropy: 0.0844837\n"
          ]
        },
        {
          "output_type": "stream",
          "name": "stdout",
          "text": [
            "19:36:37   average binary cross entropy: 0.0844837\n"
          ]
        },
        {
          "output_type": "stream",
          "name": "stderr",
          "text": [
            "WARNING:torchdrug.core.meter:>>>>>>>>>>>>>>>>>>>>>>>>>>>>>>\n"
          ]
        },
        {
          "output_type": "stream",
          "name": "stdout",
          "text": [
            "19:36:37   >>>>>>>>>>>>>>>>>>>>>>>>>>>>>>\n"
          ]
        },
        {
          "output_type": "stream",
          "name": "stderr",
          "text": [
            "WARNING:torchdrug.core.meter:Epoch 82 begin\n"
          ]
        },
        {
          "output_type": "stream",
          "name": "stdout",
          "text": [
            "19:36:37   Epoch 82 begin\n"
          ]
        },
        {
          "output_type": "stream",
          "name": "stderr",
          "text": [
            "WARNING:torchdrug.core.meter:>>>>>>>>>>>>>>>>>>>>>>>>>>>>>>\n"
          ]
        },
        {
          "output_type": "stream",
          "name": "stdout",
          "text": [
            "19:36:38   >>>>>>>>>>>>>>>>>>>>>>>>>>>>>>\n"
          ]
        },
        {
          "output_type": "stream",
          "name": "stderr",
          "text": [
            "WARNING:torchdrug.core.meter:Epoch 82 end\n"
          ]
        },
        {
          "output_type": "stream",
          "name": "stdout",
          "text": [
            "19:36:38   Epoch 82 end\n"
          ]
        },
        {
          "output_type": "stream",
          "name": "stderr",
          "text": [
            "WARNING:torchdrug.core.meter:duration: 0.25 secs\n"
          ]
        },
        {
          "output_type": "stream",
          "name": "stdout",
          "text": [
            "19:36:38   duration: 0.25 secs\n"
          ]
        },
        {
          "output_type": "stream",
          "name": "stderr",
          "text": [
            "WARNING:torchdrug.core.meter:speed: 7.85 batch / sec\n"
          ]
        },
        {
          "output_type": "stream",
          "name": "stdout",
          "text": [
            "19:36:38   speed: 7.85 batch / sec\n"
          ]
        },
        {
          "output_type": "stream",
          "name": "stderr",
          "text": [
            "WARNING:torchdrug.core.meter:ETA: 9.57 secs\n"
          ]
        },
        {
          "output_type": "stream",
          "name": "stdout",
          "text": [
            "19:36:38   ETA: 9.57 secs\n"
          ]
        },
        {
          "output_type": "stream",
          "name": "stderr",
          "text": [
            "WARNING:torchdrug.core.meter:max GPU memory: 738.0 MiB\n"
          ]
        },
        {
          "output_type": "stream",
          "name": "stdout",
          "text": [
            "19:36:38   max GPU memory: 738.0 MiB\n"
          ]
        },
        {
          "output_type": "stream",
          "name": "stderr",
          "text": [
            "WARNING:torchdrug.core.logger:------------------------------\n"
          ]
        },
        {
          "output_type": "stream",
          "name": "stdout",
          "text": [
            "19:36:38   ------------------------------\n"
          ]
        },
        {
          "output_type": "stream",
          "name": "stderr",
          "text": [
            "WARNING:torchdrug.core.logger:average binary cross entropy: 0.131759\n"
          ]
        },
        {
          "output_type": "stream",
          "name": "stdout",
          "text": [
            "19:36:38   average binary cross entropy: 0.131759\n"
          ]
        },
        {
          "output_type": "stream",
          "name": "stderr",
          "text": [
            "WARNING:torchdrug.core.meter:>>>>>>>>>>>>>>>>>>>>>>>>>>>>>>\n"
          ]
        },
        {
          "output_type": "stream",
          "name": "stdout",
          "text": [
            "19:36:38   >>>>>>>>>>>>>>>>>>>>>>>>>>>>>>\n"
          ]
        },
        {
          "output_type": "stream",
          "name": "stderr",
          "text": [
            "WARNING:torchdrug.core.meter:Epoch 83 begin\n"
          ]
        },
        {
          "output_type": "stream",
          "name": "stdout",
          "text": [
            "19:36:38   Epoch 83 begin\n"
          ]
        },
        {
          "output_type": "stream",
          "name": "stderr",
          "text": [
            "WARNING:torchdrug.core.meter:>>>>>>>>>>>>>>>>>>>>>>>>>>>>>>\n"
          ]
        },
        {
          "output_type": "stream",
          "name": "stdout",
          "text": [
            "19:36:38   >>>>>>>>>>>>>>>>>>>>>>>>>>>>>>\n"
          ]
        },
        {
          "output_type": "stream",
          "name": "stderr",
          "text": [
            "WARNING:torchdrug.core.meter:Epoch 83 end\n"
          ]
        },
        {
          "output_type": "stream",
          "name": "stdout",
          "text": [
            "19:36:38   Epoch 83 end\n"
          ]
        },
        {
          "output_type": "stream",
          "name": "stderr",
          "text": [
            "WARNING:torchdrug.core.meter:duration: 0.23 secs\n"
          ]
        },
        {
          "output_type": "stream",
          "name": "stdout",
          "text": [
            "19:36:38   duration: 0.23 secs\n"
          ]
        },
        {
          "output_type": "stream",
          "name": "stderr",
          "text": [
            "WARNING:torchdrug.core.meter:speed: 8.82 batch / sec\n"
          ]
        },
        {
          "output_type": "stream",
          "name": "stdout",
          "text": [
            "19:36:38   speed: 8.82 batch / sec\n"
          ]
        },
        {
          "output_type": "stream",
          "name": "stderr",
          "text": [
            "WARNING:torchdrug.core.meter:ETA: 8.94 secs\n"
          ]
        },
        {
          "output_type": "stream",
          "name": "stdout",
          "text": [
            "19:36:38   ETA: 8.94 secs\n"
          ]
        },
        {
          "output_type": "stream",
          "name": "stderr",
          "text": [
            "WARNING:torchdrug.core.meter:max GPU memory: 755.4 MiB\n"
          ]
        },
        {
          "output_type": "stream",
          "name": "stdout",
          "text": [
            "19:36:38   max GPU memory: 755.4 MiB\n"
          ]
        },
        {
          "output_type": "stream",
          "name": "stderr",
          "text": [
            "WARNING:torchdrug.core.logger:------------------------------\n"
          ]
        },
        {
          "output_type": "stream",
          "name": "stdout",
          "text": [
            "19:36:38   ------------------------------\n"
          ]
        },
        {
          "output_type": "stream",
          "name": "stderr",
          "text": [
            "WARNING:torchdrug.core.logger:average binary cross entropy: 0.0556963\n"
          ]
        },
        {
          "output_type": "stream",
          "name": "stdout",
          "text": [
            "19:36:38   average binary cross entropy: 0.0556963\n"
          ]
        },
        {
          "output_type": "stream",
          "name": "stderr",
          "text": [
            "WARNING:torchdrug.core.meter:>>>>>>>>>>>>>>>>>>>>>>>>>>>>>>\n"
          ]
        },
        {
          "output_type": "stream",
          "name": "stdout",
          "text": [
            "19:36:38   >>>>>>>>>>>>>>>>>>>>>>>>>>>>>>\n"
          ]
        },
        {
          "output_type": "stream",
          "name": "stderr",
          "text": [
            "WARNING:torchdrug.core.meter:Epoch 84 begin\n"
          ]
        },
        {
          "output_type": "stream",
          "name": "stdout",
          "text": [
            "19:36:38   Epoch 84 begin\n"
          ]
        },
        {
          "output_type": "stream",
          "name": "stderr",
          "text": [
            "WARNING:torchdrug.core.meter:>>>>>>>>>>>>>>>>>>>>>>>>>>>>>>\n"
          ]
        },
        {
          "output_type": "stream",
          "name": "stdout",
          "text": [
            "19:36:38   >>>>>>>>>>>>>>>>>>>>>>>>>>>>>>\n"
          ]
        },
        {
          "output_type": "stream",
          "name": "stderr",
          "text": [
            "WARNING:torchdrug.core.meter:Epoch 84 end\n"
          ]
        },
        {
          "output_type": "stream",
          "name": "stdout",
          "text": [
            "19:36:38   Epoch 84 end\n"
          ]
        },
        {
          "output_type": "stream",
          "name": "stderr",
          "text": [
            "WARNING:torchdrug.core.meter:duration: 0.23 secs\n"
          ]
        },
        {
          "output_type": "stream",
          "name": "stdout",
          "text": [
            "19:36:38   duration: 0.23 secs\n"
          ]
        },
        {
          "output_type": "stream",
          "name": "stderr",
          "text": [
            "WARNING:torchdrug.core.meter:speed: 8.80 batch / sec\n"
          ]
        },
        {
          "output_type": "stream",
          "name": "stdout",
          "text": [
            "19:36:38   speed: 8.80 batch / sec\n"
          ]
        },
        {
          "output_type": "stream",
          "name": "stderr",
          "text": [
            "WARNING:torchdrug.core.meter:ETA: 8.33 secs\n"
          ]
        },
        {
          "output_type": "stream",
          "name": "stdout",
          "text": [
            "19:36:38   ETA: 8.33 secs\n"
          ]
        },
        {
          "output_type": "stream",
          "name": "stderr",
          "text": [
            "WARNING:torchdrug.core.meter:max GPU memory: 739.4 MiB\n"
          ]
        },
        {
          "output_type": "stream",
          "name": "stdout",
          "text": [
            "19:36:38   max GPU memory: 739.4 MiB\n"
          ]
        },
        {
          "output_type": "stream",
          "name": "stderr",
          "text": [
            "WARNING:torchdrug.core.logger:------------------------------\n"
          ]
        },
        {
          "output_type": "stream",
          "name": "stdout",
          "text": [
            "19:36:38   ------------------------------\n"
          ]
        },
        {
          "output_type": "stream",
          "name": "stderr",
          "text": [
            "WARNING:torchdrug.core.logger:average binary cross entropy: 0.120538\n"
          ]
        },
        {
          "output_type": "stream",
          "name": "stdout",
          "text": [
            "19:36:38   average binary cross entropy: 0.120538\n"
          ]
        },
        {
          "output_type": "stream",
          "name": "stderr",
          "text": [
            "WARNING:torchdrug.core.meter:>>>>>>>>>>>>>>>>>>>>>>>>>>>>>>\n"
          ]
        },
        {
          "output_type": "stream",
          "name": "stdout",
          "text": [
            "19:36:38   >>>>>>>>>>>>>>>>>>>>>>>>>>>>>>\n"
          ]
        },
        {
          "output_type": "stream",
          "name": "stderr",
          "text": [
            "WARNING:torchdrug.core.meter:Epoch 85 begin\n"
          ]
        },
        {
          "output_type": "stream",
          "name": "stdout",
          "text": [
            "19:36:38   Epoch 85 begin\n"
          ]
        },
        {
          "output_type": "stream",
          "name": "stderr",
          "text": [
            "WARNING:torchdrug.core.meter:>>>>>>>>>>>>>>>>>>>>>>>>>>>>>>\n"
          ]
        },
        {
          "output_type": "stream",
          "name": "stdout",
          "text": [
            "19:36:38   >>>>>>>>>>>>>>>>>>>>>>>>>>>>>>\n"
          ]
        },
        {
          "output_type": "stream",
          "name": "stderr",
          "text": [
            "WARNING:torchdrug.core.meter:Epoch 85 end\n"
          ]
        },
        {
          "output_type": "stream",
          "name": "stdout",
          "text": [
            "19:36:38   Epoch 85 end\n"
          ]
        },
        {
          "output_type": "stream",
          "name": "stderr",
          "text": [
            "WARNING:torchdrug.core.meter:duration: 0.23 secs\n"
          ]
        },
        {
          "output_type": "stream",
          "name": "stdout",
          "text": [
            "19:36:38   duration: 0.23 secs\n"
          ]
        },
        {
          "output_type": "stream",
          "name": "stderr",
          "text": [
            "WARNING:torchdrug.core.meter:speed: 8.70 batch / sec\n"
          ]
        },
        {
          "output_type": "stream",
          "name": "stdout",
          "text": [
            "19:36:38   speed: 8.70 batch / sec\n"
          ]
        },
        {
          "output_type": "stream",
          "name": "stderr",
          "text": [
            "WARNING:torchdrug.core.meter:ETA: 7.72 secs\n"
          ]
        },
        {
          "output_type": "stream",
          "name": "stdout",
          "text": [
            "19:36:38   ETA: 7.72 secs\n"
          ]
        },
        {
          "output_type": "stream",
          "name": "stderr",
          "text": [
            "WARNING:torchdrug.core.meter:max GPU memory: 739.5 MiB\n"
          ]
        },
        {
          "output_type": "stream",
          "name": "stdout",
          "text": [
            "19:36:38   max GPU memory: 739.5 MiB\n"
          ]
        },
        {
          "output_type": "stream",
          "name": "stderr",
          "text": [
            "WARNING:torchdrug.core.logger:------------------------------\n"
          ]
        },
        {
          "output_type": "stream",
          "name": "stdout",
          "text": [
            "19:36:38   ------------------------------\n"
          ]
        },
        {
          "output_type": "stream",
          "name": "stderr",
          "text": [
            "WARNING:torchdrug.core.logger:average binary cross entropy: 0.0897581\n"
          ]
        },
        {
          "output_type": "stream",
          "name": "stdout",
          "text": [
            "19:36:38   average binary cross entropy: 0.0897581\n"
          ]
        },
        {
          "output_type": "stream",
          "name": "stderr",
          "text": [
            "WARNING:torchdrug.core.meter:>>>>>>>>>>>>>>>>>>>>>>>>>>>>>>\n"
          ]
        },
        {
          "output_type": "stream",
          "name": "stdout",
          "text": [
            "19:36:38   >>>>>>>>>>>>>>>>>>>>>>>>>>>>>>\n"
          ]
        },
        {
          "output_type": "stream",
          "name": "stderr",
          "text": [
            "WARNING:torchdrug.core.meter:Epoch 86 begin\n"
          ]
        },
        {
          "output_type": "stream",
          "name": "stdout",
          "text": [
            "19:36:38   Epoch 86 begin\n"
          ]
        },
        {
          "output_type": "stream",
          "name": "stderr",
          "text": [
            "WARNING:torchdrug.core.meter:>>>>>>>>>>>>>>>>>>>>>>>>>>>>>>\n"
          ]
        },
        {
          "output_type": "stream",
          "name": "stdout",
          "text": [
            "19:36:39   >>>>>>>>>>>>>>>>>>>>>>>>>>>>>>\n"
          ]
        },
        {
          "output_type": "stream",
          "name": "stderr",
          "text": [
            "WARNING:torchdrug.core.meter:Epoch 86 end\n"
          ]
        },
        {
          "output_type": "stream",
          "name": "stdout",
          "text": [
            "19:36:39   Epoch 86 end\n"
          ]
        },
        {
          "output_type": "stream",
          "name": "stderr",
          "text": [
            "WARNING:torchdrug.core.meter:duration: 0.25 secs\n"
          ]
        },
        {
          "output_type": "stream",
          "name": "stdout",
          "text": [
            "19:36:39   duration: 0.25 secs\n"
          ]
        },
        {
          "output_type": "stream",
          "name": "stderr",
          "text": [
            "WARNING:torchdrug.core.meter:speed: 7.97 batch / sec\n"
          ]
        },
        {
          "output_type": "stream",
          "name": "stdout",
          "text": [
            "19:36:39   speed: 7.97 batch / sec\n"
          ]
        },
        {
          "output_type": "stream",
          "name": "stderr",
          "text": [
            "WARNING:torchdrug.core.meter:ETA: 7.12 secs\n"
          ]
        },
        {
          "output_type": "stream",
          "name": "stdout",
          "text": [
            "19:36:39   ETA: 7.12 secs\n"
          ]
        },
        {
          "output_type": "stream",
          "name": "stderr",
          "text": [
            "WARNING:torchdrug.core.meter:max GPU memory: 738.7 MiB\n"
          ]
        },
        {
          "output_type": "stream",
          "name": "stdout",
          "text": [
            "19:36:39   max GPU memory: 738.7 MiB\n"
          ]
        },
        {
          "output_type": "stream",
          "name": "stderr",
          "text": [
            "WARNING:torchdrug.core.logger:------------------------------\n"
          ]
        },
        {
          "output_type": "stream",
          "name": "stdout",
          "text": [
            "19:36:39   ------------------------------\n"
          ]
        },
        {
          "output_type": "stream",
          "name": "stderr",
          "text": [
            "WARNING:torchdrug.core.logger:average binary cross entropy: 0.0970557\n"
          ]
        },
        {
          "output_type": "stream",
          "name": "stdout",
          "text": [
            "19:36:39   average binary cross entropy: 0.0970557\n"
          ]
        },
        {
          "output_type": "stream",
          "name": "stderr",
          "text": [
            "WARNING:torchdrug.core.meter:>>>>>>>>>>>>>>>>>>>>>>>>>>>>>>\n"
          ]
        },
        {
          "output_type": "stream",
          "name": "stdout",
          "text": [
            "19:36:39   >>>>>>>>>>>>>>>>>>>>>>>>>>>>>>\n"
          ]
        },
        {
          "output_type": "stream",
          "name": "stderr",
          "text": [
            "WARNING:torchdrug.core.meter:Epoch 87 begin\n"
          ]
        },
        {
          "output_type": "stream",
          "name": "stdout",
          "text": [
            "19:36:39   Epoch 87 begin\n"
          ]
        },
        {
          "output_type": "stream",
          "name": "stderr",
          "text": [
            "WARNING:torchdrug.core.meter:>>>>>>>>>>>>>>>>>>>>>>>>>>>>>>\n"
          ]
        },
        {
          "output_type": "stream",
          "name": "stdout",
          "text": [
            "19:36:39   >>>>>>>>>>>>>>>>>>>>>>>>>>>>>>\n"
          ]
        },
        {
          "output_type": "stream",
          "name": "stderr",
          "text": [
            "WARNING:torchdrug.core.meter:Epoch 87 end\n"
          ]
        },
        {
          "output_type": "stream",
          "name": "stdout",
          "text": [
            "19:36:39   Epoch 87 end\n"
          ]
        },
        {
          "output_type": "stream",
          "name": "stderr",
          "text": [
            "WARNING:torchdrug.core.meter:duration: 0.24 secs\n"
          ]
        },
        {
          "output_type": "stream",
          "name": "stdout",
          "text": [
            "19:36:39   duration: 0.24 secs\n"
          ]
        },
        {
          "output_type": "stream",
          "name": "stderr",
          "text": [
            "WARNING:torchdrug.core.meter:speed: 8.27 batch / sec\n"
          ]
        },
        {
          "output_type": "stream",
          "name": "stdout",
          "text": [
            "19:36:39   speed: 8.27 batch / sec\n"
          ]
        },
        {
          "output_type": "stream",
          "name": "stderr",
          "text": [
            "WARNING:torchdrug.core.meter:ETA: 6.53 secs\n"
          ]
        },
        {
          "output_type": "stream",
          "name": "stdout",
          "text": [
            "19:36:39   ETA: 6.53 secs\n"
          ]
        },
        {
          "output_type": "stream",
          "name": "stderr",
          "text": [
            "WARNING:torchdrug.core.meter:max GPU memory: 745.2 MiB\n"
          ]
        },
        {
          "output_type": "stream",
          "name": "stdout",
          "text": [
            "19:36:39   max GPU memory: 745.2 MiB\n"
          ]
        },
        {
          "output_type": "stream",
          "name": "stderr",
          "text": [
            "WARNING:torchdrug.core.logger:------------------------------\n"
          ]
        },
        {
          "output_type": "stream",
          "name": "stdout",
          "text": [
            "19:36:39   ------------------------------\n"
          ]
        },
        {
          "output_type": "stream",
          "name": "stderr",
          "text": [
            "WARNING:torchdrug.core.logger:average binary cross entropy: 0.0530208\n"
          ]
        },
        {
          "output_type": "stream",
          "name": "stdout",
          "text": [
            "19:36:39   average binary cross entropy: 0.0530208\n"
          ]
        },
        {
          "output_type": "stream",
          "name": "stderr",
          "text": [
            "WARNING:torchdrug.core.meter:>>>>>>>>>>>>>>>>>>>>>>>>>>>>>>\n"
          ]
        },
        {
          "output_type": "stream",
          "name": "stdout",
          "text": [
            "19:36:39   >>>>>>>>>>>>>>>>>>>>>>>>>>>>>>\n"
          ]
        },
        {
          "output_type": "stream",
          "name": "stderr",
          "text": [
            "WARNING:torchdrug.core.meter:Epoch 88 begin\n"
          ]
        },
        {
          "output_type": "stream",
          "name": "stdout",
          "text": [
            "19:36:39   Epoch 88 begin\n"
          ]
        },
        {
          "output_type": "stream",
          "name": "stderr",
          "text": [
            "WARNING:torchdrug.core.meter:>>>>>>>>>>>>>>>>>>>>>>>>>>>>>>\n"
          ]
        },
        {
          "output_type": "stream",
          "name": "stdout",
          "text": [
            "19:36:39   >>>>>>>>>>>>>>>>>>>>>>>>>>>>>>\n"
          ]
        },
        {
          "output_type": "stream",
          "name": "stderr",
          "text": [
            "WARNING:torchdrug.core.meter:Epoch 88 end\n"
          ]
        },
        {
          "output_type": "stream",
          "name": "stdout",
          "text": [
            "19:36:39   Epoch 88 end\n"
          ]
        },
        {
          "output_type": "stream",
          "name": "stderr",
          "text": [
            "WARNING:torchdrug.core.meter:duration: 0.23 secs\n"
          ]
        },
        {
          "output_type": "stream",
          "name": "stdout",
          "text": [
            "19:36:39   duration: 0.23 secs\n"
          ]
        },
        {
          "output_type": "stream",
          "name": "stderr",
          "text": [
            "WARNING:torchdrug.core.meter:speed: 8.54 batch / sec\n"
          ]
        },
        {
          "output_type": "stream",
          "name": "stdout",
          "text": [
            "19:36:39   speed: 8.54 batch / sec\n"
          ]
        },
        {
          "output_type": "stream",
          "name": "stderr",
          "text": [
            "WARNING:torchdrug.core.meter:ETA: 5.95 secs\n"
          ]
        },
        {
          "output_type": "stream",
          "name": "stdout",
          "text": [
            "19:36:39   ETA: 5.95 secs\n"
          ]
        },
        {
          "output_type": "stream",
          "name": "stderr",
          "text": [
            "WARNING:torchdrug.core.meter:max GPU memory: 752.2 MiB\n"
          ]
        },
        {
          "output_type": "stream",
          "name": "stdout",
          "text": [
            "19:36:39   max GPU memory: 752.2 MiB\n"
          ]
        },
        {
          "output_type": "stream",
          "name": "stderr",
          "text": [
            "WARNING:torchdrug.core.logger:------------------------------\n"
          ]
        },
        {
          "output_type": "stream",
          "name": "stdout",
          "text": [
            "19:36:39   ------------------------------\n"
          ]
        },
        {
          "output_type": "stream",
          "name": "stderr",
          "text": [
            "WARNING:torchdrug.core.logger:average binary cross entropy: 0.0613028\n"
          ]
        },
        {
          "output_type": "stream",
          "name": "stdout",
          "text": [
            "19:36:39   average binary cross entropy: 0.0613028\n"
          ]
        },
        {
          "output_type": "stream",
          "name": "stderr",
          "text": [
            "WARNING:torchdrug.core.meter:>>>>>>>>>>>>>>>>>>>>>>>>>>>>>>\n"
          ]
        },
        {
          "output_type": "stream",
          "name": "stdout",
          "text": [
            "19:36:39   >>>>>>>>>>>>>>>>>>>>>>>>>>>>>>\n"
          ]
        },
        {
          "output_type": "stream",
          "name": "stderr",
          "text": [
            "WARNING:torchdrug.core.meter:Epoch 89 begin\n"
          ]
        },
        {
          "output_type": "stream",
          "name": "stdout",
          "text": [
            "19:36:39   Epoch 89 begin\n"
          ]
        },
        {
          "output_type": "stream",
          "name": "stderr",
          "text": [
            "WARNING:torchdrug.core.meter:>>>>>>>>>>>>>>>>>>>>>>>>>>>>>>\n"
          ]
        },
        {
          "output_type": "stream",
          "name": "stdout",
          "text": [
            "19:36:39   >>>>>>>>>>>>>>>>>>>>>>>>>>>>>>\n"
          ]
        },
        {
          "output_type": "stream",
          "name": "stderr",
          "text": [
            "WARNING:torchdrug.core.meter:Epoch 89 end\n"
          ]
        },
        {
          "output_type": "stream",
          "name": "stdout",
          "text": [
            "19:36:39   Epoch 89 end\n"
          ]
        },
        {
          "output_type": "stream",
          "name": "stderr",
          "text": [
            "WARNING:torchdrug.core.meter:duration: 0.23 secs\n"
          ]
        },
        {
          "output_type": "stream",
          "name": "stdout",
          "text": [
            "19:36:39   duration: 0.23 secs\n"
          ]
        },
        {
          "output_type": "stream",
          "name": "stderr",
          "text": [
            "WARNING:torchdrug.core.meter:speed: 8.70 batch / sec\n"
          ]
        },
        {
          "output_type": "stream",
          "name": "stdout",
          "text": [
            "19:36:39   speed: 8.70 batch / sec\n"
          ]
        },
        {
          "output_type": "stream",
          "name": "stderr",
          "text": [
            "WARNING:torchdrug.core.meter:ETA: 5.37 secs\n"
          ]
        },
        {
          "output_type": "stream",
          "name": "stdout",
          "text": [
            "19:36:39   ETA: 5.37 secs\n"
          ]
        },
        {
          "output_type": "stream",
          "name": "stderr",
          "text": [
            "WARNING:torchdrug.core.meter:max GPU memory: 741.5 MiB\n"
          ]
        },
        {
          "output_type": "stream",
          "name": "stdout",
          "text": [
            "19:36:39   max GPU memory: 741.5 MiB\n"
          ]
        },
        {
          "output_type": "stream",
          "name": "stderr",
          "text": [
            "WARNING:torchdrug.core.logger:------------------------------\n"
          ]
        },
        {
          "output_type": "stream",
          "name": "stdout",
          "text": [
            "19:36:39   ------------------------------\n"
          ]
        },
        {
          "output_type": "stream",
          "name": "stderr",
          "text": [
            "WARNING:torchdrug.core.logger:average binary cross entropy: 0.0594916\n"
          ]
        },
        {
          "output_type": "stream",
          "name": "stdout",
          "text": [
            "19:36:39   average binary cross entropy: 0.0594916\n"
          ]
        },
        {
          "output_type": "stream",
          "name": "stderr",
          "text": [
            "WARNING:torchdrug.core.meter:>>>>>>>>>>>>>>>>>>>>>>>>>>>>>>\n"
          ]
        },
        {
          "output_type": "stream",
          "name": "stdout",
          "text": [
            "19:36:39   >>>>>>>>>>>>>>>>>>>>>>>>>>>>>>\n"
          ]
        },
        {
          "output_type": "stream",
          "name": "stderr",
          "text": [
            "WARNING:torchdrug.core.meter:Epoch 90 begin\n"
          ]
        },
        {
          "output_type": "stream",
          "name": "stdout",
          "text": [
            "19:36:39   Epoch 90 begin\n"
          ]
        },
        {
          "output_type": "stream",
          "name": "stderr",
          "text": [
            "WARNING:torchdrug.core.meter:>>>>>>>>>>>>>>>>>>>>>>>>>>>>>>\n"
          ]
        },
        {
          "output_type": "stream",
          "name": "stdout",
          "text": [
            "19:36:40   >>>>>>>>>>>>>>>>>>>>>>>>>>>>>>\n"
          ]
        },
        {
          "output_type": "stream",
          "name": "stderr",
          "text": [
            "WARNING:torchdrug.core.meter:Epoch 90 end\n"
          ]
        },
        {
          "output_type": "stream",
          "name": "stdout",
          "text": [
            "19:36:40   Epoch 90 end\n"
          ]
        },
        {
          "output_type": "stream",
          "name": "stderr",
          "text": [
            "WARNING:torchdrug.core.meter:duration: 0.24 secs\n"
          ]
        },
        {
          "output_type": "stream",
          "name": "stdout",
          "text": [
            "19:36:40   duration: 0.24 secs\n"
          ]
        },
        {
          "output_type": "stream",
          "name": "stderr",
          "text": [
            "WARNING:torchdrug.core.meter:speed: 8.49 batch / sec\n"
          ]
        },
        {
          "output_type": "stream",
          "name": "stdout",
          "text": [
            "19:36:40   speed: 8.49 batch / sec\n"
          ]
        },
        {
          "output_type": "stream",
          "name": "stderr",
          "text": [
            "WARNING:torchdrug.core.meter:ETA: 4.81 secs\n"
          ]
        },
        {
          "output_type": "stream",
          "name": "stdout",
          "text": [
            "19:36:40   ETA: 4.81 secs\n"
          ]
        },
        {
          "output_type": "stream",
          "name": "stderr",
          "text": [
            "WARNING:torchdrug.core.meter:max GPU memory: 742.0 MiB\n"
          ]
        },
        {
          "output_type": "stream",
          "name": "stdout",
          "text": [
            "19:36:40   max GPU memory: 742.0 MiB\n"
          ]
        },
        {
          "output_type": "stream",
          "name": "stderr",
          "text": [
            "WARNING:torchdrug.core.logger:------------------------------\n"
          ]
        },
        {
          "output_type": "stream",
          "name": "stdout",
          "text": [
            "19:36:40   ------------------------------\n"
          ]
        },
        {
          "output_type": "stream",
          "name": "stderr",
          "text": [
            "WARNING:torchdrug.core.logger:average binary cross entropy: 0.0947119\n"
          ]
        },
        {
          "output_type": "stream",
          "name": "stdout",
          "text": [
            "19:36:40   average binary cross entropy: 0.0947119\n"
          ]
        },
        {
          "output_type": "stream",
          "name": "stderr",
          "text": [
            "WARNING:torchdrug.core.meter:>>>>>>>>>>>>>>>>>>>>>>>>>>>>>>\n"
          ]
        },
        {
          "output_type": "stream",
          "name": "stdout",
          "text": [
            "19:36:40   >>>>>>>>>>>>>>>>>>>>>>>>>>>>>>\n"
          ]
        },
        {
          "output_type": "stream",
          "name": "stderr",
          "text": [
            "WARNING:torchdrug.core.meter:Epoch 91 begin\n"
          ]
        },
        {
          "output_type": "stream",
          "name": "stdout",
          "text": [
            "19:36:40   Epoch 91 begin\n"
          ]
        },
        {
          "output_type": "stream",
          "name": "stderr",
          "text": [
            "WARNING:torchdrug.core.meter:>>>>>>>>>>>>>>>>>>>>>>>>>>>>>>\n"
          ]
        },
        {
          "output_type": "stream",
          "name": "stdout",
          "text": [
            "19:36:40   >>>>>>>>>>>>>>>>>>>>>>>>>>>>>>\n"
          ]
        },
        {
          "output_type": "stream",
          "name": "stderr",
          "text": [
            "WARNING:torchdrug.core.meter:Epoch 91 end\n"
          ]
        },
        {
          "output_type": "stream",
          "name": "stdout",
          "text": [
            "19:36:40   Epoch 91 end\n"
          ]
        },
        {
          "output_type": "stream",
          "name": "stderr",
          "text": [
            "WARNING:torchdrug.core.meter:duration: 0.24 secs\n"
          ]
        },
        {
          "output_type": "stream",
          "name": "stdout",
          "text": [
            "19:36:40   duration: 0.24 secs\n"
          ]
        },
        {
          "output_type": "stream",
          "name": "stderr",
          "text": [
            "WARNING:torchdrug.core.meter:speed: 8.44 batch / sec\n"
          ]
        },
        {
          "output_type": "stream",
          "name": "stdout",
          "text": [
            "19:36:40   speed: 8.44 batch / sec\n"
          ]
        },
        {
          "output_type": "stream",
          "name": "stderr",
          "text": [
            "WARNING:torchdrug.core.meter:ETA: 4.25 secs\n"
          ]
        },
        {
          "output_type": "stream",
          "name": "stdout",
          "text": [
            "19:36:40   ETA: 4.25 secs\n"
          ]
        },
        {
          "output_type": "stream",
          "name": "stderr",
          "text": [
            "WARNING:torchdrug.core.meter:max GPU memory: 739.1 MiB\n"
          ]
        },
        {
          "output_type": "stream",
          "name": "stdout",
          "text": [
            "19:36:40   max GPU memory: 739.1 MiB\n"
          ]
        },
        {
          "output_type": "stream",
          "name": "stderr",
          "text": [
            "WARNING:torchdrug.core.logger:------------------------------\n"
          ]
        },
        {
          "output_type": "stream",
          "name": "stdout",
          "text": [
            "19:36:40   ------------------------------\n"
          ]
        },
        {
          "output_type": "stream",
          "name": "stderr",
          "text": [
            "WARNING:torchdrug.core.logger:average binary cross entropy: 0.0726203\n"
          ]
        },
        {
          "output_type": "stream",
          "name": "stdout",
          "text": [
            "19:36:40   average binary cross entropy: 0.0726203\n"
          ]
        },
        {
          "output_type": "stream",
          "name": "stderr",
          "text": [
            "WARNING:torchdrug.core.meter:>>>>>>>>>>>>>>>>>>>>>>>>>>>>>>\n"
          ]
        },
        {
          "output_type": "stream",
          "name": "stdout",
          "text": [
            "19:36:40   >>>>>>>>>>>>>>>>>>>>>>>>>>>>>>\n"
          ]
        },
        {
          "output_type": "stream",
          "name": "stderr",
          "text": [
            "WARNING:torchdrug.core.meter:Epoch 92 begin\n"
          ]
        },
        {
          "output_type": "stream",
          "name": "stdout",
          "text": [
            "19:36:40   Epoch 92 begin\n"
          ]
        },
        {
          "output_type": "stream",
          "name": "stderr",
          "text": [
            "WARNING:torchdrug.core.meter:>>>>>>>>>>>>>>>>>>>>>>>>>>>>>>\n"
          ]
        },
        {
          "output_type": "stream",
          "name": "stdout",
          "text": [
            "19:36:40   >>>>>>>>>>>>>>>>>>>>>>>>>>>>>>\n"
          ]
        },
        {
          "output_type": "stream",
          "name": "stderr",
          "text": [
            "WARNING:torchdrug.core.meter:Epoch 92 end\n"
          ]
        },
        {
          "output_type": "stream",
          "name": "stdout",
          "text": [
            "19:36:40   Epoch 92 end\n"
          ]
        },
        {
          "output_type": "stream",
          "name": "stderr",
          "text": [
            "WARNING:torchdrug.core.meter:duration: 0.24 secs\n"
          ]
        },
        {
          "output_type": "stream",
          "name": "stdout",
          "text": [
            "19:36:40   duration: 0.24 secs\n"
          ]
        },
        {
          "output_type": "stream",
          "name": "stderr",
          "text": [
            "WARNING:torchdrug.core.meter:speed: 8.34 batch / sec\n"
          ]
        },
        {
          "output_type": "stream",
          "name": "stdout",
          "text": [
            "19:36:40   speed: 8.34 batch / sec\n"
          ]
        },
        {
          "output_type": "stream",
          "name": "stderr",
          "text": [
            "WARNING:torchdrug.core.meter:ETA: 3.69 secs\n"
          ]
        },
        {
          "output_type": "stream",
          "name": "stdout",
          "text": [
            "19:36:40   ETA: 3.69 secs\n"
          ]
        },
        {
          "output_type": "stream",
          "name": "stderr",
          "text": [
            "WARNING:torchdrug.core.meter:max GPU memory: 743.4 MiB\n"
          ]
        },
        {
          "output_type": "stream",
          "name": "stdout",
          "text": [
            "19:36:40   max GPU memory: 743.4 MiB\n"
          ]
        },
        {
          "output_type": "stream",
          "name": "stderr",
          "text": [
            "WARNING:torchdrug.core.logger:------------------------------\n"
          ]
        },
        {
          "output_type": "stream",
          "name": "stdout",
          "text": [
            "19:36:40   ------------------------------\n"
          ]
        },
        {
          "output_type": "stream",
          "name": "stderr",
          "text": [
            "WARNING:torchdrug.core.logger:average binary cross entropy: 0.0569282\n"
          ]
        },
        {
          "output_type": "stream",
          "name": "stdout",
          "text": [
            "19:36:40   average binary cross entropy: 0.0569282\n"
          ]
        },
        {
          "output_type": "stream",
          "name": "stderr",
          "text": [
            "WARNING:torchdrug.core.meter:>>>>>>>>>>>>>>>>>>>>>>>>>>>>>>\n"
          ]
        },
        {
          "output_type": "stream",
          "name": "stdout",
          "text": [
            "19:36:40   >>>>>>>>>>>>>>>>>>>>>>>>>>>>>>\n"
          ]
        },
        {
          "output_type": "stream",
          "name": "stderr",
          "text": [
            "WARNING:torchdrug.core.meter:Epoch 93 begin\n"
          ]
        },
        {
          "output_type": "stream",
          "name": "stdout",
          "text": [
            "19:36:40   Epoch 93 begin\n"
          ]
        },
        {
          "output_type": "stream",
          "name": "stderr",
          "text": [
            "WARNING:torchdrug.core.meter:>>>>>>>>>>>>>>>>>>>>>>>>>>>>>>\n"
          ]
        },
        {
          "output_type": "stream",
          "name": "stdout",
          "text": [
            "19:36:40   >>>>>>>>>>>>>>>>>>>>>>>>>>>>>>\n"
          ]
        },
        {
          "output_type": "stream",
          "name": "stderr",
          "text": [
            "WARNING:torchdrug.core.meter:Epoch 93 end\n"
          ]
        },
        {
          "output_type": "stream",
          "name": "stdout",
          "text": [
            "19:36:40   Epoch 93 end\n"
          ]
        },
        {
          "output_type": "stream",
          "name": "stderr",
          "text": [
            "WARNING:torchdrug.core.meter:duration: 0.24 secs\n"
          ]
        },
        {
          "output_type": "stream",
          "name": "stdout",
          "text": [
            "19:36:40   duration: 0.24 secs\n"
          ]
        },
        {
          "output_type": "stream",
          "name": "stderr",
          "text": [
            "WARNING:torchdrug.core.meter:speed: 8.38 batch / sec\n"
          ]
        },
        {
          "output_type": "stream",
          "name": "stdout",
          "text": [
            "19:36:40   speed: 8.38 batch / sec\n"
          ]
        },
        {
          "output_type": "stream",
          "name": "stderr",
          "text": [
            "WARNING:torchdrug.core.meter:ETA: 3.15 secs\n"
          ]
        },
        {
          "output_type": "stream",
          "name": "stdout",
          "text": [
            "19:36:40   ETA: 3.15 secs\n"
          ]
        },
        {
          "output_type": "stream",
          "name": "stderr",
          "text": [
            "WARNING:torchdrug.core.meter:max GPU memory: 740.3 MiB\n"
          ]
        },
        {
          "output_type": "stream",
          "name": "stdout",
          "text": [
            "19:36:40   max GPU memory: 740.3 MiB\n"
          ]
        },
        {
          "output_type": "stream",
          "name": "stderr",
          "text": [
            "WARNING:torchdrug.core.logger:------------------------------\n"
          ]
        },
        {
          "output_type": "stream",
          "name": "stdout",
          "text": [
            "19:36:40   ------------------------------\n"
          ]
        },
        {
          "output_type": "stream",
          "name": "stderr",
          "text": [
            "WARNING:torchdrug.core.logger:average binary cross entropy: 0.0656242\n"
          ]
        },
        {
          "output_type": "stream",
          "name": "stdout",
          "text": [
            "19:36:40   average binary cross entropy: 0.0656242\n"
          ]
        },
        {
          "output_type": "stream",
          "name": "stderr",
          "text": [
            "WARNING:torchdrug.core.meter:>>>>>>>>>>>>>>>>>>>>>>>>>>>>>>\n"
          ]
        },
        {
          "output_type": "stream",
          "name": "stdout",
          "text": [
            "19:36:40   >>>>>>>>>>>>>>>>>>>>>>>>>>>>>>\n"
          ]
        },
        {
          "output_type": "stream",
          "name": "stderr",
          "text": [
            "WARNING:torchdrug.core.meter:Epoch 94 begin\n"
          ]
        },
        {
          "output_type": "stream",
          "name": "stdout",
          "text": [
            "19:36:40   Epoch 94 begin\n"
          ]
        },
        {
          "output_type": "stream",
          "name": "stderr",
          "text": [
            "WARNING:torchdrug.core.meter:>>>>>>>>>>>>>>>>>>>>>>>>>>>>>>\n"
          ]
        },
        {
          "output_type": "stream",
          "name": "stdout",
          "text": [
            "19:36:41   >>>>>>>>>>>>>>>>>>>>>>>>>>>>>>\n"
          ]
        },
        {
          "output_type": "stream",
          "name": "stderr",
          "text": [
            "WARNING:torchdrug.core.meter:Epoch 94 end\n"
          ]
        },
        {
          "output_type": "stream",
          "name": "stdout",
          "text": [
            "19:36:41   Epoch 94 end\n"
          ]
        },
        {
          "output_type": "stream",
          "name": "stderr",
          "text": [
            "WARNING:torchdrug.core.meter:duration: 0.23 secs\n"
          ]
        },
        {
          "output_type": "stream",
          "name": "stdout",
          "text": [
            "19:36:41   duration: 0.23 secs\n"
          ]
        },
        {
          "output_type": "stream",
          "name": "stderr",
          "text": [
            "WARNING:torchdrug.core.meter:speed: 8.61 batch / sec\n"
          ]
        },
        {
          "output_type": "stream",
          "name": "stdout",
          "text": [
            "19:36:41   speed: 8.61 batch / sec\n"
          ]
        },
        {
          "output_type": "stream",
          "name": "stderr",
          "text": [
            "WARNING:torchdrug.core.meter:ETA: 2.61 secs\n"
          ]
        },
        {
          "output_type": "stream",
          "name": "stdout",
          "text": [
            "19:36:41   ETA: 2.61 secs\n"
          ]
        },
        {
          "output_type": "stream",
          "name": "stderr",
          "text": [
            "WARNING:torchdrug.core.meter:max GPU memory: 753.2 MiB\n"
          ]
        },
        {
          "output_type": "stream",
          "name": "stdout",
          "text": [
            "19:36:41   max GPU memory: 753.2 MiB\n"
          ]
        },
        {
          "output_type": "stream",
          "name": "stderr",
          "text": [
            "WARNING:torchdrug.core.logger:------------------------------\n"
          ]
        },
        {
          "output_type": "stream",
          "name": "stdout",
          "text": [
            "19:36:41   ------------------------------\n"
          ]
        },
        {
          "output_type": "stream",
          "name": "stderr",
          "text": [
            "WARNING:torchdrug.core.logger:average binary cross entropy: 0.065058\n"
          ]
        },
        {
          "output_type": "stream",
          "name": "stdout",
          "text": [
            "19:36:41   average binary cross entropy: 0.065058\n"
          ]
        },
        {
          "output_type": "stream",
          "name": "stderr",
          "text": [
            "WARNING:torchdrug.core.meter:>>>>>>>>>>>>>>>>>>>>>>>>>>>>>>\n"
          ]
        },
        {
          "output_type": "stream",
          "name": "stdout",
          "text": [
            "19:36:41   >>>>>>>>>>>>>>>>>>>>>>>>>>>>>>\n"
          ]
        },
        {
          "output_type": "stream",
          "name": "stderr",
          "text": [
            "WARNING:torchdrug.core.meter:Epoch 95 begin\n"
          ]
        },
        {
          "output_type": "stream",
          "name": "stdout",
          "text": [
            "19:36:41   Epoch 95 begin\n"
          ]
        },
        {
          "output_type": "stream",
          "name": "stderr",
          "text": [
            "WARNING:torchdrug.core.meter:>>>>>>>>>>>>>>>>>>>>>>>>>>>>>>\n"
          ]
        },
        {
          "output_type": "stream",
          "name": "stdout",
          "text": [
            "19:36:41   >>>>>>>>>>>>>>>>>>>>>>>>>>>>>>\n"
          ]
        },
        {
          "output_type": "stream",
          "name": "stderr",
          "text": [
            "WARNING:torchdrug.core.meter:Epoch 95 end\n"
          ]
        },
        {
          "output_type": "stream",
          "name": "stdout",
          "text": [
            "19:36:41   Epoch 95 end\n"
          ]
        },
        {
          "output_type": "stream",
          "name": "stderr",
          "text": [
            "WARNING:torchdrug.core.meter:duration: 0.25 secs\n"
          ]
        },
        {
          "output_type": "stream",
          "name": "stdout",
          "text": [
            "19:36:41   duration: 0.25 secs\n"
          ]
        },
        {
          "output_type": "stream",
          "name": "stderr",
          "text": [
            "WARNING:torchdrug.core.meter:speed: 7.94 batch / sec\n"
          ]
        },
        {
          "output_type": "stream",
          "name": "stdout",
          "text": [
            "19:36:41   speed: 7.94 batch / sec\n"
          ]
        },
        {
          "output_type": "stream",
          "name": "stderr",
          "text": [
            "WARNING:torchdrug.core.meter:ETA: 2.08 secs\n"
          ]
        },
        {
          "output_type": "stream",
          "name": "stdout",
          "text": [
            "19:36:41   ETA: 2.08 secs\n"
          ]
        },
        {
          "output_type": "stream",
          "name": "stderr",
          "text": [
            "WARNING:torchdrug.core.meter:max GPU memory: 741.8 MiB\n"
          ]
        },
        {
          "output_type": "stream",
          "name": "stdout",
          "text": [
            "19:36:41   max GPU memory: 741.8 MiB\n"
          ]
        },
        {
          "output_type": "stream",
          "name": "stderr",
          "text": [
            "WARNING:torchdrug.core.logger:------------------------------\n"
          ]
        },
        {
          "output_type": "stream",
          "name": "stdout",
          "text": [
            "19:36:41   ------------------------------\n"
          ]
        },
        {
          "output_type": "stream",
          "name": "stderr",
          "text": [
            "WARNING:torchdrug.core.logger:average binary cross entropy: 0.0582134\n"
          ]
        },
        {
          "output_type": "stream",
          "name": "stdout",
          "text": [
            "19:36:41   average binary cross entropy: 0.0582134\n"
          ]
        },
        {
          "output_type": "stream",
          "name": "stderr",
          "text": [
            "WARNING:torchdrug.core.meter:>>>>>>>>>>>>>>>>>>>>>>>>>>>>>>\n"
          ]
        },
        {
          "output_type": "stream",
          "name": "stdout",
          "text": [
            "19:36:41   >>>>>>>>>>>>>>>>>>>>>>>>>>>>>>\n"
          ]
        },
        {
          "output_type": "stream",
          "name": "stderr",
          "text": [
            "WARNING:torchdrug.core.meter:Epoch 96 begin\n"
          ]
        },
        {
          "output_type": "stream",
          "name": "stdout",
          "text": [
            "19:36:41   Epoch 96 begin\n"
          ]
        },
        {
          "output_type": "stream",
          "name": "stderr",
          "text": [
            "WARNING:torchdrug.core.meter:>>>>>>>>>>>>>>>>>>>>>>>>>>>>>>\n"
          ]
        },
        {
          "output_type": "stream",
          "name": "stdout",
          "text": [
            "19:36:41   >>>>>>>>>>>>>>>>>>>>>>>>>>>>>>\n"
          ]
        },
        {
          "output_type": "stream",
          "name": "stderr",
          "text": [
            "WARNING:torchdrug.core.meter:Epoch 96 end\n"
          ]
        },
        {
          "output_type": "stream",
          "name": "stdout",
          "text": [
            "19:36:41   Epoch 96 end\n"
          ]
        },
        {
          "output_type": "stream",
          "name": "stderr",
          "text": [
            "WARNING:torchdrug.core.meter:duration: 0.25 secs\n"
          ]
        },
        {
          "output_type": "stream",
          "name": "stdout",
          "text": [
            "19:36:41   duration: 0.25 secs\n"
          ]
        },
        {
          "output_type": "stream",
          "name": "stderr",
          "text": [
            "WARNING:torchdrug.core.meter:speed: 8.08 batch / sec\n"
          ]
        },
        {
          "output_type": "stream",
          "name": "stdout",
          "text": [
            "19:36:41   speed: 8.08 batch / sec\n"
          ]
        },
        {
          "output_type": "stream",
          "name": "stderr",
          "text": [
            "WARNING:torchdrug.core.meter:ETA: 1.55 secs\n"
          ]
        },
        {
          "output_type": "stream",
          "name": "stdout",
          "text": [
            "19:36:41   ETA: 1.55 secs\n"
          ]
        },
        {
          "output_type": "stream",
          "name": "stderr",
          "text": [
            "WARNING:torchdrug.core.meter:max GPU memory: 739.6 MiB\n"
          ]
        },
        {
          "output_type": "stream",
          "name": "stdout",
          "text": [
            "19:36:41   max GPU memory: 739.6 MiB\n"
          ]
        },
        {
          "output_type": "stream",
          "name": "stderr",
          "text": [
            "WARNING:torchdrug.core.logger:------------------------------\n"
          ]
        },
        {
          "output_type": "stream",
          "name": "stdout",
          "text": [
            "19:36:41   ------------------------------\n"
          ]
        },
        {
          "output_type": "stream",
          "name": "stderr",
          "text": [
            "WARNING:torchdrug.core.logger:average binary cross entropy: 0.0500219\n"
          ]
        },
        {
          "output_type": "stream",
          "name": "stdout",
          "text": [
            "19:36:41   average binary cross entropy: 0.0500219\n"
          ]
        },
        {
          "output_type": "stream",
          "name": "stderr",
          "text": [
            "WARNING:torchdrug.core.meter:>>>>>>>>>>>>>>>>>>>>>>>>>>>>>>\n"
          ]
        },
        {
          "output_type": "stream",
          "name": "stdout",
          "text": [
            "19:36:41   >>>>>>>>>>>>>>>>>>>>>>>>>>>>>>\n"
          ]
        },
        {
          "output_type": "stream",
          "name": "stderr",
          "text": [
            "WARNING:torchdrug.core.meter:Epoch 97 begin\n"
          ]
        },
        {
          "output_type": "stream",
          "name": "stdout",
          "text": [
            "19:36:41   Epoch 97 begin\n"
          ]
        },
        {
          "output_type": "stream",
          "name": "stderr",
          "text": [
            "WARNING:torchdrug.core.meter:>>>>>>>>>>>>>>>>>>>>>>>>>>>>>>\n"
          ]
        },
        {
          "output_type": "stream",
          "name": "stdout",
          "text": [
            "19:36:41   >>>>>>>>>>>>>>>>>>>>>>>>>>>>>>\n"
          ]
        },
        {
          "output_type": "stream",
          "name": "stderr",
          "text": [
            "WARNING:torchdrug.core.meter:Epoch 97 end\n"
          ]
        },
        {
          "output_type": "stream",
          "name": "stdout",
          "text": [
            "19:36:41   Epoch 97 end\n"
          ]
        },
        {
          "output_type": "stream",
          "name": "stderr",
          "text": [
            "WARNING:torchdrug.core.meter:duration: 0.26 secs\n"
          ]
        },
        {
          "output_type": "stream",
          "name": "stdout",
          "text": [
            "19:36:41   duration: 0.26 secs\n"
          ]
        },
        {
          "output_type": "stream",
          "name": "stderr",
          "text": [
            "WARNING:torchdrug.core.meter:speed: 7.77 batch / sec\n"
          ]
        },
        {
          "output_type": "stream",
          "name": "stdout",
          "text": [
            "19:36:41   speed: 7.77 batch / sec\n"
          ]
        },
        {
          "output_type": "stream",
          "name": "stderr",
          "text": [
            "WARNING:torchdrug.core.meter:ETA: 1.03 secs\n"
          ]
        },
        {
          "output_type": "stream",
          "name": "stdout",
          "text": [
            "19:36:41   ETA: 1.03 secs\n"
          ]
        },
        {
          "output_type": "stream",
          "name": "stderr",
          "text": [
            "WARNING:torchdrug.core.meter:max GPU memory: 749.0 MiB\n"
          ]
        },
        {
          "output_type": "stream",
          "name": "stdout",
          "text": [
            "19:36:41   max GPU memory: 749.0 MiB\n"
          ]
        },
        {
          "output_type": "stream",
          "name": "stderr",
          "text": [
            "WARNING:torchdrug.core.logger:------------------------------\n"
          ]
        },
        {
          "output_type": "stream",
          "name": "stdout",
          "text": [
            "19:36:41   ------------------------------\n"
          ]
        },
        {
          "output_type": "stream",
          "name": "stderr",
          "text": [
            "WARNING:torchdrug.core.logger:average binary cross entropy: 0.0556314\n"
          ]
        },
        {
          "output_type": "stream",
          "name": "stdout",
          "text": [
            "19:36:41   average binary cross entropy: 0.0556314\n"
          ]
        },
        {
          "output_type": "stream",
          "name": "stderr",
          "text": [
            "WARNING:torchdrug.core.meter:>>>>>>>>>>>>>>>>>>>>>>>>>>>>>>\n"
          ]
        },
        {
          "output_type": "stream",
          "name": "stdout",
          "text": [
            "19:36:41   >>>>>>>>>>>>>>>>>>>>>>>>>>>>>>\n"
          ]
        },
        {
          "output_type": "stream",
          "name": "stderr",
          "text": [
            "WARNING:torchdrug.core.meter:Epoch 98 begin\n"
          ]
        },
        {
          "output_type": "stream",
          "name": "stdout",
          "text": [
            "19:36:41   Epoch 98 begin\n"
          ]
        },
        {
          "output_type": "stream",
          "name": "stderr",
          "text": [
            "WARNING:torchdrug.core.meter:>>>>>>>>>>>>>>>>>>>>>>>>>>>>>>\n"
          ]
        },
        {
          "output_type": "stream",
          "name": "stdout",
          "text": [
            "19:36:42   >>>>>>>>>>>>>>>>>>>>>>>>>>>>>>\n"
          ]
        },
        {
          "output_type": "stream",
          "name": "stderr",
          "text": [
            "WARNING:torchdrug.core.meter:Epoch 98 end\n"
          ]
        },
        {
          "output_type": "stream",
          "name": "stdout",
          "text": [
            "19:36:42   Epoch 98 end\n"
          ]
        },
        {
          "output_type": "stream",
          "name": "stderr",
          "text": [
            "WARNING:torchdrug.core.meter:duration: 0.24 secs\n"
          ]
        },
        {
          "output_type": "stream",
          "name": "stdout",
          "text": [
            "19:36:42   duration: 0.24 secs\n"
          ]
        },
        {
          "output_type": "stream",
          "name": "stderr",
          "text": [
            "WARNING:torchdrug.core.meter:speed: 8.16 batch / sec\n"
          ]
        },
        {
          "output_type": "stream",
          "name": "stdout",
          "text": [
            "19:36:42   speed: 8.16 batch / sec\n"
          ]
        },
        {
          "output_type": "stream",
          "name": "stderr",
          "text": [
            "WARNING:torchdrug.core.meter:ETA: 0.51 secs\n"
          ]
        },
        {
          "output_type": "stream",
          "name": "stdout",
          "text": [
            "19:36:42   ETA: 0.51 secs\n"
          ]
        },
        {
          "output_type": "stream",
          "name": "stderr",
          "text": [
            "WARNING:torchdrug.core.meter:max GPU memory: 743.3 MiB\n"
          ]
        },
        {
          "output_type": "stream",
          "name": "stdout",
          "text": [
            "19:36:42   max GPU memory: 743.3 MiB\n"
          ]
        },
        {
          "output_type": "stream",
          "name": "stderr",
          "text": [
            "WARNING:torchdrug.core.logger:------------------------------\n"
          ]
        },
        {
          "output_type": "stream",
          "name": "stdout",
          "text": [
            "19:36:42   ------------------------------\n"
          ]
        },
        {
          "output_type": "stream",
          "name": "stderr",
          "text": [
            "WARNING:torchdrug.core.logger:average binary cross entropy: 0.0481519\n"
          ]
        },
        {
          "output_type": "stream",
          "name": "stdout",
          "text": [
            "19:36:42   average binary cross entropy: 0.0481519\n"
          ]
        },
        {
          "output_type": "stream",
          "name": "stderr",
          "text": [
            "WARNING:torchdrug.core.meter:>>>>>>>>>>>>>>>>>>>>>>>>>>>>>>\n"
          ]
        },
        {
          "output_type": "stream",
          "name": "stdout",
          "text": [
            "19:36:42   >>>>>>>>>>>>>>>>>>>>>>>>>>>>>>\n"
          ]
        },
        {
          "output_type": "stream",
          "name": "stderr",
          "text": [
            "WARNING:torchdrug.core.meter:Epoch 99 begin\n"
          ]
        },
        {
          "output_type": "stream",
          "name": "stdout",
          "text": [
            "19:36:42   Epoch 99 begin\n"
          ]
        },
        {
          "output_type": "stream",
          "name": "stderr",
          "text": [
            "WARNING:torchdrug.core.meter:>>>>>>>>>>>>>>>>>>>>>>>>>>>>>>\n"
          ]
        },
        {
          "output_type": "stream",
          "name": "stdout",
          "text": [
            "19:36:42   >>>>>>>>>>>>>>>>>>>>>>>>>>>>>>\n"
          ]
        },
        {
          "output_type": "stream",
          "name": "stderr",
          "text": [
            "WARNING:torchdrug.core.meter:Epoch 99 end\n"
          ]
        },
        {
          "output_type": "stream",
          "name": "stdout",
          "text": [
            "19:36:42   Epoch 99 end\n"
          ]
        },
        {
          "output_type": "stream",
          "name": "stderr",
          "text": [
            "WARNING:torchdrug.core.meter:duration: 0.24 secs\n"
          ]
        },
        {
          "output_type": "stream",
          "name": "stdout",
          "text": [
            "19:36:42   duration: 0.24 secs\n"
          ]
        },
        {
          "output_type": "stream",
          "name": "stderr",
          "text": [
            "WARNING:torchdrug.core.meter:speed: 8.19 batch / sec\n"
          ]
        },
        {
          "output_type": "stream",
          "name": "stdout",
          "text": [
            "19:36:42   speed: 8.19 batch / sec\n"
          ]
        },
        {
          "output_type": "stream",
          "name": "stderr",
          "text": [
            "WARNING:torchdrug.core.meter:ETA: 0.00 secs\n"
          ]
        },
        {
          "output_type": "stream",
          "name": "stdout",
          "text": [
            "19:36:42   ETA: 0.00 secs\n"
          ]
        },
        {
          "output_type": "stream",
          "name": "stderr",
          "text": [
            "WARNING:torchdrug.core.meter:max GPU memory: 736.5 MiB\n"
          ]
        },
        {
          "output_type": "stream",
          "name": "stdout",
          "text": [
            "19:36:42   max GPU memory: 736.5 MiB\n"
          ]
        },
        {
          "output_type": "stream",
          "name": "stderr",
          "text": [
            "WARNING:torchdrug.core.logger:------------------------------\n"
          ]
        },
        {
          "output_type": "stream",
          "name": "stdout",
          "text": [
            "19:36:42   ------------------------------\n"
          ]
        },
        {
          "output_type": "stream",
          "name": "stderr",
          "text": [
            "WARNING:torchdrug.core.logger:average binary cross entropy: 0.0970747\n"
          ]
        },
        {
          "output_type": "stream",
          "name": "stdout",
          "text": [
            "19:36:42   average binary cross entropy: 0.0970747\n"
          ]
        },
        {
          "output_type": "stream",
          "name": "stderr",
          "text": [
            "WARNING:torchdrug.core.engine:>>>>>>>>>>>>>>>>>>>>>>>>>>>>>>\n"
          ]
        },
        {
          "output_type": "stream",
          "name": "stdout",
          "text": [
            "19:36:42   >>>>>>>>>>>>>>>>>>>>>>>>>>>>>>\n"
          ]
        },
        {
          "output_type": "stream",
          "name": "stderr",
          "text": [
            "WARNING:torchdrug.core.engine:Evaluate on valid\n"
          ]
        },
        {
          "output_type": "stream",
          "name": "stdout",
          "text": [
            "19:36:42   Evaluate on valid\n"
          ]
        },
        {
          "output_type": "stream",
          "name": "stderr",
          "text": [
            "WARNING:torchdrug.core.logger:------------------------------\n"
          ]
        },
        {
          "output_type": "stream",
          "name": "stdout",
          "text": [
            "19:36:42   ------------------------------\n"
          ]
        },
        {
          "output_type": "stream",
          "name": "stderr",
          "text": [
            "WARNING:torchdrug.core.logger:auprc [CT_TOX]: 0.63056\n"
          ]
        },
        {
          "output_type": "stream",
          "name": "stdout",
          "text": [
            "19:36:42   auprc [CT_TOX]: 0.63056\n"
          ]
        },
        {
          "output_type": "stream",
          "name": "stderr",
          "text": [
            "WARNING:torchdrug.core.logger:auprc [FDA_APPROVED]: 0.994693\n"
          ]
        },
        {
          "output_type": "stream",
          "name": "stdout",
          "text": [
            "19:36:42   auprc [FDA_APPROVED]: 0.994693\n"
          ]
        },
        {
          "output_type": "stream",
          "name": "stderr",
          "text": [
            "WARNING:torchdrug.core.logger:auroc [CT_TOX]: 0.886912\n"
          ]
        },
        {
          "output_type": "stream",
          "name": "stdout",
          "text": [
            "19:36:42   auroc [CT_TOX]: 0.886912\n"
          ]
        },
        {
          "output_type": "stream",
          "name": "stderr",
          "text": [
            "WARNING:torchdrug.core.logger:auroc [FDA_APPROVED]: 0.935829\n"
          ]
        },
        {
          "output_type": "stream",
          "name": "stdout",
          "text": [
            "19:36:42   auroc [FDA_APPROVED]: 0.935829\n"
          ]
        },
        {
          "output_type": "execute_result",
          "data": {
            "text/plain": [
              "{'auprc [FDA_APPROVED]': tensor(0.9947, device='cuda:0'),\n",
              " 'auprc [CT_TOX]': tensor(0.6306, device='cuda:0'),\n",
              " 'auroc [FDA_APPROVED]': tensor(0.9358, device='cuda:0'),\n",
              " 'auroc [CT_TOX]': tensor(0.8869, device='cuda:0')}"
            ]
          },
          "metadata": {},
          "execution_count": 6
        }
      ],
      "source": [
        "optimizer = torch.optim.Adam(task.parameters(), lr=1e-3)\n",
        "solver = core.Engine(task, train_set, valid_set, test_set, optimizer,\n",
        "                     gpus=[0], batch_size=1024)\n",
        "solver.train(num_epoch=100)\n",
        "solver.evaluate(\"valid\")"
      ]
    },
    {
      "cell_type": "markdown",
      "metadata": {
        "id": "Wx0udm7IemPn"
      },
      "source": [
        "To have some intuition of the model, we can investigate the predictions from our model. The following code selects one sample for each category, and plots the results.\n",
        "\n"
      ]
    },
    {
      "cell_type": "code",
      "execution_count": 8,
      "metadata": {
        "colab": {
          "base_uri": "https://localhost:8080/",
          "height": 261
        },
        "id": "GYwFJlGAcQC-",
        "outputId": "bba291e8-083a-4ee1-d64f-652e949290ec"
      },
      "outputs": [
        {
          "output_type": "display_data",
          "data": {
            "text/plain": [
              "<Figure size 648x252 with 3 Axes>"
            ],
            "image/png": "[encoded data removed]"
          },
          "metadata": {
            "needs_background": "light"
          }
        }
      ],
      "source": [
        "from torch.nn import functional as F\n",
        "\n",
        "samples = []\n",
        "categories = set()\n",
        "for sample in valid_set:\n",
        "    category = tuple([v for k, v in sample.items() if k != \"graph\"])\n",
        "    if category not in categories:\n",
        "        categories.add(category)\n",
        "        samples.append(sample)\n",
        "samples = data.graph_collate(samples)\n",
        "samples = utils.cuda(samples)\n",
        "\n",
        "preds = F.sigmoid(task.predict(samples))\n",
        "targets = task.target(samples)\n",
        "\n",
        "titles = []\n",
        "for pred, target in zip(preds, targets):\n",
        "    pred = \", \".join([\"%.2f\" % p for p in pred])\n",
        "    target = \", \".join([\"%d\" % t for t in target])\n",
        "    titles.append(\"predict: %s\\ntarget: %s\" % (pred, target))\n",
        "graph = samples[\"graph\"]\n",
        "graph.visualize(titles, figure_size=(3, 3.5), num_row=1)"
      ]
    }
  ],
  "metadata": {
    "accelerator": "GPU",
    "colab": {
      "provenance": [],
      "include_colab_link": true
    },
    "kernelspec": {
      "display_name": "Python 3",
      "name": "python3"
    },
    "language_info": {
      "name": "python"
    }
  },
  "nbformat": 4,
  "nbformat_minor": 0
}